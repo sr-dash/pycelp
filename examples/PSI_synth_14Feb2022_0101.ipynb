{
 "cells": [
  {
   "cell_type": "markdown",
   "id": "5f35d3b8-8ac1-4b25-a296-490f5a62d573",
   "metadata": {
    "tags": []
   },
   "source": [
    "# **PSI Model Synthesis Notebook for 14 Feb 2022 (CR 2254)**\n",
    "\n",
    "Tom Schad \n",
    "\n",
    "Model runs at :  https://www.predsci.com/data/runs/\n",
    "\n",
    "For reference, Del Zanna & DeLuca (1018)\n",
    "Hot AR sim is multiT model.  T=6,6,2.6.45,6.6.  Log EM of 26.8,27.2,28.2,27.9\n",
    "constant density of 1e9 cm^-3\n",
    "\n",
    "    photons cm^-2 s^-1 arcsec^-2 \n",
    "    10747 -->  430, 240,35\n",
    "    10798 -->  340, 140, 21\n",
    "    14305 --> 262(170), 51 (130), 37\n",
    "    39343 --> 10, 29, 6"
   ]
  },
  {
   "cell_type": "code",
   "execution_count": 251,
   "id": "09fe2ec1-bf4a-419e-9c12-ac7d47b50afb",
   "metadata": {
    "tags": []
   },
   "outputs": [],
   "source": [
    "import pycelp \n",
    "import numpy as np\n",
    "import matplotlib.pyplot as plt\n",
    "%matplotlib widget\n",
    "import os\n",
    "os.environ[\"XUVTOP\"] = '/usr/local/ssw/packages/chianti/dbase/'\n",
    "import psi\n",
    "import sunpy.coordinates.sun as sun\n",
    "import sunpy.sun.constants as constants\n",
    "plt.rcParams[\"image.origin\"] = 'lower'   ## have to worry about flips? \n",
    "plt.rcParams[\"image.interpolation\"]='nearest'\n",
    "from scipy.interpolate import RegularGridInterpolator as rgi\n",
    "from scipy.interpolate import interp1d\n",
    "import multiprocessing\n",
    "import tqdm\n",
    "from matplotlib.colors import LogNorm\n",
    "import allenSolRad as allen\n",
    "from scipy.io import readsav\n",
    "import sunpy.map\n",
    "\n",
    "def euler_ry(alpha):\n",
    "    '''Euler rotation matrix about y axis '''\n",
    "    ry = np.array([[ np.cos(alpha), 0., np.sin(alpha)],\n",
    "                   [            0., 1., 0.],\n",
    "                   [-np.sin(alpha), 0., np.cos(alpha)]])\n",
    "    return ry\n",
    "\n",
    "def euler_rz(alpha):\n",
    "    '''Euler rotation matrix about z axis '''\n",
    "    rz = np.array([[ np.cos(alpha), -np.sin(alpha), 0.],\n",
    "                   [ np.sin(alpha),  np.cos(alpha), 0.],\n",
    "                   [            0.,             0., 1.]])\n",
    "    return rz"
   ]
  },
  {
   "cell_type": "markdown",
   "id": "50f8162b-c7f1-4107-92b1-8f9122256006",
   "metadata": {},
   "source": [
    "## **Create an instance of the psi.Model class to load and interact with PSI coronal model data**\n",
    "\n",
    "- Models used here were downloaded using this website from [Predictive Sciences](https://www.predsci.com/hmi/data_access.php)\n",
    "- We picked the date of the US total solar eclipse (21 Aug 2017) using the med-cor-thermo2 model for this demonstration. \n",
    "- I had selected 12 UTC for the download time.  I'm not sure at this time where timestep information in the PSI models made be located."
   ]
  },
  {
   "cell_type": "code",
   "execution_count": 2,
   "id": "fe6a7573-b5d0-4b08-a1d8-f92fde837afb",
   "metadata": {},
   "outputs": [],
   "source": [
    "## https://www.predsci.com/data/runs/cr2194-medium/hmi_mast_mas_std_0101/\n",
    "## carrington rotation 2194\n",
    "modelName = 'cr2254_high___hmi_mast_mas_std_0101'\n",
    "corona = psi.Model('/data/tschad/psiModels/cr2254-high/hmi_mast_mas_std_0101/corona/')"
   ]
  },
  {
   "cell_type": "code",
   "execution_count": 3,
   "id": "ebba5c4d-7042-4a7d-8715-1e98d111b86f",
   "metadata": {},
   "outputs": [
    {
     "data": {
      "text/plain": [
       "psi Model class\n",
       "    ---------------------\n",
       "    Data Directory Names: /data/tschad/psiModels/cr2254-high/hmi_mast_mas_std_0101/corona/\n",
       "    Number of longitude samples: 299\n",
       "    Number of latitude samples: 142\n",
       "    Number of radial samples: 254\n",
       "    Data shape: (299, 142, 254)\n",
       "    \n",
       "    Variables: \n",
       "    lons -- Longitudes [rad]\n",
       "    lats -- Latitudes [rad]\n",
       "    rs   -- Radial samples [solar radii units]\n",
       "    temp -- temperature [K]\n",
       "    ne -- electron density [cm^-3]\n",
       "    bx,by,bz  -- Cartesian components of magnetic field [G]\n",
       "    vx,vy,vz  -- Cartesian components of velocity field [km/s]\n",
       "    bmag      -- total magnetic field intensity [B]\n",
       "    thetaBlocal -- location inclination of magnetic field in solar frame [rad]\n",
       "    "
      ]
     },
     "execution_count": 3,
     "metadata": {},
     "output_type": "execute_result"
    }
   ],
   "source": [
    "## return the instance name for some basic information on the class\n",
    "corona"
   ]
  },
  {
   "cell_type": "code",
   "execution_count": 4,
   "id": "02a4c77f-66ed-41a8-9a62-e9d0c6ba1404",
   "metadata": {},
   "outputs": [
    {
     "data": {
      "application/vnd.jupyter.widget-view+json": {
       "model_id": "9c21569e803d411cb3bfeb011c92fd54",
       "version_major": 2,
       "version_minor": 0
      },
      "text/plain": [
       "Canvas(toolbar=Toolbar(toolitems=[('Home', 'Reset original view', 'home', 'home'), ('Back', 'Back to previous …"
      ]
     },
     "metadata": {},
     "output_type": "display_data"
    }
   ],
   "source": [
    "kk = 25\n",
    "\n",
    "fig,ax = plt.subplots(2,2,figsize = (8,5))\n",
    "ax = ax.flatten()\n",
    "im0 = ax[0].imshow(corona.bmag[:,:,kk].T*np.cos(corona.thetaBlocal[:,:,kk]).T,extent = (corona.lons.min(),corona.lons.max(),corona.lats.min(),corona.lats.max()))\n",
    "ax[1].imshow(corona.thetaBlocal[:,:,kk].T,extent = (corona.lons.min(),corona.lons.max(),corona.lats.min(),corona.lats.max()))\n",
    "ax[2].imshow(corona.temp[:,:,kk].T,extent = (corona.lons.min(),corona.lons.max(),corona.lats.min(),corona.lats.max()))\n",
    "ax[3].imshow(corona.ne[:,:,kk].T,extent = (corona.lons.min(),corona.lons.max(),corona.lats.min(),corona.lats.max()))\n",
    "labels = 'Magnetogram','Local B Inclination','Temperature','Electron Density'\n",
    "for n in range(4): ax[n].set_title(labels[n])\n",
    "\n",
    "im0.set_clim(-25,25)\n",
    "\n",
    "cbars = []\n",
    "for axi in ax:\n",
    " cax = axi.inset_axes([1.04, 0.05, 0.05, 0.95], transform=axi.transAxes)\n",
    " cbar1 = fig.colorbar(axi.get_images()[0],ax=axi,cax=cax)\n",
    " cbars.append(cbar1)\n",
    " axi.set_ylim(np.pi,0)\n",
    "\n",
    "fig.suptitle(modelName + '\\nRadial Coordinate: ' + str(corona.rs[kk]))\n",
    "\n",
    "fig.tight_layout()"
   ]
  },
  {
   "cell_type": "markdown",
   "id": "b9575fb7-3443-42e5-9729-ac1e8b7cf38a",
   "metadata": {},
   "source": [
    "This is the GONG synoptic map \n",
    "\n",
    "<img src=\"https://gong.nso.edu/data/magmap/QR/mqj/202202/mrmqj220221/mrmqj220221t2004c2254_000.jpg\" />"
   ]
  },
  {
   "cell_type": "code",
   "execution_count": 5,
   "id": "74e7c913-53e0-4c57-90b3-323c211e8e7e",
   "metadata": {},
   "outputs": [
    {
     "data": {
      "application/vnd.jupyter.widget-view+json": {
       "model_id": "2ce3533dcf274070b6f896b39c99aa60",
       "version_major": 2,
       "version_minor": 0
      },
      "text/plain": [
       "Canvas(toolbar=Toolbar(toolitems=[('Home', 'Reset original view', 'home', 'home'), ('Back', 'Back to previous …"
      ]
     },
     "metadata": {},
     "output_type": "display_data"
    },
    {
     "data": {
      "text/plain": [
       "Text(0.5, 0, 'Solar Radii')"
      ]
     },
     "execution_count": 5,
     "metadata": {},
     "output_type": "execute_result"
    }
   ],
   "source": [
    "fig,ax = plt.subplots(3,1,figsize = (5,6),sharex=True) \n",
    "ax = ax.flatten()\n",
    "ax[0].plot(corona.rs,np.mean(corona.ne,axis=(0,1)),'.-',label = 'Mean Ne',markersize=1, lw=0.5) \n",
    "ax[0].set_yscale('log')\n",
    "ax[1].plot(corona.rs,np.mean(corona.temp,axis=(0,1)),'g.-',label = 'Mean Temp',markersize=1, lw=0.5) \n",
    "ax[1].set_yscale('log')\n",
    "ax[2].plot(corona.rs,np.mean(corona.bmag,axis=(0,1)),'k.-',label = 'Mean B',markersize = 1, lw=0.5) \n",
    "ax[2].set_yscale('log')\n",
    "for axi in ax: \n",
    "    axi.set_xscale('log')\n",
    "    axi.set_yscale('log')\n",
    "    axi.legend(loc = 'upper right')\n",
    "ax[1].set_yscale('linear')\n",
    "ax[-1].set_xlabel('Solar Radii')"
   ]
  },
  {
   "cell_type": "code",
   "execution_count": 6,
   "id": "2fe66871-4715-4642-ad43-e34e0213c30c",
   "metadata": {},
   "outputs": [
    {
     "data": {
      "application/vnd.jupyter.widget-view+json": {
       "model_id": "2ae4dea55228413ca9e8dc1c93442192",
       "version_major": 2,
       "version_minor": 0
      },
      "text/plain": [
       "Canvas(toolbar=Toolbar(toolitems=[('Home', 'Reset original view', 'home', 'home'), ('Back', 'Back to previous …"
      ]
     },
     "metadata": {},
     "output_type": "display_data"
    },
    {
     "data": {
      "text/plain": [
       "(10000000.0, 1000000000000.0)"
      ]
     },
     "execution_count": 6,
     "metadata": {},
     "output_type": "execute_result"
    }
   ],
   "source": [
    "fig,ax = plt.subplots(3,1,figsize = (5,6),sharex=True) \n",
    "ax = ax.flatten()\n",
    "ax[0].plot((corona.rs-1)*constants.radius.value/1e6,np.mean(corona.ne,axis=(0,1)),'.-',label = 'Mean Ne',markersize=1, lw=0.5) \n",
    "ax[1].plot((corona.rs-1)*constants.radius/1e6,np.mean(corona.temp,axis=(0,1)),'g.-',label = 'Mean Temp',markersize=1, lw=0.5) \n",
    "ax[2].plot((corona.rs-1)*constants.radius/1e6,np.mean(corona.bmag,axis=(0,1)),'k.-',label = 'Mean B',markersize = 1, lw=0.5) \n",
    "for axi in ax: \n",
    "    axi.legend(loc = 'upper right')\n",
    "ax[-1].set_xlabel('Height [Mm]')\n",
    "ax[0].set_xlim(1.,100)\n",
    "ax[0].set_yscale('log')\n",
    "ax[0].set_ylim(1e7,1e12)"
   ]
  },
  {
   "cell_type": "markdown",
   "id": "b64f23df-e17a-4f81-9c7b-4fded458a2af",
   "metadata": {},
   "source": [
    "## **Initialize the pyCELP model of the line or lines to be synthesized**\n",
    "\n",
    "- Here we start with Fe XIII 1074 nm and keep the model fairly \"small\" at 50 levels.  The errors incurred by using reduced numbers of atomic levels is addressed in [Schad & Dima (2020)](https://rdcu.be/b5J2X) \n"
   ]
  },
  {
   "cell_type": "code",
   "execution_count": 7,
   "id": "f0708509-e44c-4ef7-8134-6038e1e296fa",
   "metadata": {},
   "outputs": [
    {
     "name": "stdout",
     "output_type": "stream",
     "text": [
      " reading:  /usr/local/ssw/packages/chianti/dbase/fe/fe_13/fe_13.elvlc\n",
      " reading:  /usr/local/ssw/packages/chianti/dbase/fe/fe_13/fe_13.wgfa\n",
      " reading:  /usr/local/ssw/packages/chianti/dbase/fe/fe_13/fe_13.scups\n",
      " reading:  /usr/local/ssw/packages/chianti/dbase/fe/fe_13/fe_13.psplups\n",
      " using default abundances: /usr/local/ssw/packages/chianti/dbase/abundance/sun_photospheric_2009_asplund.abund\n",
      " reading:  /usr/local/ssw/packages/chianti/dbase/abundance/sun_photospheric_2009_asplund.abund\n",
      " testing default file: /usr/local/ssw/packages/chianti/dbase/ioneq/chianti.ioneq\n",
      " reading:  /usr/local/ssw/packages/chianti/dbase/ioneq/chianti.ioneq\n",
      " setting up electron collision rate factors\n",
      " setting up proton  collision rate factors\n",
      " setting up non-dipole radiative rate factors\n",
      " getting non-dipole rate factors\n",
      " setting up dipole radiative rate factors\n"
     ]
    }
   ],
   "source": [
    "fe13 = pycelp.Ion('fe_13',nlevels = 50)\n",
    "fe13_ln1 = fe13.get_emissionLine(10747.)\n",
    "fe13_ln2 = fe13.get_emissionLine(10798.)"
   ]
  },
  {
   "cell_type": "code",
   "execution_count": 8,
   "id": "3f7f512c-1faa-4b6f-974a-29438433d9b9",
   "metadata": {},
   "outputs": [
    {
     "data": {
      "text/plain": [
       "pyCELP Ion class\n",
       "    ---------------------\n",
       "    Ion Name: fe_13\n",
       "    Number of energy levels included: 50\n",
       "    Number of SEE equations: 142\n",
       "    Number of Radiative Transitions: 366\n",
       "    Ionization Equilbrium Filename: /usr/local/ssw/packages/chianti/dbase/ioneq/chianti.ioneq"
      ]
     },
     "execution_count": 8,
     "metadata": {},
     "output_type": "execute_result"
    }
   ],
   "source": [
    "fe13"
   ]
  },
  {
   "cell_type": "code",
   "execution_count": 10,
   "id": "ff803a67-16e7-43a4-ab7f-c4becd164bb2",
   "metadata": {},
   "outputs": [
    {
     "name": "stdout",
     "output_type": "stream",
     "text": [
      "520 µs ± 131 ns per loop (mean ± std. dev. of 7 runs, 1000 loops each)\n"
     ]
    }
   ],
   "source": [
    "edens = 1e9\n",
    "etemp = 1e7\n",
    "ht = 0.1\n",
    "thetab = 10.\n",
    "%timeit fe13.calc_rho_sym(edens,etemp,ht, thetab)"
   ]
  },
  {
   "cell_type": "markdown",
   "id": "3768933f-0b60-410a-ab93-31ea98b410c5",
   "metadata": {},
   "source": [
    "## **Calculate the statistical equilibrium for every cell**\n",
    "\n",
    "- Here the statistical equilibrium is calculated for the Ion for each cell in the PSI model and the results of the upper level populations, alignments, and total ion population are stored in arrays. \n",
    "- The advantage of doing it this way is that that statistical equilibrium does not change with viewing angle, and so if you want to synthesis the polarized intensities at a different viewing angle, you do not have to recalculate the statistical equilibrium. "
   ]
  },
  {
   "cell_type": "code",
   "execution_count": 11,
   "id": "52c0c7d7-5ca9-49a7-806f-aba9ebe9498b",
   "metadata": {},
   "outputs": [],
   "source": [
    "nlons,nlats,nr = corona.bx.shape"
   ]
  },
  {
   "cell_type": "markdown",
   "id": "3b295ba0-3355-495b-998a-978134057240",
   "metadata": {},
   "source": [
    "###  Fe 13 "
   ]
  },
  {
   "cell_type": "code",
   "execution_count": 12,
   "id": "0def9448-6c54-4bbb-9be1-48128525c705",
   "metadata": {
    "scrolled": true,
    "tags": []
   },
   "outputs": [
    {
     "name": "stdout",
     "output_type": "stream",
     "text": [
      "loading:  /data/tschad/psiModels/cr2254-high/hmi_mast_mas_std_0101/cr2254_high_0101_fe13_1074_1079_pops.npz\n"
     ]
    }
   ],
   "source": [
    "def work(argin): \n",
    "    \n",
    "    ii,jj,kk = argin \n",
    "    \n",
    "    edens = corona.ne[ii,jj,kk]\n",
    "    etemp = corona.temp[ii,jj,kk]\n",
    "    ht = (corona.rs[kk]-1).clip(1.e-8)\n",
    "    thetab = np.rad2deg(corona.thetaBlocal[ii,jj,kk])\n",
    "    \n",
    "    fe13.calc_rho_sym(edens,etemp,ht, thetab)\n",
    "    \n",
    "    ln1 = fe13.get_emissionLine(10747.)\n",
    "    ln2 = fe13.get_emissionLine(10798.)\n",
    "    \n",
    "    return (ii,jj,kk,ln1.C_coeff,ln1.upper_level_alignment, \n",
    "                ln2.C_coeff,ln2.upper_level_alignment)\n",
    "\n",
    "## setup save file for repeat runs of this notebook and to not repeat the \n",
    "## statistical equilbrium calculation \n",
    "\n",
    "savefn = '/data/tschad/psiModels/cr2254-high/hmi_mast_mas_std_0101/cr2254_high_0101_fe13_1074_1079_pops.npz'\n",
    "\n",
    "if not os.path.isfile(savefn):\n",
    "\n",
    "    ncpus = multiprocessing.cpu_count()\n",
    "    arg_array = []\n",
    "    for ii in range(0,nlons,1): \n",
    "        for jj in range(0,nlats,1): \n",
    "            for kk in range(0,nr,1): \n",
    "                arg_array.append([ii,jj,kk])\n",
    "\n",
    "    ccoef_10747 = np.zeros_like(corona.bx)\n",
    "    align_10747 = np.zeros_like(corona.bx)\n",
    "    ccoef_10798 = np.zeros_like(corona.bx)\n",
    "    align_10798 = np.zeros_like(corona.bx)\n",
    "\n",
    "    p     = multiprocessing.Pool(processes=ncpus) \n",
    "    rs    = p.imap(work,arg_array)\n",
    "    p.close()\n",
    "\n",
    "    for res in tqdm.tqdm(rs,total = len(arg_array)): \n",
    "        ii,jj,kk,r1,a1,r2,a2 = res \n",
    "        ccoef_10747[ii,jj,kk] = r1\n",
    "        align_10747[ii,jj,kk] = a1\n",
    "        ccoef_10798[ii,jj,kk] = r2\n",
    "        align_10798[ii,jj,kk] = a2\n",
    "\n",
    "    np.savez(savefn,ccoef_10747=ccoef_10747,align_10747=align_10747,ccoef_10798=ccoef_10798,align_10798=align_10798)\n",
    "    \n",
    "else: \n",
    "    \n",
    "    ## if variables not defined load \n",
    "    if \"ccoef_10747\" not in globals():\n",
    "        print('loading: ',savefn)\n",
    "        npzd = np.load(savefn)\n",
    "        ccoef_10747 = npzd['ccoef_10747']\n",
    "        align_10747 = npzd['align_10747']\n",
    "        ccoef_10798 = npzd['ccoef_10798']\n",
    "        align_10798 = npzd['align_10798']"
   ]
  },
  {
   "cell_type": "markdown",
   "id": "ce5f3124-a330-41a4-abba-5c4c100f8078",
   "metadata": {},
   "source": [
    "### do the same for Si X 1430 "
   ]
  },
  {
   "cell_type": "code",
   "execution_count": 13,
   "id": "f8c44db2-28c9-459a-91e0-c4a2f47a0f7b",
   "metadata": {},
   "outputs": [
    {
     "name": "stdout",
     "output_type": "stream",
     "text": [
      " reading:  /usr/local/ssw/packages/chianti/dbase/si/si_10/si_10.elvlc\n",
      " reading:  /usr/local/ssw/packages/chianti/dbase/si/si_10/si_10.wgfa\n",
      " reading:  /usr/local/ssw/packages/chianti/dbase/si/si_10/si_10.scups\n",
      " reading:  /usr/local/ssw/packages/chianti/dbase/si/si_10/si_10.psplups\n",
      " using default abundances: /usr/local/ssw/packages/chianti/dbase/abundance/sun_photospheric_2009_asplund.abund\n",
      " reading:  /usr/local/ssw/packages/chianti/dbase/abundance/sun_photospheric_2009_asplund.abund\n",
      " testing default file: /usr/local/ssw/packages/chianti/dbase/ioneq/chianti.ioneq\n",
      " reading:  /usr/local/ssw/packages/chianti/dbase/ioneq/chianti.ioneq\n",
      " setting up electron collision rate factors\n",
      " setting up proton  collision rate factors\n",
      " setting up non-dipole radiative rate factors\n",
      " getting non-dipole rate factors\n",
      " setting up dipole radiative rate factors\n"
     ]
    }
   ],
   "source": [
    "si10 = pycelp.Ion('si_10',nlevels = 50)\n",
    "si10_ln1 = si10.get_emissionLine(14300.)"
   ]
  },
  {
   "cell_type": "code",
   "execution_count": 14,
   "id": "dba50eb2-8740-4333-b802-35cf02fe5231",
   "metadata": {},
   "outputs": [
    {
     "data": {
      "text/plain": [
       "pyCELP Ion class\n",
       "    ---------------------\n",
       "    Ion Name: si_10\n",
       "    Number of energy levels included: 50\n",
       "    Number of SEE equations: 107\n",
       "    Number of Radiative Transitions: 435\n",
       "    Ionization Equilbrium Filename: /usr/local/ssw/packages/chianti/dbase/ioneq/chianti.ioneq"
      ]
     },
     "execution_count": 14,
     "metadata": {},
     "output_type": "execute_result"
    }
   ],
   "source": [
    "si10"
   ]
  },
  {
   "cell_type": "code",
   "execution_count": 15,
   "id": "35b82998-b79e-4d64-a270-6fef3a5ac668",
   "metadata": {},
   "outputs": [
    {
     "name": "stdout",
     "output_type": "stream",
     "text": [
      "loading:  /data/tschad/psiModels/cr2254-high/hmi_mast_mas_std_0101/cr2254_high_0101_si10_1430_pops.npz\n"
     ]
    }
   ],
   "source": [
    "def work(argin): \n",
    "    \n",
    "    ii,jj,kk = argin \n",
    "    \n",
    "    edens = corona.ne[ii,jj,kk]\n",
    "    etemp = corona.temp[ii,jj,kk]\n",
    "    ht = (corona.rs[kk]-1).clip(1.e-8)\n",
    "    thetab = np.rad2deg(corona.thetaBlocal[ii,jj,kk])\n",
    "    \n",
    "    si10.calc_rho_sym(edens,etemp,ht, thetab)\n",
    "    \n",
    "    ln1 = si10.get_emissionLine(14301.)\n",
    "    \n",
    "    return (ii,jj,kk,ln1.C_coeff,ln1.upper_level_alignment)\n",
    "\n",
    "## setup save file for repeat runs of this notebook and to not repeat the \n",
    "## statistical equilbrium calculation \n",
    "\n",
    "savefn = '/data/tschad/psiModels/cr2254-high/hmi_mast_mas_std_0101/cr2254_high_0101_si10_1430_pops.npz'\n",
    "\n",
    "if not os.path.isfile(savefn):\n",
    "\n",
    "    ncpus = multiprocessing.cpu_count()\n",
    "    arg_array = []\n",
    "    for ii in range(0,nlons,1): \n",
    "        for jj in range(0,nlats,1): \n",
    "            for kk in range(0,nr,1): \n",
    "                arg_array.append([ii,jj,kk])\n",
    "\n",
    "    ccoef_14300 = np.zeros_like(corona.bx)\n",
    "    align_14300 = np.zeros_like(corona.bx)\n",
    "\n",
    "    p     = multiprocessing.Pool(processes=ncpus) \n",
    "    rs    = p.imap(work,arg_array)\n",
    "    p.close()\n",
    "\n",
    "    for res in tqdm.tqdm(rs,total = len(arg_array)): \n",
    "        ii,jj,kk,r1,a1 = res \n",
    "        ccoef_14300[ii,jj,kk] = r1\n",
    "        align_14300[ii,jj,kk] = a1\n",
    "\n",
    "    np.savez(savefn,ccoef_14300=ccoef_14300,align_14300=align_14300)\n",
    "    \n",
    "else: \n",
    "    \n",
    "    ## if variables not defined load \n",
    "    if \"ccoef_14300\" not in globals():\n",
    "        print('loading: ',savefn)\n",
    "        npzd = np.load(savefn)\n",
    "        ccoef_14300 = npzd['ccoef_14300']\n",
    "        align_14300 = npzd['align_14300']"
   ]
  },
  {
   "cell_type": "markdown",
   "id": "97a6d602-38d9-48cc-9801-2d4c6c246425",
   "metadata": {},
   "source": [
    "### do the same for Si IX 3934 "
   ]
  },
  {
   "cell_type": "code",
   "execution_count": 16,
   "id": "cf415316-499c-471a-afde-e1779eaa7991",
   "metadata": {},
   "outputs": [
    {
     "name": "stdout",
     "output_type": "stream",
     "text": [
      " reading:  /usr/local/ssw/packages/chianti/dbase/si/si_9/si_9.elvlc\n",
      " reading:  /usr/local/ssw/packages/chianti/dbase/si/si_9/si_9.wgfa\n",
      " reading:  /usr/local/ssw/packages/chianti/dbase/si/si_9/si_9.scups\n",
      " reading:  /usr/local/ssw/packages/chianti/dbase/si/si_9/si_9.psplups\n",
      " using default abundances: /usr/local/ssw/packages/chianti/dbase/abundance/sun_photospheric_2009_asplund.abund\n",
      " reading:  /usr/local/ssw/packages/chianti/dbase/abundance/sun_photospheric_2009_asplund.abund\n",
      " testing default file: /usr/local/ssw/packages/chianti/dbase/ioneq/chianti.ioneq\n",
      " reading:  /usr/local/ssw/packages/chianti/dbase/ioneq/chianti.ioneq\n",
      " setting up electron collision rate factors\n",
      " setting up proton  collision rate factors\n",
      " setting up non-dipole radiative rate factors\n",
      " getting non-dipole rate factors\n",
      " setting up dipole radiative rate factors\n"
     ]
    }
   ],
   "source": [
    "si9 = pycelp.Ion('si_9',nlevels = 50)\n",
    "si9_ln1 = si9.get_emissionLine(39343.)"
   ]
  },
  {
   "cell_type": "code",
   "execution_count": 17,
   "id": "9a412e31-dec0-49aa-810c-ccfa923ae554",
   "metadata": {},
   "outputs": [
    {
     "data": {
      "text/plain": [
       "pyCELP Ion class\n",
       "    ---------------------\n",
       "    Ion Name: si_9\n",
       "    Number of energy levels included: 50\n",
       "    Number of SEE equations: 121\n",
       "    Number of Radiative Transitions: 351\n",
       "    Ionization Equilbrium Filename: /usr/local/ssw/packages/chianti/dbase/ioneq/chianti.ioneq"
      ]
     },
     "execution_count": 17,
     "metadata": {},
     "output_type": "execute_result"
    }
   ],
   "source": [
    "si9"
   ]
  },
  {
   "cell_type": "code",
   "execution_count": 18,
   "id": "60a04b39-f16a-4b72-b155-8d88ab6b02d4",
   "metadata": {},
   "outputs": [
    {
     "name": "stdout",
     "output_type": "stream",
     "text": [
      "loading:  /data/tschad/psiModels/cr2254-high/hmi_mast_mas_std_0101/cr2254_high_0101_si10_3934_pops.npz\n"
     ]
    }
   ],
   "source": [
    "def work(argin): \n",
    "    \n",
    "    ii,jj,kk = argin \n",
    "    \n",
    "    edens = corona.ne[ii,jj,kk]\n",
    "    etemp = corona.temp[ii,jj,kk]\n",
    "    ht = (corona.rs[kk]-1).clip(1.e-8)\n",
    "    thetab = np.rad2deg(corona.thetaBlocal[ii,jj,kk])\n",
    "    \n",
    "    si9.calc_rho_sym(edens,etemp,ht, thetab)\n",
    "    \n",
    "    ln1 = si9.get_emissionLine(39343.)\n",
    "    \n",
    "    return (ii,jj,kk,ln1.C_coeff,ln1.upper_level_alignment)\n",
    "\n",
    "## setup save file for repeat runs of this notebook and to not repeat the \n",
    "## statistical equilbrium calculation \n",
    "\n",
    "savefn = '/data/tschad/psiModels/cr2254-high/hmi_mast_mas_std_0101/cr2254_high_0101_si10_3934_pops.npz'\n",
    "\n",
    "if not os.path.isfile(savefn):\n",
    "\n",
    "    ncpus = multiprocessing.cpu_count()\n",
    "    arg_array = []\n",
    "    for ii in range(0,nlons,1): \n",
    "        for jj in range(0,nlats,1): \n",
    "            for kk in range(0,nr,1): \n",
    "                arg_array.append([ii,jj,kk])\n",
    "\n",
    "    ccoef_39343 = np.zeros_like(corona.bx)\n",
    "    align_39343 = np.zeros_like(corona.bx)\n",
    "\n",
    "    p     = multiprocessing.Pool(processes=ncpus) \n",
    "    rs    = p.imap(work,arg_array)\n",
    "    p.close()\n",
    "\n",
    "    for res in tqdm.tqdm(rs,total = len(arg_array)): \n",
    "        ii,jj,kk,r1,a1 = res \n",
    "        ccoef_39343[ii,jj,kk] = r1\n",
    "        align_39343[ii,jj,kk] = a1\n",
    "\n",
    "    np.savez(savefn,ccoef_39343=ccoef_39343,align_39343=align_39343)\n",
    "    \n",
    "else: \n",
    "    \n",
    "    ## if variables not defined load \n",
    "    if \"ccoef_39343\" not in globals():\n",
    "        print('loading: ',savefn)\n",
    "        npzd = np.load(savefn)\n",
    "        ccoef_39343 = npzd['ccoef_39343']\n",
    "        align_39343 = npzd['align_39343']"
   ]
  },
  {
   "cell_type": "markdown",
   "id": "32990739-6e22-412f-9314-6288e4694655",
   "metadata": {
    "tags": []
   },
   "source": [
    "## **Setup forward synthesis geometry**\n",
    "\n",
    "- This is set up to synthesize a FOV from an arbitrary observer's position, def"
   ]
  },
  {
   "cell_type": "markdown",
   "id": "faaa2c22-e4d5-43b0-ab02-6128c1ac2bc0",
   "metadata": {},
   "source": [
    "### Observer's Position"
   ]
  },
  {
   "cell_type": "code",
   "execution_count": 19,
   "id": "f399bd65-43d9-46f7-86c5-441f19a90fa4",
   "metadata": {},
   "outputs": [
    {
     "name": "stdout",
     "output_type": "stream",
     "text": [
      "Carrington Rotation Number:      2254.2438864703195\n",
      "Carrington Rotation Time:        2022-02-14 19:59:59.945\n",
      "Observers Longitude [deg]:       272.2008791250737\n",
      "Observers Latitude [deg]:        -6.815283900001111\n",
      "Observers distance to Sun [AU]:  0.9875632519781533\n",
      "Apparent solar radius [arcsec]:  971.3112266968824\n"
     ]
    }
   ],
   "source": [
    "## not yet sure what to use here?  How to get fractional carrington rotation of the PSI data?\n",
    "crn        = sun.carrington_rotation_number('2022-02-14 20:00:00.000')\n",
    "crt        = sun.carrington_rotation_time(crn)\n",
    "obsLon     = sun.L0(crt).rad\n",
    "obsLat     = sun.B0(crt).rad\n",
    "Obs_Sun_AU = sun.earth_distance(crt).value\n",
    "rsunarc    = sun.angular_radius(crt).value  ## radius of sun in arcseconds .. later replace with sun ephemeris\n",
    "\n",
    "print('Carrington Rotation Number:     ',crn)\n",
    "print('Carrington Rotation Time:       ',crt)\n",
    "print('Observers Longitude [deg]:      ',np.rad2deg(obsLon))\n",
    "print('Observers Latitude [deg]:       ',np.rad2deg(obsLat))\n",
    "print('Observers distance to Sun [AU]: ',Obs_Sun_AU)\n",
    "print('Apparent solar radius [arcsec]: ',rsunarc)"
   ]
  },
  {
   "cell_type": "code",
   "execution_count": 20,
   "id": "e7315081-e645-4ff7-869e-654496635928",
   "metadata": {},
   "outputs": [
    {
     "name": "stdout",
     "output_type": "stream",
     "text": [
      "8.097583112278484 -210.70176686233026 -25.200260731789186\n"
     ]
    }
   ],
   "source": [
    "solar_rad_m, au_m = constants.radius.value,constants.astronomical_unit.value\n",
    "rObs     = Obs_Sun_AU * (au_m/solar_rad_m)  ## rObs is the radial position of the observer in solar radii\n",
    "thetaObs = np.pi/2. - obsLat   ## Observers latitude in the PSI model geometry (0 is the NorthPole)\n",
    "phiObs   = obsLon ## Observers Lon in PSI model geometry  \n",
    "## cartesian position of Observer in PSI model geometery (units of solar radii)\n",
    "xObs,yObs,zObs = rObs*np.sin(thetaObs)*np.cos(phiObs),rObs*np.sin(thetaObs)*np.sin(phiObs),rObs*np.cos(thetaObs)\n",
    "print(xObs,yObs,zObs)"
   ]
  },
  {
   "cell_type": "markdown",
   "id": "2190ffb3-3352-4b12-8dad-bafd4b8e5e2d",
   "metadata": {},
   "source": [
    "### Synthesized Field-of-View Size and Sampling\n",
    "\n",
    "- The synthesis geometry will have the x axis pointed toward the observer.  Z is aligned with polar axis. "
   ]
  },
  {
   "cell_type": "code",
   "execution_count": 21,
   "id": "9a5b6ced-c746-4cfa-9f42-fe72e84542cb",
   "metadata": {},
   "outputs": [],
   "source": [
    "yfov_range = (-2.*rsunarc,0) # (-3.*rsunarc,+3*rsunarc)\n",
    "zfov_range = (-0.25*rsunarc,2.*rsunarc) # (-3.*rsunarc,+3*rsunarc)\n",
    "arcsamp    = 10.  ## sampling in arcsecond\n",
    "\n",
    "#yfov_range = (-3.*rsunarc,+3*rsunarc)\n",
    "#zfov_range = (-3.*rsunarc,+3*rsunarc)\n",
    "#arcsamp    = 50.  ## sampling in arcsecond\n",
    "\n",
    "nysamp = int(np.ceil((yfov_range[1]-yfov_range[0])/arcsamp))\n",
    "nzsamp = int(np.ceil((zfov_range[1]-zfov_range[0])/arcsamp))\n",
    "yarc = np.linspace(yfov_range[0],yfov_range[1],nysamp)\n",
    "zarc = np.linspace(zfov_range[0],zfov_range[1],nzsamp)\n",
    "zza,yya  = np.meshgrid(zarc,yarc,indexing = 'ij')\n",
    "rra = np.sqrt(yya**2. + zza**2.) \n",
    "mask_ondisk = 1.*(rra>rsunarc)    ## a mask where the field of view cross the solar disk"
   ]
  },
  {
   "cell_type": "code",
   "execution_count": 22,
   "id": "c2d50232-b769-4c12-b93a-b2906bce6aff",
   "metadata": {},
   "outputs": [
    {
     "data": {
      "application/vnd.jupyter.widget-view+json": {
       "model_id": "0b6473228e02423fa8806a111d8ddfeb",
       "version_major": 2,
       "version_minor": 0
      },
      "text/plain": [
       "Canvas(toolbar=Toolbar(toolitems=[('Home', 'Reset original view', 'home', 'home'), ('Back', 'Back to previous …"
      ]
     },
     "metadata": {},
     "output_type": "display_data"
    },
    {
     "data": {
      "text/plain": [
       "Text(0.5, 1.0, 'Starting X point')"
      ]
     },
     "execution_count": 22,
     "metadata": {},
     "output_type": "execute_result"
    }
   ],
   "source": [
    "## First find the cartestian points of the reference point for the line of sight\n",
    "## in the observer's geometry.  For offlimb points, this is the plane of the sky (yz). \n",
    "## On disk, these points should lie on the solar surface\n",
    "xxObs = np.zeros_like(yya)\n",
    "yyObs = rObs * np.tan(np.deg2rad(yya/3600.))\n",
    "zzObs = rObs * np.tan(np.deg2rad(zza/3600.))\n",
    "rrObs = np.sqrt(yyObs**2 + zzObs**2)\n",
    "xxObs[rrObs<1] = np.sqrt(1 - rrObs[rrObs<1]**2) \n",
    "plt.figure(figsize = (2.5,2))\n",
    "plt.imshow(xxObs)\n",
    "plt.title('Starting X point')"
   ]
  },
  {
   "cell_type": "code",
   "execution_count": 23,
   "id": "01526417-1525-4775-9b49-ed95a1c67917",
   "metadata": {},
   "outputs": [],
   "source": [
    "## rotate these points into the model geometry with Euler rotation\n",
    "rotm = euler_ry((thetaObs-np.pi/2.)) @ euler_rz(phiObs)\n",
    "## earlier I had the rotation matrix as the transpose...not sure why..incorrect?\n",
    "xyz_model = rotm  @ np.stack((xxObs.flatten(),yyObs.flatten(),zzObs.flatten())) \n",
    "\n",
    "## NOW WITH THE XYZ_MODEL POINTS AND THE LOCATION OF THE OBSERVER IN MODEL FRAME\n",
    "## come up with the parametric equations for the los of sight\n",
    "losvec    = np.stack((xObs-xyz_model[0,:],yObs-xyz_model[1,:],zObs - xyz_model[2,:]))\n",
    "losveclen = np.linalg.norm(losvec,axis=0,ord=2,keepdims = True)\n",
    "losvec    = losvec / losveclen\n",
    "startpt   = xyz_model"
   ]
  },
  {
   "cell_type": "code",
   "execution_count": 24,
   "id": "90f41935-bf14-46df-a4f5-ec848bbb3f23",
   "metadata": {},
   "outputs": [],
   "source": [
    "lons,lats,rs = corona.lons,corona.lats,corona.rs\n",
    "deltaR = (np.roll(rs,-1) - rs)[:(-1)]   \n",
    "deltaR = np.cumsum(deltaR)\n",
    "deltaR = np.hstack((-np.flip(deltaR),deltaR))  ## both directions"
   ]
  },
  {
   "cell_type": "code",
   "execution_count": 25,
   "id": "ddfad8fc-a42b-4b6d-a980-674e1daf36a3",
   "metadata": {},
   "outputs": [],
   "source": [
    "rays_xyz = startpt[None,:,:] + (losvec * deltaR[:,None,None])\n",
    "rays_xyz = np.swapaxes(rays_xyz,1,2)"
   ]
  },
  {
   "cell_type": "code",
   "execution_count": 26,
   "id": "2e5f10ba-99e1-4ad2-b280-f50445114dfd",
   "metadata": {},
   "outputs": [
    {
     "name": "stdout",
     "output_type": "stream",
     "text": [
      "Number of rays to trace:  42705\n",
      "Max number of samples per ray:  506\n"
     ]
    }
   ],
   "source": [
    "nrays   = startpt.shape[1]\n",
    "ray_npt = len(deltaR)\n",
    "print('Number of rays to trace: ',nrays) \n",
    "print('Max number of samples per ray: ',ray_npt)"
   ]
  },
  {
   "cell_type": "code",
   "execution_count": 27,
   "id": "0a410c37-45d2-4307-b0bb-947b717e99ba",
   "metadata": {},
   "outputs": [],
   "source": [
    "## get spherical coordinates of rays\n",
    "rays_sph = np.zeros_like(rays_xyz)\n",
    "rays_sph[:,:,0] = np.linalg.norm(rays_xyz,axis=2)        ## l2-norm \n",
    "rays_sph[:,:,1] = np.arccos(rays_xyz[:,:,2] / rays_sph[:,:,0])   ## arccos (z / r) \n",
    "rays_sph[:,:,2] = np.arctan2(rays_xyz[:,:,1] , rays_xyz[:,:,0])   ## arctan (y / x) \n",
    "rays_sph[:,:,2][rays_sph[:,:,2] <0] += 2.*np.pi ## so that it falls in the simulation domain "
   ]
  },
  {
   "cell_type": "code",
   "execution_count": 28,
   "id": "b31124b8-72e6-4039-ac49-0c76ef81078f",
   "metadata": {},
   "outputs": [
    {
     "name": "stdout",
     "output_type": "stream",
     "text": [
      "(3, 42705) (506, 42705, 3) (506, 42705, 3)\n",
      "29.0\n"
     ]
    }
   ],
   "source": [
    "print(startpt.shape,rays_sph.shape,rays_xyz.shape)\n",
    "print(np.max(deltaR))"
   ]
  },
  {
   "cell_type": "code",
   "execution_count": 29,
   "id": "3924ea99-c4bf-4705-95fc-e9b1b9875bcc",
   "metadata": {},
   "outputs": [],
   "source": [
    "if 0: \n",
    "    print(rays_sph.shape)\n",
    "    plt.figure()\n",
    "    ax = plt.axes(projection='3d')\n",
    "    ax.scatter3D(rays_xyz[0,::10,0],rays_xyz[0,::10,1],rays_xyz[0,::10,2])\n",
    "    ax.scatter3D(rays_xyz[100,::10,0],rays_xyz[100,::10,1],rays_xyz[100,::10,2])\n",
    "    ax.scatter3D(rays_xyz[-1,::10,0],rays_xyz[-1,::10,1],rays_xyz[-1,::10,2])\n",
    "\n",
    "    ax.scatter3D(xObs,yObs,zObs,'x')\n",
    "    ax.plot3D([0,xObs],[0,yObs],[0,zObs])\n",
    "    ax.set_xlim(-5,5)\n",
    "    ax.set_ylim(-5,5)\n",
    "    ax.set_zlim(-5,5)\n",
    "\n",
    "    plt.figure(figsize = (6,4))\n",
    "    plt.scatter(rays_xyz[ray_npt//2,:,2], rays_xyz[ray_npt//2,:,1],c=rays_sph[ray_npt//2,:,0],s=0.5)  ## lons, lats\n",
    "    plt.ylim(-1,1)"
   ]
  },
  {
   "cell_type": "markdown",
   "id": "c266e229-5468-4934-a1fe-4592ff811f33",
   "metadata": {},
   "source": [
    "## **Interpolate model variables at ray samples**"
   ]
  },
  {
   "cell_type": "code",
   "execution_count": null,
   "id": "f6c1de8d-9463-4edf-9f69-593dd2f30d77",
   "metadata": {},
   "outputs": [],
   "source": [
    "rays_xyz = rays_xyz.reshape(ray_npt*nrays,3)\n",
    "rays_sph = rays_sph.reshape(ray_npt*nrays,3)"
   ]
  },
  {
   "cell_type": "code",
   "execution_count": 31,
   "id": "41a7657c-c907-46b1-b419-be3f55689648",
   "metadata": {},
   "outputs": [],
   "source": [
    "#### Get interpolating functions for all necessary simulation data\n",
    "#### the ccoefInt already has the density factors included\n",
    "ccoef1Int = rgi((lons,lats,rs),ccoef_10747,method = 'linear',fill_value = 0.,bounds_error = False)\n",
    "align1Int = rgi((lons,lats,rs),align_10747,method = 'linear',fill_value = 0.,bounds_error = False)\n",
    "ccoef2Int = rgi((lons,lats,rs),ccoef_10798,method = 'linear',fill_value = 0.,bounds_error = False)\n",
    "align2Int = rgi((lons,lats,rs),align_10798,method = 'linear',fill_value = 0.,bounds_error = False)\n",
    "ccoef3Int = rgi((lons,lats,rs),ccoef_14300,method = 'linear',fill_value = 0.,bounds_error = False)\n",
    "align3Int = rgi((lons,lats,rs),align_14300,method = 'linear',fill_value = 0.,bounds_error = False)\n",
    "ccoef4Int = rgi((lons,lats,rs),ccoef_39343,method = 'linear',fill_value = 0.,bounds_error = False)\n",
    "align4Int = rgi((lons,lats,rs),align_39343,method = 'linear',fill_value = 0.,bounds_error = False)\n",
    "bxInt    = rgi((lons,lats,rs),corona.bx,method = 'linear',fill_value = 0.,bounds_error = False)\n",
    "byInt    = rgi((lons,lats,rs),corona.by,method = 'linear',fill_value = 0.,bounds_error = False)\n",
    "bzInt    = rgi((lons,lats,rs),corona.bz,method = 'linear',fill_value = 0.,bounds_error = False)\n",
    "tempInt  = rgi((lons,lats,rs),corona.temp,method = 'linear',fill_value = 0.,bounds_error = False)\n",
    "neInt    = rgi((lons,lats,rs),corona.ne,method = 'linear',fill_value = 0.,bounds_error = False)"
   ]
  },
  {
   "cell_type": "code",
   "execution_count": 32,
   "id": "8efb2d1f-7bad-4d76-878e-e43cc2df0587",
   "metadata": {},
   "outputs": [
    {
     "name": "stdout",
     "output_type": "stream",
     "text": [
      "CPU times: user 6.48 s, sys: 2.41 s, total: 8.89 s\n",
      "Wall time: 8.91 s\n",
      "CPU times: user 6.48 s, sys: 2.38 s, total: 8.86 s\n",
      "Wall time: 8.89 s\n",
      "CPU times: user 6.47 s, sys: 2.41 s, total: 8.88 s\n",
      "Wall time: 8.91 s\n",
      "CPU times: user 6.54 s, sys: 2.33 s, total: 8.87 s\n",
      "Wall time: 8.9 s\n",
      "CPU times: user 6.5 s, sys: 2.38 s, total: 8.89 s\n",
      "Wall time: 8.91 s\n",
      "1\n",
      "CPU times: user 6.5 s, sys: 2.38 s, total: 8.88 s\n",
      "Wall time: 8.9 s\n",
      "CPU times: user 6.5 s, sys: 2.36 s, total: 8.86 s\n",
      "Wall time: 8.88 s\n",
      "2\n",
      "CPU times: user 6.48 s, sys: 2.39 s, total: 8.88 s\n",
      "Wall time: 8.9 s\n",
      "CPU times: user 6.52 s, sys: 2.34 s, total: 8.87 s\n",
      "Wall time: 8.89 s\n",
      "3\n",
      "CPU times: user 6.48 s, sys: 2.4 s, total: 8.88 s\n",
      "Wall time: 8.9 s\n",
      "CPU times: user 6.5 s, sys: 2.38 s, total: 8.88 s\n",
      "Wall time: 8.9 s\n",
      "4\n",
      "CPU times: user 6.46 s, sys: 2.42 s, total: 8.88 s\n",
      "Wall time: 8.91 s\n",
      "CPU times: user 6.49 s, sys: 2.4 s, total: 8.89 s\n",
      "Wall time: 8.91 s\n"
     ]
    }
   ],
   "source": [
    "## get bx,by,bz in PSI geometry for all the ray points\n",
    "## this is the step that takes the longest! \n",
    "%time bx_rays = bxInt(rays_sph[:,::-1])\n",
    "%time by_rays = byInt(rays_sph[:,::-1]) \n",
    "%time bz_rays = bzInt(rays_sph[:,::-1]) \n",
    "%time temp_rays = tempInt(rays_sph[:,::-1])\n",
    "%time ne_rays = neInt(rays_sph[:,::-1])\n",
    "print('1')\n",
    "%time ccoef1_rays = ccoef1Int(rays_sph[:,::-1]) \n",
    "%time align1_rays = align1Int(rays_sph[:,::-1]) \n",
    "print('2')\n",
    "%time ccoef2_rays = ccoef2Int(rays_sph[:,::-1]) \n",
    "%time align2_rays = align2Int(rays_sph[:,::-1]) \n",
    "print('3')\n",
    "%time ccoef3_rays = ccoef3Int(rays_sph[:,::-1]) \n",
    "%time align3_rays = align3Int(rays_sph[:,::-1]) \n",
    "print('4')\n",
    "%time ccoef4_rays = ccoef4Int(rays_sph[:,::-1]) \n",
    "%time align4_rays = align4Int(rays_sph[:,::-1]) "
   ]
  },
  {
   "cell_type": "code",
   "execution_count": 33,
   "id": "58e35781-0136-4eea-bd73-c80ddeb00f1b",
   "metadata": {},
   "outputs": [],
   "source": [
    "ccoef1_rays = ccoef1_rays.reshape(ray_npt,nrays)\n",
    "align1_rays = align1_rays.reshape(ray_npt,nrays)\n",
    "ccoef2_rays = ccoef2_rays.reshape(ray_npt,nrays)\n",
    "align2_rays = align2_rays.reshape(ray_npt,nrays)\n",
    "ccoef3_rays = ccoef3_rays.reshape(ray_npt,nrays)\n",
    "align3_rays = align3_rays.reshape(ray_npt,nrays)\n",
    "ccoef4_rays = ccoef4_rays.reshape(ray_npt,nrays)\n",
    "align4_rays = align4_rays.reshape(ray_npt,nrays)\n",
    "temp_rays = temp_rays.reshape(ray_npt,nrays)\n",
    "ne_rays = ne_rays.reshape(ray_npt,nrays)"
   ]
  },
  {
   "cell_type": "code",
   "execution_count": 97,
   "id": "a2000cf7-fe80-4539-8dd2-25f363ac5e83",
   "metadata": {},
   "outputs": [],
   "source": [
    "rays_xyz = rays_xyz.reshape(ray_npt,nrays,3)\n",
    "rays_sph = rays_sph.reshape(ray_npt,nrays,3)"
   ]
  },
  {
   "cell_type": "code",
   "execution_count": 98,
   "id": "678325c9-3a9a-42cb-99b3-817f0615393a",
   "metadata": {},
   "outputs": [
    {
     "name": "stderr",
     "output_type": "stream",
     "text": [
      "/tmp/ipykernel_1091557/3178097367.py:6: RuntimeWarning: invalid value encountered in true_divide\n",
      "  thetaBlos = np.arccos( (np.sum(bxyzs*losvec.T[None,:,:],axis=2)/blens).clip(min = -1,max=1))\n"
     ]
    }
   ],
   "source": [
    "## calculate the magnetic field inclination angle wrt the line-of-sight \n",
    "bxyzs = np.stack((bx_rays,by_rays,bz_rays)).T\n",
    "blens = np.linalg.norm(bxyzs,axis =1)\n",
    "bxyzs = bxyzs.reshape(ray_npt,nrays,3)\n",
    "blens = blens.reshape(ray_npt,nrays)\n",
    "thetaBlos = np.arccos( (np.sum(bxyzs*losvec.T[None,:,:],axis=2)/blens).clip(min = -1,max=1))\n",
    "thetaBlos[np.isnan(thetaBlos)] = 0."
   ]
  },
  {
   "cell_type": "code",
   "execution_count": 99,
   "id": "ef5ea059-2f02-4b7e-b149-e6522b18b581",
   "metadata": {},
   "outputs": [],
   "source": [
    "## angle between losvec and the vector from disk center\n",
    "thetaDClos = np.arccos( (np.sum(rays_xyz*losvec.T[None,:,:],axis=2)/rays_sph[:,:,0]).clip(min = -1,max=1))"
   ]
  },
  {
   "cell_type": "code",
   "execution_count": 100,
   "id": "b0c70a7c-dc4c-4e6b-9b81-001bba0579a1",
   "metadata": {},
   "outputs": [],
   "source": [
    "## get projection of B onto plane perpendicular to LOS\n",
    "## and the projection of DC vector onto same plane\n",
    "Bperp  = bxyzs - (blens*np.cos(thetaBlos))[:,:,None] * losvec.T[None,:,:]\n",
    "DCperp = rays_xyz - (rays_sph[:,:,0]*np.cos(thetaDClos))[:,:,None] * losvec.T[None,:,:]"
   ]
  },
  {
   "cell_type": "code",
   "execution_count": 101,
   "id": "57a129dc-3c4a-4884-902d-1c41d3cbb7ea",
   "metadata": {},
   "outputs": [
    {
     "name": "stderr",
     "output_type": "stream",
     "text": [
      "/tmp/ipykernel_1091557/3888707345.py:2: RuntimeWarning: invalid value encountered in true_divide\n",
      "  costhetaAzi = np.sum((Bperp*DCperp),axis=2)/(np.linalg.norm(Bperp,axis = 2)*np.linalg.norm(DCperp,axis = 2))\n"
     ]
    }
   ],
   "source": [
    "## find angle between Bperp and DCperp, which is the azimuthal angle relative to disk center\n",
    "costhetaAzi = np.sum((Bperp*DCperp),axis=2)/(np.linalg.norm(Bperp,axis = 2)*np.linalg.norm(DCperp,axis = 2))\n",
    "del Bperp\n",
    "del DCperp\n",
    "thetaAzi = np.arccos(costhetaAzi.clip(min =-1,max=1))\n",
    "thetaAzi[np.isnan(thetaAzi)] = 0.\n",
    "del costhetaAzi"
   ]
  },
  {
   "cell_type": "code",
   "execution_count": 102,
   "id": "6773386f-a457-4baa-afad-6033ceba6f6b",
   "metadata": {},
   "outputs": [
    {
     "data": {
      "application/vnd.jupyter.widget-view+json": {
       "model_id": "1a94c6441d554e28a2faa354dcf4d411",
       "version_major": 2,
       "version_minor": 0
      },
      "text/plain": [
       "Canvas(toolbar=Toolbar(toolitems=[('Home', 'Reset original view', 'home', 'home'), ('Back', 'Back to previous …"
      ]
     },
     "metadata": {},
     "output_type": "display_data"
    }
   ],
   "source": [
    "fig,ax = plt.subplots(2,3,figsize = (10,7),sharex=True,sharey=True)\n",
    "ax = ax.flatten()\n",
    "im0 = ax[0].imshow(bx_rays.reshape(ray_npt,nrays)[ray_npt//2,:].reshape(*yya.shape))\n",
    "im1 = ax[1].imshow(by_rays.reshape(ray_npt,nrays)[ray_npt//2,:].reshape(*yya.shape))\n",
    "im2 = ax[2].imshow(bz_rays.reshape(ray_npt,nrays)[ray_npt//2,:].reshape(*yya.shape))\n",
    "\n",
    "im3 = ax[3].imshow(blens[ray_npt//2,:].reshape(*yya.shape))\n",
    "im4 = ax[4].imshow(thetaBlos[ray_npt//2,:].reshape(*yya.shape))\n",
    "im5 = ax[5].imshow(thetaAzi[ray_npt//2,:].reshape(*yya.shape))\n",
    "for im in im0,im1,im2,: im.set_clim(-4,4)\n",
    "\n",
    "labs = 'Bx (POS)','By (POS)','Bz (POS)','B (POS)','ThetaBLOS (POS)','Bazimuth (POS)'\n",
    "for n in range(6): ax[n].set_title(labs[n])\n",
    "\n",
    "cbars = []\n",
    "for axi in ax:\n",
    " cax = axi.inset_axes([1.04, 0.05, 0.05, 0.95], transform=axi.transAxes)\n",
    " cbar1 = fig.colorbar(axi.get_images()[0],ax=axi,cax=cax)\n",
    " cbars.append(cbar1)\n",
    "\n",
    "fig.suptitle(modelName + '\\nMagnetic Field in the Plane of the Sky from the Observer\\nComponents are in the PSI model frame') \n",
    "\n",
    "fig.tight_layout()"
   ]
  },
  {
   "cell_type": "code",
   "execution_count": 103,
   "id": "b5df6e41-bcb8-42ed-8e19-d7cc3c55da9c",
   "metadata": {},
   "outputs": [
    {
     "data": {
      "application/vnd.jupyter.widget-view+json": {
       "model_id": "8d31e84a8daa408daf71c20fe199998c",
       "version_major": 2,
       "version_minor": 0
      },
      "text/plain": [
       "Canvas(toolbar=Toolbar(toolitems=[('Home', 'Reset original view', 'home', 'home'), ('Back', 'Back to previous …"
      ]
     },
     "metadata": {},
     "output_type": "display_data"
    },
    {
     "name": "stdout",
     "output_type": "stream",
     "text": [
      "1778279.410038923\n"
     ]
    }
   ],
   "source": [
    "fig,ax = plt.subplots(1,2,figsize = (7,4),sharex=True,sharey=True)\n",
    "ax = ax.flatten()\n",
    "im0 = ax[0].imshow(temp_rays.reshape(ray_npt,nrays)[ray_npt//2,:].reshape(*yya.shape)*mask_ondisk,norm = LogNorm(),cmap = plt.get_cmap('nipy_spectral'))\n",
    "im1 = ax[1].imshow(ne_rays.reshape(ray_npt,nrays)[ray_npt//2,:].reshape(*yya.shape)*mask_ondisk,norm = LogNorm(),cmap = plt.get_cmap('nipy_spectral'))\n",
    "\n",
    "print(10.**6.25)\n",
    "\n",
    "cbars = []\n",
    "for axi in ax:\n",
    " cax = axi.inset_axes([1.04, 0.05, 0.05, 0.95], transform=axi.transAxes)\n",
    " cbar1 = fig.colorbar(axi.get_images()[0],ax=axi,cax=cax)\n",
    " cbars.append(cbar1)\n",
    "\n",
    "fig.suptitle('POS Temperature and Electron Density')\n",
    "fig.tight_layout()"
   ]
  },
  {
   "cell_type": "markdown",
   "id": "947be149-52b1-48e2-a797-797f5d88bea8",
   "metadata": {},
   "source": [
    "## Forward Synthesize the Thomson Scattering"
   ]
  },
  {
   "cell_type": "code",
   "execution_count": 126,
   "id": "cb980b20-b6cf-4b21-82a4-84f03411115b",
   "metadata": {},
   "outputs": [
    {
     "name": "stdout",
     "output_type": "stream",
     "text": [
      "erg s$^{-1}$ cm$^{-2}$ sr$^{-1}$ Hz$^{-1}$\n"
     ]
    }
   ],
   "source": [
    "ht = (rays_sph[:,:,0]-1).clip(1.e-8) * constants.radius.value/1000.\n",
    "ht = ht.reshape(ray_npt*nrays)\n",
    "J00 = allen.J00_sym(10747.,ht)\n",
    "units = J00[1]\n",
    "print(units)\n",
    "J00 = J00[0]\n",
    "omega = allen.get_omega(10747.,ht)\n",
    "Idc, Idc_unit = allen.i_nu(10747.,1.)"
   ]
  },
  {
   "cell_type": "code",
   "execution_count": 127,
   "id": "3631a4d7-633f-42ca-ace7-2660e861c13e",
   "metadata": {},
   "outputs": [],
   "source": [
    "J00 = J00.reshape(ray_npt,nrays)\n",
    "omega = omega.reshape(ray_npt,nrays)"
   ]
  },
  {
   "cell_type": "code",
   "execution_count": 132,
   "id": "1e403598-cbde-4896-a662-e0724c4a5389",
   "metadata": {},
   "outputs": [],
   "source": [
    "cc = 0.665e-24  ## total thomson scattering crosssection\n",
    "eps_rays = cc * ne_rays * J00 * (1 + omega/2 - (3./4.)*omega*np.sin(thetaDClos)**2)\n",
    "Ithomson = np.trapz(eps_rays,dray,axis=0).reshape(*yya.shape) * mask_ondisk / Idc *1e6\n",
    "eps_rays = - 3./4. * cc * ne_rays * omega * J00 * np.sin(thetaDClos)**2\n",
    "pBthomson = np.trapz(eps_rays,dray,axis=0).reshape(*yya.shape) * mask_ondisk / Idc *1e6"
   ]
  },
  {
   "cell_type": "code",
   "execution_count": 138,
   "id": "1ab0c5f3-58a8-4996-ad86-68c3de0c7f73",
   "metadata": {},
   "outputs": [
    {
     "data": {
      "application/vnd.jupyter.widget-view+json": {
       "model_id": "dca48d64d81242e287a5c5e77697a63e",
       "version_major": 2,
       "version_minor": 0
      },
      "text/plain": [
       "Canvas(toolbar=Toolbar(toolitems=[('Home', 'Reset original view', 'home', 'home'), ('Back', 'Back to previous …"
      ]
     },
     "metadata": {},
     "output_type": "display_data"
    },
    {
     "name": "stderr",
     "output_type": "stream",
     "text": [
      "/tmp/ipykernel_1091557/2776832075.py:5: RuntimeWarning: invalid value encountered in true_divide\n",
      "  im2 = ax[2].imshow(-pBthomson/Ithomson,cmap = plt.get_cmap('viridis'))\n"
     ]
    }
   ],
   "source": [
    "fig,ax = plt.subplots(1,3,figsize = (10,3.) )\n",
    "ax = ax.flatten()\n",
    "im0 = ax[0].imshow(Ithomson,norm = LogNorm(),cmap = plt.get_cmap('viridis'))\n",
    "im1 = ax[1].imshow(-pBthomson,norm = LogNorm(),cmap = plt.get_cmap('viridis'))\n",
    "im2 = ax[2].imshow(-pBthomson/Ithomson,cmap = plt.get_cmap('viridis'))\n",
    "im0.set_clim(0.001,1)\n",
    "im1.set_clim(0.001,1)\n",
    "im2.set_clim(0.2,0.7)\n",
    "\n",
    "cbars = []\n",
    "for axi in ax:\n",
    " cax = axi.inset_axes([1.04, 0.05, 0.05, 0.95], transform=axi.transAxes)\n",
    " cbar1 = fig.colorbar(axi.get_images()[0],ax=axi,cax=cax)\n",
    " cbars.append(cbar1)\n",
    "\n",
    "ax[0].set_title('Thomson I log mills')\n",
    "ax[1].set_title('Thomson pB log mills')\n",
    "ax[2].set_title('pB/I')\n",
    "\n",
    "fig.suptitle('Thomson Scattered Radiation at 1074 nm')\n",
    "fig.tight_layout()"
   ]
  },
  {
   "cell_type": "markdown",
   "id": "e9db0822-b4a8-4851-a3c8-cfc7ecd1ce7c",
   "metadata": {},
   "source": [
    "## **Forward Synthesize Emission Line** "
   ]
  },
  {
   "cell_type": "code",
   "execution_count": 43,
   "id": "2b414341-7b7e-4f7d-beab-d90d6b472725",
   "metadata": {},
   "outputs": [],
   "source": [
    "## distance vector along the ray \n",
    "dray = deltaR[:,None] * constants.radius.value*100.  ## cm \n",
    "drayg = np.gradient(dray[:,0])"
   ]
  },
  {
   "cell_type": "code",
   "execution_count": 49,
   "id": "e555dda8-f5d4-40a4-a5a2-d347ffe5ca58",
   "metadata": {},
   "outputs": [],
   "source": [
    "geff,D_coeff,E_coeff = fe13_ln1.geff,fe13_ln1.Dcoeff,fe13_ln1.Ecoeff\n",
    "epsI   = ccoef1_rays*(1.0+(1./(2.*np.sqrt(2.)))*(3.*np.cos(thetaBlos)**2 - 1.)*D_coeff*align1_rays)\n",
    "epsQnr = ccoef1_rays*(3./(2.*np.sqrt(2.)))*(np.sin(thetaBlos)**2)*D_coeff*align1_rays\n",
    "epsQ   = np.cos(2.*thetaAzi)*epsQnr\n",
    "epsU   = -np.sin(2.*thetaAzi)*epsQnr\n",
    "epsV   = ccoef1_rays*np.cos(thetaBlos)*(1399612.2*blens)*(geff + E_coeff*align1_rays)\n",
    "epsI_int1 = np.trapz(epsI,dray,axis=0).reshape(*yya.shape) * mask_ondisk\n",
    "epsQ_int1 = np.trapz(epsQ,dray,axis=0).reshape(*yya.shape) * mask_ondisk\n",
    "epsU_int1 = np.trapz(epsU,dray,axis=0).reshape(*yya.shape) * mask_ondisk\n",
    "epsV_int1 = np.trapz(epsV,dray,axis=0).reshape(*yya.shape) * mask_ondisk\n",
    "ne_wgtI1 = np.sum(epsI*ne_rays*drayg[:,None],axis=0)    ## volumetric weighted? \n",
    "ne_wgtI1 /= np.sum(epsI*drayg[:,None],axis=0)\n",
    "ne_wgtI1 = ne_wgtI1.reshape(*yya.shape)*mask_ondisk"
   ]
  },
  {
   "cell_type": "code",
   "execution_count": 50,
   "id": "47ea4d11-5867-475c-a7ef-128f843e1282",
   "metadata": {},
   "outputs": [],
   "source": [
    "geff,D_coeff,E_coeff = fe13_ln2.geff,fe13_ln2.Dcoeff,fe13_ln2.Ecoeff\n",
    "epsI   = ccoef2_rays*(1.0+(1./(2.*np.sqrt(2.)))*(3.*np.cos(thetaBlos)**2 - 1.)*D_coeff*align2_rays)\n",
    "epsQnr = ccoef2_rays*(3./(2.*np.sqrt(2.)))*(np.sin(thetaBlos)**2)*D_coeff*align2_rays\n",
    "epsQ   = np.cos(2.*thetaAzi)*epsQnr\n",
    "epsU   = -np.sin(2.*thetaAzi)*epsQnr\n",
    "epsV   = ccoef2_rays*np.cos(thetaBlos)*(1399612.2*blens)*(geff + E_coeff*align2_rays)\n",
    "epsI_int2 = np.trapz(epsI,dray,axis=0).reshape(*yya.shape) * mask_ondisk\n",
    "epsQ_int2 = np.trapz(epsQ,dray,axis=0).reshape(*yya.shape) * mask_ondisk\n",
    "epsU_int2 = np.trapz(epsU,dray,axis=0).reshape(*yya.shape) * mask_ondisk\n",
    "epsV_int2 = np.trapz(epsV,dray,axis=0).reshape(*yya.shape) * mask_ondisk\n",
    "ne_wgtI2 = np.sum(epsI*ne_rays*drayg[:,None],axis=0)    ## volumetric weighted? \n",
    "ne_wgtI2 /= np.sum(epsI*drayg[:,None],axis=0)\n",
    "ne_wgtI2 = ne_wgtI2.reshape(*yya.shape)*mask_ondisk"
   ]
  },
  {
   "cell_type": "code",
   "execution_count": 51,
   "id": "b4077de6-2089-441f-94d8-b605ba36d7f1",
   "metadata": {},
   "outputs": [],
   "source": [
    "geff,D_coeff,E_coeff = si10_ln1.geff,si10_ln1.Dcoeff,si10_ln1.Ecoeff\n",
    "epsI   = ccoef3_rays*(1.0+(1./(2.*np.sqrt(2.)))*(3.*np.cos(thetaBlos)**2 - 1.)*D_coeff*align3_rays)\n",
    "epsQnr = ccoef3_rays*(3./(2.*np.sqrt(2.)))*(np.sin(thetaBlos)**2)*D_coeff*align3_rays\n",
    "epsQ   = np.cos(2.*thetaAzi)*epsQnr\n",
    "epsU   = -np.sin(2.*thetaAzi)*epsQnr\n",
    "epsV   = ccoef3_rays*np.cos(thetaBlos)*(1399612.2*blens)*(geff + E_coeff*align3_rays)\n",
    "epsI_int3 = np.trapz(epsI,dray,axis=0).reshape(*yya.shape) * mask_ondisk\n",
    "epsQ_int3 = np.trapz(epsQ,dray,axis=0).reshape(*yya.shape) * mask_ondisk\n",
    "epsU_int3 = np.trapz(epsU,dray,axis=0).reshape(*yya.shape) * mask_ondisk\n",
    "epsV_int3 = np.trapz(epsV,dray,axis=0).reshape(*yya.shape) * mask_ondisk\n",
    "ne_wgtI3 = np.sum(epsI*ne_rays*drayg[:,None],axis=0)    ## volumetric weighted? \n",
    "ne_wgtI3 /= np.sum(epsI*drayg[:,None],axis=0)\n",
    "ne_wgtI3 = ne_wgtI3.reshape(*yya.shape)*mask_ondisk"
   ]
  },
  {
   "cell_type": "code",
   "execution_count": 52,
   "id": "5b717b3a-aae7-468a-b27c-f793b9801c8c",
   "metadata": {},
   "outputs": [],
   "source": [
    "geff,D_coeff,E_coeff = si9_ln1.geff,si9_ln1.Dcoeff,si9_ln1.Ecoeff\n",
    "epsI   = ccoef4_rays*(1.0+(1./(2.*np.sqrt(2.)))*(3.*np.cos(thetaBlos)**2 - 1.)*D_coeff*align4_rays)\n",
    "epsQnr = ccoef4_rays*(3./(2.*np.sqrt(2.)))*(np.sin(thetaBlos)**2)*D_coeff*align4_rays\n",
    "epsQ   = np.cos(2.*thetaAzi)*epsQnr\n",
    "epsU   = -np.sin(2.*thetaAzi)*epsQnr\n",
    "epsV   = ccoef4_rays*np.cos(thetaBlos)*(1399612.2*blens)*(geff + E_coeff*align4_rays)\n",
    "epsI_int4 = np.trapz(epsI,dray,axis=0).reshape(*yya.shape) * mask_ondisk\n",
    "epsQ_int4 = np.trapz(epsQ,dray,axis=0).reshape(*yya.shape) * mask_ondisk\n",
    "epsU_int4 = np.trapz(epsU,dray,axis=0).reshape(*yya.shape) * mask_ondisk\n",
    "epsV_int4 = np.trapz(epsV,dray,axis=0).reshape(*yya.shape) * mask_ondisk\n",
    "ne_wgtI4 = np.sum(epsI*ne_rays*drayg[:,None],axis=0)    ## volumetric weighted? \n",
    "ne_wgtI4 /= np.sum(epsI*drayg[:,None],axis=0)\n",
    "ne_wgtI4 = ne_wgtI4.reshape(*yya.shape)*mask_ondisk"
   ]
  },
  {
   "cell_type": "code",
   "execution_count": 56,
   "id": "e7847839-f775-4dec-b98c-9396de4a55ce",
   "metadata": {},
   "outputs": [
    {
     "data": {
      "application/vnd.jupyter.widget-view+json": {
       "model_id": "9f019de49bbf4af084f8906341ef203f",
       "version_major": 2,
       "version_minor": 0
      },
      "text/plain": [
       "Canvas(toolbar=Toolbar(toolitems=[('Home', 'Reset original view', 'home', 'home'), ('Back', 'Back to previous …"
      ]
     },
     "metadata": {},
     "output_type": "display_data"
    }
   ],
   "source": [
    "fig,ax = plt.subplots(1,4,figsize = (12,3.) )\n",
    "ax = ax.flatten()\n",
    "ax[0].imshow(ne_wgtI1,norm = LogNorm(),cmap = plt.get_cmap('nipy_spectral'))\n",
    "ax[1].imshow(ne_wgtI2,norm = LogNorm(),cmap = plt.get_cmap('nipy_spectral'))\n",
    "ax[2].imshow(ne_wgtI3,norm = LogNorm(),cmap = plt.get_cmap('nipy_spectral'))\n",
    "ax[3].imshow(ne_wgtI4,norm = LogNorm(),cmap = plt.get_cmap('nipy_spectral'))\n",
    "\n",
    "for axi in ax:\n",
    "    imn = axi.get_images()[0]\n",
    "    imn.set_clim(1e5,1e9)\n",
    "    \n",
    "cbars = []\n",
    "for axi in ax:\n",
    " cax = axi.inset_axes([1.04, 0.05, 0.05, 0.95], transform=axi.transAxes)\n",
    " cbar1 = fig.colorbar(axi.get_images()[0],ax=axi,cax=cax)\n",
    " cbars.append(cbar1)\n",
    "\n",
    "fig.tight_layout()"
   ]
  },
  {
   "cell_type": "code",
   "execution_count": 194,
   "id": "4dc8ebe9-0cc9-4e16-9750-29adeb96e14a",
   "metadata": {},
   "outputs": [
    {
     "data": {
      "application/vnd.jupyter.widget-view+json": {
       "model_id": "2d0cc8ab7dd24c3f8332bab0a4ba4afc",
       "version_major": 2,
       "version_minor": 0
      },
      "text/plain": [
       "Canvas(toolbar=Toolbar(toolitems=[('Home', 'Reset original view', 'home', 'home'), ('Back', 'Back to previous …"
      ]
     },
     "metadata": {},
     "output_type": "display_data"
    }
   ],
   "source": [
    "fig,ax = plt.subplots(1,4,figsize = (12,3.) )\n",
    "ax = ax.flatten()\n",
    "\n",
    "sr2arcsec = (180./np.pi)**2.*3600.**2.\n",
    "hh        = 6.6260755e-27                  ## erg s\n",
    "\n",
    "phergs1    = hh*(3.e8)/(10747.0e-10)      ## ergs to photons\n",
    "ax[0].imshow(epsI_int1/sr2arcsec/phergs1,norm = LogNorm(),cmap = plt.get_cmap('nipy_spectral'))\n",
    "phergs2    = hh*(3.e8)/(10798.0e-10)      ## ergs to photons\n",
    "ax[1].imshow(epsI_int2/sr2arcsec/phergs2,norm = LogNorm(),cmap = plt.get_cmap('nipy_spectral'))\n",
    "phergs3    = hh*(3.e8)/(14300.0e-10)      ## ergs to photons\n",
    "ax[2].imshow(epsI_int3/sr2arcsec/phergs3,norm = LogNorm(),cmap = plt.get_cmap('nipy_spectral'))\n",
    "phergs4    = hh*(3.e8)/(39340.0e-10)      ## ergs to photons\n",
    "ax[3].imshow(epsI_int4/sr2arcsec/phergs4,norm = LogNorm(),cmap = plt.get_cmap('nipy_spectral'))\n",
    "\n",
    "for axi in ax:\n",
    "    imn = axi.get_images()[0]\n",
    "    imn.set_clim(0.001,1000)\n",
    "    \n",
    "cbars = []\n",
    "for axi in ax:\n",
    " cax = axi.inset_axes([1.04, 0.05, 0.05, 0.95], transform=axi.transAxes)\n",
    " cbar1 = fig.colorbar(axi.get_images()[0],ax=axi,cax=cax)\n",
    " cbars.append(cbar1)\n",
    "\n",
    "fig.tight_layout()"
   ]
  },
  {
   "cell_type": "code",
   "execution_count": 141,
   "id": "b9cc255c-5196-49d3-a753-0ed789c92701",
   "metadata": {},
   "outputs": [
    {
     "data": {
      "application/vnd.jupyter.widget-view+json": {
       "model_id": "5f4fcaa8b0a7467581adbeff81ac1b9e",
       "version_major": 2,
       "version_minor": 0
      },
      "text/plain": [
       "Canvas(toolbar=Toolbar(toolitems=[('Home', 'Reset original view', 'home', 'home'), ('Back', 'Back to previous …"
      ]
     },
     "metadata": {},
     "output_type": "display_data"
    },
    {
     "name": "stderr",
     "output_type": "stream",
     "text": [
      "/tmp/ipykernel_1091557/1725698819.py:3: RuntimeWarning: invalid value encountered in true_divide\n",
      "  im0 = ax[0].imshow(epsI_int2/epsI_int1)\n",
      "/tmp/ipykernel_1091557/1725698819.py:7: RuntimeWarning: invalid value encountered in true_divide\n",
      "  ax[2].plot(ne_wgtI1.flatten(),(epsI_int2/epsI_int1).flatten(),'.')\n"
     ]
    }
   ],
   "source": [
    "fig,ax = plt.subplots(1,3,figsize = (9,3))\n",
    "ax =ax.flatten()\n",
    "im0 = ax[0].imshow(epsI_int2/epsI_int1)\n",
    "im1 = ax[1].imshow(ne_wgtI1,norm = LogNorm())\n",
    "im1.set_clim(1e4,1e10)\n",
    "\n",
    "ax[2].plot(ne_wgtI1.flatten(),(epsI_int2/epsI_int1).flatten(),'.')\n",
    "ax[2].set_xlim(1e4,1e10)\n",
    "ax[2].set_ylim(0,1.0)\n",
    "ax[2].set_xscale('log')\n",
    "## add density curve here\n",
    "\n",
    "cbars = []\n",
    "for axi in ax[0:2]:\n",
    " cax = axi.inset_axes([1.04, 0.05, 0.05, 0.95], transform=axi.transAxes)\n",
    " cbar1 = fig.colorbar(axi.get_images()[0],ax=axi,cax=cax)\n",
    " cbars.append(cbar1)\n",
    "\n",
    "fig.tight_layout()"
   ]
  },
  {
   "cell_type": "code",
   "execution_count": 142,
   "id": "505c927c-b94c-4269-bc2c-79eb9b5811da",
   "metadata": {},
   "outputs": [
    {
     "data": {
      "application/vnd.jupyter.widget-view+json": {
       "model_id": "8ae3032f1eb7449193569aa2ca5305af",
       "version_major": 2,
       "version_minor": 0
      },
      "text/plain": [
       "Canvas(toolbar=Toolbar(toolitems=[('Home', 'Reset original view', 'home', 'home'), ('Back', 'Back to previous …"
      ]
     },
     "metadata": {},
     "output_type": "display_data"
    },
    {
     "name": "stderr",
     "output_type": "stream",
     "text": [
      "/tmp/ipykernel_1091557/1762355804.py:3: RuntimeWarning: divide by zero encountered in log10\n",
      "  im0 = ax[0].imshow(np.log10(epsI_int1))\n",
      "/tmp/ipykernel_1091557/1762355804.py:4: RuntimeWarning: divide by zero encountered in log10\n",
      "  im1 = ax[1].imshow(np.log10(np.sqrt(epsQ_int1**2. + epsU_int1**2)))\n",
      "/tmp/ipykernel_1091557/1762355804.py:5: RuntimeWarning: invalid value encountered in true_divide\n",
      "  im2 = ax[2].imshow(np.sqrt(epsQ_int1**2. + epsU_int1**2)/epsI_int1)\n"
     ]
    }
   ],
   "source": [
    "fig,ax = plt.subplots(2,3,figsize = (10,7),sharex=True,sharey=True)\n",
    "ax = ax.flatten()\n",
    "im0 = ax[0].imshow(np.log10(epsI_int1))\n",
    "im1 = ax[1].imshow(np.log10(np.sqrt(epsQ_int1**2. + epsU_int1**2)))\n",
    "im2 = ax[2].imshow(np.sqrt(epsQ_int1**2. + epsU_int1**2)/epsI_int1)\n",
    "im3 = ax[3].imshow(epsV_int1)\n",
    "mrang = np.max(np.abs(np.percentile(epsV_int1,[1,99])))\n",
    "im3.set_clim(-mrang,mrang)\n",
    "\n",
    "im4 = ax[4].imshow(0.5*np.arctan2(epsU_int1 , epsQ_int1)*mask_ondisk)\n",
    "\n",
    "labs = '1074 Log I','Log LinPol','LinPolFrac','epsV integ.','Azimuth Angle'\n",
    "for n in range(5): ax[n].set_title(labs[n])\n",
    "\n",
    "ax[-1].axis('off')\n",
    "\n",
    "cbars = []\n",
    "for axi in ax[:-1]:\n",
    " cax = axi.inset_axes([1.04, 0.05, 0.05, 0.95], transform=axi.transAxes)\n",
    " cbar1 = fig.colorbar(axi.get_images()[0],ax=axi,cax=cax)\n",
    " cbars.append(cbar1)\n",
    "\n",
    "fig.suptitle(modelName + '\\nLOS-integrated polarized emission coefficients') \n",
    "\n",
    "fig.tight_layout()"
   ]
  },
  {
   "cell_type": "code",
   "execution_count": 143,
   "id": "09917de7-aa2c-4bf9-927e-0d786a1c23ab",
   "metadata": {},
   "outputs": [
    {
     "data": {
      "application/vnd.jupyter.widget-view+json": {
       "model_id": "1f2eb475b0a744cd8dd16d8ee768cdc5",
       "version_major": 2,
       "version_minor": 0
      },
      "text/plain": [
       "Canvas(toolbar=Toolbar(toolitems=[('Home', 'Reset original view', 'home', 'home'), ('Back', 'Back to previous …"
      ]
     },
     "metadata": {},
     "output_type": "display_data"
    },
    {
     "name": "stderr",
     "output_type": "stream",
     "text": [
      "/tmp/ipykernel_1091557/2515412780.py:3: RuntimeWarning: divide by zero encountered in log10\n",
      "  im0 = ax[0].imshow(np.log10(epsI_int4))\n",
      "/tmp/ipykernel_1091557/2515412780.py:4: RuntimeWarning: divide by zero encountered in log10\n",
      "  im1 = ax[1].imshow(np.log10(np.sqrt(epsQ_int4**2. + epsU_int4**2)))\n",
      "/tmp/ipykernel_1091557/2515412780.py:5: RuntimeWarning: invalid value encountered in true_divide\n",
      "  im2 = ax[2].imshow(np.sqrt(epsQ_int4**2. + epsU_int4**2)/epsI_int4)\n"
     ]
    }
   ],
   "source": [
    "fig,ax = plt.subplots(2,3,figsize = (10,7),sharex=True,sharey=True)\n",
    "ax = ax.flatten()\n",
    "im0 = ax[0].imshow(np.log10(epsI_int4))\n",
    "im1 = ax[1].imshow(np.log10(np.sqrt(epsQ_int4**2. + epsU_int4**2)))\n",
    "im2 = ax[2].imshow(np.sqrt(epsQ_int4**2. + epsU_int4**2)/epsI_int4)\n",
    "im3 = ax[3].imshow(epsV_int4)\n",
    "mrang = np.max(np.abs(np.percentile(epsV_int4,[1,99])))\n",
    "im3.set_clim(-mrang,mrang)\n",
    "\n",
    "im4 = ax[4].imshow(0.5*np.arctan2(epsU_int4 , epsQ_int4)*mask_ondisk)\n",
    "\n",
    "labs = '3934 Log I','Log LinPol','LinPolFrac','epsV integ.','Azimuth Angle'\n",
    "for n in range(5): ax[n].set_title(labs[n])\n",
    "\n",
    "ax[-1].axis('off')\n",
    "\n",
    "cbars = []\n",
    "for axi in ax[:-1]:\n",
    " cax = axi.inset_axes([1.04, 0.05, 0.05, 0.95], transform=axi.transAxes)\n",
    " cbar1 = fig.colorbar(axi.get_images()[0],ax=axi,cax=cax)\n",
    " cbars.append(cbar1)\n",
    "\n",
    "fig.suptitle(modelName + '\\nLOS-integrated polarized emission coefficients') \n",
    "\n",
    "fig.tight_layout()"
   ]
  },
  {
   "cell_type": "code",
   "execution_count": 144,
   "id": "6c5f5ff7-849b-40aa-8044-264339b966fc",
   "metadata": {},
   "outputs": [
    {
     "data": {
      "application/vnd.jupyter.widget-view+json": {
       "model_id": "74edb8051aa94f6ca40a99a89044cab5",
       "version_major": 2,
       "version_minor": 0
      },
      "text/plain": [
       "Canvas(toolbar=Toolbar(toolitems=[('Home', 'Reset original view', 'home', 'home'), ('Back', 'Back to previous …"
      ]
     },
     "metadata": {},
     "output_type": "display_data"
    }
   ],
   "source": [
    "sr2arcsec = (180./np.pi)**2.*3600.**2.\n",
    "hh        = 6.6260755e-27                  ## erg s\n",
    "phergs    = hh*(3.e8)/(10747.0e-10)      ## ergs to photons\n",
    "\n",
    "epsI_int = np.copy(epsI_int1)\n",
    "\n",
    "plt.figure()\n",
    "plt.imshow((epsI_int/sr2arcsec/phergs), norm=LogNorm(), extent = (yya[0,0],yya[0,-1],zza[0,0],zza[-1,0]),cmap = plt.get_cmap('nipy_spectral'))\n",
    "#plt.imshow((epsI_int/sr2arcsec/phergs),  extent = (yya[0,0],yya[0,-1],zza[0,0],zza[-1,0]))\n",
    "plt.clim(0.01,1000)\n",
    "\n",
    "rsun =  971.975455850595\n",
    "ypt1 =  (1.15*rsun-117.5) * np.cos(np.deg2rad(65.))\n",
    "xpt1 = -(1.15*rsun-117.5) * np.sin(np.deg2rad(65.))\n",
    "ypt2 =  (1.15*rsun+117.5) * np.cos(np.deg2rad(65.))\n",
    "xpt2 = -(1.15*rsun+117.5) * np.sin(np.deg2rad(65.))\n",
    "plt.plot([xpt1,xpt2],[ypt1,ypt2],color = 'black',lw = 2)\n",
    "\n",
    "ypt1 =  (1.4*rsun-117.5) * np.cos(np.deg2rad(65.))\n",
    "xpt1 = -(1.4*rsun-117.5) * np.sin(np.deg2rad(65.))\n",
    "ypt2 =  (1.4*rsun+117.5) * np.cos(np.deg2rad(65.))\n",
    "xpt2 = -(1.4*rsun+117.5) * np.sin(np.deg2rad(65.))\n",
    "plt.plot([xpt1,xpt2],[ypt1,ypt2],color = 'white',lw = 2)\n",
    "\n",
    "plt.colorbar()\n",
    "plt.title(' Fe XIII 1074.7 total line integrated brightness') \n",
    "\n",
    "plt.autoscale(False)\n",
    "th = np.linspace(0,2.*np.pi,100)\n",
    "for rr in 1.1,1.2,1.3,1.5,:\n",
    "    plt.plot(rr*rsun*np.cos(th),rr*rsun*np.sin(th),color = 'white',lw = 0.8,linestyle = 'dotted',clip_on = True)"
   ]
  },
  {
   "cell_type": "markdown",
   "id": "c70b0cbb-6035-4af2-85e8-5707f359b48d",
   "metadata": {},
   "source": [
    "## Extract values along radial slit"
   ]
  },
  {
   "cell_type": "code",
   "execution_count": 158,
   "id": "e09a5df6-bfab-4291-84dc-e7a18931ce55",
   "metadata": {},
   "outputs": [],
   "source": [
    "## do this for all the models and plot the radial curves of all line strengths, AIAs, and pB.  \n",
    "## then get KCOR measurements, AIA measurements, and DKIST measurements. "
   ]
  },
  {
   "cell_type": "code",
   "execution_count": 231,
   "id": "14023bde-3695-4264-be16-97666247b34f",
   "metadata": {},
   "outputs": [
    {
     "name": "stdout",
     "output_type": "stream",
     "text": [
      "(219, 195) (219,)\n"
     ]
    }
   ],
   "source": [
    "img = (epsI_int4/sr2arcsec/phergs4)\n",
    "print(img.shape,zza[:,0].shape)\n",
    "iint = rgi((zza[:,0],yya[0,:]),img,method = 'linear',fill_value = 0.,bounds_error = False)"
   ]
  },
  {
   "cell_type": "code",
   "execution_count": 232,
   "id": "0f7b0727-d617-4f67-98b4-709eb62ca965",
   "metadata": {},
   "outputs": [
    {
     "data": {
      "application/vnd.jupyter.widget-view+json": {
       "model_id": "3f1d0cc73b064703bb09a9b190043c48",
       "version_major": 2,
       "version_minor": 0
      },
      "text/plain": [
       "Canvas(toolbar=Toolbar(toolitems=[('Home', 'Reset original view', 'home', 'home'), ('Back', 'Back to previous …"
      ]
     },
     "metadata": {},
     "output_type": "display_data"
    },
    {
     "data": {
      "text/plain": [
       "[<matplotlib.lines.Line2D at 0x7f5133295fa0>]"
      ]
     },
     "execution_count": 232,
     "metadata": {},
     "output_type": "execute_result"
    }
   ],
   "source": [
    "yrad = -np.sin(np.deg2rad(65.)) * np.linspace(1.02,2.,200) * rsun\n",
    "zrad =  np.cos(np.deg2rad(65.)) * np.linspace(1.02,2.,200) * rsun\n",
    "zy = np.zeros((len(yrad),2))\n",
    "zy[:,0] = zrad\n",
    "zy[:,1] = yrad\n",
    "\n",
    "yrad2 = -np.sin(np.deg2rad(50.)) * np.linspace(1.02,2.,200) * rsun\n",
    "zrad2 =  np.cos(np.deg2rad(50.)) * np.linspace(1.02,2.,200) * rsun\n",
    "zy2 = np.zeros((len(yrad),2))\n",
    "zy2[:,0] = zrad2\n",
    "zy2[:,1] = yrad2\n",
    "\n",
    "plt.figure()\n",
    "plt.imshow(img, norm=LogNorm(), extent = (yya[0,0],yya[0,-1],zza[0,0],zza[-1,0]),cmap = plt.get_cmap('nipy_spectral'))\n",
    "plt.clim(0.01,1000)\n",
    "plt.plot(yrad,zrad,'.')\n",
    "plt.plot(yrad2,zrad2,'--')"
   ]
  },
  {
   "cell_type": "code",
   "execution_count": 233,
   "id": "06f79984-cb16-4f41-8c2c-5e9a1ad1ddb9",
   "metadata": {},
   "outputs": [
    {
     "data": {
      "text/plain": [
       "array(0.14833377)"
      ]
     },
     "execution_count": 233,
     "metadata": {},
     "output_type": "execute_result"
    }
   ],
   "source": [
    "iint((850,-1770))"
   ]
  },
  {
   "cell_type": "code",
   "execution_count": 234,
   "id": "59802f66-9d19-45f7-8a9b-6f8d928b5f45",
   "metadata": {},
   "outputs": [],
   "source": [
    "iint1 = rgi((zza[:,0],yya[0,:]),(epsI_int1/sr2arcsec/phergs1),method = 'linear',fill_value = 0.,bounds_error = False)\n",
    "iint2 = rgi((zza[:,0],yya[0,:]),(epsI_int2/sr2arcsec/phergs2),method = 'linear',fill_value = 0.,bounds_error = False)\n",
    "iint3 = rgi((zza[:,0],yya[0,:]),(epsI_int3/sr2arcsec/phergs3),method = 'linear',fill_value = 0.,bounds_error = False)\n",
    "iint4 = rgi((zza[:,0],yya[0,:]),(epsI_int4/sr2arcsec/phergs4),method = 'linear',fill_value = 0.,bounds_error = False)\n",
    "\n",
    "iintT = rgi((zza[:,0],yya[0,:]),Ithomson,method = 'linear',fill_value = 0.,bounds_error = False)\n",
    "iintpB = rgi((zza[:,0],yya[0,:]),-pBthomson,method = 'linear',fill_value = 0.,bounds_error = False)"
   ]
  },
  {
   "cell_type": "code",
   "execution_count": 249,
   "id": "5661286a-14dd-42e0-b24d-50e4779b7c99",
   "metadata": {},
   "outputs": [
    {
     "data": {
      "application/vnd.jupyter.widget-view+json": {
       "model_id": "2cba22ce96c940a3b8b737bc68de824f",
       "version_major": 2,
       "version_minor": 0
      },
      "text/plain": [
       "Canvas(toolbar=Toolbar(toolitems=[('Home', 'Reset original view', 'home', 'home'), ('Back', 'Back to previous …"
      ]
     },
     "metadata": {},
     "output_type": "display_data"
    }
   ],
   "source": [
    "fig,ax = plt.subplots(1,2,figsize = (8,4.25),sharex=True)\n",
    "fig.suptitle('Note scale factor')\n",
    "\n",
    "ax = ax.flatten()\n",
    "scl = 3.96\n",
    "ax[0].plot(np.linspace(1.02,2.,200),scl*iint1(zy),'.-',label = 'Fe XIII 1074')\n",
    "ax[0].plot(np.linspace(1.02,2.,200),scl*iint1(zy2),'--',label = 'Fe XIII 1074')\n",
    "ax[0].plot(np.linspace(1.02,2.,200),scl*iint2(zy),'.-',label = 'Fe XIII 1079')\n",
    "ax[0].plot(np.linspace(1.02,2.,200),scl*iint3(zy),'.-',label = 'Si X 1430')\n",
    "ax[0].plot(np.linspace(1.02,2.,200),scl*iint4(zy),'.-',label = 'Si IX 3934')\n",
    "ax[0].set_yscale('log')\n",
    "ax[0].legend()\n",
    "ax[0].set_ylabel('photons cm^-2 s^-1 arcsec^-2')\n",
    "ax[0].set_xlabel('Distance from Disk Center')\n",
    "\n",
    "ax[0].plot([1.,2],[1200,1200])\n",
    "ax[0].plot([1.,2],[400,400])\n",
    "ax[0].plot([1.,2],[25,25])\n",
    "\n",
    "ax[1].plot(np.linspace(1.02,2.,200),iintT(zy),'.-',label = 'Thomson I mill 1074')\n",
    "ax[1].plot(np.linspace(1.02,2.,200),iintpB(zy),'.-',label = 'Thomson pB mill 1074')\n",
    "ax[1].set_yscale('log')\n",
    "ax[1].legend()\n",
    "ax[1].set_xlabel('Distance from Disk Center')\n",
    "\n",
    "\n",
    "for z in range(3): fig.tight_layout()"
   ]
  },
  {
   "cell_type": "markdown",
   "id": "2c8ae0f1-bad8-4b7b-84ed-866dbada9741",
   "metadata": {},
   "source": [
    "##  AIA emission "
   ]
  },
  {
   "cell_type": "code",
   "execution_count": 252,
   "id": "972ce6d7-1611-4f6d-b62d-7d03dfe5a246",
   "metadata": {},
   "outputs": [
    {
     "name": "stdout",
     "output_type": "stream",
     "text": [
      "dict_keys(['aia_tresp', 'aia_temp', 'aia_dens', 'ieqf', 'abf', 'chnames'])\n",
      "[b'94' b'131' b'171' b'193' b'211' b'304' b'335']\n",
      "[ 5.   5.5  6.   6.5  7.   7.5  8.   8.5  9.   9.5 10.  10.5 11. ]\n"
     ]
    }
   ],
   "source": [
    "idls = readsav('./aia_resp_database/aia_resp_temp_dens_archive.sav')\n",
    "print(idls.keys())\n",
    "aia_tresp = idls['aia_tresp'].copy()\n",
    "aia_temp = idls['aia_temp'].copy()\n",
    "aia_dens = idls['aia_dens'].copy()\n",
    "idls['ieqf'],idls['abf']\n",
    "chnames = idls['chnames'].copy()\n",
    "print(chnames)  ## is it opposite\n",
    "print(np.log10(aia_dens))"
   ]
  },
  {
   "cell_type": "code",
   "execution_count": 253,
   "id": "f49a17da-35b6-40e7-bc6b-2cf828e5d020",
   "metadata": {},
   "outputs": [],
   "source": [
    "## interpolate the response in log space"
   ]
  },
  {
   "cell_type": "code",
   "execution_count": 254,
   "id": "2882a778-130c-4b33-b8d1-5683cd1c0ada",
   "metadata": {},
   "outputs": [],
   "source": [
    "aia_tresp_int = rgi((np.arange(7),np.log10(aia_dens),np.log10(aia_temp)),aia_tresp,method = 'linear',fill_value = None,bounds_error = False)"
   ]
  },
  {
   "cell_type": "code",
   "execution_count": 255,
   "id": "25bbcbf5-b172-479d-b84a-8d731e47a7b1",
   "metadata": {},
   "outputs": [
    {
     "data": {
      "text/plain": [
       "(10784332, 3)"
      ]
     },
     "execution_count": 255,
     "metadata": {},
     "output_type": "execute_result"
    }
   ],
   "source": [
    "cc = np.stack((corona.ne.flatten()*0+0,np.log10(corona.ne.flatten()),np.log10(corona.temp.flatten()))).T\n",
    "cc.shape"
   ]
  },
  {
   "cell_type": "code",
   "execution_count": 256,
   "id": "23c08b33-bdd3-40aa-a573-d39a4fc7898b",
   "metadata": {},
   "outputs": [
    {
     "data": {
      "text/plain": [
       "((7, 13, 81), (81,), (13,))"
      ]
     },
     "execution_count": 256,
     "metadata": {},
     "output_type": "execute_result"
    }
   ],
   "source": [
    "aia_tresp.shape,aia_temp.shape,aia_dens.shape"
   ]
  },
  {
   "cell_type": "code",
   "execution_count": 257,
   "id": "17f756e6-3cc6-4fbc-800c-5512284028fd",
   "metadata": {},
   "outputs": [
    {
     "data": {
      "application/vnd.jupyter.widget-view+json": {
       "model_id": "d22e0426d0ce414195b3374a23501d93",
       "version_major": 2,
       "version_minor": 0
      },
      "text/plain": [
       "Canvas(toolbar=Toolbar(toolitems=[('Home', 'Reset original view', 'home', 'home'), ('Back', 'Back to previous …"
      ]
     },
     "metadata": {},
     "output_type": "display_data"
    },
    {
     "data": {
      "text/plain": [
       "Text(0.5, 1.0, 'Missing factor of 3.9 or so due to Iron abundance\\n See Del Zanna et al. 2011')"
      ]
     },
     "execution_count": 257,
     "metadata": {},
     "output_type": "execute_result"
    }
   ],
   "source": [
    "plt.figure()\n",
    "for n in range(7): \n",
    "    p1, = plt.plot(aia_temp,aia_tresp[n,0,:]*3.96,label = chnames[n].decode('UTF-8'))\n",
    "    for d in range(1,13): \n",
    "        plt.plot(aia_temp,aia_tresp[n,d,:]*3.96,color = p1.get_color())\n",
    "        \n",
    "plt.xscale('log')\n",
    "plt.yscale('log')\n",
    "plt.legend()\n",
    "plt.xlim(10**5,10**7.8)\n",
    "plt.ylim(0.5e-28,1e-23)\n",
    "plt.title('Missing factor of 3.9 or so due to Iron abundance\\n See Del Zanna et al. 2011') "
   ]
  },
  {
   "cell_type": "code",
   "execution_count": 258,
   "id": "7196bef7-f77a-4966-ae65-fcf5a4986196",
   "metadata": {},
   "outputs": [],
   "source": [
    "imgs = np.zeros((7,*yya.shape))"
   ]
  },
  {
   "cell_type": "code",
   "execution_count": 259,
   "id": "60187e02-01aa-4d97-9761-c6601d8cfe73",
   "metadata": {},
   "outputs": [
    {
     "name": "stderr",
     "output_type": "stream",
     "text": [
      "  0%|                                                                                                                                                                                                                                                          | 0/7 [00:00<?, ?it/s]"
     ]
    },
    {
     "name": "stdout",
     "output_type": "stream",
     "text": [
      " channel:   0 94\n"
     ]
    },
    {
     "name": "stderr",
     "output_type": "stream",
     "text": [
      " 14%|██████████████████████████████████▌                                                                                                                                                                                                               | 1/7 [00:17<01:45, 17.66s/it]"
     ]
    },
    {
     "name": "stdout",
     "output_type": "stream",
     "text": [
      " channel:   1 131\n"
     ]
    },
    {
     "name": "stderr",
     "output_type": "stream",
     "text": [
      " 29%|█████████████████████████████████████████████████████████████████████▏                                                                                                                                                                            | 2/7 [00:35<01:28, 17.74s/it]"
     ]
    },
    {
     "name": "stdout",
     "output_type": "stream",
     "text": [
      " channel:   2 171\n"
     ]
    },
    {
     "name": "stderr",
     "output_type": "stream",
     "text": [
      " 43%|███████████████████████████████████████████████████████████████████████████████████████████████████████▋                                                                                                                                          | 3/7 [00:53<01:11, 17.80s/it]"
     ]
    },
    {
     "name": "stdout",
     "output_type": "stream",
     "text": [
      " channel:   3 193\n"
     ]
    },
    {
     "name": "stderr",
     "output_type": "stream",
     "text": [
      " 57%|██████████████████████████████████████████████████████████████████████████████████████████████████████████████████████████████████████████▎                                                                                                       | 4/7 [01:11<00:53, 17.80s/it]"
     ]
    },
    {
     "name": "stdout",
     "output_type": "stream",
     "text": [
      " channel:   4 211\n"
     ]
    },
    {
     "name": "stderr",
     "output_type": "stream",
     "text": [
      " 71%|████████████████████████████████████████████████████████████████████████████████████████████████████████████████████████████████████████████████████████████████████████████▊                                                                     | 5/7 [01:29<00:35, 17.83s/it]"
     ]
    },
    {
     "name": "stdout",
     "output_type": "stream",
     "text": [
      " channel:   5 304\n"
     ]
    },
    {
     "name": "stderr",
     "output_type": "stream",
     "text": [
      " 86%|███████████████████████████████████████████████████████████████████████████████████████████████████████████████████████████████████████████████████████████████████████████████████████████████████████████████▍                                  | 6/7 [01:46<00:17, 17.83s/it]"
     ]
    },
    {
     "name": "stdout",
     "output_type": "stream",
     "text": [
      " channel:   6 335\n"
     ]
    },
    {
     "name": "stderr",
     "output_type": "stream",
     "text": [
      "100%|██████████████████████████████████████████████████████████████████████████████████████████████████████████████████████████████████████████████████████████████████████████████████████████████████████████████████████████████████████████████████| 7/7 [02:04<00:00, 17.82s/it]\n"
     ]
    }
   ],
   "source": [
    "for ch in tqdm.tqdm(range(7)): \n",
    "    print(' channel:  ',ch,chnames[ch].decode()) \n",
    "    cc[:,0] = ch\n",
    "    r0 = aia_tresp_int(cc)\n",
    "    aiaEps = r0.reshape(corona.ne.shape)\n",
    "    epsInt = rgi((lons,lats,rs),aiaEps,method = 'linear',fill_value = 0,bounds_error = False)\n",
    "    eps_rays = epsInt(rays_sph[:,::-1])   ## reverse because the interpolation is lons,lats, rs \n",
    "    \n",
    "    ## zero out epsilon behind the Sun in observer's geometry \n",
    "    eps_rays = eps_rays.reshape(ray_npt,*yya.shape)\n",
    "    eps_rays[:(ray_npt//2),:,:]  = eps_rays[:(ray_npt//2),:,:] * (rrObs>1)[None,:,:]\n",
    "    eps_rays = eps_rays.reshape(ray_npt,nrays)\n",
    "    \n",
    "    epsI_int = np.trapz(eps_rays*ne_rays**2,dray,axis=0).reshape(*yya.shape) \n",
    "    \n",
    "    imgs[ch,:,:] = epsI_int"
   ]
  },
  {
   "cell_type": "code",
   "execution_count": 260,
   "id": "1aaad7b7-665e-45c3-b140-f53a33067473",
   "metadata": {},
   "outputs": [
    {
     "data": {
      "application/vnd.jupyter.widget-view+json": {
       "model_id": "23756b200f044a68844c231bd1b91203",
       "version_major": 2,
       "version_minor": 0
      },
      "text/plain": [
       "Canvas(toolbar=Toolbar(toolitems=[('Home', 'Reset original view', 'home', 'home'), ('Back', 'Back to previous …"
      ]
     },
     "metadata": {},
     "output_type": "display_data"
    }
   ],
   "source": [
    "fig,ax = plt.subplots(2,3,figsize = (8,5),sharex=True,sharey=True)\n",
    "ax = ax.flatten()\n",
    "\n",
    "im0 = ax[0].imshow((imgs[0,:,:]),cmap= plt.get_cmap('sdoaia94'),norm = LogNorm())\n",
    "im0.set_clim(0.0001,np.percentile(imgs[0,:,:],95))\n",
    "im1 = ax[1].imshow((imgs[1,:,:]),cmap= plt.get_cmap('sdoaia131'),norm = LogNorm())\n",
    "im1.set_clim(0.0001,np.percentile(imgs[1,:,:],95))\n",
    "im2 = ax[2].imshow((imgs[2,:,:]),cmap= plt.get_cmap('sdoaia171'),norm = LogNorm())\n",
    "im2.set_clim(0.0001,np.percentile(imgs[2,:,:],95))\n",
    "im3 = ax[3].imshow((imgs[3,:,:]),cmap= plt.get_cmap('sdoaia193'),norm = LogNorm())\n",
    "im3.set_clim(0.0001,np.percentile(imgs[3,:,:],95))\n",
    "im4 = ax[4].imshow((imgs[4,:,:]),cmap= plt.get_cmap('sdoaia211'),norm = LogNorm())\n",
    "im4.set_clim(0.0001,np.percentile(imgs[4,:,:],95))\n",
    "## skip 304 \n",
    "## \n",
    "im5 = ax[5].imshow((imgs[6,:,:]),cmap= plt.get_cmap('sdoaia335'),norm = LogNorm())    \n",
    "im5.set_clim(0.0001,np.percentile(imgs[6,:,:],95))\n",
    "\n",
    "fig.tight_layout(pad=0.01)"
   ]
  },
  {
   "cell_type": "code",
   "execution_count": 1,
   "id": "30882850-19de-4143-b494-b56c5c2718c4",
   "metadata": {},
   "outputs": [
    {
     "ename": "NameError",
     "evalue": "name 'plt' is not defined",
     "output_type": "error",
     "traceback": [
      "\u001b[0;31m---------------------------------------------------------------------------\u001b[0m",
      "\u001b[0;31mNameError\u001b[0m                                 Traceback (most recent call last)",
      "\u001b[0;32m/tmp/ipykernel_1094645/1398225242.py\u001b[0m in \u001b[0;36m<module>\u001b[0;34m\u001b[0m\n\u001b[0;32m----> 1\u001b[0;31m \u001b[0mplt\u001b[0m\u001b[0;34m.\u001b[0m\u001b[0mfigure\u001b[0m\u001b[0;34m(\u001b[0m\u001b[0;34m)\u001b[0m\u001b[0;34m\u001b[0m\u001b[0;34m\u001b[0m\u001b[0m\n\u001b[0m\u001b[1;32m      2\u001b[0m \u001b[0max\u001b[0m \u001b[0;34m=\u001b[0m \u001b[0mplt\u001b[0m\u001b[0;34m.\u001b[0m\u001b[0mgca\u001b[0m\u001b[0;34m(\u001b[0m\u001b[0;34m)\u001b[0m\u001b[0;34m\u001b[0m\u001b[0;34m\u001b[0m\u001b[0m\n\u001b[1;32m      3\u001b[0m \u001b[0;32mfor\u001b[0m \u001b[0mn\u001b[0m \u001b[0;32min\u001b[0m \u001b[0mrange\u001b[0m\u001b[0;34m(\u001b[0m\u001b[0;36m7\u001b[0m\u001b[0;34m)\u001b[0m\u001b[0;34m:\u001b[0m\u001b[0;34m\u001b[0m\u001b[0;34m\u001b[0m\u001b[0m\n\u001b[1;32m      4\u001b[0m     \u001b[0miint1\u001b[0m \u001b[0;34m=\u001b[0m \u001b[0mrgi\u001b[0m\u001b[0;34m(\u001b[0m\u001b[0;34m(\u001b[0m\u001b[0mzza\u001b[0m\u001b[0;34m[\u001b[0m\u001b[0;34m:\u001b[0m\u001b[0;34m,\u001b[0m\u001b[0;36m0\u001b[0m\u001b[0;34m]\u001b[0m\u001b[0;34m,\u001b[0m\u001b[0myya\u001b[0m\u001b[0;34m[\u001b[0m\u001b[0;36m0\u001b[0m\u001b[0;34m,\u001b[0m\u001b[0;34m:\u001b[0m\u001b[0;34m]\u001b[0m\u001b[0;34m)\u001b[0m\u001b[0;34m,\u001b[0m\u001b[0mimgs\u001b[0m\u001b[0;34m[\u001b[0m\u001b[0mn\u001b[0m\u001b[0;34m,\u001b[0m\u001b[0;34m:\u001b[0m\u001b[0;34m,\u001b[0m\u001b[0;34m:\u001b[0m\u001b[0;34m]\u001b[0m\u001b[0;34m,\u001b[0m\u001b[0mmethod\u001b[0m \u001b[0;34m=\u001b[0m \u001b[0;34m'linear'\u001b[0m\u001b[0;34m,\u001b[0m\u001b[0mfill_value\u001b[0m \u001b[0;34m=\u001b[0m \u001b[0;36m0.\u001b[0m\u001b[0;34m,\u001b[0m\u001b[0mbounds_error\u001b[0m \u001b[0;34m=\u001b[0m \u001b[0;32mFalse\u001b[0m\u001b[0;34m)\u001b[0m\u001b[0;34m\u001b[0m\u001b[0;34m\u001b[0m\u001b[0m\n\u001b[1;32m      5\u001b[0m     \u001b[0max\u001b[0m\u001b[0;34m.\u001b[0m\u001b[0mplot\u001b[0m\u001b[0;34m(\u001b[0m\u001b[0mnp\u001b[0m\u001b[0;34m.\u001b[0m\u001b[0mlinspace\u001b[0m\u001b[0;34m(\u001b[0m\u001b[0;36m1.02\u001b[0m\u001b[0;34m,\u001b[0m\u001b[0;36m2.\u001b[0m\u001b[0;34m,\u001b[0m\u001b[0;36m200\u001b[0m\u001b[0;34m)\u001b[0m\u001b[0;34m,\u001b[0m\u001b[0miint1\u001b[0m\u001b[0;34m(\u001b[0m\u001b[0mzy\u001b[0m\u001b[0;34m)\u001b[0m\u001b[0;34m,\u001b[0m\u001b[0;34m'.-'\u001b[0m\u001b[0;34m,\u001b[0m\u001b[0mlabel\u001b[0m \u001b[0;34m=\u001b[0m \u001b[0mchnames\u001b[0m\u001b[0;34m[\u001b[0m\u001b[0mn\u001b[0m\u001b[0;34m]\u001b[0m\u001b[0;34m.\u001b[0m\u001b[0mdecode\u001b[0m\u001b[0;34m(\u001b[0m\u001b[0;34m)\u001b[0m\u001b[0;34m)\u001b[0m\u001b[0;34m\u001b[0m\u001b[0;34m\u001b[0m\u001b[0m\n",
      "\u001b[0;31mNameError\u001b[0m: name 'plt' is not defined"
     ]
    }
   ],
   "source": [
    "plt.figure()\n",
    "ax = plt.gca()\n",
    "for n in range(7): \n",
    "    iint1 = rgi((zza[:,0],yya[0,:]),imgs[n,:,:],method = 'linear',fill_value = 0.,bounds_error = False)\n",
    "    ax.plot(np.linspace(1.02,2.,200),iint1(zy),'.-',label = chnames[n].decode())\n",
    "ax.set_yscale('log')\n",
    "ax.legend()"
   ]
  },
  {
   "cell_type": "code",
   "execution_count": null,
   "id": "6b380a7a-c2e4-4165-aeaf-2a434b17ac5a",
   "metadata": {},
   "outputs": [],
   "source": []
  },
  {
   "cell_type": "code",
   "execution_count": null,
   "id": "28ab96e3-8ec9-40ef-a8de-04c761edc8d1",
   "metadata": {},
   "outputs": [],
   "source": []
  }
 ],
 "metadata": {
  "kernelspec": {
   "display_name": "Python 3 (ipykernel)",
   "language": "python",
   "name": "python3"
  },
  "language_info": {
   "codemirror_mode": {
    "name": "ipython",
    "version": 3
   },
   "file_extension": ".py",
   "mimetype": "text/x-python",
   "name": "python",
   "nbconvert_exporter": "python",
   "pygments_lexer": "ipython3",
   "version": "3.11.7"
  },
  "toc-autonumbering": true
 },
 "nbformat": 4,
 "nbformat_minor": 5
}
