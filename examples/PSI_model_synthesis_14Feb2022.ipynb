{
 "cells": [
  {
   "cell_type": "markdown",
   "id": "5f35d3b8-8ac1-4b25-a296-490f5a62d573",
   "metadata": {
    "tags": []
   },
   "source": [
    "# **PSI Model Synthesis Notebook for 14 Feb 2022**\n",
    "\n",
    "Tom Schad \n",
    "\n",
    "----\n",
    "\n",
    "- This notebook does an example synthesis of the global corona using a Predictive Sciences MHD model. \n",
    "- Most of the details for synthesis of any line at any time can be gleaned from this example; however, it is not currently build as its own class.  A module 'psi.py' is availabel in the examples directory to interact with the PSI models.  At some point, this may evolve into its own package. \n",
    "\n",
    "**A note on speed**\n",
    "- This example demonstrates the forward synthesis of the Fe XIII 1074.6 nm emission line, and it uses an atomic model consisting of 50 levels. Schad & Dima (2020) discuss the relative accuracy of using models of various size, as well as the fact that computational cost increases dramatically with the number of levels included.  \n",
    "- Some authors have built reduced size atomic models that attempt to emulate the behavior of a larger model atom.  While this can increase the speed of the computations, one should be careful that such models are accurate enough for your particular application.  The pyCELP ion class has been build in such a way that parallel processing is easily accomplished with the standard python tools.  \n",
    "- Alternatively one could build databases in the manner of Schad & Dima (2020) to accelerate calculations over multiple datasets. \n",
    "----"
   ]
  },
  {
   "cell_type": "code",
   "execution_count": 1,
   "id": "09fe2ec1-bf4a-419e-9c12-ac7d47b50afb",
   "metadata": {
    "tags": []
   },
   "outputs": [],
   "source": [
    "import pycelp \n",
    "import numpy as np\n",
    "import matplotlib.pyplot as plt\n",
    "%matplotlib widget\n",
    "import os\n",
    "os.environ[\"XUVTOP\"] = '/usr/local/ssw/packages/chianti/dbase/'\n",
    "import psi\n",
    "import sunpy.coordinates.sun as sun\n",
    "import sunpy.sun.constants as constants\n",
    "plt.rcParams[\"image.origin\"] = 'lower'   ## have to worry about flips? \n",
    "plt.rcParams[\"image.interpolation\"]='nearest'\n",
    "from scipy.interpolate import RegularGridInterpolator as rgi\n",
    "from scipy.interpolate import interp1d\n",
    "import multiprocessing\n",
    "import tqdm\n",
    "\n",
    "def euler_ry(alpha):\n",
    "    '''Euler rotation matrix about y axis '''\n",
    "    ry = np.array([[ np.cos(alpha), 0., np.sin(alpha)],\n",
    "                   [            0., 1., 0.],\n",
    "                   [-np.sin(alpha), 0., np.cos(alpha)]])\n",
    "    return ry\n",
    "\n",
    "def euler_rz(alpha):\n",
    "    '''Euler rotation matrix about z axis '''\n",
    "    rz = np.array([[ np.cos(alpha), -np.sin(alpha), 0.],\n",
    "                   [ np.sin(alpha),  np.cos(alpha), 0.],\n",
    "                   [            0.,             0., 1.]])\n",
    "    return rz"
   ]
  },
  {
   "cell_type": "markdown",
   "id": "50f8162b-c7f1-4107-92b1-8f9122256006",
   "metadata": {},
   "source": [
    "## **Create an instance of the psi.Model class to load and interact with PSI coronal model data**\n",
    "\n",
    "- Models used here were downloaded using this website from [Predictive Sciences](https://www.predsci.com/hmi/data_access.php)\n",
    "- We picked the date of the US total solar eclipse (21 Aug 2017) using the med-cor-thermo2 model for this demonstration. \n",
    "- I had selected 12 UTC for the download time.  I'm not sure at this time where timestep information in the PSI models made be located."
   ]
  },
  {
   "cell_type": "code",
   "execution_count": 2,
   "id": "fe6a7573-b5d0-4b08-a1d8-f92fde837afb",
   "metadata": {},
   "outputs": [],
   "source": [
    "## https://www.predsci.com/data/runs/cr2194-medium/hmi_mast_mas_std_0201/\n",
    "## carrington rotation 2194\n",
    "modelName = 'hmi__high-cor-thermo1-exp01__high-hel-poly-exp01'\n",
    "corona = psi.Model('/home/tschad/Dropbox/psiData_14Feb2022_thermo1_20UTC/corona/')"
   ]
  },
  {
   "cell_type": "code",
   "execution_count": 3,
   "id": "ebba5c4d-7042-4a7d-8715-1e98d111b86f",
   "metadata": {},
   "outputs": [
    {
     "data": {
      "text/plain": [
       "psi Model class\n",
       "    ---------------------\n",
       "    Data Directory Names: /home/tschad/Dropbox/psiData_14Feb2022_thermo1_20UTC/corona/\n",
       "    Number of longitude samples: 299\n",
       "    Number of latitude samples: 142\n",
       "    Number of radial samples: 254\n",
       "    Data shape: (299, 142, 254)\n",
       "    \n",
       "    Variables: \n",
       "    lons -- Longitudes [rad]\n",
       "    lats -- Latitudes [rad]\n",
       "    rs   -- Radial samples [solar radii units]\n",
       "    temp -- temperature [K]\n",
       "    ne -- electron density [cm^-3]\n",
       "    bx,by,bz  -- Cartesian components of magnetic field [G]\n",
       "    vx,vy,vz  -- Cartesian components of velocity field [km/s]\n",
       "    bmag      -- total magnetic field intensity [B]\n",
       "    thetaBlocal -- location inclination of magnetic field in solar frame [rad]\n",
       "    "
      ]
     },
     "execution_count": 3,
     "metadata": {},
     "output_type": "execute_result"
    }
   ],
   "source": [
    "## return the instance name for some basic information on the class\n",
    "corona"
   ]
  },
  {
   "cell_type": "code",
   "execution_count": 4,
   "id": "02a4c77f-66ed-41a8-9a62-e9d0c6ba1404",
   "metadata": {},
   "outputs": [
    {
     "data": {
      "application/vnd.jupyter.widget-view+json": {
       "model_id": "7e08cb7e353146ddb8838017b21a3228",
       "version_major": 2,
       "version_minor": 0
      },
      "text/plain": [
       "Canvas(toolbar=Toolbar(toolitems=[('Home', 'Reset original view', 'home', 'home'), ('Back', 'Back to previous …"
      ]
     },
     "metadata": {},
     "output_type": "display_data"
    }
   ],
   "source": [
    "kk = 5\n",
    "\n",
    "fig,ax = plt.subplots(2,2,figsize = (8,5))\n",
    "ax = ax.flatten()\n",
    "im0 = ax[0].imshow(corona.bmag[:,:,kk].T*np.cos(corona.thetaBlocal[:,:,kk]).T,extent = (corona.lons.min(),corona.lons.max(),corona.lats.min(),corona.lats.max()))\n",
    "ax[1].imshow(corona.thetaBlocal[:,:,kk].T,extent = (corona.lons.min(),corona.lons.max(),corona.lats.min(),corona.lats.max()))\n",
    "ax[2].imshow(corona.temp[:,:,kk].T,extent = (corona.lons.min(),corona.lons.max(),corona.lats.min(),corona.lats.max()))\n",
    "ax[3].imshow(corona.ne[:,:,kk].T,extent = (corona.lons.min(),corona.lons.max(),corona.lats.min(),corona.lats.max()))\n",
    "labels = 'Magnetogram','Local B Inclination','Temperature','Electron Density'\n",
    "for n in range(4): ax[n].set_title(labels[n])\n",
    "\n",
    "im0.set_clim(-25,25)\n",
    "\n",
    "cbars = []\n",
    "for axi in ax:\n",
    " cax = axi.inset_axes([1.04, 0.05, 0.05, 0.95], transform=axi.transAxes)\n",
    " cbar1 = fig.colorbar(axi.get_images()[0],ax=axi,cax=cax)\n",
    " cbars.append(cbar1)\n",
    " axi.set_ylim(np.pi,0)\n",
    "\n",
    "fig.suptitle(modelName + '\\nRadial Coordinate: ' + str(corona.rs[kk]))\n",
    "\n",
    "fig.tight_layout()"
   ]
  },
  {
   "cell_type": "markdown",
   "id": "b9575fb7-3443-42e5-9729-ac1e8b7cf38a",
   "metadata": {},
   "source": [
    "This is the GONG 2194_000 synoptic map \n",
    "\n",
    "<img src=\"https://gong.nso.edu/data/magmap/QR/mqj/202202/mrmqj220221/mrmqj220221t2004c2254_000.jpg\" />"
   ]
  },
  {
   "cell_type": "markdown",
   "id": "b64f23df-e17a-4f81-9c7b-4fded458a2af",
   "metadata": {},
   "source": [
    "## **Initialize the pyCELP model of the line or lines to be synthesized**\n",
    "\n",
    "- Here we start with Fe XIII 1074 nm and keep the model fairly \"small\" at 50 levels.  The errors incurred by using reduced numbers of atomic levels is addressed in [Schad & Dima (2020)](https://rdcu.be/b5J2X) \n"
   ]
  },
  {
   "cell_type": "code",
   "execution_count": 5,
   "id": "f0708509-e44c-4ef7-8134-6038e1e296fa",
   "metadata": {},
   "outputs": [
    {
     "name": "stdout",
     "output_type": "stream",
     "text": [
      " reading:  /usr/local/ssw/packages/chianti/dbase/fe/fe_13/fe_13.elvlc\n",
      " reading:  /usr/local/ssw/packages/chianti/dbase/fe/fe_13/fe_13.wgfa\n",
      " reading:  /usr/local/ssw/packages/chianti/dbase/fe/fe_13/fe_13.scups\n",
      " reading:  /usr/local/ssw/packages/chianti/dbase/fe/fe_13/fe_13.psplups\n",
      " using default abundances: /usr/local/ssw/packages/chianti/dbase/abundance/sun_photospheric_2009_asplund.abund\n",
      " reading:  /usr/local/ssw/packages/chianti/dbase/abundance/sun_photospheric_2009_asplund.abund\n",
      " testing default file: /usr/local/ssw/packages/chianti/dbase/ioneq/chianti.ioneq\n",
      " reading:  /usr/local/ssw/packages/chianti/dbase/ioneq/chianti.ioneq\n",
      " setting up electron collision rate factors\n",
      " setting up proton  collision rate factors\n",
      " setting up non-dipole radiative rate factors\n",
      " getting non-dipole rate factors\n",
      " setting up dipole radiative rate factors\n"
     ]
    }
   ],
   "source": [
    "fe13 = pycelp.Ion('fe_13',nlevels = 50)\n",
    "ln1 = fe13.get_emissionLine(10747.)\n",
    "ln2 = fe13.get_emissionLine(10798.)"
   ]
  },
  {
   "cell_type": "markdown",
   "id": "3768933f-0b60-410a-ab93-31ea98b410c5",
   "metadata": {},
   "source": [
    "## **Calculate the statistical equilibrium for every cell**\n",
    "\n",
    "- Here the statistical equilibrium is calculated for the Ion for each cell in the PSI model and the results of the upper level populations, alignments, and total ion population are stored in arrays. \n",
    "- The advantage of doing it this way is that that statistical equilibrium does not change with viewing angle, and so if you want to synthesis the polarized intensities at a different viewing angle, you do not have to recalculate the statistical equilibrium. "
   ]
  },
  {
   "cell_type": "code",
   "execution_count": 6,
   "id": "52c0c7d7-5ca9-49a7-806f-aba9ebe9498b",
   "metadata": {},
   "outputs": [],
   "source": [
    "nlons,nlats,nr = corona.bx.shape"
   ]
  },
  {
   "cell_type": "code",
   "execution_count": 7,
   "id": "0def9448-6c54-4bbb-9be1-48128525c705",
   "metadata": {
    "scrolled": true,
    "tags": []
   },
   "outputs": [
    {
     "name": "stderr",
     "output_type": "stream",
     "text": [
      " 14%|█████████████▋                                                                                 | 1554406/10784332 [03:40<21:00, 7324.55it/s]Process ForkPoolWorker-10:\n",
      "Process ForkPoolWorker-3:\n",
      " 14%|█████████████▋                                                                                 | 1555013/10784332 [03:40<21:47, 7060.53it/s]Process ForkPoolWorker-2:\n",
      "Process ForkPoolWorker-9:\n",
      "Process ForkPoolWorker-11:\n",
      "Process ForkPoolWorker-6:\n",
      "Process ForkPoolWorker-5:\n",
      "Traceback (most recent call last):\n",
      "Traceback (most recent call last):\n",
      "Traceback (most recent call last):\n",
      "Traceback (most recent call last):\n",
      "  File \"/home/tschad/miniconda3/envs/juplab/lib/python3.9/multiprocessing/process.py\", line 315, in _bootstrap\n",
      "    self.run()\n",
      "  File \"/home/tschad/miniconda3/envs/juplab/lib/python3.9/multiprocessing/process.py\", line 315, in _bootstrap\n",
      "    self.run()\n",
      "  File \"/home/tschad/miniconda3/envs/juplab/lib/python3.9/multiprocessing/process.py\", line 315, in _bootstrap\n",
      "    self.run()\n",
      "  File \"/home/tschad/miniconda3/envs/juplab/lib/python3.9/multiprocessing/process.py\", line 315, in _bootstrap\n",
      "    self.run()\n",
      "  File \"/home/tschad/miniconda3/envs/juplab/lib/python3.9/multiprocessing/process.py\", line 108, in run\n",
      "    self._target(*self._args, **self._kwargs)\n",
      "Traceback (most recent call last):\n",
      "  File \"/home/tschad/miniconda3/envs/juplab/lib/python3.9/multiprocessing/process.py\", line 108, in run\n",
      "    self._target(*self._args, **self._kwargs)\n",
      "  File \"/home/tschad/miniconda3/envs/juplab/lib/python3.9/multiprocessing/pool.py\", line 125, in worker\n",
      "    result = (True, func(*args, **kwds))\n",
      "  File \"/home/tschad/miniconda3/envs/juplab/lib/python3.9/multiprocessing/process.py\", line 108, in run\n",
      "    self._target(*self._args, **self._kwargs)\n",
      "  File \"/home/tschad/miniconda3/envs/juplab/lib/python3.9/multiprocessing/process.py\", line 108, in run\n",
      "    self._target(*self._args, **self._kwargs)\n",
      "Traceback (most recent call last):\n",
      "  File \"/home/tschad/miniconda3/envs/juplab/lib/python3.9/multiprocessing/process.py\", line 315, in _bootstrap\n",
      "    self.run()\n",
      "Traceback (most recent call last):\n",
      "  File \"/tmp/ipykernel_812046/503140993.py\", line 12, in work\n",
      "    ln1 = fe13.get_emissionLine(10747.)\n",
      "  File \"/home/tschad/miniconda3/envs/juplab/lib/python3.9/multiprocessing/pool.py\", line 125, in worker\n",
      "    result = (True, func(*args, **kwds))\n",
      "  File \"/home/tschad/miniconda3/envs/juplab/lib/python3.9/multiprocessing/process.py\", line 108, in run\n",
      "    self._target(*self._args, **self._kwargs)\n",
      "  File \"/home/tschad/miniconda3/envs/juplab/lib/python3.9/multiprocessing/pool.py\", line 125, in worker\n",
      "    result = (True, func(*args, **kwds))\n",
      "  File \"/home/tschad/miniconda3/envs/juplab/lib/python3.9/multiprocessing/pool.py\", line 125, in worker\n",
      "    result = (True, func(*args, **kwds))\n",
      "  File \"/home/tschad/miniconda3/envs/juplab/lib/python3.9/multiprocessing/process.py\", line 315, in _bootstrap\n",
      "    self.run()\n",
      "  File \"/home/tschad/miniconda3/envs/juplab/lib/python3.9/multiprocessing/process.py\", line 315, in _bootstrap\n",
      "    self.run()\n",
      "  File \"/home/tschad/Desktop/pycelp/pycelp/ion.py\", line 491, in get_emissionLine\n",
      "    line = emissionLine(self,wv_air)\n",
      "  File \"/tmp/ipykernel_812046/503140993.py\", line 10, in work\n",
      "    fe13.calc_rho_sym(edens,etemp,ht, thetab)\n",
      "  File \"/tmp/ipykernel_812046/503140993.py\", line 10, in work\n",
      "    fe13.calc_rho_sym(edens,etemp,ht, thetab)\n",
      "  File \"/home/tschad/miniconda3/envs/juplab/lib/python3.9/multiprocessing/process.py\", line 108, in run\n",
      "    self._target(*self._args, **self._kwargs)\n",
      "  File \"/home/tschad/Desktop/pycelp/pycelp/emissionLine.py\", line 20, in __init__\n",
      "    self.atomic_weight = Ion.atomicWeight\n",
      "  File \"/home/tschad/miniconda3/envs/juplab/lib/python3.9/multiprocessing/process.py\", line 108, in run\n",
      "    self._target(*self._args, **self._kwargs)\n",
      "  File \"/tmp/ipykernel_812046/503140993.py\", line 10, in work\n",
      "    fe13.calc_rho_sym(edens,etemp,ht, thetab)\n",
      "  File \"/home/tschad/Desktop/pycelp/pycelp/ion.py\", line 283, in calc_rho_sym\n",
      "    rho     = util.seeSolve(self.see_matrix,self.weight,self.see_lev,self.see_k)\n",
      "  File \"/home/tschad/Desktop/pycelp/pycelp/ion.py\", line 283, in calc_rho_sym\n",
      "    rho     = util.seeSolve(self.see_matrix,self.weight,self.see_lev,self.see_k)\n",
      "  File \"/home/tschad/miniconda3/envs/juplab/lib/python3.9/multiprocessing/pool.py\", line 125, in worker\n",
      "    result = (True, func(*args, **kwds))\n",
      "KeyboardInterrupt\n",
      "  File \"/home/tschad/miniconda3/envs/juplab/lib/python3.9/site-packages/numba/core/serialize.py\", line 29, in _numba_unpickle\n",
      "    def _numba_unpickle(address, bytedata, hashed):\n",
      "  File \"/home/tschad/miniconda3/envs/juplab/lib/python3.9/multiprocessing/pool.py\", line 131, in worker\n",
      "    put((job, i, result))\n",
      "  File \"/home/tschad/Desktop/pycelp/pycelp/ion.py\", line 283, in calc_rho_sym\n",
      "    rho     = util.seeSolve(self.see_matrix,self.weight,self.see_lev,self.see_k)\n",
      "  File \"/home/tschad/miniconda3/envs/juplab/lib/python3.9/multiprocessing/queues.py\", line 377, in put\n",
      "    with self._wlock:\n",
      "  File \"/tmp/ipykernel_812046/503140993.py\", line 10, in work\n",
      "    fe13.calc_rho_sym(edens,etemp,ht, thetab)\n",
      "KeyboardInterrupt\n",
      "  File \"/home/tschad/miniconda3/envs/juplab/lib/python3.9/site-packages/numba/core/serialize.py\", line 29, in _numba_unpickle\n",
      "    def _numba_unpickle(address, bytedata, hashed):\n",
      "  File \"/home/tschad/miniconda3/envs/juplab/lib/python3.9/multiprocessing/synchronize.py\", line 95, in __enter__\n",
      "    return self._semlock.__enter__()\n",
      "  File \"/home/tschad/Desktop/pycelp/pycelp/ion.py\", line 276, in calc_rho_sym\n",
      "    nonDmat = getNonDipoleSEE(self.tnD,self.tnD_indx,self.radj,np.copy(self.nonD_spon))\n",
      "KeyboardInterrupt\n",
      "  File \"/home/tschad/miniconda3/envs/juplab/lib/python3.9/site-packages/numba/core/serialize.py\", line 29, in _numba_unpickle\n",
      "    def _numba_unpickle(address, bytedata, hashed):\n",
      "  File \"<__array_function__ internals>\", line 5, in copy\n",
      "  File \"/home/tschad/miniconda3/envs/juplab/lib/python3.9/multiprocessing/pool.py\", line 125, in worker\n",
      "    result = (True, func(*args, **kwds))\n",
      "  File \"/tmp/ipykernel_812046/503140993.py\", line 12, in work\n",
      "    ln1 = fe13.get_emissionLine(10747.)\n",
      "KeyboardInterrupt\n",
      "  File \"/home/tschad/Desktop/pycelp/pycelp/ion.py\", line 491, in get_emissionLine\n",
      "    line = emissionLine(self,wv_air)\n",
      "  File \"/home/tschad/Desktop/pycelp/pycelp/emissionLine.py\", line 11, in __init__\n",
      "    ww = np.argmin(np.abs(Ion.wv_air - wv_air))\n",
      "  File \"/home/tschad/miniconda3/envs/juplab/lib/python3.9/site-packages/numpy/lib/function_base.py\", line 793, in copy\n",
      "    return array(a, order=order, subok=subok, copy=True)\n",
      "  File \"<__array_function__ internals>\", line 5, in argmin\n",
      "KeyboardInterrupt\n",
      "KeyboardInterrupt\n",
      "KeyboardInterrupt\n",
      "\n"
     ]
    },
    {
     "ename": "KeyboardInterrupt",
     "evalue": "",
     "output_type": "error",
     "traceback": [
      "\u001b[0;31m---------------------------------------------------------------------------\u001b[0m",
      "\u001b[0;31mIndexError\u001b[0m                                Traceback (most recent call last)",
      "\u001b[0;32m~/miniconda3/envs/juplab/lib/python3.9/multiprocessing/pool.py\u001b[0m in \u001b[0;36mnext\u001b[0;34m(self, timeout)\u001b[0m\n\u001b[1;32m    852\u001b[0m             \u001b[0;32mtry\u001b[0m\u001b[0;34m:\u001b[0m\u001b[0;34m\u001b[0m\u001b[0;34m\u001b[0m\u001b[0m\n\u001b[0;32m--> 853\u001b[0;31m                 \u001b[0mitem\u001b[0m \u001b[0;34m=\u001b[0m \u001b[0mself\u001b[0m\u001b[0;34m.\u001b[0m\u001b[0m_items\u001b[0m\u001b[0;34m.\u001b[0m\u001b[0mpopleft\u001b[0m\u001b[0;34m(\u001b[0m\u001b[0;34m)\u001b[0m\u001b[0;34m\u001b[0m\u001b[0;34m\u001b[0m\u001b[0m\n\u001b[0m\u001b[1;32m    854\u001b[0m             \u001b[0;32mexcept\u001b[0m \u001b[0mIndexError\u001b[0m\u001b[0;34m:\u001b[0m\u001b[0;34m\u001b[0m\u001b[0;34m\u001b[0m\u001b[0m\n",
      "\u001b[0;31mIndexError\u001b[0m: pop from an empty deque",
      "\nDuring handling of the above exception, another exception occurred:\n",
      "\u001b[0;31mKeyboardInterrupt\u001b[0m                         Traceback (most recent call last)",
      "\u001b[0;32m/tmp/ipykernel_812046/503140993.py\u001b[0m in \u001b[0;36m<module>\u001b[0;34m\u001b[0m\n\u001b[1;32m     39\u001b[0m     \u001b[0mp\u001b[0m\u001b[0;34m.\u001b[0m\u001b[0mclose\u001b[0m\u001b[0;34m(\u001b[0m\u001b[0;34m)\u001b[0m\u001b[0;34m\u001b[0m\u001b[0;34m\u001b[0m\u001b[0m\n\u001b[1;32m     40\u001b[0m \u001b[0;34m\u001b[0m\u001b[0m\n\u001b[0;32m---> 41\u001b[0;31m     \u001b[0;32mfor\u001b[0m \u001b[0mres\u001b[0m \u001b[0;32min\u001b[0m \u001b[0mtqdm\u001b[0m\u001b[0;34m.\u001b[0m\u001b[0mtqdm\u001b[0m\u001b[0;34m(\u001b[0m\u001b[0mrs\u001b[0m\u001b[0;34m,\u001b[0m\u001b[0mtotal\u001b[0m \u001b[0;34m=\u001b[0m \u001b[0mlen\u001b[0m\u001b[0;34m(\u001b[0m\u001b[0marg_array\u001b[0m\u001b[0;34m)\u001b[0m\u001b[0;34m)\u001b[0m\u001b[0;34m:\u001b[0m\u001b[0;34m\u001b[0m\u001b[0;34m\u001b[0m\u001b[0m\n\u001b[0m\u001b[1;32m     42\u001b[0m         \u001b[0mii\u001b[0m\u001b[0;34m,\u001b[0m\u001b[0mjj\u001b[0m\u001b[0;34m,\u001b[0m\u001b[0mkk\u001b[0m\u001b[0;34m,\u001b[0m\u001b[0mr1\u001b[0m\u001b[0;34m,\u001b[0m\u001b[0ma1\u001b[0m\u001b[0;34m,\u001b[0m\u001b[0mr2\u001b[0m\u001b[0;34m,\u001b[0m\u001b[0ma2\u001b[0m \u001b[0;34m=\u001b[0m \u001b[0mres\u001b[0m\u001b[0;34m\u001b[0m\u001b[0;34m\u001b[0m\u001b[0m\n\u001b[1;32m     43\u001b[0m         \u001b[0mccoef_10747\u001b[0m\u001b[0;34m[\u001b[0m\u001b[0mii\u001b[0m\u001b[0;34m,\u001b[0m\u001b[0mjj\u001b[0m\u001b[0;34m,\u001b[0m\u001b[0mkk\u001b[0m\u001b[0;34m]\u001b[0m \u001b[0;34m=\u001b[0m \u001b[0mr1\u001b[0m\u001b[0;34m\u001b[0m\u001b[0;34m\u001b[0m\u001b[0m\n",
      "\u001b[0;32m~/miniconda3/envs/juplab/lib/python3.9/site-packages/tqdm/std.py\u001b[0m in \u001b[0;36m__iter__\u001b[0;34m(self)\u001b[0m\n\u001b[1;32m   1193\u001b[0m \u001b[0;34m\u001b[0m\u001b[0m\n\u001b[1;32m   1194\u001b[0m         \u001b[0;32mtry\u001b[0m\u001b[0;34m:\u001b[0m\u001b[0;34m\u001b[0m\u001b[0;34m\u001b[0m\u001b[0m\n\u001b[0;32m-> 1195\u001b[0;31m             \u001b[0;32mfor\u001b[0m \u001b[0mobj\u001b[0m \u001b[0;32min\u001b[0m \u001b[0miterable\u001b[0m\u001b[0;34m:\u001b[0m\u001b[0;34m\u001b[0m\u001b[0;34m\u001b[0m\u001b[0m\n\u001b[0m\u001b[1;32m   1196\u001b[0m                 \u001b[0;32myield\u001b[0m \u001b[0mobj\u001b[0m\u001b[0;34m\u001b[0m\u001b[0;34m\u001b[0m\u001b[0m\n\u001b[1;32m   1197\u001b[0m                 \u001b[0;31m# Update and possibly print the progressbar.\u001b[0m\u001b[0;34m\u001b[0m\u001b[0;34m\u001b[0m\u001b[0m\n",
      "\u001b[0;32m~/miniconda3/envs/juplab/lib/python3.9/multiprocessing/pool.py\u001b[0m in \u001b[0;36mnext\u001b[0;34m(self, timeout)\u001b[0m\n\u001b[1;32m    856\u001b[0m                     \u001b[0mself\u001b[0m\u001b[0;34m.\u001b[0m\u001b[0m_pool\u001b[0m \u001b[0;34m=\u001b[0m \u001b[0;32mNone\u001b[0m\u001b[0;34m\u001b[0m\u001b[0;34m\u001b[0m\u001b[0m\n\u001b[1;32m    857\u001b[0m                     \u001b[0;32mraise\u001b[0m \u001b[0mStopIteration\u001b[0m \u001b[0;32mfrom\u001b[0m \u001b[0;32mNone\u001b[0m\u001b[0;34m\u001b[0m\u001b[0;34m\u001b[0m\u001b[0m\n\u001b[0;32m--> 858\u001b[0;31m                 \u001b[0mself\u001b[0m\u001b[0;34m.\u001b[0m\u001b[0m_cond\u001b[0m\u001b[0;34m.\u001b[0m\u001b[0mwait\u001b[0m\u001b[0;34m(\u001b[0m\u001b[0mtimeout\u001b[0m\u001b[0;34m)\u001b[0m\u001b[0;34m\u001b[0m\u001b[0;34m\u001b[0m\u001b[0m\n\u001b[0m\u001b[1;32m    859\u001b[0m                 \u001b[0;32mtry\u001b[0m\u001b[0;34m:\u001b[0m\u001b[0;34m\u001b[0m\u001b[0;34m\u001b[0m\u001b[0m\n\u001b[1;32m    860\u001b[0m                     \u001b[0mitem\u001b[0m \u001b[0;34m=\u001b[0m \u001b[0mself\u001b[0m\u001b[0;34m.\u001b[0m\u001b[0m_items\u001b[0m\u001b[0;34m.\u001b[0m\u001b[0mpopleft\u001b[0m\u001b[0;34m(\u001b[0m\u001b[0;34m)\u001b[0m\u001b[0;34m\u001b[0m\u001b[0;34m\u001b[0m\u001b[0m\n",
      "\u001b[0;32m~/miniconda3/envs/juplab/lib/python3.9/threading.py\u001b[0m in \u001b[0;36mwait\u001b[0;34m(self, timeout)\u001b[0m\n\u001b[1;32m    310\u001b[0m         \u001b[0;32mtry\u001b[0m\u001b[0;34m:\u001b[0m    \u001b[0;31m# restore state no matter what (e.g., KeyboardInterrupt)\u001b[0m\u001b[0;34m\u001b[0m\u001b[0;34m\u001b[0m\u001b[0m\n\u001b[1;32m    311\u001b[0m             \u001b[0;32mif\u001b[0m \u001b[0mtimeout\u001b[0m \u001b[0;32mis\u001b[0m \u001b[0;32mNone\u001b[0m\u001b[0;34m:\u001b[0m\u001b[0;34m\u001b[0m\u001b[0;34m\u001b[0m\u001b[0m\n\u001b[0;32m--> 312\u001b[0;31m                 \u001b[0mwaiter\u001b[0m\u001b[0;34m.\u001b[0m\u001b[0macquire\u001b[0m\u001b[0;34m(\u001b[0m\u001b[0;34m)\u001b[0m\u001b[0;34m\u001b[0m\u001b[0;34m\u001b[0m\u001b[0m\n\u001b[0m\u001b[1;32m    313\u001b[0m                 \u001b[0mgotit\u001b[0m \u001b[0;34m=\u001b[0m \u001b[0;32mTrue\u001b[0m\u001b[0;34m\u001b[0m\u001b[0;34m\u001b[0m\u001b[0m\n\u001b[1;32m    314\u001b[0m             \u001b[0;32melse\u001b[0m\u001b[0;34m:\u001b[0m\u001b[0;34m\u001b[0m\u001b[0;34m\u001b[0m\u001b[0m\n",
      "\u001b[0;31mKeyboardInterrupt\u001b[0m: "
     ]
    }
   ],
   "source": [
    "def work(argin): \n",
    "    \n",
    "    ii,jj,kk = argin \n",
    "    \n",
    "    edens = corona.ne[ii,jj,kk]\n",
    "    etemp = corona.temp[ii,jj,kk]\n",
    "    ht = (corona.rs[kk]-1).clip(1.e-8)\n",
    "    thetab = np.rad2deg(corona.thetaBlocal[ii,jj,kk])\n",
    "    \n",
    "    fe13.calc_rho_sym(edens,etemp,ht, thetab)\n",
    "    \n",
    "    ln1 = fe13.get_emissionLine(10747.)\n",
    "    ln2 = fe13.get_emissionLine(10798.)\n",
    "    \n",
    "    return (ii,jj,kk,ln1.C_coeff,ln1.upper_level_alignment, \n",
    "                ln2.C_coeff,ln2.upper_level_alignment)\n",
    "\n",
    "## setup save file for repeat runs of this notebook and to not repeat the \n",
    "## statistical equilbrium calculation \n",
    "\n",
    "savefn = '/home/tschad/Dropbox/psiData_14Feb2022_thermo1_20UTC/fe13_1074_1079_pops.npz'\n",
    "\n",
    "if not os.path.isfile(savefn):\n",
    "\n",
    "    ncpus = multiprocessing.cpu_count()\n",
    "    arg_array = []\n",
    "    for ii in range(0,nlons,1): \n",
    "        for jj in range(0,nlats,1): \n",
    "            for kk in range(0,nr,1): \n",
    "                arg_array.append([ii,jj,kk])\n",
    "\n",
    "    ccoef_10747 = np.zeros_like(corona.bx)\n",
    "    align_10747 = np.zeros_like(corona.bx)\n",
    "    ccoef_10798 = np.zeros_like(corona.bx)\n",
    "    align_10798 = np.zeros_like(corona.bx)\n",
    "\n",
    "    p     = multiprocessing.Pool(processes=ncpus) \n",
    "    rs    = p.imap(work,arg_array)\n",
    "    p.close()\n",
    "\n",
    "    for res in tqdm.tqdm(rs,total = len(arg_array)): \n",
    "        ii,jj,kk,r1,a1,r2,a2 = res \n",
    "        ccoef_10747[ii,jj,kk] = r1\n",
    "        align_10747[ii,jj,kk] = a1\n",
    "        ccoef_10798[ii,jj,kk] = r2\n",
    "        align_10798[ii,jj,kk] = a2\n",
    "\n",
    "    np.savez(savefn,ccoef_10747=ccoef_10747,align_10747=align_10747,ccoef_10798=ccoef_10798,align_10798=align_10798)\n",
    "    \n",
    "else: \n",
    "    \n",
    "    ## if variables not defined load \n",
    "    if \"ccoef_10747\" not in globals():\n",
    "        print('loading: ',savefn)\n",
    "        npzd = np.load(savefn)\n",
    "        ccoef_10747 = npzd['ccoef_10747']\n",
    "        align_10747 = npzd['align_10747']\n",
    "        ccoef_10798 = npzd['ccoef_10798']\n",
    "        align_10798 = npzd['align_10798']"
   ]
  },
  {
   "cell_type": "markdown",
   "id": "32990739-6e22-412f-9314-6288e4694655",
   "metadata": {
    "tags": []
   },
   "source": [
    "## **Setup forward synthesis geometry**\n",
    "\n",
    "- This is set up to synthesize a FOV from an arbitrary observer's position, def"
   ]
  },
  {
   "cell_type": "markdown",
   "id": "faaa2c22-e4d5-43b0-ab02-6128c1ac2bc0",
   "metadata": {},
   "source": [
    "### Observer's Position"
   ]
  },
  {
   "cell_type": "code",
   "execution_count": null,
   "id": "f399bd65-43d9-46f7-86c5-441f19a90fa4",
   "metadata": {},
   "outputs": [],
   "source": [
    "## not yet sure what to use here?  How to get fractional carrington rotation of the PSI data?\n",
    "crn        = sun.carrington_rotation_number('2022-02-14 20:00:00.000')\n",
    "crt        = sun.carrington_rotation_time(crn)\n",
    "obsLon     = sun.L0(crt).rad\n",
    "obsLat     = sun.B0(crt).rad\n",
    "Obs_Sun_AU = sun.earth_distance(crt).value\n",
    "rsunarc    = sun.angular_radius(crt).value  ## radius of sun in arcseconds .. later replace with sun ephemeris\n",
    "\n",
    "print('Carrington Rotation Number:       ',crn)\n",
    "print('Carrington Rotation Time:       ',crt)\n",
    "print('Observers Longitude [deg]:      ',np.rad2deg(obsLon))\n",
    "print('Observers Latitude [deg]:       ',np.rad2deg(obsLat))\n",
    "print('Observers distance to Sun [AU]: ',Obs_Sun_AU)\n",
    "print('Apparent solar radius [arcsec]: ',rsunarc)"
   ]
  },
  {
   "cell_type": "code",
   "execution_count": null,
   "id": "e7315081-e645-4ff7-869e-654496635928",
   "metadata": {},
   "outputs": [],
   "source": [
    "rObs     = Obs_Sun_AU * (1.495978707e11/6.96340e8)     ## rObs is the radial position of the observer in solar radii\n",
    "thetaObs = np.pi/2. - obsLat   ## Observers latitude in the PSI model geometry (0 is the NorthPole)\n",
    "phiObs   = obsLon ## Observers Lon in PSI model geometry  \n",
    "## cartesian position of Observer in PSI model geometery (units of solar radii)\n",
    "xObs,yObs,zObs = rObs*np.sin(thetaObs)*np.cos(phiObs),rObs*np.sin(thetaObs)*np.sin(phiObs),rObs*np.cos(thetaObs)\n",
    "print(xObs,yObs,zObs)"
   ]
  },
  {
   "cell_type": "markdown",
   "id": "2190ffb3-3352-4b12-8dad-bafd4b8e5e2d",
   "metadata": {},
   "source": [
    "### Synthesized Field-of-View Size and Sampling\n",
    "\n",
    "- The synthesis geometry will have the x axis pointed toward the observer.  Z is aligned with polar axis. "
   ]
  },
  {
   "cell_type": "code",
   "execution_count": null,
   "id": "9a5b6ced-c746-4cfa-9f42-fe72e84542cb",
   "metadata": {},
   "outputs": [],
   "source": [
    "#yfov_range = (-2.*rsunarc,0) # (-3.*rsunarc,+3*rsunarc)\n",
    "#zfov_range = (-0.25*rsunarc,2.*rsunarc) # (-3.*rsunarc,+3*rsunarc)\n",
    "#arcsamp    = 10.  ## sampling in arcsecond\n",
    "\n",
    "yfov_range = (-3.*rsunarc,+3*rsunarc)\n",
    "zfov_range = (-3.*rsunarc,+3*rsunarc)\n",
    "arcsamp    = 40.  ## sampling in arcsecond\n",
    "\n",
    "nysamp = int(np.ceil((yfov_range[1]-yfov_range[0])/arcsamp))\n",
    "nzsamp = int(np.ceil((zfov_range[1]-zfov_range[0])/arcsamp))\n",
    "yarc = np.linspace(yfov_range[0],yfov_range[1],nysamp)\n",
    "zarc = np.linspace(zfov_range[0],zfov_range[1],nzsamp)\n",
    "zza,yya  = np.meshgrid(zarc,yarc,indexing = 'ij')\n",
    "rra = np.sqrt(yya**2. + zza**2.) \n",
    "mask_ondisk = 1.*(rra>rsunarc)    ## a mask where the field of view cross the solar disk"
   ]
  },
  {
   "cell_type": "markdown",
   "id": "29e34f5c-8463-45a4-8e45-1304ff4ce624",
   "metadata": {},
   "source": [
    "### Calculate ray samples along each line-of-sight"
   ]
  },
  {
   "cell_type": "code",
   "execution_count": null,
   "id": "b5e66dcc-2897-40df-b312-27a726a4f8f8",
   "metadata": {},
   "outputs": [],
   "source": [
    "## First find the cartestian points of each line of sight in the zy plane of the observer's geometry \n",
    "xxObs = np.zeros_like(yya)\n",
    "yyObs = rObs * np.tan(np.deg2rad(yya/3600.))\n",
    "zzObs = rObs * np.tan(np.deg2rad(zza/3600.))\n",
    "\n",
    "## rotate these points into the model geometry with Euler rotation\n",
    "rotm = euler_ry((thetaObs-np.pi/2.)) @ euler_rz(phiObs)\n",
    "## earlier I had the rotation matrix as the transpose...not sure why..incorrect?\n",
    "xyz_model = rotm  @ np.stack((xxObs.flatten(),yyObs.flatten(),zzObs.flatten())) \n",
    "\n",
    "## NOW WITH THE XYZ_MODEL POINTS AND THE LOCATION OF THE OBSERVER,\n",
    "## come up with the parametric equations for the los of sight\n",
    "losvec    = np.stack((xObs-xyz_model[0,:],yObs-xyz_model[1,:],zObs - xyz_model[2,:]))\n",
    "losveclen = np.linalg.norm(losvec,axis=0,ord=2,keepdims = True)\n",
    "losvec    = losvec / losveclen\n",
    "startpt   = xyz_model"
   ]
  },
  {
   "cell_type": "code",
   "execution_count": null,
   "id": "0297a819-96fe-4ee3-ac4d-2080fce6d35f",
   "metadata": {},
   "outputs": [],
   "source": [
    "## get minimum angular spacing\n",
    "lons,lats,rs = corona.lons,corona.lats,corona.rs\n",
    "m1 = np.min(np.abs(lons - np.roll(lons,1)))\n",
    "m2 = np.min(np.abs(lats - np.roll(lats,1)))\n",
    "dth = np.min([m1,m2])/2.  ## min angular spacing divided by 2 "
   ]
  },
  {
   "cell_type": "code",
   "execution_count": null,
   "id": "706b3ce2-a032-467d-86af-78de23d7fe75",
   "metadata": {},
   "outputs": [],
   "source": [
    "nrays   = startpt.shape[1]\n",
    "ray_npt = int(np.ceil(np.pi/dth))\n",
    "print('Number of rays to trace: ',nrays) \n",
    "print('Max number of samples per ray: ',ray_npt)\n",
    "\n",
    "tan_tharr = np.tan(np.linspace(-0.98*np.pi/2,0.98*np.pi/2,ray_npt))  ## limits of angles of the line-of-sight ray\n",
    "rpt = np.linalg.norm(startpt,axis=0,ord=2)  ## radius of starting point in zy observer's plane "
   ]
  },
  {
   "cell_type": "code",
   "execution_count": null,
   "id": "56c80b08-640e-4625-ba87-92fc3480fa97",
   "metadata": {},
   "outputs": [],
   "source": [
    "## Magic! --- gets the cartesin coordinates in the PSI model coordinate frame for all ray samples \n",
    "## may still need to slice off the dlen portion for the trapz integration?\n",
    "rays_xyz =  startpt[None,:,:] + (losvec * (tan_tharr[:,None] * rpt[None,:])[:,None,:])\n",
    "rays_xyz = np.swapaxes(rays_xyz,1,2)"
   ]
  },
  {
   "cell_type": "code",
   "execution_count": null,
   "id": "ca14513c-13b4-4fab-9c73-f41b80cde3a6",
   "metadata": {},
   "outputs": [],
   "source": [
    "## get spherical coordinates of rays\n",
    "rays_sph = np.zeros_like(rays_xyz)\n",
    "rays_sph[:,:,0] = np.linalg.norm(rays_xyz,axis=2)\n",
    "rays_sph[:,:,1] = np.arccos(rays_xyz[:,:,2] / rays_sph[:,:,0]) \n",
    "rays_sph[:,:,2] = np.arctan2(rays_xyz[:,:,1] , rays_xyz[:,:,0]) \n",
    "rays_sph[:,:,2][rays_sph[:,:,2] <0] += 2.*np.pi ## so that it falls in the simulation domain "
   ]
  },
  {
   "cell_type": "code",
   "execution_count": null,
   "id": "f1f23356-df89-4903-a6b8-50d485e4d6b9",
   "metadata": {},
   "outputs": [],
   "source": [
    "print(rays_sph.shape)"
   ]
  },
  {
   "cell_type": "code",
   "execution_count": null,
   "id": "d82932ab-bbb9-4e26-a4a5-6caf88813de5",
   "metadata": {},
   "outputs": [],
   "source": [
    "rays_xyz = rays_xyz.reshape(ray_npt*nrays,3)\n",
    "rays_sph = rays_sph.reshape(ray_npt*nrays,3)"
   ]
  },
  {
   "cell_type": "markdown",
   "id": "c266e229-5468-4934-a1fe-4592ff811f33",
   "metadata": {},
   "source": [
    "## **Interpolate model variables at ray samples**"
   ]
  },
  {
   "cell_type": "code",
   "execution_count": null,
   "id": "41a7657c-c907-46b1-b419-be3f55689648",
   "metadata": {},
   "outputs": [],
   "source": [
    "#### Get interpolating functions for all necessary simulation data\n",
    "ccoefInt  = rgi((lons,lats,rs),ccoef_10747,method = 'linear',fill_value = 0.,bounds_error = False)\n",
    "alignInt  = rgi((lons,lats,rs),align_10747,method = 'linear',fill_value = 0.,bounds_error = False)\n",
    "bxInt   = rgi((lons,lats,rs),corona.bx,method = 'linear',fill_value = 0.,bounds_error = False)\n",
    "byInt   = rgi((lons,lats,rs),corona.by,method = 'linear',fill_value = 0.,bounds_error = False)\n",
    "bzInt   = rgi((lons,lats,rs),corona.bz,method = 'linear',fill_value = 0.,bounds_error = False)\n",
    "## add velocities! \n",
    "## -- TBD \n",
    "## temperatures \n",
    "tempInt   = rgi((lons,lats,rs),corona.temp,method = 'linear',fill_value = 0.,bounds_error = False)"
   ]
  },
  {
   "cell_type": "code",
   "execution_count": null,
   "id": "8efb2d1f-7bad-4d76-878e-e43cc2df0587",
   "metadata": {},
   "outputs": [],
   "source": [
    "## get bx,by,bz in PSI geometry for all the ray points\n",
    "## this is the step that takes the longest! \n",
    "%time bx_rays = bxInt(rays_sph[:,::-1])\n",
    "%time by_rays = byInt(rays_sph[:,::-1]) \n",
    "%time bz_rays = bzInt(rays_sph[:,::-1]) \n",
    "%time ccoef_rays = ccoefInt(rays_sph[:,::-1]) \n",
    "%time align_rays = alignInt(rays_sph[:,::-1]) \n",
    "%time temp_rays = tempInt(rays_sph[:,::-1])"
   ]
  },
  {
   "cell_type": "code",
   "execution_count": null,
   "id": "58e35781-0136-4eea-bd73-c80ddeb00f1b",
   "metadata": {},
   "outputs": [],
   "source": [
    "ccoef_rays = ccoef_rays.reshape(ray_npt,nrays)\n",
    "align_rays = align_rays.reshape(ray_npt,nrays)\n",
    "temp_rays = temp_rays.reshape(ray_npt,nrays)"
   ]
  },
  {
   "cell_type": "code",
   "execution_count": null,
   "id": "a2000cf7-fe80-4539-8dd2-25f363ac5e83",
   "metadata": {},
   "outputs": [],
   "source": [
    "rays_xyz = rays_xyz.reshape(ray_npt,nrays,3)\n",
    "rays_sph = rays_sph.reshape(ray_npt,nrays,3)"
   ]
  },
  {
   "cell_type": "code",
   "execution_count": null,
   "id": "678325c9-3a9a-42cb-99b3-817f0615393a",
   "metadata": {},
   "outputs": [],
   "source": [
    "## calculate the magnetic field inclination angle wrt the line-of-sight \n",
    "bxyzs = np.stack((bx_rays,by_rays,bz_rays)).T\n",
    "blens = np.linalg.norm(bxyzs,axis =1)\n",
    "bxyzs = bxyzs.reshape(ray_npt,nrays,3)\n",
    "blens = blens.reshape(ray_npt,nrays)\n",
    "thetaBlos = np.arccos( (np.sum(bxyzs*losvec.T[None,:,:],axis=2)/blens).clip(min = -1,max=1))\n",
    "thetaBlos[np.isnan(thetaBlos)] = 0."
   ]
  },
  {
   "cell_type": "code",
   "execution_count": null,
   "id": "ef5ea059-2f02-4b7e-b149-e6522b18b581",
   "metadata": {},
   "outputs": [],
   "source": [
    "## angle between losvec and the vector from disk center\n",
    "thetaDClos = np.arccos( (np.sum(rays_xyz*losvec.T[None,:,:],axis=2)/rays_sph[:,:,0]).clip(min = -1,max=1))"
   ]
  },
  {
   "cell_type": "code",
   "execution_count": null,
   "id": "b0c70a7c-dc4c-4e6b-9b81-001bba0579a1",
   "metadata": {},
   "outputs": [],
   "source": [
    "## get projection of B onto plane perpendicular to LOS\n",
    "## and the projection of DC vector onto same plane\n",
    "Bperp  = bxyzs - (blens*np.cos(thetaBlos))[:,:,None] * losvec.T[None,:,:]\n",
    "DCperp = rays_xyz - (rays_sph[:,:,0]*np.cos(thetaDClos))[:,:,None] * losvec.T[None,:,:]"
   ]
  },
  {
   "cell_type": "code",
   "execution_count": null,
   "id": "30ebfde6-1789-43e1-b543-21f12948cce1",
   "metadata": {},
   "outputs": [],
   "source": [
    "del thetaDClos"
   ]
  },
  {
   "cell_type": "code",
   "execution_count": null,
   "id": "57a129dc-3c4a-4884-902d-1c41d3cbb7ea",
   "metadata": {},
   "outputs": [],
   "source": [
    "## find angle between Bperp and DCperp, which is the azimuthal angle relative to disk center\n",
    "costhetaAzi = np.sum((Bperp*DCperp),axis=2)/(np.linalg.norm(Bperp,axis = 2)*np.linalg.norm(DCperp,axis = 2))\n",
    "del Bperp\n",
    "del DCperp\n",
    "thetaAzi = np.arccos(costhetaAzi.clip(min =-1,max=1))\n",
    "thetaAzi[np.isnan(thetaAzi)] = 0.\n",
    "del costhetaAzi"
   ]
  },
  {
   "cell_type": "code",
   "execution_count": null,
   "id": "6773386f-a457-4baa-afad-6033ceba6f6b",
   "metadata": {},
   "outputs": [],
   "source": [
    "fig,ax = plt.subplots(2,3,figsize = (10,7),sharex=True,sharey=True)\n",
    "ax = ax.flatten()\n",
    "im0 = ax[0].imshow(bx_rays.reshape(ray_npt,nrays)[ray_npt//2,:].reshape(*yya.shape))\n",
    "im1 = ax[1].imshow(by_rays.reshape(ray_npt,nrays)[ray_npt//2,:].reshape(*yya.shape))\n",
    "im2 = ax[2].imshow(bz_rays.reshape(ray_npt,nrays)[ray_npt//2,:].reshape(*yya.shape))\n",
    "\n",
    "im3 = ax[3].imshow(blens[ray_npt//2,:].reshape(*yya.shape))\n",
    "im4 = ax[4].imshow(thetaBlos[ray_npt//2,:].reshape(*yya.shape))\n",
    "im5 = ax[5].imshow(thetaAzi[ray_npt//2,:].reshape(*yya.shape))\n",
    "for im in im0,im1,im2,: im.set_clim(-4,4)\n",
    "\n",
    "labs = 'Bx (POS)','By (POS)','Bz (POS)','B (POS)','ThetaBLOS (POS)','Bazimuth (POS)'\n",
    "for n in range(6): ax[n].set_title(labs[n])\n",
    "\n",
    "cbars = []\n",
    "for axi in ax:\n",
    " cax = axi.inset_axes([1.04, 0.05, 0.05, 0.95], transform=axi.transAxes)\n",
    " cbar1 = fig.colorbar(axi.get_images()[0],ax=axi,cax=cax)\n",
    " cbars.append(cbar1)\n",
    "\n",
    "fig.suptitle(modelName + '\\nMagnetic Field in the Plane of the Sky from the Observer\\nComponents are in the PSI model frame') \n",
    "\n",
    "fig.tight_layout()"
   ]
  },
  {
   "cell_type": "markdown",
   "id": "e9db0822-b4a8-4851-a3c8-cfc7ecd1ce7c",
   "metadata": {},
   "source": [
    "## **Forward Synthesize Emission Line** "
   ]
  },
  {
   "cell_type": "code",
   "execution_count": null,
   "id": "e555dda8-f5d4-40a4-a5a2-d347ffe5ca58",
   "metadata": {},
   "outputs": [],
   "source": [
    "geff,D_coeff,E_coeff = ln1.geff,ln1.Dcoeff,ln1.Ecoeff"
   ]
  },
  {
   "cell_type": "code",
   "execution_count": null,
   "id": "b4077de6-2089-441f-94d8-b605ba36d7f1",
   "metadata": {},
   "outputs": [],
   "source": [
    "epsI   = ccoef_rays*(1.0+(1./(2.*np.sqrt(2.)))*(3.*np.cos(thetaBlos)**2 - 1.)*D_coeff*align_rays)\n",
    "epsQnr = ccoef_rays*(3./(2.*np.sqrt(2.)))*(np.sin(thetaBlos)**2)*D_coeff*align_rays\n",
    "epsQ   = np.cos(2.*thetaAzi)*epsQnr\n",
    "epsU   = -np.sin(2.*thetaAzi)*epsQnr\n",
    "epsV   = ccoef_rays*np.cos(thetaBlos)*(1399612.2*blens)*(geff + E_coeff*align_rays)"
   ]
  },
  {
   "cell_type": "code",
   "execution_count": null,
   "id": "61b0bdb2-6e8c-47e9-9430-4ab5b8cd5ab6",
   "metadata": {},
   "outputs": [],
   "source": [
    "## get the sample points measured in distance from the furtherest point\n",
    "dray = (tan_tharr[:,None] * rpt[None,:])\n",
    "dray = dray - np.nanmin(dray,axis=0)[None,:]\n",
    "dray = dray * constants.radius.value*100."
   ]
  },
  {
   "cell_type": "code",
   "execution_count": null,
   "id": "9105a26c-c92a-4a64-ab39-3527b01fa748",
   "metadata": {},
   "outputs": [],
   "source": [
    "epsI_int = np.trapz(epsI,axis=0).reshape(*yya.shape) * mask_ondisk\n",
    "epsQ_int = np.trapz(epsQ,axis=0).reshape(*yya.shape) * mask_ondisk\n",
    "epsU_int = np.trapz(epsU,axis=0).reshape(*yya.shape) * mask_ondisk\n",
    "epsV_int = np.trapz(epsV,axis=0).reshape(*yya.shape) * mask_ondisk"
   ]
  },
  {
   "cell_type": "code",
   "execution_count": null,
   "id": "505c927c-b94c-4269-bc2c-79eb9b5811da",
   "metadata": {},
   "outputs": [],
   "source": [
    "fig,ax = plt.subplots(2,3,figsize = (10,7),sharex=True,sharey=True)\n",
    "ax = ax.flatten()\n",
    "im0 = ax[0].imshow(np.log10(epsI_int))\n",
    "im1 = ax[1].imshow(np.log10(np.sqrt(epsQ_int**2. + epsU_int**2)))\n",
    "im2 = ax[2].imshow(np.sqrt(epsQ_int**2. + epsU_int**2)/epsI_int)\n",
    "im3 = ax[3].imshow(epsV_int)\n",
    "im3.set_clim(np.percentile(epsV_int,[1,99]))\n",
    "im4 = ax[4].imshow(0.5*np.arctan2(epsU_int , epsQ_int)*mask_ondisk)\n",
    "\n",
    "labs = 'Log I','Log LinPol','LinPolFrac','epsV integ.','Azimuth Angle'\n",
    "for n in range(5): ax[n].set_title(labs[n])\n",
    "\n",
    "ax[-1].axis('off')\n",
    "\n",
    "cbars = []\n",
    "for axi in ax[:-1]:\n",
    " cax = axi.inset_axes([1.04, 0.05, 0.05, 0.95], transform=axi.transAxes)\n",
    " cbar1 = fig.colorbar(axi.get_images()[0],ax=axi,cax=cax)\n",
    " cbars.append(cbar1)\n",
    "\n",
    "fig.suptitle(modelName + '\\nLOS-integrated polarized emission coefficients') \n",
    "\n",
    "fig.tight_layout()"
   ]
  },
  {
   "cell_type": "code",
   "execution_count": null,
   "id": "ae14a5dc-c7f0-4f8a-8ce0-69dc55d2216c",
   "metadata": {},
   "outputs": [],
   "source": [
    "## get line intensities in  millionths of the disk center? \n",
    "## work in progress"
   ]
  },
  {
   "cell_type": "code",
   "execution_count": null,
   "id": "93af8c3c-76c4-44f2-a465-26b6f2ba688a",
   "metadata": {},
   "outputs": [],
   "source": [
    "cc = 2.99792458e10\n",
    "hh = 6.626176e-27\n",
    "bk = 1.380662e-16\n",
    "wlang = 10747. \n",
    "nu = 1.e8 * (cc/wlang)\n",
    "photo_temp = 6000. \n",
    "boltzm1 = np.expm1(hh*nu/(bk*photo_temp))\n",
    "planck = 2.0*hh*(nu**3)/(cc*cc*boltzm1)\n",
    "print(planck)"
   ]
  },
  {
   "cell_type": "code",
   "execution_count": null,
   "id": "0ad941b7-744c-4192-814e-c9637ff0a2b5",
   "metadata": {},
   "outputs": [],
   "source": [
    "plt.figure()\n",
    "plt.imshow(np.log10(epsI_int/planck * 1e6))\n",
    "#plt.clim(0,500)"
   ]
  },
  {
   "cell_type": "markdown",
   "id": "296f4064-0559-4444-a3d4-d3f2f1dfbc37",
   "metadata": {},
   "source": [
    "## Generate polarized spectra\n",
    "\n",
    "- The coefficients along each ray are stored above in the epsI,epsQ,epsU,epsV variables. \n",
    "- In order to generate spectra, we need to multiple these by the appropriate normalized profile function (Gaussian) and/or the correctly scaled derivative profile \n",
    "- Then do the LOS integrated along the ray and as a function of wavelength. \n",
    "\n",
    "WORK TO BE DONE\n",
    "\n",
    "-- just do one column maybe...also need to add arcseconds to the above images"
   ]
  },
  {
   "cell_type": "code",
   "execution_count": null,
   "id": "2ad85627-e04c-4084-9f2b-09e5badde1dc",
   "metadata": {},
   "outputs": [],
   "source": []
  },
  {
   "cell_type": "raw",
   "id": "4d2305f9-6ddc-46dc-8db1-5ac59f176c53",
   "metadata": {},
   "source": [
    "print(ccoef_rays.shape)\n",
    "ln1 = fe13.get_emissionLine(10747.)\n",
    "rays_sph.shape\n",
    "## set line-of-sight velocity to zero until I do the calculation\n",
    "vlos_rays = np.zeros_like(temp_rays)\n",
    "vlos_rays.shape"
   ]
  },
  {
   "cell_type": "code",
   "execution_count": null,
   "id": "0c76fe35-474d-4db0-9fd9-dbfbd8821d4b",
   "metadata": {},
   "outputs": [],
   "source": []
  },
  {
   "cell_type": "raw",
   "id": "5184ede0-ea2e-4cf1-beae-348e72d0efe6",
   "metadata": {},
   "source": [
    "doppler_spectral_range = (-120,120)\n",
    "specRes_wv_over_dwv = 100000\n",
    "## setup wavelength vector \n",
    "assert doppler_spectral_range[1]>doppler_spectral_range[0]\n",
    "dVel = 3e5 / specRes_wv_over_dwv\n",
    "nwv = np.ceil((doppler_spectral_range[1] - doppler_spectral_range[0]) / dVel).astype(int)\n",
    "velvec = np.linspace(*doppler_spectral_range,nwv)  ##;; velocity range used for the spectral axis\n",
    "wvvec = (ln1.wavelength_in_air  *1.e-10)*(1. + velvec/3.e5)  ## in units of meters at this point "
   ]
  },
  {
   "cell_type": "raw",
   "id": "5f633522-bc13-4d7e-8441-2c02f7fd8732",
   "metadata": {},
   "source": [
    "## choose ray? \n",
    "iray = 1234"
   ]
  },
  {
   "cell_type": "raw",
   "id": "971928f0-f9ab-401f-aa88-d5b170d8b41f",
   "metadata": {},
   "source": [
    "## Calculate Gaussian Line Width        \n",
    "awgt = ln1.atomic_weight \n",
    "M = (awgt*1.6605655e-24)/1000.   ## kilogram\n",
    "kb = 1.380648e-23  ## J K^-1 [ = kg m^2 s^-2 K^-1]\n",
    "etemp = temp_rays[:,iray]\n",
    "turbv = 0\n",
    "sig = (1./np.sqrt(2.))*(ln1.wavelength_in_air*1.e-10/3.e8)*np.sqrt(2.*kb*etemp/M + (turbv*1000.)**2.)"
   ]
  },
  {
   "cell_type": "raw",
   "id": "f55fe5ae-c091-4b02-9692-d0a390b6e413",
   "metadata": {},
   "source": [
    "## calculate line center position \n",
    "doppler_velocity = vlos_rays[:,iray]\n",
    "wv0 = (ln1.wavelength_in_air*1.e-10) + (doppler_velocity/3.e5)*(ln1.wavelength_in_air*1.e-10)    ## in meters \n",
    "wv0 = wv0*1.e10     ## convert to Angstrom \n",
    "sig = sig*1.e10      ## convert to Angstrom \n",
    "wvvec = wvvec*1.e10  ## convert to Angstrom "
   ]
  },
  {
   "cell_type": "raw",
   "id": "ba29c077-84e8-4585-a2c3-eb17503ecd30",
   "metadata": {},
   "source": [
    "wvvec.shape"
   ]
  },
  {
   "cell_type": "raw",
   "id": "c15f6721-048a-4231-a360-4a85d09db9b6",
   "metadata": {},
   "source": [
    "\n",
    "## normalized Gaussian profile\n",
    "wprof  = 1./(np.sqrt(2.*np.pi)*sig) * np.exp(-(wvvec-wv0)**2./(2.*sig**2.))\n",
    "## normalized Gaussian derivative profiles \n",
    "wprof_deriv = (- (wvvec-wv0) / sig**2)  * wprof \n",
    "\n",
    "stokes = np.zeros((nwv,4) )\n",
    "stokes[:,0] = epsI*wprof\n",
    "stokes[:,1] = epsQ*wprof\n",
    "stokes[:,2] = epsU*wprof\n",
    "stokes[:,3] = epsV*wprof_deriv"
   ]
  },
  {
   "cell_type": "raw",
   "id": "237ff7c1-b45e-428f-9e9b-c85a63cc7dd1",
   "metadata": {},
   "source": []
  },
  {
   "cell_type": "code",
   "execution_count": null,
   "id": "ab733040-fbdc-4cb2-a8c6-0679cb12cec8",
   "metadata": {},
   "outputs": [],
   "source": []
  },
  {
   "cell_type": "markdown",
   "id": "0b4fcf3e-a267-4d7b-b10b-7af7cf849f57",
   "metadata": {},
   "source": [
    "## K-corona"
   ]
  },
  {
   "cell_type": "code",
   "execution_count": null,
   "id": "75dba634-e578-4dff-a992-e1e7fbed6ebe",
   "metadata": {},
   "outputs": [],
   "source": [
    "## first lets do this simply "
   ]
  },
  {
   "cell_type": "code",
   "execution_count": null,
   "id": "664c44ac-8394-4ae3-955a-a19c5422a6b8",
   "metadata": {},
   "outputs": [],
   "source": []
  },
  {
   "cell_type": "code",
   "execution_count": null,
   "id": "8ab4b572-8208-4417-97d9-c8631fbec9b8",
   "metadata": {},
   "outputs": [],
   "source": []
  },
  {
   "cell_type": "code",
   "execution_count": null,
   "id": "3ffe92e0-30bf-46d4-b7f7-abdd85cb3c38",
   "metadata": {},
   "outputs": [],
   "source": [
    "## using equation 12.-30 to 12.40 in LD&L + Howard/Tippin to use better limb darkening functions "
   ]
  },
  {
   "cell_type": "code",
   "execution_count": null,
   "id": "78824aa0-da77-4a62-841f-eb0446c070a2",
   "metadata": {},
   "outputs": [],
   "source": [
    "#lambdaCLV\n",
    "uCLV = pycelp.util.uCLV\n",
    "vCLV = pycelp.util.vCLV\n",
    "pycelp.util.lambdaCLV[11:16]"
   ]
  },
  {
   "cell_type": "code",
   "execution_count": null,
   "id": "31677bc5-5e5b-42b7-bfab-c90f8e8649f2",
   "metadata": {},
   "outputs": [],
   "source": [
    "mu = np.linspace(0,1,220)\n",
    "plt.figure()\n",
    "for n in range(11,16): # len(uCLV)): \n",
    "    p1, = plt.plot(np.rad2deg(np.arccos(mu)), 1-uCLV[n] -vCLV[n] + uCLV[n]*mu + vCLV[n]* mu**2)\n",
    "    \n",
    "plt.plot(np.rad2deg(np.arccos(mu)) ,   1. - 0.6 + 0.6*mu,color = 'black')"
   ]
  },
  {
   "cell_type": "code",
   "execution_count": null,
   "id": "4ffc8a9d-a1c3-4743-ab8e-704668b2865c",
   "metadata": {},
   "outputs": [],
   "source": [
    "plt.figure()\n",
    "plt.plot(mu , mu * np.log(1 + 1./mu))"
   ]
  },
  {
   "cell_type": "code",
   "execution_count": null,
   "id": "77cac5ae-5e2a-47cd-b06b-07aaf7b3ed56",
   "metadata": {},
   "outputs": [],
   "source": []
  }
 ],
 "metadata": {
  "kernelspec": {
   "display_name": "Python 3 (ipykernel)",
   "language": "python",
   "name": "python3"
  },
  "language_info": {
   "codemirror_mode": {
    "name": "ipython",
    "version": 3
   },
   "file_extension": ".py",
   "mimetype": "text/x-python",
   "name": "python",
   "nbconvert_exporter": "python",
   "pygments_lexer": "ipython3",
   "version": "3.9.7"
  },
  "toc-autonumbering": true
 },
 "nbformat": 4,
 "nbformat_minor": 5
}
