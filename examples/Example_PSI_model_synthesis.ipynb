{
 "cells": [
  {
   "cell_type": "markdown",
   "id": "5f35d3b8-8ac1-4b25-a296-490f5a62d573",
   "metadata": {
    "tags": []
   },
   "source": [
    "# **Example PSI Model Synthesis Notebook**\n",
    "\n",
    "Tom Schad \n",
    "\n",
    "----\n",
    "\n",
    "- This notebook does an example synthesis of the Global corona using a Predictive Sciences MHD model. \n",
    "\n",
    "\n",
    "----"
   ]
  },
  {
   "cell_type": "code",
   "execution_count": 14,
   "id": "09fe2ec1-bf4a-419e-9c12-ac7d47b50afb",
   "metadata": {
    "tags": []
   },
   "outputs": [],
   "source": [
    "import pycelp \n",
    "import numpy as np\n",
    "import matplotlib.pyplot as plt\n",
    "%matplotlib widget\n",
    "import os\n",
    "os.environ[\"XUVTOP\"] = '/usr/local/ssw/packages/chianti/dbase/'\n",
    "import psi"
   ]
  },
  {
   "cell_type": "code",
   "execution_count": 15,
   "id": "fe6a7573-b5d0-4b08-a1d8-f92fde837afb",
   "metadata": {},
   "outputs": [],
   "source": [
    "corona = psi.Model('/home/tschad/Desktop/psiData_21aug2017_12UTC_med-cor-thermo2/corona/')"
   ]
  },
  {
   "cell_type": "code",
   "execution_count": 16,
   "id": "0481293c-10c7-4118-8de5-2e3c4a3b07d7",
   "metadata": {},
   "outputs": [
    {
     "data": {
      "text/plain": [
       "((181, 100, 150), (181, 100, 150), (181, 100, 150), (100,), (181,))"
      ]
     },
     "execution_count": 16,
     "metadata": {},
     "output_type": "execute_result"
    }
   ],
   "source": [
    "corona.rlen.shape,corona.blen.shape,corona.b_localinc.shape,corona.lats.shape,corona.lons.shape"
   ]
  },
  {
   "cell_type": "code",
   "execution_count": 45,
   "id": "02a4c77f-66ed-41a8-9a62-e9d0c6ba1404",
   "metadata": {},
   "outputs": [
    {
     "data": {
      "application/vnd.jupyter.widget-view+json": {
       "model_id": "c4c5f39de5d94aaca7fc198fad284796",
       "version_major": 2,
       "version_minor": 0
      },
      "text/plain": [
       "Canvas(toolbar=Toolbar(toolitems=[('Home', 'Reset original view', 'home', 'home'), ('Back', 'Back to previous …"
      ]
     },
     "metadata": {},
     "output_type": "display_data"
    }
   ],
   "source": [
    "fig,ax = plt.subplots(2,1,figsize = (5,6))\n",
    "ax = ax.flatten()\n",
    "ax[0].imshow(corona.blen[:,:,12].T,extent = (corona.lons.min(),corona.lons.max(),corona.lats.min(),corona.lats.max()))\n",
    "ax[1].imshow(corona.b_localinc[:,:,12].T,extent = (corona.lons.min(),corona.lons.max(),corona.lats.min(),corona.lats.max()))\n",
    "fig.tight_layout()"
   ]
  },
  {
   "cell_type": "code",
   "execution_count": null,
   "id": "5495623a-45d5-4168-862e-71f9f75a725a",
   "metadata": {},
   "outputs": [],
   "source": []
  },
  {
   "cell_type": "code",
   "execution_count": 46,
   "id": "f0708509-e44c-4ef7-8134-6038e1e296fa",
   "metadata": {},
   "outputs": [
    {
     "name": "stdout",
     "output_type": "stream",
     "text": [
      " reading:  /usr/local/ssw/packages/chianti/dbase/fe/fe_13/fe_13.elvlc\n",
      " reading:  /usr/local/ssw/packages/chianti/dbase/fe/fe_13/fe_13.wgfa\n",
      " reading:  /usr/local/ssw/packages/chianti/dbase/fe/fe_13/fe_13.scups\n",
      " reading:  /usr/local/ssw/packages/chianti/dbase/fe/fe_13/fe_13.psplups\n",
      " using default abundances: /usr/local/ssw/packages/chianti/dbase/abundance/sun_photospheric_2009_asplund.abund\n",
      " reading:  /usr/local/ssw/packages/chianti/dbase/abundance/sun_photospheric_2009_asplund.abund\n",
      " testing default file: /usr/local/ssw/packages/chianti/dbase/ioneq/chianti.ioneq\n",
      " reading:  /usr/local/ssw/packages/chianti/dbase/ioneq/chianti.ioneq\n",
      " setting up electron collision rate factors\n",
      " setting up proton  collision rate factors\n",
      " setting up non-dipole radiative rate factors\n",
      " getting non-dipole rate factors\n",
      " setting up dipole radiative rate factors\n"
     ]
    }
   ],
   "source": [
    "## keeping the model fairly \"small\" at 50 levels\n",
    "fe13 = pycelp.Ion('fe_13',nlevels = 50)"
   ]
  },
  {
   "cell_type": "code",
   "execution_count": 47,
   "id": "da4330ce-78d6-4be6-8c3f-ad99ef27630d",
   "metadata": {},
   "outputs": [
    {
     "data": {
      "text/plain": [
       "(181, 100, 150)"
      ]
     },
     "execution_count": 47,
     "metadata": {},
     "output_type": "execute_result"
    }
   ],
   "source": [
    "corona.ne.shape"
   ]
  },
  {
   "cell_type": "code",
   "execution_count": 48,
   "id": "5619762b-eab5-4eba-89a5-6ce0a118172e",
   "metadata": {},
   "outputs": [
    {
     "name": "stdout",
     "output_type": "stream",
     "text": [
      "0\n",
      "10\n",
      "20\n",
      "30\n",
      "40\n",
      "50\n",
      "60\n",
      "70\n",
      "80\n",
      "90\n",
      "100\n",
      "110\n",
      "120\n",
      "130\n",
      "140\n",
      "150\n",
      "160\n",
      "170\n",
      "180\n"
     ]
    }
   ],
   "source": [
    "wvair = 10747. \n",
    "\n",
    "ii,jj,kk = 45,15,10\n",
    "for ii in range(0,181,10): \n",
    "    print(ii)\n",
    "    for jj in range(0,100,10): \n",
    "        for rr in range(0,150,10): \n",
    "            edens = corona.ne[ii,jj,kk]\n",
    "            etemp = corona.temp[ii,jj,kk]\n",
    "            ht = corona.rlen[ii,jj,kk]-1\n",
    "            thetab = np.rad2deg(corona.b_localinc[ii,jj,kk])\n",
    "            \n",
    "            fe13.calc_rho_sym(edens,etemp,ht, thetab)\n",
    "            \n",
    "            upper_lev_rho00 = fe13.get_upper_level_rho00(wvair)\n",
    "            upper_lev_alignment = fe13.get_upper_level_alignment(wvair)\n",
    "            total_ion_population = fe13.totn\n"
   ]
  },
  {
   "cell_type": "code",
   "execution_count": 49,
   "id": "bff00f5b-62e4-415e-b5b3-bd3e833eced6",
   "metadata": {},
   "outputs": [],
   "source": [
    "## LOS integration of polarized emission coefficients "
   ]
  },
  {
   "cell_type": "code",
   "execution_count": null,
   "id": "602e3049-b2e6-478f-8e90-7de3c298daa4",
   "metadata": {},
   "outputs": [],
   "source": []
  },
  {
   "cell_type": "code",
   "execution_count": null,
   "id": "8e196672-e99f-4a81-8f23-c542825e77f9",
   "metadata": {},
   "outputs": [],
   "source": []
  },
  {
   "cell_type": "code",
   "execution_count": null,
   "id": "9261425f-7eff-43c3-b3f0-e49507381620",
   "metadata": {},
   "outputs": [],
   "source": []
  },
  {
   "cell_type": "code",
   "execution_count": 39,
   "id": "1817f523-7844-47c5-805e-2e4efa7497d9",
   "metadata": {},
   "outputs": [],
   "source": [
    "## generating polarized spectra"
   ]
  },
  {
   "cell_type": "code",
   "execution_count": null,
   "id": "88937b15-9839-4cfc-bc95-764fa9db0514",
   "metadata": {},
   "outputs": [],
   "source": []
  }
 ],
 "metadata": {
  "kernelspec": {
   "display_name": "Python 3 (ipykernel)",
   "language": "python",
   "name": "python3"
  },
  "language_info": {
   "codemirror_mode": {
    "name": "ipython",
    "version": 3
   },
   "file_extension": ".py",
   "mimetype": "text/x-python",
   "name": "python",
   "nbconvert_exporter": "python",
   "pygments_lexer": "ipython3",
   "version": "3.9.7"
  }
 },
 "nbformat": 4,
 "nbformat_minor": 5
}
