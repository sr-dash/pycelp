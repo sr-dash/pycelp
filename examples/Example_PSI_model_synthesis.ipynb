{
 "cells": [
  {
   "cell_type": "markdown",
   "id": "5f35d3b8-8ac1-4b25-a296-490f5a62d573",
   "metadata": {},
   "source": [
    "# **Example PSI Model Synthesis Notebook**\n",
    "\n",
    "Tom Schad \n",
    "\n",
    "----\n",
    "\n",
    "- This notebook does an example synthesis of the Global corona using a Predictive Sciences MHD model. \n",
    "\n",
    "\n",
    "----"
   ]
  },
  {
   "cell_type": "code",
   "execution_count": null,
   "id": "09fe2ec1-bf4a-419e-9c12-ac7d47b50afb",
   "metadata": {},
   "outputs": [],
   "source": []
  }
 ],
 "metadata": {
  "kernelspec": {
   "display_name": "Python 3 (ipykernel)",
   "language": "python",
   "name": "python3"
  },
  "language_info": {
   "codemirror_mode": {
    "name": "ipython",
    "version": 3
   },
   "file_extension": ".py",
   "mimetype": "text/x-python",
   "name": "python",
   "nbconvert_exporter": "python",
   "pygments_lexer": "ipython3",
   "version": "3.9.7"
  }
 },
 "nbformat": 4,
 "nbformat_minor": 5
}
