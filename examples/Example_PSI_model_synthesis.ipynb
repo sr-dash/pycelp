{
 "cells": [
  {
   "cell_type": "markdown",
   "id": "5f35d3b8-8ac1-4b25-a296-490f5a62d573",
   "metadata": {
    "tags": []
   },
   "source": [
    "# **Example PSI Model Synthesis Notebook**\n",
    "\n",
    "Tom Schad \n",
    "\n",
    "----\n",
    "\n",
    "- This notebook does an example synthesis of the Global corona using a Predictive Sciences MHD model. \n",
    "\n",
    "\n",
    "----"
   ]
  },
  {
   "cell_type": "code",
   "execution_count": 1,
   "id": "09fe2ec1-bf4a-419e-9c12-ac7d47b50afb",
   "metadata": {
    "tags": []
   },
   "outputs": [],
   "source": [
    "import pycelp \n",
    "import numpy as np\n",
    "import matplotlib.pyplot as plt\n",
    "%matplotlib widget\n",
    "import os\n",
    "os.environ[\"XUVTOP\"] = '/usr/local/ssw/packages/chianti/dbase/'\n",
    "import psi\n",
    "import sunpy.coordinates.sun as sun\n",
    "import sunpy.sun.constants as constants\n",
    "plt.rcParams[\"image.origin\"]='lower'   ## have to worry about flips? \n",
    "plt.rcParams[\"image.interpolation\"]='nearest'\n",
    "from scipy.interpolate import RegularGridInterpolator as rgi\n",
    "from scipy.interpolate import interp1d\n",
    "import multiprocessing\n",
    "import tqdm\n",
    "\n",
    "def euler_ry(alpha):\n",
    "    '''Euler rotation matrix about y axis '''\n",
    "    ry = np.array([[ np.cos(alpha), 0., np.sin(alpha)],\n",
    "                   [            0., 1., 0.],\n",
    "                   [-np.sin(alpha), 0., np.cos(alpha)]])\n",
    "    return ry\n",
    "\n",
    "def euler_rz(alpha):\n",
    "    '''Euler rotation matrix about z axis '''\n",
    "    rz = np.array([[ np.cos(alpha), -np.sin(alpha), 0.],\n",
    "                   [ np.sin(alpha),  np.cos(alpha), 0.],\n",
    "                   [            0.,             0., 1.]])\n",
    "    return rz"
   ]
  },
  {
   "cell_type": "markdown",
   "id": "50f8162b-c7f1-4107-92b1-8f9122256006",
   "metadata": {},
   "source": [
    "## **Create an instance of the psi.Model class to load and interact with PSI coronal model data**\n",
    "\n",
    "- Models used here were downloaded using this website from [Predictive Sciences](https://www.predsci.com/hmi/data_access.php)\n",
    "- We picked the date of the US total solar eclipse (21 Aug 2017) using the med-cor-thermo2 model for this demonstration. \n",
    "- I had selected 12 UTC for the download time.  I'm not sure at this time where timestep information in the PSI models made be located."
   ]
  },
  {
   "cell_type": "code",
   "execution_count": 2,
   "id": "fe6a7573-b5d0-4b08-a1d8-f92fde837afb",
   "metadata": {},
   "outputs": [],
   "source": [
    "## https://www.predsci.com/data/runs/cr2194-medium/hmi_mast_mas_std_0201/\n",
    "## carrington rotation 2194\n",
    "modelName = 'hmi__med-cor-thermo2-std01__med-hel-poly-std01'\n",
    "corona = psi.Model('/home/tschad/Dropbox/psiData_21Aug2017_thermo2_12UTC/corona/')"
   ]
  },
  {
   "cell_type": "code",
   "execution_count": 3,
   "id": "ebba5c4d-7042-4a7d-8715-1e98d111b86f",
   "metadata": {},
   "outputs": [
    {
     "data": {
      "text/plain": [
       "psi Model class\n",
       "    ---------------------\n",
       "    Data Directory Names: /home/tschad/Dropbox/psiData_21Aug2017_thermo2_12UTC/corona/\n",
       "    Number of longitude samples: 181\n",
       "    Number of latitude samples: 100\n",
       "    Number of radial samples: 150\n",
       "    Data shape: (181, 100, 150)\n",
       "    \n",
       "    Variables: \n",
       "    lons -- Longitudes [rad]\n",
       "    lats -- Latitudes [rad]\n",
       "    rs   -- Radial samples [solar radii units]\n",
       "    temp -- temperature [K]\n",
       "    ne -- electron density [cm^-3]\n",
       "    br,bt,bp  -- Spherical components of magnetic field [G]\n",
       "    bx,by,bz  -- Cartesian components of magnetic field [G]\n",
       "    vr,vt,vp  -- Spherical components of velocity field [km/s]\n",
       "    vx,vy,vz  -- Cartesian components of velocity field [km/s]\n",
       "    bmag      -- total magnetic field intensity [B]\n",
       "    thetaBlocal -- location inclination of magnetic field in solar frame [rad]\n",
       "    "
      ]
     },
     "execution_count": 3,
     "metadata": {},
     "output_type": "execute_result"
    }
   ],
   "source": [
    "## return the instance name for some basic information on the class\n",
    "corona"
   ]
  },
  {
   "cell_type": "code",
   "execution_count": 4,
   "id": "02a4c77f-66ed-41a8-9a62-e9d0c6ba1404",
   "metadata": {},
   "outputs": [
    {
     "data": {
      "application/vnd.jupyter.widget-view+json": {
       "model_id": "267e1b565c1b43cb845bf91d7a63c30f",
       "version_major": 2,
       "version_minor": 0
      },
      "text/plain": [
       "Canvas(toolbar=Toolbar(toolitems=[('Home', 'Reset original view', 'home', 'home'), ('Back', 'Back to previous …"
      ]
     },
     "metadata": {},
     "output_type": "display_data"
    }
   ],
   "source": [
    "kk = 5\n",
    "\n",
    "fig,ax = plt.subplots(2,2,figsize = (8,5))\n",
    "ax = ax.flatten()\n",
    "ax[0].imshow(corona.bmag[:,:,kk].T*np.cos(corona.thetaBlocal[:,:,kk]).T,extent = (corona.lons.min(),corona.lons.max(),corona.lats.min(),corona.lats.max()))\n",
    "ax[1].imshow(corona.thetaBlocal[:,:,kk].T,extent = (corona.lons.min(),corona.lons.max(),corona.lats.min(),corona.lats.max()))\n",
    "ax[2].imshow(corona.temp[:,:,kk].T,extent = (corona.lons.min(),corona.lons.max(),corona.lats.min(),corona.lats.max()))\n",
    "ax[3].imshow(corona.ne[:,:,kk].T,extent = (corona.lons.min(),corona.lons.max(),corona.lats.min(),corona.lats.max()))\n",
    "labels = 'Magnetogram','Local B Inclination','Temperature','Electron Density'\n",
    "for n in range(4): ax[n].set_title(labels[n])\n",
    "\n",
    "cbars = []\n",
    "for axi in ax:\n",
    " cax = axi.inset_axes([1.04, 0.05, 0.05, 0.95], transform=axi.transAxes)\n",
    " cbar1 = fig.colorbar(axi.get_images()[0],ax=axi,cax=cax)\n",
    " cbars.append(cbar1)\n",
    "\n",
    "fig.suptitle(modelName + '\\nRadial Coordinate: ' + str(corona.rs[kk]))\n",
    "\n",
    "fig.tight_layout()"
   ]
  },
  {
   "cell_type": "markdown",
   "id": "b9575fb7-3443-42e5-9729-ac1e8b7cf38a",
   "metadata": {},
   "source": [
    "This is the GONG 2194_000 synoptic map \n",
    "\n",
    "<img src=\"https://gong.nso.edu/data/magmap/QR/mqj/201708/mrmqj170830/mrmqj170830t0205c2194_000.jpg\" />"
   ]
  },
  {
   "cell_type": "markdown",
   "id": "b64f23df-e17a-4f81-9c7b-4fded458a2af",
   "metadata": {},
   "source": [
    "## **Initialize the pyCELP model of the line or lines to be synthesized**\n",
    "\n",
    "- Here we start with Fe XIII 1074 nm and keep the model fairly \"small\" at 50 levels.  The errors incurred by using reduced numbers of atomic levels is addressed in [Schad & Dima (2020)](https://rdcu.be/b5J2X) \n"
   ]
  },
  {
   "cell_type": "code",
   "execution_count": 5,
   "id": "f0708509-e44c-4ef7-8134-6038e1e296fa",
   "metadata": {},
   "outputs": [
    {
     "name": "stdout",
     "output_type": "stream",
     "text": [
      " reading:  /usr/local/ssw/packages/chianti/dbase/fe/fe_13/fe_13.elvlc\n",
      " reading:  /usr/local/ssw/packages/chianti/dbase/fe/fe_13/fe_13.wgfa\n",
      " reading:  /usr/local/ssw/packages/chianti/dbase/fe/fe_13/fe_13.scups\n",
      " reading:  /usr/local/ssw/packages/chianti/dbase/fe/fe_13/fe_13.psplups\n",
      " using default abundances: /usr/local/ssw/packages/chianti/dbase/abundance/sun_photospheric_2009_asplund.abund\n",
      " reading:  /usr/local/ssw/packages/chianti/dbase/abundance/sun_photospheric_2009_asplund.abund\n",
      " testing default file: /usr/local/ssw/packages/chianti/dbase/ioneq/chianti.ioneq\n",
      " reading:  /usr/local/ssw/packages/chianti/dbase/ioneq/chianti.ioneq\n",
      " setting up electron collision rate factors\n",
      " setting up proton  collision rate factors\n",
      " setting up non-dipole radiative rate factors\n",
      " getting non-dipole rate factors\n",
      " setting up dipole radiative rate factors\n"
     ]
    }
   ],
   "source": [
    "fe13 = pycelp.Ion('fe_13',nlevels = 50)"
   ]
  },
  {
   "cell_type": "markdown",
   "id": "3768933f-0b60-410a-ab93-31ea98b410c5",
   "metadata": {},
   "source": [
    "## **Calculate the statistical equilibrium for every cell**\n",
    "\n",
    "- Here the statistical equilibrium is calculated for the Ion for each cell in the PSI model and the results of the upper level populations, alignments, and total ion population are stored in arrays. \n",
    "- The advantage of doing it this way is that that statistical equilibrium does not change with viewing angle, and so if you want to synthesis the polarized intensities at a different viewing angle, you do not have to recalculate the statistical equilibrium. "
   ]
  },
  {
   "cell_type": "code",
   "execution_count": 6,
   "id": "0def9448-6c54-4bbb-9be1-48128525c705",
   "metadata": {
    "scrolled": true,
    "tags": []
   },
   "outputs": [
    {
     "data": {
      "text/plain": [
       "'\\np     = multiprocessing.Pool(processes=ncpus) \\nrs    = p.imap(work,arg_array)\\np.close()\\n\\nfor res in tqdm.tqdm(rs,total = len(arg_array)): \\n    ii,jj,kk,tpop,r1,a1,r2,a2 = res \\n    tot_ion_pop[ii,jj,kk] = tpop\\n    rho00_10747[ii,jj,kk] = r1\\n    align_10747[ii,jj,kk] = a1\\n    rho00_10798[ii,jj,kk] = r2\\n    align_10798[ii,jj,kk] = a2\\n    \\n\\n'"
      ]
     },
     "execution_count": 6,
     "metadata": {},
     "output_type": "execute_result"
    }
   ],
   "source": [
    "def work(argin): \n",
    "    \n",
    "    ii,jj,kk = argin \n",
    "    \n",
    "    edens = corona.ne[ii,jj,kk]\n",
    "    etemp = corona.temp[ii,jj,kk]\n",
    "    ht = (corona.rs[kk]-1).clip(1.e-8)\n",
    "    thetab = np.rad2deg(corona.thetaBlocal[ii,jj,kk])\n",
    "    \n",
    "    fe13.calc_rho_sym(edens,etemp,ht, thetab)\n",
    "    \n",
    "    ln1 = fe13.get_emissionLine(10747.)\n",
    "    ln2 = fe13.get_emissionLine(10798.)\n",
    "    \n",
    "    return (ii,jj,kk,ln1.C_coeff,ln1.upper_level_alignment, \n",
    "                ln2.C_coeff,ln2.upper_level_alignment)\n",
    "            \n",
    "ncpus = multiprocessing.cpu_count()\n",
    "arg_array = []\n",
    "for ii in range(0,181,1): \n",
    "    for jj in range(0,100,1): \n",
    "        for kk in range(0,150,1): \n",
    "            arg_array.append([ii,jj,kk])\n",
    "         \n",
    "ccoef_10747 = np.zeros_like(corona.br)\n",
    "align_10747 = np.zeros_like(corona.br)\n",
    "ccoef_10798 = np.zeros_like(corona.br)\n",
    "align_10798 = np.zeros_like(corona.br)\n",
    "\n",
    "\"\"\"\n",
    "p     = multiprocessing.Pool(processes=ncpus) \n",
    "rs    = p.imap(work,arg_array)\n",
    "p.close()\n",
    "\n",
    "for res in tqdm.tqdm(rs,total = len(arg_array)): \n",
    "    ii,jj,kk,tpop,r1,a1,r2,a2 = res \n",
    "    tot_ion_pop[ii,jj,kk] = tpop\n",
    "    rho00_10747[ii,jj,kk] = r1\n",
    "    align_10747[ii,jj,kk] = a1\n",
    "    rho00_10798[ii,jj,kk] = r2\n",
    "    align_10798[ii,jj,kk] = a2\n",
    "    \n",
    "\n",
    "\"\"\""
   ]
  },
  {
   "cell_type": "markdown",
   "id": "32990739-6e22-412f-9314-6288e4694655",
   "metadata": {},
   "source": [
    "## **Setup forward synthesis geometry**\n",
    "\n",
    "- This is set up to synthesize a FOV from an arbitrary observer's position, def"
   ]
  },
  {
   "cell_type": "markdown",
   "id": "faaa2c22-e4d5-43b0-ab02-6128c1ac2bc0",
   "metadata": {},
   "source": [
    "### Observer's Position"
   ]
  },
  {
   "cell_type": "code",
   "execution_count": 7,
   "id": "f399bd65-43d9-46f7-86c5-441f19a90fa4",
   "metadata": {},
   "outputs": [
    {
     "name": "stdout",
     "output_type": "stream",
     "text": [
      "Carrington Rotation Time:        2017-08-19 04:44:52.946\n",
      "Observers Longitude [deg]:       323.9999982980418\n",
      "Observers Latitude [deg]:        6.830680503300187\n",
      "Observers distance to Sun [AU]:  1.012050123894962\n",
      "Apparent solar radius [arcsec]:  947.8098777838427\n"
     ]
    }
   ],
   "source": [
    "## not yet sure what to use here?  How to get fractional carrington rotation of the PSI data?\n",
    "crn        = 2194.1  \n",
    "crt        = sun.carrington_rotation_time(crn)\n",
    "obsLon     = sun.L0(crt).rad\n",
    "obsLat     = sun.B0(crt).rad\n",
    "Obs_Sun_AU = sun.earth_distance(crt).value\n",
    "rsunarc    = sun.angular_radius(crt).value  ## radius of sun in arcseconds .. later replace with sun ephemeris\n",
    "\n",
    "print('Carrington Rotation Time:       ',crt)\n",
    "print('Observers Longitude [deg]:      ',np.rad2deg(obsLon))\n",
    "print('Observers Latitude [deg]:       ',np.rad2deg(obsLat))\n",
    "print('Observers distance to Sun [AU]: ',Obs_Sun_AU)\n",
    "print('Apparent solar radius [arcsec]: ',rsunarc)"
   ]
  },
  {
   "cell_type": "code",
   "execution_count": 8,
   "id": "e7315081-e645-4ff7-869e-654496635928",
   "metadata": {},
   "outputs": [
    {
     "name": "stdout",
     "output_type": "stream",
     "text": [
      "174.65060561060434 -126.89110044448852 25.859384238598253\n"
     ]
    }
   ],
   "source": [
    "## rObs is the radial position of the observer in solar radii\n",
    "rObs     = Obs_Sun_AU * (1.495978707e11/6.96340e8)   \n",
    "## Observers latitude in the PSI model geometry \n",
    "thetaObs = np.pi/2. - obsLat\n",
    "## Observers Lon in PSI model geometry\n",
    "phiObs   = obsLon\n",
    "## cartesian position of Observer in PSI model geometery (units of solar radii)\n",
    "xObs,yObs,zObs = rObs*np.sin(thetaObs)*np.cos(phiObs),rObs*np.sin(thetaObs)*np.sin(phiObs),rObs*np.cos(thetaObs)\n",
    "print(xObs,yObs,zObs)"
   ]
  },
  {
   "cell_type": "markdown",
   "id": "2190ffb3-3352-4b12-8dad-bafd4b8e5e2d",
   "metadata": {},
   "source": [
    "### Synthesized Field-of-View Size and Sampling\n",
    "\n",
    "- The synthesis geometry will have the x axis pointed toward the observer.  Z is aligned with polar axis. "
   ]
  },
  {
   "cell_type": "code",
   "execution_count": 9,
   "id": "9a5b6ced-c746-4cfa-9f42-fe72e84542cb",
   "metadata": {},
   "outputs": [],
   "source": [
    "yfov_range = (-3.*rsunarc,+3*rsunarc)\n",
    "zfov_range = (-3.*rsunarc,+3*rsunarc)\n",
    "arcsamp    = 20.  ## sampling in arcsecond\n",
    "nysamp = int(np.ceil((yfov_range[1]-yfov_range[0])/arcsamp))\n",
    "nzsamp = int(np.ceil((zfov_range[1]-zfov_range[0])/arcsamp))\n",
    "yarc = np.linspace(yfov_range[0],yfov_range[1],nysamp)\n",
    "zarc = np.linspace(zfov_range[0],zfov_range[1],nzsamp)\n",
    "yya,zza  = np.meshgrid(yarc,zarc,indexing = 'ij')\n",
    "rra = np.sqrt(yya**2. + zza**2.) \n",
    "mask_ondisk = 1.*(rra>rsunarc)    ## a mask where the field of view cross the solar disk"
   ]
  },
  {
   "cell_type": "markdown",
   "id": "29e34f5c-8463-45a4-8e45-1304ff4ce624",
   "metadata": {},
   "source": [
    "### Calculate ray samples along each line-of-sight"
   ]
  },
  {
   "cell_type": "code",
   "execution_count": 10,
   "id": "b5e66dcc-2897-40df-b312-27a726a4f8f8",
   "metadata": {},
   "outputs": [],
   "source": [
    "## First find the cartestian points of each line of sight in the zy plane of the observer's geometry \n",
    "xxObs = np.zeros_like(yya)\n",
    "yyObs = rObs * np.tan(np.deg2rad(yya/3600.))\n",
    "zzObs = rObs * np.tan(np.deg2rad(zza/3600.))\n",
    "\n",
    "## rotate these points into the model geometry with Euler rotation\n",
    "rotm = euler_rz(-phiObs) @ euler_ry(-(thetaObs-np.pi/2.))\n",
    "xyz_model = rotm.T  @ np.stack((xxObs.flatten(),yyObs.flatten(),zzObs.flatten()))\n",
    "\n",
    "## NOW WITH THE XYZ_MODEL POINTS AND THE LOCATION OF THE OBSERVER,\n",
    "## come up with the parametric equations for the los of sight\n",
    "## and then get the spherical coordinates, interpolate for rho and temps, etc.\n",
    "## synthesize and integrate for integrated I,Q,U, (V?)\n",
    "\n",
    "losvec    = np.stack((xObs-xyz_model[0,:],yObs-xyz_model[1,:],zObs - xyz_model[2,:]))\n",
    "losveclen = np.linalg.norm(losvec,axis=0,ord=2,keepdims = True)\n",
    "losvec    = losvec / losveclen\n",
    "startpt   = xyz_model"
   ]
  },
  {
   "cell_type": "code",
   "execution_count": 11,
   "id": "0297a819-96fe-4ee3-ac4d-2080fce6d35f",
   "metadata": {},
   "outputs": [],
   "source": [
    "lons,lats,rs = corona.lons,corona.lats,corona.rs\n",
    "## minimum angular spacing\n",
    "m1 = np.min(np.abs(lons - np.roll(lons,1)))\n",
    "m2 = np.min(np.abs(lons - np.roll(lons,-1)))\n",
    "m3 = np.min(np.abs(lats - np.roll(lats,1)))\n",
    "m4 = np.min(np.abs(lats - np.roll(lats,-1)))\n",
    "dth = np.min([m1,m2,m3,m4])/2."
   ]
  },
  {
   "cell_type": "code",
   "execution_count": 12,
   "id": "706b3ce2-a032-467d-86af-78de23d7fe75",
   "metadata": {},
   "outputs": [
    {
     "data": {
      "text/plain": [
       "((81225,), (3, 81225), (3, 81225))"
      ]
     },
     "execution_count": 12,
     "metadata": {},
     "output_type": "execute_result"
    }
   ],
   "source": [
    "tharr = np.linspace(-np.pi/2,np.pi/2,int(np.ceil(np.pi/dth)))\n",
    "tan_tharr = np.tan(tharr)\n",
    "rpt = np.linalg.norm(startpt,axis=0,ord=2)\n",
    "rpt.shape,startpt.shape,losvec.shape"
   ]
  },
  {
   "cell_type": "code",
   "execution_count": 64,
   "id": "41a7657c-c907-46b1-b419-be3f55689648",
   "metadata": {},
   "outputs": [
    {
     "name": "stderr",
     "output_type": "stream",
     "text": [
      "/tmp/ipykernel_179783/2395897343.py:21: RuntimeWarning: invalid value encountered in true_divide\n",
      "  tm = np.arccos((rayxyz[:,2]/rm))\n"
     ]
    },
    {
     "name": "stdout",
     "output_type": "stream",
     "text": [
      "8.851547718048096\n"
     ]
    }
   ],
   "source": [
    "import time \n",
    "t0 = time.time()\n",
    "rays_xyz = []\n",
    "rays_sph = []\n",
    "dls = []\n",
    "pts = 0 \n",
    "for pt in range(len(rpt)):\n",
    "    \n",
    "    ## figure out step size using angular coordinates\n",
    "    dl = tan_tharr*rpt[pt]  ## the length between points \n",
    "    \n",
    "    rayxyz = startpt[:,pt] + losvec[:,pt]*dl[:,None]\n",
    "    rayr = np.linalg.norm(rayxyz,axis=1)\n",
    "    \n",
    "    ## remove those outside of the simulation domain \n",
    "    ## to do this, I set the values of the ray to infinity so that the bound \n",
    "    ## check of the interpolator below will return 0. \n",
    "    ## Doing it this way always the rays to be efficiencyly stacked \n",
    "\n",
    "    rm = np.linalg.norm(rayxyz,axis=1)\n",
    "    tm = np.arccos((rayxyz[:,2]/rm))\n",
    "    pm = np.arctan2(rayxyz[:,1],rayxyz[:,0])\n",
    "    pm[pm<0] += 2*np.pi  ## so that it falls in the simulation domain \n",
    "\n",
    "    ray_sp = np.stack([rm,tm,pm]).T  ## the spherical coordinates for each point along the ray \n",
    "       \n",
    "    rayxyz[rayr>rs.max(),:] = np.inf\n",
    "    ray_sp[rayr>rs.max(),:] = np.inf\n",
    "    dl[rayr>rs.max()]  = 0.    \n",
    "        \n",
    "    pts += len(ray_sp[0,:])\n",
    "    rays_sph.append(ray_sp.T)\n",
    "    rays_xyz.append(rayxyz.T)\n",
    "    dls.append(dl)\n",
    "    \n",
    "t1 = time.time()\n",
    "print(t1-t0)"
   ]
  },
  {
   "cell_type": "code",
   "execution_count": 65,
   "id": "74e4a816-8008-4aa7-b2ab-44276151f0f3",
   "metadata": {},
   "outputs": [
    {
     "data": {
      "text/plain": [
       "((286, 3), (286, 3))"
      ]
     },
     "execution_count": 65,
     "metadata": {},
     "output_type": "execute_result"
    }
   ],
   "source": [
    "rayxyz.shape,ray_sp.shape"
   ]
  },
  {
   "cell_type": "code",
   "execution_count": 66,
   "id": "e9beb4e7-2135-4d76-94e2-40da4391cfdb",
   "metadata": {},
   "outputs": [],
   "source": [
    "rays_sph = np.array(rays_sph).reshape(len(rpt)*len(tan_tharr),3)\n",
    "rays_xyz = np.array(rays_xyz).reshape(len(rpt)*len(tan_tharr),3)"
   ]
  },
  {
   "cell_type": "code",
   "execution_count": 67,
   "id": "8dfa1a2d-3c39-4a7d-841f-a5b2f2fdbbe0",
   "metadata": {},
   "outputs": [
    {
     "data": {
      "text/plain": [
       "((23230350, 3), (23230350, 3))"
      ]
     },
     "execution_count": 67,
     "metadata": {},
     "output_type": "execute_result"
    }
   ],
   "source": [
    "rays_sph.shape,rays_xyz.shape"
   ]
  },
  {
   "cell_type": "code",
   "execution_count": 68,
   "id": "228194c5-d100-401e-8a76-eda451780650",
   "metadata": {},
   "outputs": [],
   "source": [
    "#### Get interpolating functions for all necessary simulation data\n",
    "ccoefInt  = rgi((lons,lats,rs),ccoef_10747,method = 'linear',fill_value = 0.,bounds_error = False)\n",
    "alignInt  = rgi((lons,lats,rs),align_10747,method = 'linear',fill_value = 0.,bounds_error = False)\n",
    "bxInt   = rgi((lons,lats,rs),corona.bx,method = 'linear',fill_value = 0.,bounds_error = False)\n",
    "byInt   = rgi((lons,lats,rs),corona.by,method = 'linear',fill_value = 0.,bounds_error = False)\n",
    "bzInt   = rgi((lons,lats,rs),corona.bz,method = 'linear',fill_value = 0.,bounds_error = False)\n",
    "\n",
    "## add velocities! "
   ]
  },
  {
   "cell_type": "code",
   "execution_count": 69,
   "id": "7939ba49-ae41-4f79-a610-90a41c1c3c10",
   "metadata": {},
   "outputs": [
    {
     "name": "stdout",
     "output_type": "stream",
     "text": [
      "CPU times: user 5.72 s, sys: 1.7 s, total: 7.42 s\n",
      "Wall time: 7.42 s\n"
     ]
    }
   ],
   "source": [
    "%time bxrays = bxInt(rays_sph) "
   ]
  },
  {
   "cell_type": "code",
   "execution_count": 70,
   "id": "7a29942a-2ae9-4cf9-85cc-3c73f6f47d5d",
   "metadata": {},
   "outputs": [
    {
     "name": "stdout",
     "output_type": "stream",
     "text": [
      "CPU times: user 5.74 s, sys: 1.69 s, total: 7.43 s\n",
      "Wall time: 7.43 s\n"
     ]
    }
   ],
   "source": [
    "%time byrays = byInt(rays_sph) "
   ]
  },
  {
   "cell_type": "code",
   "execution_count": 71,
   "id": "de3e204c-adc8-49de-a151-c021e235866f",
   "metadata": {},
   "outputs": [
    {
     "name": "stdout",
     "output_type": "stream",
     "text": [
      "CPU times: user 5.74 s, sys: 1.7 s, total: 7.44 s\n",
      "Wall time: 7.43 s\n"
     ]
    }
   ],
   "source": [
    "%time bzrays = bzInt(rays_sph) "
   ]
  },
  {
   "cell_type": "code",
   "execution_count": 72,
   "id": "4308b93d-ff79-444a-adfe-c82d979133c3",
   "metadata": {},
   "outputs": [],
   "source": [
    "## get ThetaB (inclination of B wrt to LOS)\n",
    "bxyzs = np.stack((bxrays,byrays,bzrays)).T\n",
    "blens = np.linalg.norm(bxyzs,axis =1)\n",
    "bxyzs = bxyzs.reshape(len(rpt),len(tan_tharr),3)\n",
    "blens = blens.reshape(len(rpt),len(tan_tharr))\n",
    "bxyzs = np.swapaxes(np.swapaxes(bxyzs,0,2),0,1)"
   ]
  },
  {
   "cell_type": "code",
   "execution_count": 73,
   "id": "7399b07c-212b-49fa-a76f-77297115e39d",
   "metadata": {},
   "outputs": [
    {
     "data": {
      "text/plain": [
       "((286, 3, 81225), (3, 81225), (286, 81225))"
      ]
     },
     "execution_count": 73,
     "metadata": {},
     "output_type": "execute_result"
    }
   ],
   "source": [
    "bxyzs.shape,losvec.shape,blens.T.shape"
   ]
  },
  {
   "cell_type": "code",
   "execution_count": 74,
   "id": "f4e4e081-b8f9-4fb6-b607-749078622507",
   "metadata": {},
   "outputs": [
    {
     "name": "stderr",
     "output_type": "stream",
     "text": [
      "/tmp/ipykernel_179783/4076082180.py:1: RuntimeWarning: invalid value encountered in true_divide\n",
      "  thetaBlos = np.arccos( (np.sum(bxyzs*losvec[None,:,:],axis=1)/blens.T).clip(min = -1,max=1))\n"
     ]
    }
   ],
   "source": [
    "thetaBlos = np.arccos( (np.sum(bxyzs*losvec[None,:,:],axis=1)/blens.T).clip(min = -1,max=1))\n",
    "thetaBlos[np.isnan(thetaBlos)] = 0."
   ]
  },
  {
   "cell_type": "code",
   "execution_count": 77,
   "id": "91a79825-b859-464d-9968-7a3b51fdfa8b",
   "metadata": {},
   "outputs": [
    {
     "ename": "ValueError",
     "evalue": "operands could not be broadcast together with shapes (3,81225) (286,81225) ",
     "output_type": "error",
     "traceback": [
      "\u001b[0;31m---------------------------------------------------------------------------\u001b[0m",
      "\u001b[0;31mValueError\u001b[0m                                Traceback (most recent call last)",
      "\u001b[0;32m/tmp/ipykernel_179783/3339256824.py\u001b[0m in \u001b[0;36m<module>\u001b[0;34m\u001b[0m\n\u001b[1;32m      4\u001b[0m \u001b[0mrays_xyz\u001b[0m \u001b[0;34m=\u001b[0m \u001b[0mrays_xyz\u001b[0m\u001b[0;34m.\u001b[0m\u001b[0mreshape\u001b[0m\u001b[0;34m(\u001b[0m\u001b[0mlen\u001b[0m\u001b[0;34m(\u001b[0m\u001b[0mrpt\u001b[0m\u001b[0;34m)\u001b[0m\u001b[0;34m,\u001b[0m\u001b[0mlen\u001b[0m\u001b[0;34m(\u001b[0m\u001b[0mtan_tharr\u001b[0m\u001b[0;34m)\u001b[0m\u001b[0;34m,\u001b[0m\u001b[0;36m3\u001b[0m\u001b[0;34m)\u001b[0m\u001b[0;34m\u001b[0m\u001b[0;34m\u001b[0m\u001b[0m\n\u001b[1;32m      5\u001b[0m \u001b[0mrays_xyz\u001b[0m \u001b[0;34m=\u001b[0m \u001b[0mnp\u001b[0m\u001b[0;34m.\u001b[0m\u001b[0mswapaxes\u001b[0m\u001b[0;34m(\u001b[0m\u001b[0mnp\u001b[0m\u001b[0;34m.\u001b[0m\u001b[0mswapaxes\u001b[0m\u001b[0;34m(\u001b[0m\u001b[0mrays_xyz\u001b[0m\u001b[0;34m,\u001b[0m\u001b[0;36m0\u001b[0m\u001b[0;34m,\u001b[0m\u001b[0;36m2\u001b[0m\u001b[0;34m)\u001b[0m\u001b[0;34m,\u001b[0m\u001b[0;36m0\u001b[0m\u001b[0;34m,\u001b[0m\u001b[0;36m1\u001b[0m\u001b[0;34m)\u001b[0m\u001b[0;34m\u001b[0m\u001b[0;34m\u001b[0m\u001b[0m\n\u001b[0;32m----> 6\u001b[0;31m \u001b[0mthetaDClos\u001b[0m \u001b[0;34m=\u001b[0m \u001b[0mnp\u001b[0m\u001b[0;34m.\u001b[0m\u001b[0marccos\u001b[0m\u001b[0;34m(\u001b[0m\u001b[0;34m(\u001b[0m\u001b[0mnp\u001b[0m\u001b[0;34m.\u001b[0m\u001b[0msum\u001b[0m\u001b[0;34m(\u001b[0m\u001b[0mrays_xyz\u001b[0m\u001b[0;34m*\u001b[0m\u001b[0mlosvec\u001b[0m\u001b[0;34m[\u001b[0m\u001b[0;32mNone\u001b[0m\u001b[0;34m,\u001b[0m\u001b[0;34m:\u001b[0m\u001b[0;34m,\u001b[0m\u001b[0;34m:\u001b[0m\u001b[0;34m]\u001b[0m\u001b[0;34m,\u001b[0m\u001b[0maxis\u001b[0m\u001b[0;34m=\u001b[0m\u001b[0;36m0\u001b[0m\u001b[0;34m)\u001b[0m\u001b[0;34m/\u001b[0m\u001b[0mrlens\u001b[0m\u001b[0;34m)\u001b[0m\u001b[0;34m.\u001b[0m\u001b[0mclip\u001b[0m\u001b[0;34m(\u001b[0m\u001b[0mmin\u001b[0m \u001b[0;34m=\u001b[0m \u001b[0;34m-\u001b[0m\u001b[0;36m1\u001b[0m\u001b[0;34m,\u001b[0m\u001b[0mmax\u001b[0m\u001b[0;34m=\u001b[0m\u001b[0;36m1\u001b[0m\u001b[0;34m)\u001b[0m\u001b[0;34m)\u001b[0m\u001b[0;34m\u001b[0m\u001b[0;34m\u001b[0m\u001b[0m\n\u001b[0m",
      "\u001b[0;31mValueError\u001b[0m: operands could not be broadcast together with shapes (3,81225) (286,81225) "
     ]
    }
   ],
   "source": [
    "## angle between losvec and the vector from disk center\n",
    "rlens = np.linalg.norm(rays_xyz,axis=1)\n",
    "rlens = rlens.reshape(len(rpt),len(tan_tharr)).T\n",
    "rays_xyz = rays_xyz.reshape(len(rpt),len(tan_tharr),3)\n",
    "rays_xyz = np.swapaxes(np.swapaxes(rays_xyz,0,2),0,1)\n",
    "thetaDClos = np.arccos((np.sum(rays_xyz*losvec[None,:,:],axis=0)/rlens).clip(min = -1,max=1))"
   ]
  },
  {
   "cell_type": "code",
   "execution_count": 76,
   "id": "c1e2ebdb-a044-4d76-b9af-a707a290f623",
   "metadata": {},
   "outputs": [
    {
     "data": {
      "text/plain": [
       "((286, 3, 81225), (3, 81225), (81225, 286))"
      ]
     },
     "execution_count": 76,
     "metadata": {},
     "output_type": "execute_result"
    }
   ],
   "source": [
    "rays_xyz.shape,losvec.shape,rlens.shape"
   ]
  },
  {
   "cell_type": "code",
   "execution_count": null,
   "id": "124edaed-1034-4bf1-97fa-ce8761833717",
   "metadata": {},
   "outputs": [],
   "source": []
  },
  {
   "cell_type": "code",
   "execution_count": null,
   "id": "9bde9fd0-b9ea-43fa-bb26-318aceaac29a",
   "metadata": {},
   "outputs": [],
   "source": [
    "## angle between losvec and the vector from disk center\n",
    "rlens = np.linalg.norm(xyz_next,axis=0)\n",
    "thetaDClos = np.arccos((np.sum(xyz_next*losvec,axis=0)/rlens).clip(min = -1,max=1))\n"
   ]
  },
  {
   "cell_type": "code",
   "execution_count": null,
   "id": "f1f2b2e4-4132-42a8-a23d-e362de72ce89",
   "metadata": {},
   "outputs": [],
   "source": []
  },
  {
   "cell_type": "code",
   "execution_count": 95,
   "id": "84b92165-d66f-4778-82e6-8d58225794d7",
   "metadata": {},
   "outputs": [],
   "source": [
    "\n",
    "\n",
    "\n",
    "## angle between losvec and the vector from disk center\n",
    "rlens = np.linalg.norm(xyz_next,axis=0)\n",
    "thetaDClos = np.arccos((np.sum(xyz_next*losvec,axis=0)/rlens).clip(min = -1,max=1))\n",
    "\n",
    "## get projection of B onto plane perpendicular to LOS\n",
    "## and the projection of DC vector onto same plane\n",
    "Bperp  = bxyzs -  (blens*np.cos(thetaBlos))*losvec\n",
    "DCperp = xyz_next - (rlens*np.cos(thetaDClos))*losvec\n",
    "\n",
    "## find angle between Bperp and DCperp, which is the azimuthal angle relative to disk center\n",
    "costhetaAzi = np.sum((Bperp*DCperp),axis=0)/(np.linalg.norm(Bperp,axis = 0)*np.linalg.norm(DCperp,axis = 0))\n",
    "thetaAzi = np.arccos(costhetaAzi.clip(min =-1,max=1))\n",
    "thetaAzi[np.isnan(thetaAzi)] = 0."
   ]
  },
  {
   "cell_type": "code",
   "execution_count": null,
   "id": "e555dda8-f5d4-40a4-a5a2-d347ffe5ca58",
   "metadata": {},
   "outputs": [],
   "source": [
    "ln1 = fe13.get_emissionLine(10747.)\n",
    "geff,D_coeff,E_coeff = ln1.geff,ln1.Dcoeff,ln1.Ecoeff"
   ]
  },
  {
   "cell_type": "code",
   "execution_count": null,
   "id": "c0be3f99-6e8b-4240-9bb2-b60c42af97ef",
   "metadata": {},
   "outputs": [],
   "source": []
  },
  {
   "cell_type": "code",
   "execution_count": null,
   "id": "c77ac18f-c778-4808-bbc8-3ffcba5e0a7b",
   "metadata": {},
   "outputs": [],
   "source": []
  },
  {
   "cell_type": "code",
   "execution_count": null,
   "id": "a8dc9c06-a2ed-4ff7-8765-08b81e3e63b8",
   "metadata": {},
   "outputs": [],
   "source": []
  },
  {
   "cell_type": "code",
   "execution_count": 52,
   "id": "db810305-3cf9-4b93-b7d0-42fd536ffac0",
   "metadata": {},
   "outputs": [],
   "source": []
  },
  {
   "cell_type": "code",
   "execution_count": 24,
   "id": "6d4e5991-0447-4640-a31a-af54d9dfe413",
   "metadata": {},
   "outputs": [],
   "source": []
  },
  {
   "cell_type": "code",
   "execution_count": null,
   "id": "c00b32af-a73c-4e79-973f-c84995c462a4",
   "metadata": {},
   "outputs": [],
   "source": []
  },
  {
   "cell_type": "code",
   "execution_count": null,
   "id": "f3773d9b-d7c4-4cb1-a6fd-af54aa5c2ed1",
   "metadata": {},
   "outputs": [],
   "source": []
  },
  {
   "cell_type": "code",
   "execution_count": 117,
   "id": "508bbebd-14ee-45a6-a59a-cb9ae55a1124",
   "metadata": {
    "scrolled": true,
    "tags": []
   },
   "outputs": [
    {
     "name": "stderr",
     "output_type": "stream",
     "text": [
      "/tmp/ipykernel_174817/3144194238.py:5: DeprecationWarning: `np.int` is a deprecated alias for the builtin `int`. To silence this warning, use `int` by itself. Doing this will not modify any behavior and is safe. When replacing `np.int`, you may wish to use e.g. `np.int64` or `np.int32` to specify the precision. If you wish to review your current use, check the release note link for additional information.\n",
      "Deprecated in NumPy 1.20; for more details and guidance: https://numpy.org/devdocs/release/1.20.0-notes.html#deprecations\n",
      "  steps = np.linspace(-3,3,np.int(np.ceil(6./(10./960.))))  ## radii units\n"
     ]
    },
    {
     "name": "stdout",
     "output_type": "stream",
     "text": [
      "0 576\n",
      "1 576\n",
      "2 576\n",
      "3 576\n",
      "4 576\n",
      "5 576\n",
      "6 576\n",
      "7 576\n",
      "8 576\n",
      "9 576\n",
      "10 576\n",
      "11 576\n",
      "12 576\n",
      "13 576\n",
      "14 576\n",
      "15 576\n",
      "16 576\n",
      "17 576\n",
      "18 576\n",
      "19 576\n",
      "20 576\n",
      "21 576\n",
      "22 576\n",
      "23 576\n",
      "24 576\n",
      "25 576\n",
      "26 576\n",
      "27 576\n",
      "28 576\n",
      "29 576\n",
      "30 576\n",
      "31 576\n",
      "32 576\n",
      "33 576\n",
      "34 576\n",
      "35 576\n",
      "36 576\n",
      "37 576\n",
      "38 576\n",
      "39 576\n",
      "40 576\n",
      "41 576\n",
      "42 576\n",
      "43 576\n",
      "44 576\n",
      "45 576\n",
      "46 576\n",
      "47 576\n",
      "48 576\n",
      "49 576\n",
      "50 576\n",
      "51 576\n",
      "52 576\n",
      "53 576\n",
      "54 576\n",
      "55 576\n",
      "56 576\n",
      "57 576\n",
      "58 576\n",
      "59 576\n",
      "60 576\n",
      "61 576\n",
      "62 576\n",
      "63 576\n",
      "64 576\n",
      "65 576\n",
      "66 576\n",
      "67 576\n",
      "68 576\n",
      "69 576\n",
      "70 576\n",
      "71 576\n",
      "72 576\n",
      "73 576\n",
      "74 576\n",
      "75 576\n",
      "76 576\n",
      "77 576\n",
      "78 576\n",
      "79 576\n",
      "80 576\n",
      "81 576\n",
      "82 576\n",
      "83 576\n",
      "84 576\n",
      "85 576\n",
      "86 576\n",
      "87 576\n",
      "88 576\n",
      "89 576\n",
      "90 576\n",
      "91 576\n",
      "92 576\n",
      "93 576\n",
      "94 576\n",
      "95 576\n",
      "96 576\n",
      "97 576\n",
      "98 576\n",
      "99 576\n",
      "100 576\n",
      "101 576\n",
      "102 576\n",
      "103 576\n",
      "104 576\n",
      "105 576\n",
      "106 576\n",
      "107 576\n",
      "108 576\n",
      "109 576\n",
      "110 576\n",
      "111 576\n",
      "112 576\n",
      "113 576\n",
      "114 576\n",
      "115 576\n",
      "116 576\n",
      "117 576\n",
      "118 576\n",
      "119 576\n",
      "120 576\n",
      "121 576\n",
      "122 576\n",
      "123 576\n",
      "124 576\n",
      "125 576\n",
      "126 576\n",
      "127 576\n",
      "128 576\n",
      "129 576\n",
      "130 576\n",
      "131 576\n",
      "132 576\n",
      "133 576\n",
      "134 576\n",
      "135 576\n",
      "136 576\n",
      "137 576\n",
      "138 576\n",
      "139 576\n",
      "140 576\n",
      "141 576\n",
      "142 576\n",
      "143 576\n",
      "144 576\n",
      "145 576\n",
      "146 576\n",
      "147 576\n",
      "148 576\n",
      "149 576\n",
      "150 576\n",
      "151 576\n",
      "152 576\n",
      "153 576\n",
      "154 576\n",
      "155 576\n",
      "156 576\n",
      "157 576\n",
      "158 576\n",
      "159 576\n",
      "160 576\n",
      "161 576\n",
      "162 576\n",
      "163 576\n",
      "164 576\n",
      "165 576\n",
      "166 576\n",
      "167 576\n",
      "168 576\n",
      "169 576\n",
      "170 576\n",
      "171 576\n",
      "172 576\n",
      "173 576\n",
      "174 576\n",
      "175 576\n",
      "176 576\n",
      "177 576\n",
      "178 576\n",
      "179 576\n",
      "180 576\n",
      "181 576\n",
      "182 576\n",
      "183 576\n",
      "184 576\n",
      "185 576\n",
      "186 576\n",
      "187 576\n",
      "188 576\n",
      "189 576\n",
      "190 576\n",
      "191 576\n",
      "192 576\n"
     ]
    },
    {
     "name": "stderr",
     "output_type": "stream",
     "text": [
      "/tmp/ipykernel_174817/3144194238.py:21: RuntimeWarning: invalid value encountered in true_divide\n",
      "  thetaBlos = np.arccos((np.sum(bxyzs*losvec,axis=0)/blens).clip(min = -1,max=1))\n",
      "/tmp/ipykernel_174817/3144194238.py:34: RuntimeWarning: invalid value encountered in true_divide\n",
      "  costhetaAzi = np.sum((Bperp*DCperp),axis=0)/(np.linalg.norm(Bperp,axis = 0)*np.linalg.norm(DCperp,axis = 0))\n"
     ]
    },
    {
     "name": "stdout",
     "output_type": "stream",
     "text": [
      "193 576\n",
      "194 576\n",
      "195 576\n",
      "196 576\n",
      "197 576\n",
      "198 576\n",
      "199 576\n",
      "200 576\n",
      "201 576\n",
      "202 576\n",
      "203 576\n",
      "204 576\n",
      "205 576\n",
      "206 576\n",
      "207 576\n",
      "208 576\n",
      "209 576\n",
      "210 576\n",
      "211 576\n",
      "212 576\n",
      "213 576\n",
      "214 576\n",
      "215 576\n",
      "216 576\n",
      "217 576\n",
      "218 576\n",
      "219 576\n",
      "220 576\n",
      "221 576\n",
      "222 576\n",
      "223 576\n",
      "224 576\n",
      "225 576\n",
      "226 576\n",
      "227 576\n",
      "228 576\n",
      "229 576\n",
      "230 576\n",
      "231 576\n",
      "232 576\n",
      "233 576\n",
      "234 576\n",
      "235 576\n",
      "236 576\n",
      "237 576\n",
      "238 576\n",
      "239 576\n",
      "240 576\n",
      "241 576\n",
      "242 576\n",
      "243 576\n",
      "244 576\n",
      "245 576\n",
      "246 576\n",
      "247 576\n",
      "248 576\n",
      "249 576\n",
      "250 576\n",
      "251 576\n",
      "252 576\n",
      "253 576\n",
      "254 576\n",
      "255 576\n",
      "256 576\n",
      "257 576\n",
      "258 576\n",
      "259 576\n",
      "260 576\n",
      "261 576\n",
      "262 576\n",
      "263 576\n",
      "264 576\n",
      "265 576\n",
      "266 576\n",
      "267 576\n",
      "268 576\n",
      "269 576\n",
      "270 576\n",
      "271 576\n",
      "272 576\n",
      "273 576\n",
      "274 576\n",
      "275 576\n",
      "276 576\n",
      "277 576\n",
      "278 576\n",
      "279 576\n",
      "280 576\n",
      "281 576\n",
      "282 576\n",
      "283 576\n",
      "284 576\n",
      "285 576\n",
      "286 576\n",
      "287 576\n",
      "288 576\n",
      "289 576\n",
      "290 576\n",
      "291 576\n",
      "292 576\n",
      "293 576\n",
      "294 576\n",
      "295 576\n",
      "296 576\n",
      "297 576\n",
      "298 576\n",
      "299 576\n",
      "300 576\n",
      "301 576\n",
      "302 576\n",
      "303 576\n",
      "304 576\n",
      "305 576\n",
      "306 576\n",
      "307 576\n",
      "308 576\n",
      "309 576\n",
      "310 576\n",
      "311 576\n",
      "312 576\n",
      "313 576\n",
      "314 576\n",
      "315 576\n",
      "316 576\n",
      "317 576\n",
      "318 576\n",
      "319 576\n",
      "320 576\n",
      "321 576\n",
      "322 576\n",
      "323 576\n",
      "324 576\n",
      "325 576\n",
      "326 576\n",
      "327 576\n",
      "328 576\n",
      "329 576\n",
      "330 576\n",
      "331 576\n",
      "332 576\n",
      "333 576\n",
      "334 576\n",
      "335 576\n",
      "336 576\n",
      "337 576\n",
      "338 576\n",
      "339 576\n",
      "340 576\n",
      "341 576\n",
      "342 576\n",
      "343 576\n",
      "344 576\n",
      "345 576\n",
      "346 576\n",
      "347 576\n",
      "348 576\n",
      "349 576\n",
      "350 576\n",
      "351 576\n",
      "352 576\n",
      "353 576\n",
      "354 576\n",
      "355 576\n",
      "356 576\n",
      "357 576\n",
      "358 576\n",
      "359 576\n",
      "360 576\n",
      "361 576\n",
      "362 576\n",
      "363 576\n",
      "364 576\n",
      "365 576\n",
      "366 576\n",
      "367 576\n",
      "368 576\n",
      "369 576\n",
      "370 576\n",
      "371 576\n",
      "372 576\n",
      "373 576\n",
      "374 576\n",
      "375 576\n",
      "376 576\n",
      "377 576\n",
      "378 576\n",
      "379 576\n",
      "380 576\n",
      "381 576\n",
      "382 576\n",
      "383 576\n",
      "384 576\n",
      "385 576\n",
      "386 576\n",
      "387 576\n",
      "388 576\n",
      "389 576\n",
      "390 576\n",
      "391 576\n",
      "392 576\n",
      "393 576\n",
      "394 576\n",
      "395 576\n",
      "396 576\n",
      "397 576\n",
      "398 576\n",
      "399 576\n",
      "400 576\n",
      "401 576\n",
      "402 576\n",
      "403 576\n",
      "404 576\n",
      "405 576\n",
      "406 576\n",
      "407 576\n",
      "408 576\n",
      "409 576\n",
      "410 576\n",
      "411 576\n",
      "412 576\n",
      "413 576\n",
      "414 576\n",
      "415 576\n",
      "416 576\n",
      "417 576\n",
      "418 576\n",
      "419 576\n",
      "420 576\n",
      "421 576\n",
      "422 576\n",
      "423 576\n",
      "424 576\n",
      "425 576\n",
      "426 576\n",
      "427 576\n",
      "428 576\n",
      "429 576\n",
      "430 576\n",
      "431 576\n",
      "432 576\n",
      "433 576\n",
      "434 576\n",
      "435 576\n",
      "436 576\n",
      "437 576\n",
      "438 576\n",
      "439 576\n",
      "440 576\n",
      "441 576\n",
      "442 576\n",
      "443 576\n",
      "444 576\n",
      "445 576\n",
      "446 576\n",
      "447 576\n",
      "448 576\n",
      "449 576\n",
      "450 576\n",
      "451 576\n",
      "452 576\n",
      "453 576\n",
      "454 576\n",
      "455 576\n",
      "456 576\n",
      "457 576\n",
      "458 576\n",
      "459 576\n",
      "460 576\n",
      "461 576\n",
      "462 576\n",
      "463 576\n",
      "464 576\n",
      "465 576\n",
      "466 576\n",
      "467 576\n",
      "468 576\n",
      "469 576\n",
      "470 576\n",
      "471 576\n",
      "472 576\n",
      "473 576\n",
      "474 576\n",
      "475 576\n",
      "476 576\n",
      "477 576\n",
      "478 576\n",
      "479 576\n",
      "480 576\n",
      "481 576\n",
      "482 576\n",
      "483 576\n",
      "484 576\n",
      "485 576\n",
      "486 576\n",
      "487 576\n",
      "488 576\n",
      "489 576\n",
      "490 576\n",
      "491 576\n",
      "492 576\n",
      "493 576\n",
      "494 576\n",
      "495 576\n",
      "496 576\n",
      "497 576\n",
      "498 576\n",
      "499 576\n",
      "500 576\n",
      "501 576\n",
      "502 576\n",
      "503 576\n",
      "504 576\n",
      "505 576\n",
      "506 576\n",
      "507 576\n",
      "508 576\n",
      "509 576\n",
      "510 576\n",
      "511 576\n",
      "512 576\n",
      "513 576\n",
      "514 576\n",
      "515 576\n",
      "516 576\n",
      "517 576\n",
      "518 576\n",
      "519 576\n",
      "520 576\n",
      "521 576\n",
      "522 576\n",
      "523 576\n",
      "524 576\n",
      "525 576\n",
      "526 576\n",
      "527 576\n",
      "528 576\n",
      "529 576\n",
      "530 576\n",
      "531 576\n",
      "532 576\n",
      "533 576\n",
      "534 576\n",
      "535 576\n",
      "536 576\n",
      "537 576\n",
      "538 576\n",
      "539 576\n",
      "540 576\n",
      "541 576\n",
      "542 576\n",
      "543 576\n",
      "544 576\n",
      "545 576\n",
      "546 576\n",
      "547 576\n",
      "548 576\n",
      "549 576\n",
      "550 576\n",
      "551 576\n",
      "552 576\n",
      "553 576\n",
      "554 576\n",
      "555 576\n",
      "556 576\n",
      "557 576\n",
      "558 576\n",
      "559 576\n",
      "560 576\n",
      "561 576\n",
      "562 576\n",
      "563 576\n",
      "564 576\n",
      "565 576\n",
      "566 576\n",
      "567 576\n",
      "568 576\n",
      "569 576\n",
      "570 576\n",
      "571 576\n",
      "572 576\n",
      "573 576\n",
      "574 576\n",
      "575 576\n"
     ]
    }
   ],
   "source": [
    "\n",
    "## SYNTHESIS\n",
    "totIQU = np.zeros((xxObs.shape[0],xxObs.shape[1],4))\n",
    "steps = np.linspace(-3,3,np.int(np.ceil(6./(10./960.))))  ## radii units\n",
    "for nstep,losstep in enumerate(steps):\n",
    "    print(nstep,len(steps))\n",
    "\n",
    "    ## get points along line of sight in cartesian and spherical coords\n",
    "    xyz_next = startpt + losvec*losstep\n",
    "    rm = np.sqrt(np.sum(xyz_next**2,axis = 0))\n",
    "    tm = np.arccos(xyz_next[2,:]/rm)\n",
    "    pm = np.arctan2(xyz_next[1,:],xyz_next[0,:])\n",
    "    pm[pm<0] += 2*np.pi  ## so that it falls in the simulation domain \n",
    "    flat = np.array([pm,tm,rm])\n",
    "    \n",
    "    ## get ThetaB (inclination of B wrt to LOS)\n",
    "    bxyzs = np.stack((bxInt(flat.T),byInt(flat.T),bzInt(flat.T)))\n",
    "    blens = np.linalg.norm(bxyzs,axis =0)\n",
    "\n",
    "    ## losvec len is 1\n",
    "    thetaBlos = np.arccos((np.sum(bxyzs*losvec,axis=0)/blens).clip(min = -1,max=1))\n",
    "    thetaBlos[np.isnan(thetaBlos)] = 0.\n",
    "\n",
    "    ## angle between losvec and the vector from disk center\n",
    "    rlens = np.linalg.norm(xyz_next,axis=0)\n",
    "    thetaDClos = np.arccos((np.sum(xyz_next*losvec,axis=0)/rlens).clip(min = -1,max=1))\n",
    "\n",
    "    ## get projection of B onto plane perpendicular to LOS\n",
    "    ## and the projection of DC vector onto same plane\n",
    "    Bperp  = bxyzs -  (blens*np.cos(thetaBlos))*losvec\n",
    "    DCperp = xyz_next - (rlens*np.cos(thetaDClos))*losvec\n",
    "\n",
    "    ## find angle between Bperp and DCperp, which is the azimuthal angle relative to disk center\n",
    "    costhetaAzi = np.sum((Bperp*DCperp),axis=0)/(np.linalg.norm(Bperp,axis = 0)*np.linalg.norm(DCperp,axis = 0))\n",
    "    thetaAzi = np.arccos(costhetaAzi.clip(min =-1,max=1))\n",
    "    thetaAzi[np.isnan(thetaAzi)] = 0.\n",
    "    \n",
    "    ## replace this with a call to the emissionLine class?? \n",
    "\n",
    "    ## total population and atomic alignment\n",
    "    ## this is interpolating both totn and rho...not necessary...multiply them first? \n",
    "    \n",
    "    C_coeff = ccoefInt(flat.T)\n",
    "    sigma   = alignInt(flat.T)\n",
    "\n",
    "    ## STOKES COEFFICIENTS\n",
    "    epsI   = C_coeff*(1.0+(1./(2.*np.sqrt(2.)))*(3.*np.cos(thetaBlos)**2 - 1.)*D_coeff*sigma)\n",
    "    epsQnr = C_coeff*(3./(2.*np.sqrt(2.)))*(np.sin(thetaBlos)**2)*D_coeff*sigma\n",
    "    epsQ   = np.cos(2.*thetaAzi)*epsQnr\n",
    "    epsU   = -np.sin(2.*thetaAzi)*epsQnr\n",
    "    epsV   = C_coeff*np.cos(thetaBlos)*(1399612.2*blens)*(geff + E_coeff*sigma)\n",
    "    ## is it behind the Sun?\n",
    "\n",
    "    if (losstep < 0):\n",
    "        epsI = epsI.reshape(xxObs.shape)*mask_ondisk\n",
    "        epsQ = epsQ.reshape(xxObs.shape)*mask_ondisk\n",
    "        epsU = epsU.reshape(xxObs.shape)*mask_ondisk\n",
    "        epsV = epsV.reshape(xxObs.shape)*mask_ondisk\n",
    "    else:\n",
    "        epsI = epsI.reshape(xxObs.shape)\n",
    "        epsQ = epsQ.reshape(xxObs.shape)\n",
    "        epsU = epsU.reshape(xxObs.shape)\n",
    "        epsV = epsV.reshape(xxObs.shape)\n",
    "    ###\n",
    "\n",
    "    totIQU[:,:,0] += epsI\n",
    "    totIQU[:,:,1] += epsQ\n",
    "    totIQU[:,:,2] += epsU\n",
    "    totIQU[:,:,3] += epsV"
   ]
  },
  {
   "cell_type": "code",
   "execution_count": null,
   "id": "71189a20-ce39-4894-a1c4-3647062423e3",
   "metadata": {},
   "outputs": [],
   "source": [
    "\n"
   ]
  },
  {
   "cell_type": "code",
   "execution_count": 119,
   "id": "a9180044-1be4-4dac-a6fb-7117755f876d",
   "metadata": {},
   "outputs": [
    {
     "data": {
      "application/vnd.jupyter.widget-view+json": {
       "model_id": "6275cc893bec4380a327435a7a19fce6",
       "version_major": 2,
       "version_minor": 0
      },
      "text/plain": [
       "Canvas(toolbar=Toolbar(toolitems=[('Home', 'Reset original view', 'home', 'home'), ('Back', 'Back to previous …"
      ]
     },
     "metadata": {},
     "output_type": "display_data"
    },
    {
     "data": {
      "text/plain": [
       "<matplotlib.image.AxesImage at 0x7f9b003c0ca0>"
      ]
     },
     "execution_count": 119,
     "metadata": {},
     "output_type": "execute_result"
    }
   ],
   "source": [
    "plt.figure()\n",
    "plt.imshow(np.log10(totIQU[:,:,0]).T,cmap = plt.get_cmap('Greys_r'))"
   ]
  },
  {
   "cell_type": "code",
   "execution_count": null,
   "id": "5d2c6b82-0d94-4d9b-8fb4-0aa9a2371f03",
   "metadata": {},
   "outputs": [],
   "source": []
  },
  {
   "cell_type": "code",
   "execution_count": null,
   "id": "64c71eac-15b1-4618-a364-ae76f7bf6a94",
   "metadata": {},
   "outputs": [],
   "source": []
  },
  {
   "cell_type": "code",
   "execution_count": null,
   "id": "32ccff05-e0e7-4897-b354-c43e5a1328e9",
   "metadata": {},
   "outputs": [],
   "source": [
    "## polarized spectra ??"
   ]
  },
  {
   "cell_type": "code",
   "execution_count": null,
   "id": "9261425f-7eff-43c3-b3f0-e49507381620",
   "metadata": {},
   "outputs": [],
   "source": []
  },
  {
   "cell_type": "code",
   "execution_count": null,
   "id": "1817f523-7844-47c5-805e-2e4efa7497d9",
   "metadata": {},
   "outputs": [],
   "source": [
    "## K corona? "
   ]
  },
  {
   "cell_type": "code",
   "execution_count": null,
   "id": "88937b15-9839-4cfc-bc95-764fa9db0514",
   "metadata": {},
   "outputs": [],
   "source": []
  },
  {
   "cell_type": "code",
   "execution_count": null,
   "id": "ab733040-fbdc-4cb2-a8c6-0679cb12cec8",
   "metadata": {},
   "outputs": [],
   "source": []
  },
  {
   "cell_type": "code",
   "execution_count": null,
   "id": "c6796faf-2b4c-4908-b50b-fc56dd877016",
   "metadata": {},
   "outputs": [],
   "source": []
  },
  {
   "cell_type": "code",
   "execution_count": null,
   "id": "aa810b46-e32f-4a55-a203-10242640e2de",
   "metadata": {},
   "outputs": [],
   "source": [
    "## AIA intensities? "
   ]
  },
  {
   "cell_type": "code",
   "execution_count": null,
   "id": "59fb5f1e-51a9-4ffe-a746-d3d768fc95a9",
   "metadata": {},
   "outputs": [],
   "source": []
  },
  {
   "cell_type": "code",
   "execution_count": null,
   "id": "75dba634-e578-4dff-a992-e1e7fbed6ebe",
   "metadata": {},
   "outputs": [],
   "source": []
  },
  {
   "cell_type": "code",
   "execution_count": null,
   "id": "78824aa0-da77-4a62-841f-eb0446c070a2",
   "metadata": {},
   "outputs": [],
   "source": []
  },
  {
   "cell_type": "code",
   "execution_count": null,
   "id": "31677bc5-5e5b-42b7-bfab-c90f8e8649f2",
   "metadata": {},
   "outputs": [],
   "source": []
  }
 ],
 "metadata": {
  "kernelspec": {
   "display_name": "Python 3 (ipykernel)",
   "language": "python",
   "name": "python3"
  },
  "language_info": {
   "codemirror_mode": {
    "name": "ipython",
    "version": 3
   },
   "file_extension": ".py",
   "mimetype": "text/x-python",
   "name": "python",
   "nbconvert_exporter": "python",
   "pygments_lexer": "ipython3",
   "version": "3.9.7"
  },
  "toc-autonumbering": true
 },
 "nbformat": 4,
 "nbformat_minor": 5
}
