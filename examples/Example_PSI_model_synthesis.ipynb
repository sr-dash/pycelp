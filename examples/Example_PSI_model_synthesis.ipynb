{
 "cells": [
  {
   "cell_type": "markdown",
   "id": "5f35d3b8-8ac1-4b25-a296-490f5a62d573",
   "metadata": {
    "tags": []
   },
   "source": [
    "# **Example PSI Model Synthesis Notebook**\n",
    "\n",
    "Tom Schad \n",
    "\n",
    "----\n",
    "\n",
    "- This notebook does an example synthesis of the Global corona using a Predictive Sciences MHD model. \n",
    "\n",
    "\n",
    "----"
   ]
  },
  {
   "cell_type": "code",
   "execution_count": 1,
   "id": "09fe2ec1-bf4a-419e-9c12-ac7d47b50afb",
   "metadata": {
    "tags": []
   },
   "outputs": [],
   "source": [
    "import pycelp \n",
    "import numpy as np\n",
    "import matplotlib.pyplot as plt\n",
    "%matplotlib widget\n",
    "import os\n",
    "os.environ[\"XUVTOP\"] = '/usr/local/ssw/packages/chianti/dbase/'\n",
    "import psi"
   ]
  },
  {
   "cell_type": "markdown",
   "id": "50f8162b-c7f1-4107-92b1-8f9122256006",
   "metadata": {},
   "source": [
    "## **Create an instance of the psi.Model class to load and interact with PSI coronal model data**\n",
    "\n",
    "- Models used here were downloaded using this website from [Predictive Sciences](https://www.predsci.com/hmi/data_access.php)\n",
    "- We picked the date of the US total solar eclipse (21 Aug 2017) using the med-cor-thermo2 model for this demonstration"
   ]
  },
  {
   "cell_type": "code",
   "execution_count": 2,
   "id": "fe6a7573-b5d0-4b08-a1d8-f92fde837afb",
   "metadata": {},
   "outputs": [],
   "source": [
    "## carrington rotation 2194\n",
    "modelName = 'hmi__med-cor-thermo2-std01__med-hel-poly-std01'\n",
    "corona = psi.Model('/home/tschad/Dropbox/psiData_21Aug2017_thermo2_12UTC/corona/')"
   ]
  },
  {
   "cell_type": "code",
   "execution_count": 3,
   "id": "ebba5c4d-7042-4a7d-8715-1e98d111b86f",
   "metadata": {},
   "outputs": [
    {
     "data": {
      "text/plain": [
       "psi Model class\n",
       "    ---------------------\n",
       "    Data Directory Names: /home/tschad/Dropbox/psiData_21Aug2017_thermo2_12UTC/corona/\n",
       "    Number of longitude samples: 181\n",
       "    Number of latitude samples: 100\n",
       "    Number of radial samples: 150\n",
       "    Data shape: (181, 100, 150)\n",
       "    \n",
       "    Variables: \n",
       "    lons -- Longitudes\n",
       "    lats -- Latitudes\n",
       "    rs   -- Radial samples \n",
       "    br,bt,bp  -- Spherical components of magnetic field \n",
       "    bx,by,bz  -- Cartesian components of magnetic field \n",
       "    bmag      -- total magnetic field intensity\n",
       "    thetaBlocal -- location inclination of magnetic field in solar frame\n",
       "    "
      ]
     },
     "execution_count": 3,
     "metadata": {},
     "output_type": "execute_result"
    }
   ],
   "source": [
    "## return the instance name for some basic information on the class\n",
    "corona"
   ]
  },
  {
   "cell_type": "code",
   "execution_count": 4,
   "id": "02a4c77f-66ed-41a8-9a62-e9d0c6ba1404",
   "metadata": {},
   "outputs": [
    {
     "data": {
      "application/vnd.jupyter.widget-view+json": {
       "model_id": "8545951ac35f4700bed3a4190c0b6b61",
       "version_major": 2,
       "version_minor": 0
      },
      "text/plain": [
       "Canvas(toolbar=Toolbar(toolitems=[('Home', 'Reset original view', 'home', 'home'), ('Back', 'Back to previous …"
      ]
     },
     "metadata": {},
     "output_type": "display_data"
    }
   ],
   "source": [
    "kk = 25\n",
    "\n",
    "fig,ax = plt.subplots(2,2,figsize = (8,5))\n",
    "ax = ax.flatten()\n",
    "ax[0].imshow(corona.bmag[:,:,kk].T,extent = (corona.lons.min(),corona.lons.max(),corona.lats.min(),corona.lats.max()))\n",
    "ax[1].imshow(corona.thetaBlocal[:,:,kk].T,extent = (corona.lons.min(),corona.lons.max(),corona.lats.min(),corona.lats.max()))\n",
    "ax[2].imshow(corona.temp[:,:,kk].T,extent = (corona.lons.min(),corona.lons.max(),corona.lats.min(),corona.lats.max()))\n",
    "ax[3].imshow(corona.ne[:,:,kk].T,extent = (corona.lons.min(),corona.lons.max(),corona.lats.min(),corona.lats.max()))\n",
    "labels = 'Magnetic Field Intensity','Local B Inclination','Temperature','Electron Density'\n",
    "for n in range(4): ax[n].set_title(labels[n])\n",
    "\n",
    "cbars = []\n",
    "for axi in ax:\n",
    " cax = axi.inset_axes([1.04, 0.05, 0.05, 0.95], transform=axi.transAxes)\n",
    " cbar1 = fig.colorbar(axi.get_images()[0],ax=axi,cax=cax)\n",
    " cbars.append(cbar1)\n",
    "\n",
    "fig.suptitle(modelName + '\\nRadial Coordinate: ' + str(corona.rs[kk]))\n",
    "\n",
    "fig.tight_layout()"
   ]
  },
  {
   "cell_type": "markdown",
   "id": "b64f23df-e17a-4f81-9c7b-4fded458a2af",
   "metadata": {},
   "source": [
    "## **Initialize the pyCELP model of the line or lines to be synthesized**\n",
    "\n",
    "- Here we start with Fe XIII 1074 nm and keep the model fairly \"small\" at 50 levels.  The errors incurred by using reduced numbers of atomic levels is addressed in [Schad & Dima (2020)](https://rdcu.be/b5J2X) \n"
   ]
  },
  {
   "cell_type": "code",
   "execution_count": 5,
   "id": "f0708509-e44c-4ef7-8134-6038e1e296fa",
   "metadata": {},
   "outputs": [
    {
     "name": "stdout",
     "output_type": "stream",
     "text": [
      " reading:  /usr/local/ssw/packages/chianti/dbase/fe/fe_13/fe_13.elvlc\n",
      " reading:  /usr/local/ssw/packages/chianti/dbase/fe/fe_13/fe_13.wgfa\n",
      " reading:  /usr/local/ssw/packages/chianti/dbase/fe/fe_13/fe_13.scups\n",
      " reading:  /usr/local/ssw/packages/chianti/dbase/fe/fe_13/fe_13.psplups\n",
      " using default abundances: /usr/local/ssw/packages/chianti/dbase/abundance/sun_photospheric_2009_asplund.abund\n",
      " reading:  /usr/local/ssw/packages/chianti/dbase/abundance/sun_photospheric_2009_asplund.abund\n",
      " testing default file: /usr/local/ssw/packages/chianti/dbase/ioneq/chianti.ioneq\n",
      " reading:  /usr/local/ssw/packages/chianti/dbase/ioneq/chianti.ioneq\n",
      " setting up electron collision rate factors\n",
      " setting up proton  collision rate factors\n",
      " setting up non-dipole radiative rate factors\n",
      " getting non-dipole rate factors\n",
      " setting up dipole radiative rate factors\n"
     ]
    }
   ],
   "source": [
    "fe13 = pycelp.Ion('fe_13',nlevels = 50)"
   ]
  },
  {
   "cell_type": "code",
   "execution_count": null,
   "id": "a5736c6a-f358-4296-8ea5-7b1a07f5e586",
   "metadata": {},
   "outputs": [],
   "source": []
  },
  {
   "cell_type": "code",
   "execution_count": 9,
   "id": "16fe98cf-a399-40ab-ae01-6fefe119bbb7",
   "metadata": {},
   "outputs": [
    {
     "name": "stdout",
     "output_type": "stream",
     "text": [
      "16.42575\n"
     ]
    }
   ],
   "source": [
    "# should I parallelize these calculations right away? \n",
    "print(181*100.*150. * 484e-6 /80.)  ## seconds on 80 cores"
   ]
  },
  {
   "cell_type": "code",
   "execution_count": 10,
   "id": "5619762b-eab5-4eba-89a5-6ce0a118172e",
   "metadata": {},
   "outputs": [
    {
     "name": "stdout",
     "output_type": "stream",
     "text": [
      "0\n",
      "10\n",
      "20\n",
      "30\n",
      "40\n",
      "50\n",
      "60\n",
      "70\n",
      "80\n",
      "90\n",
      "100\n",
      "110\n",
      "120\n",
      "130\n",
      "140\n",
      "150\n",
      "160\n",
      "170\n",
      "180\n"
     ]
    }
   ],
   "source": [
    "wvair = 10747. \n",
    "\n",
    "for ii in range(0,181,10): \n",
    "    print(ii)\n",
    "    for jj in range(0,100,10): \n",
    "        for kk in range(0,150,10): \n",
    "            edens = corona.ne[ii,jj,kk]\n",
    "            etemp = corona.temp[ii,jj,kk]\n",
    "            ht = (corona.rs[kk]-1).clip(1.e-8)\n",
    "            thetab = np.rad2deg(corona.thetaBlocal[ii,jj,kk])\n",
    "            \n",
    "            fe13.calc_rho_sym(edens,etemp,ht, thetab)\n",
    "            upper_lev_rho00 = fe13.get_upper_level_rho00(wvair)\n",
    "            upper_lev_alignment = fe13.get_upper_level_alignment(wvair)\n",
    "            total_ion_population = fe13.totn"
   ]
  },
  {
   "cell_type": "code",
   "execution_count": 11,
   "id": "bff00f5b-62e4-415e-b5b3-bd3e833eced6",
   "metadata": {},
   "outputs": [],
   "source": [
    "## LOS integration of polarized emission coefficients "
   ]
  },
  {
   "cell_type": "code",
   "execution_count": null,
   "id": "602e3049-b2e6-478f-8e90-7de3c298daa4",
   "metadata": {},
   "outputs": [],
   "source": []
  },
  {
   "cell_type": "code",
   "execution_count": 12,
   "id": "63c1fbf2-ad94-4c90-8ee9-837ffd33eeed",
   "metadata": {},
   "outputs": [],
   "source": [
    "## INPUTS\n",
    "obsLon     = 185.     ## observer's longitude\n",
    "b0         = -5.57    ## observer's heliographic latitude -- b0 angle\n",
    "Obs_Sun_AU = 1.       ## replace with ephermeris data\n",
    "fov_rsun   = 6.       ## +/- 3 rsun\n",
    "arcsamp    = 10.      ## sampling in arcsecond\n",
    "rsunarc    = 960.     ## radius of sun in arcseconds .. later replace with sun ephemeris"
   ]
  },
  {
   "cell_type": "code",
   "execution_count": 16,
   "id": "5854018f-6551-4496-a049-4c76ca615749",
   "metadata": {},
   "outputs": [
    {
     "data": {
      "application/vnd.jupyter.widget-view+json": {
       "model_id": "bbbe844625444638bbd309d8522ffef6",
       "version_major": 2,
       "version_minor": 0
      },
      "text/plain": [
       "Canvas(toolbar=Toolbar(toolitems=[('Home', 'Reset original view', 'home', 'home'), ('Back', 'Back to previous …"
      ]
     },
     "metadata": {},
     "output_type": "display_data"
    },
    {
     "data": {
      "text/plain": [
       "[<matplotlib.lines.Line2D at 0x7f0065c75790>]"
      ]
     },
     "execution_count": 16,
     "metadata": {},
     "output_type": "execute_result"
    }
   ],
   "source": [
    "\n",
    "##################\n",
    "## recall the simulation geometry and plot\n",
    "## compare to GONG maps of the CR 2189\n",
    "\n",
    "rObs     = Obs_Sun_AU * (1.495978707e11/6.96340e8)\n",
    "thetaObs = np.pi/2. - np.deg2rad(b0)\n",
    "phiObs   = np.deg2rad(obsLon)\n",
    "xObs,yObs,zObs = rObs*np.sin(thetaObs)*np.cos(phiObs),rObs*np.sin(thetaObs)*np.sin(phiObs),rObs*np.cos(thetaObs)\n",
    "\n",
    "lonsd = np.rad2deg(corona.lons)\n",
    "latsd = np.flip(np.rad2deg(corona.lats)-90.)  ## flip as in observers frame angles increase towards north\n",
    "extrad = (corona.lons[0],corona.lons[-1],corona.lats[-1],corona.lats[0])\n",
    "extdeg = (lonsd[0],lonsd[-1],latsd[-1],latsd[0])\n",
    "\n",
    "fig,ax = plt.subplots(nrows = 2,ncols = 1,figsize = (6,8))\n",
    "ax = ax.flatten()\n",
    "ax[0].imshow(corona.br[:,:,0].T,extent = extrad)\n",
    "ax[1].imshow(corona.br[:,:,0].T,extent = extdeg)\n",
    "ax[2].imshow(corona.z3d[:,:,0].T,extent = extrad)\n",
    "\n",
    "ax[0].plot(np.zeros(1)+phiObs,np.zeros(1)+thetaObs,'x',markersize = 5,color= 'black')\n",
    "ax[1].plot(np.zeros(1)+phiObs,np.zeros(1)+thetaObs,'x',markersize = 5,color= 'black')\n"
   ]
  },
  {
   "cell_type": "code",
   "execution_count": 17,
   "id": "c4553dce-7713-4734-947f-f0f582fd215a",
   "metadata": {},
   "outputs": [
    {
     "name": "stderr",
     "output_type": "stream",
     "text": [
      "/tmp/ipykernel_106536/491608074.py:5: DeprecationWarning: `np.int` is a deprecated alias for the builtin `int`. To silence this warning, use `int` by itself. Doing this will not modify any behavior and is safe. When replacing `np.int`, you may wish to use e.g. `np.int64` or `np.int32` to specify the precision. If you wish to review your current use, check the release note link for additional information.\n",
      "Deprecated in NumPy 1.20; for more details and guidance: https://numpy.org/devdocs/release/1.20.0-notes.html#deprecations\n",
      "  yarc = np.linspace(-fov_rsun/2.*rsunarc,fov_rsun/2.*rsunarc,np.int(np.ceil(fov_rsun*rsunarc/arcsamp)))\n"
     ]
    },
    {
     "data": {
      "application/vnd.jupyter.widget-view+json": {
       "model_id": "f4d290407a014a7f904d10ce73980753",
       "version_major": 2,
       "version_minor": 0
      },
      "text/plain": [
       "Canvas(toolbar=Toolbar(toolitems=[('Home', 'Reset original view', 'home', 'home'), ('Back', 'Back to previous …"
      ]
     },
     "metadata": {},
     "output_type": "display_data"
    }
   ],
   "source": [
    "from scipy.spatial.transform import Rotation as R\n",
    "\n",
    "## setup the synthesized field of view\n",
    "\n",
    "yarc = np.linspace(-fov_rsun/2.*rsunarc,fov_rsun/2.*rsunarc,np.int(np.ceil(fov_rsun*rsunarc/arcsamp)))\n",
    "zarc = yarc\n",
    "yya,zza  = np.meshgrid(yarc,zarc,indexing = 'ij')\n",
    "rra = np.sqrt(yya**2. + zza**2.)\n",
    "m_behind_sun = 1.*(rra>rsunarc)\n",
    "\n",
    "################\n",
    "## define new coordinate system with x towards\n",
    "## observer, and z towards north pole\n",
    "## get points in the plane\n",
    "\n",
    "xxObs = np.zeros_like(yya)\n",
    "yyObs = rObs * np.tan(np.deg2rad(yya/3600.))\n",
    "zzObs = rObs * np.tan(np.deg2rad(zza/3600.))\n",
    "\n",
    "## rotate these points into the model geometry with Euler rotation\n",
    "r = R.from_euler('yz',[-(thetaObs-np.pi/2.),-(phiObs)])\n",
    "b = np.stack((xxObs.flatten(),yyObs.flatten(),zzObs.flatten()))\n",
    "xyz_model = np.matmul(r.as_matrix(), b)\n",
    "plt.figure()\n",
    "plt.imshow(xyz_model[1,:].reshape(xxObs.shape).T,origin = 'lower')\n",
    "\n",
    "## NOW WITH THE XYZ_MODEL POINTS AND THE LOCATION OF THE OBSERVER,\n",
    "## come up with the parametric equations for the los of sight\n",
    "## and then get the spherical coordinates, interpolate for rho and temps, etc.\n",
    "## synthesize and integrate for integrated I,Q,U, (V?)\n",
    "\n",
    "losvec = np.stack((xObs-xyz_model[0,:],yObs-xyz_model[1,:],zObs - xyz_model[2,:]))\n",
    "losveclen = np.linalg.norm(losvec,axis=0,ord=2,keepdims = True)\n",
    "losvec = losvec / losveclen\n",
    "startpt = np.stack((xyz_model[0,:],xyz_model[1,:],xyz_model[2,:]))\n"
   ]
  },
  {
   "cell_type": "code",
   "execution_count": null,
   "id": "f48a234f-6c17-425c-b121-351416566324",
   "metadata": {},
   "outputs": [],
   "source": []
  },
  {
   "cell_type": "code",
   "execution_count": null,
   "id": "2e784e4c-bb20-436d-b5e4-8b9d9441d376",
   "metadata": {},
   "outputs": [],
   "source": []
  },
  {
   "cell_type": "code",
   "execution_count": 52,
   "id": "7d85f023-096f-4cc5-a566-571bfab361b4",
   "metadata": {},
   "outputs": [],
   "source": []
  },
  {
   "cell_type": "code",
   "execution_count": null,
   "id": "8e196672-e99f-4a81-8f23-c542825e77f9",
   "metadata": {},
   "outputs": [],
   "source": []
  },
  {
   "cell_type": "code",
   "execution_count": null,
   "id": "9261425f-7eff-43c3-b3f0-e49507381620",
   "metadata": {},
   "outputs": [],
   "source": []
  },
  {
   "cell_type": "code",
   "execution_count": 54,
   "id": "1817f523-7844-47c5-805e-2e4efa7497d9",
   "metadata": {},
   "outputs": [],
   "source": [
    "## generating polarized spectra"
   ]
  },
  {
   "cell_type": "code",
   "execution_count": null,
   "id": "88937b15-9839-4cfc-bc95-764fa9db0514",
   "metadata": {},
   "outputs": [],
   "source": []
  }
 ],
 "metadata": {
  "kernelspec": {
   "display_name": "Python 3 (ipykernel)",
   "language": "python",
   "name": "python3"
  },
  "language_info": {
   "codemirror_mode": {
    "name": "ipython",
    "version": 3
   },
   "file_extension": ".py",
   "mimetype": "text/x-python",
   "name": "python",
   "nbconvert_exporter": "python",
   "pygments_lexer": "ipython3",
   "version": "3.9.7"
  }
 },
 "nbformat": 4,
 "nbformat_minor": 5
}
