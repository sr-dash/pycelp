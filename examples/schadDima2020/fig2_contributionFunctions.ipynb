{
 "cells": [
  {
   "cell_type": "markdown",
   "id": "52816d7f-3beb-480b-bec8-d150dd57282f",
   "metadata": {},
   "source": [
    "## pyCELP Contribution functions (recreates Schad & Dima (2020) Figure 2) "
   ]
  },
  {
   "cell_type": "code",
   "execution_count": 1,
   "id": "281e7c49-a562-430f-991c-2a495def3d34",
   "metadata": {},
   "outputs": [],
   "source": [
    "import numpy as np\n",
    "import matplotlib.pyplot as plt\n",
    "from scipy.io import readsav\n",
    "import matplotlib as mpl\n",
    "plt.ion()\n",
    "from cycler import cycler\n",
    "mpl.rcParams['axes.prop_cycle'] = cycler(color='rkbgym')\n",
    "import pycelp"
   ]
  },
  {
   "cell_type": "markdown",
   "id": "98dcb785-9720-44b4-aff1-df0eb5f17c23",
   "metadata": {},
   "source": [
    "We first load reference data generated using the IDL version of Chianti Version 9. \n",
    "\n",
    "* This was created using the genChiantiData.pro script. "
   ]
  },
  {
   "cell_type": "code",
   "execution_count": 3,
   "id": "302361f3-e8b6-4343-b6ff-e29ee0b77175",
   "metadata": {},
   "outputs": [],
   "source": [
    "savname = './chianti_temp_contfnc_data.sav'  # ,logt,ch_int,ions,wvl,dens,rht\n",
    "idls = readsav(savname)\n",
    "logt = idls['logt']\n",
    "ch_int = np.copy(idls['ch_int']) ## units are  INT_UNITS   STRING   'photons cm-2 sr-1 s-1'\n",
    "ions = idls['ions']\n",
    "wvl  = idls['wvl']\n",
    "dens = idls['dens']\n",
    "rht  = idls['rht']\n",
    "## remove bad low point\n",
    "ch_int[:,0] = 1.e-35"
   ]
  },
  {
   "cell_type": "markdown",
   "id": "69ec34e3-f419-4c6c-9777-3f1b76bdcabd",
   "metadata": {},
   "source": [
    "Now we initialize all ions for the figure. \n",
    "\n",
    "* We limit the number of levels to 300 only for speed purposes.  "
   ]
  },
  {
   "cell_type": "code",
   "execution_count": 4,
   "id": "b82d247e-1ec4-486f-97ed-936078ea5e6a",
   "metadata": {
    "scrolled": true,
    "tags": []
   },
   "outputs": [
    {
     "name": "stdout",
     "output_type": "stream",
     "text": [
      " reading:  /usr/local/ssw/packages/chianti/dbase/fe/fe_14/fe_14.elvlc\n",
      " reading:  /usr/local/ssw/packages/chianti/dbase/fe/fe_14/fe_14.wgfa\n",
      " reading:  /usr/local/ssw/packages/chianti/dbase/fe/fe_14/fe_14.scups\n",
      " reading:  /usr/local/ssw/packages/chianti/dbase/fe/fe_14/fe_14.psplups\n",
      " using default abundances: /usr/local/ssw/packages/chianti/dbase/abundance/sun_photospheric_2009_asplund.abund\n",
      " reading:  /usr/local/ssw/packages/chianti/dbase/abundance/sun_photospheric_2009_asplund.abund\n",
      " testing default file: /usr/local/ssw/packages/chianti/dbase/ioneq/chianti.ioneq\n",
      " reading:  /usr/local/ssw/packages/chianti/dbase/ioneq/chianti.ioneq\n",
      " setting up electron collision rate factors\n",
      " setting up proton  collision rate factors\n",
      " setting up non-dipole radiative rate factors\n",
      " getting non-dipole rate factors\n",
      " setting up dipole radiative rate factors\n",
      " reading:  /usr/local/ssw/packages/chianti/dbase/fe/fe_13/fe_13.elvlc\n",
      " reading:  /usr/local/ssw/packages/chianti/dbase/fe/fe_13/fe_13.wgfa\n",
      " reading:  /usr/local/ssw/packages/chianti/dbase/fe/fe_13/fe_13.scups\n",
      " reading:  /usr/local/ssw/packages/chianti/dbase/fe/fe_13/fe_13.psplups\n",
      " using default abundances: /usr/local/ssw/packages/chianti/dbase/abundance/sun_photospheric_2009_asplund.abund\n",
      " reading:  /usr/local/ssw/packages/chianti/dbase/abundance/sun_photospheric_2009_asplund.abund\n",
      " testing default file: /usr/local/ssw/packages/chianti/dbase/ioneq/chianti.ioneq\n",
      " reading:  /usr/local/ssw/packages/chianti/dbase/ioneq/chianti.ioneq\n",
      " setting up electron collision rate factors\n",
      " setting up proton  collision rate factors\n",
      " setting up non-dipole radiative rate factors\n",
      " getting non-dipole rate factors\n",
      " setting up dipole radiative rate factors\n",
      " reading:  /usr/local/ssw/packages/chianti/dbase/fe/fe_11/fe_11.elvlc\n",
      " reading:  /usr/local/ssw/packages/chianti/dbase/fe/fe_11/fe_11.wgfa\n",
      " reading:  /usr/local/ssw/packages/chianti/dbase/fe/fe_11/fe_11.scups\n",
      " reading:  /usr/local/ssw/packages/chianti/dbase/fe/fe_11/fe_11.psplups\n",
      " using default abundances: /usr/local/ssw/packages/chianti/dbase/abundance/sun_photospheric_2009_asplund.abund\n",
      " reading:  /usr/local/ssw/packages/chianti/dbase/abundance/sun_photospheric_2009_asplund.abund\n",
      " testing default file: /usr/local/ssw/packages/chianti/dbase/ioneq/chianti.ioneq\n",
      " reading:  /usr/local/ssw/packages/chianti/dbase/ioneq/chianti.ioneq\n",
      " setting up electron collision rate factors\n",
      " setting up proton  collision rate factors\n",
      " setting up non-dipole radiative rate factors\n",
      " getting non-dipole rate factors\n",
      " setting up dipole radiative rate factors\n",
      " reading:  /usr/local/ssw/packages/chianti/dbase/si/si_10/si_10.elvlc\n",
      " reading:  /usr/local/ssw/packages/chianti/dbase/si/si_10/si_10.wgfa\n",
      " reading:  /usr/local/ssw/packages/chianti/dbase/si/si_10/si_10.scups\n",
      " reading:  /usr/local/ssw/packages/chianti/dbase/si/si_10/si_10.psplups\n",
      " using default abundances: /usr/local/ssw/packages/chianti/dbase/abundance/sun_photospheric_2009_asplund.abund\n",
      " reading:  /usr/local/ssw/packages/chianti/dbase/abundance/sun_photospheric_2009_asplund.abund\n",
      " testing default file: /usr/local/ssw/packages/chianti/dbase/ioneq/chianti.ioneq\n",
      " reading:  /usr/local/ssw/packages/chianti/dbase/ioneq/chianti.ioneq\n",
      " setting up electron collision rate factors\n",
      " setting up proton  collision rate factors\n",
      " setting up non-dipole radiative rate factors\n",
      " getting non-dipole rate factors\n",
      " setting up dipole radiative rate factors\n",
      " reading:  /usr/local/ssw/packages/chianti/dbase/si/si_9/si_9.elvlc\n",
      " reading:  /usr/local/ssw/packages/chianti/dbase/si/si_9/si_9.wgfa\n",
      " reading:  /usr/local/ssw/packages/chianti/dbase/si/si_9/si_9.scups\n",
      " reading:  /usr/local/ssw/packages/chianti/dbase/si/si_9/si_9.psplups\n",
      " using default abundances: /usr/local/ssw/packages/chianti/dbase/abundance/sun_photospheric_2009_asplund.abund\n",
      " reading:  /usr/local/ssw/packages/chianti/dbase/abundance/sun_photospheric_2009_asplund.abund\n",
      " testing default file: /usr/local/ssw/packages/chianti/dbase/ioneq/chianti.ioneq\n",
      " reading:  /usr/local/ssw/packages/chianti/dbase/ioneq/chianti.ioneq\n",
      " setting up electron collision rate factors\n",
      " setting up proton  collision rate factors\n",
      " setting up non-dipole radiative rate factors\n",
      " getting non-dipole rate factors\n",
      " setting up dipole radiative rate factors\n"
     ]
    }
   ],
   "source": [
    "fe14 = pycelp.Ion('fe_14',nlevels = 300) # -- issue with scups read for now !\n",
    "fe13 = pycelp.Ion('fe_13',nlevels = 300)\n",
    "fe11 = pycelp.Ion('fe_11',nlevels = 300)\n",
    "si10 = pycelp.Ion('si_10')\n",
    "si9 = pycelp.Ion('si_9')"
   ]
  },
  {
   "cell_type": "markdown",
   "id": "438715c4-38fc-4060-ba30-1e15b8620bd1",
   "metadata": {},
   "source": []
  },
  {
   "cell_type": "code",
   "execution_count": null,
   "id": "f4946f14-c3de-4590-92c5-6c21f3c5c2d4",
   "metadata": {},
   "outputs": [],
   "source": [
    "temps = 10.**logt\n",
    "pycelp_int = np.zeros((6,len(temps)))\n",
    "edens = idls['dens']\n",
    "rphot = rht-1.\n",
    "thetab = np.rad2deg(np.arccos(1./np.sqrt(3.)))  ## Van Vleck\n",
    "\n",
    "print(' ')\n",
    "print(' Starting calculations -- with many levels, so it may be slower')\n",
    "print(' Paper includes all...this script currently truncates at 300 levels for speed')\n",
    "print(' The comparison should still be very good')\n",
    "print(' ')\n",
    "print(fe14,fe11,fe13,si10,si9)\n",
    "print(' ')\n",
    "print(' Electron density, height, and thetaB: ')\n",
    "print(edens,rphot,thetab)\n",
    "print(' ')\n",
    "\n",
    "for n,t in enumerate(temps):\n",
    "    print(n,' of ',len(temps), ' temperatures')\n",
    "    fe14.calc(edens,t,rphot,thetab,include_limbdark = False,include_protons = True)\n",
    "    fe11.calc(edens,t,rphot,thetab,include_limbdark = False,include_protons = True)\n",
    "    fe13.calc(edens,t,rphot,thetab,include_limbdark = False,include_protons = True)\n",
    "    si10.calc(edens,t,rphot,thetab,include_limbdark = False,include_protons = True)\n",
    "    si9.calc(edens,t,rphot,thetab,include_limbdark = False,include_protons = True)\n",
    "    pycelp_int[0,n] = fe14.calc_Iemiss(5303)\n",
    "    pycelp_int[1,n] = fe11.calc_Iemiss(7892)\n",
    "    pycelp_int[2,n] = fe13.calc_Iemiss(10746)\n",
    "    pycelp_int[3,n] = fe13.calc_Iemiss(10798)\n",
    "    pycelp_int[4,n] = si10.calc_Iemiss(14301)\n",
    "    pycelp_int[5,n] = si9.calc_Iemiss(39343)\n"
   ]
  }
 ],
 "metadata": {
  "kernelspec": {
   "display_name": "Python 3",
   "language": "python",
   "name": "python3"
  },
  "language_info": {
   "codemirror_mode": {
    "name": "ipython",
    "version": 3
   },
   "file_extension": ".py",
   "mimetype": "text/x-python",
   "name": "python",
   "nbconvert_exporter": "python",
   "pygments_lexer": "ipython3",
   "version": "3.9.4"
  }
 },
 "nbformat": 4,
 "nbformat_minor": 5
}
