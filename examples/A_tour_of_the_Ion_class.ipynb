{
 "cells": [
  {
   "cell_type": "markdown",
   "id": "511d37b0-ea9a-4b46-9edd-19468f3ca3de",
   "metadata": {},
   "source": [
    "# **A Tour of the pyclep package's Ion class**"
   ]
  },
  {
   "cell_type": "code",
   "execution_count": 1,
   "id": "d01bd99b-4270-4e5d-b6fe-e39958916f6f",
   "metadata": {},
   "outputs": [],
   "source": [
    "import pycelp \n",
    "import numpy as np\n",
    "import matplotlib.pyplot as plt\n",
    "import os\n",
    "os.environ[\"XUVTOP\"] = '/usr/local/ssw/packages/chianti/dbase/'"
   ]
  },
  {
   "cell_type": "markdown",
   "id": "17837cc9-d015-470c-adcc-b2ec97813b1c",
   "metadata": {},
   "source": [
    "## Initializing an Ion Object for a particular Ion \n",
    "\n",
    "- The primary class used for calculations with pyCELP is the Ion class.  It is automatically imported into the main package from the pyclep.ion sub-module.  With it, one can load the data for a single ion and perform calculations relevant to synthesizing the polarized emission.\n",
    "\n",
    "- Let's start by initializing a class for the Fe XIII ion.  We aim to explore the 1074.6 and 1079.8 nm coronal emission lines.  When you initialize the Ion class, pycelp will read the chianti database for the given atom.  The default to is read all level and collisional information available.  For the Fe XIII ion, there are 749 energy levels.  Once the data is read, pyclep will then pre-calculate as many terms (or factors) in the statistical equilbrium equations as possible.  This includes all calculates of the relevant wigner coefficients.  As such, the initialization can take some time.  \n",
    "\n",
    "- Here we will restrict the number of levels we use in our calculations to make it faster.  It is up to the user to decide how many levels are appropriate for a given atom.  See Schad & Dima (2020) for more details.  "
   ]
  },
  {
   "cell_type": "code",
   "execution_count": 2,
   "id": "70ea4631-f319-4e9e-8395-7662f4ebb0f5",
   "metadata": {},
   "outputs": [
    {
     "name": "stdout",
     "output_type": "stream",
     "text": [
      " reading:  /usr/local/ssw/packages/chianti/dbase/fe/fe_13/fe_13.elvlc\n",
      " reading:  /usr/local/ssw/packages/chianti/dbase/fe/fe_13/fe_13.wgfa\n",
      " reading:  /usr/local/ssw/packages/chianti/dbase/fe/fe_13/fe_13.scups\n",
      " reading:  /usr/local/ssw/packages/chianti/dbase/fe/fe_13/fe_13.psplups\n",
      " using default abundances: /usr/local/ssw/packages/chianti/dbase/abundance/sun_photospheric_2009_asplund.abund\n",
      " reading:  /usr/local/ssw/packages/chianti/dbase/abundance/sun_photospheric_2009_asplund.abund\n",
      " testing default file: /usr/local/ssw/packages/chianti/dbase/ioneq/chianti.ioneq\n",
      " reading:  /usr/local/ssw/packages/chianti/dbase/ioneq/chianti.ioneq\n",
      " setting up electron collision rate factors\n",
      " setting up proton  collision rate factors\n",
      " setting up non-dipole radiative rate factors\n",
      " getting non-dipole rate factors\n",
      " setting up dipole radiative rate factors\n"
     ]
    }
   ],
   "source": [
    "fe13 = pycelp.Ion('fe_13',nlevels = 50)"
   ]
  },
  {
   "cell_type": "markdown",
   "id": "c800e098-5e96-4d85-b8f6-d487134e7296",
   "metadata": {},
   "source": [
    "<div class=\"alert alert-info\" role=\"alert\">\n",
    "    <div class=\"row vertical-align\">\n",
    "        <div class=\"col-xs-1 text-center\">\n",
    "            <i class=\"fa fa-exclamation-triangle fa-2x\"></i>\n",
    "        </div>\n",
    "        <div class=\"col-xs-11\">\n",
    "                <strong>Note:</strong>  If this is your first time running pycelp, initization may take longer.  pycelp uses numba @njit compilation with caching enabled.  Once the various functions are run one, the compiled functions will be in the memory for this session and available in the cache for later.  Thus, subsequent executions will be much faster.                  \n",
    "        </div>   \n",
    "    </div> \n",
    "</div>\n"
   ]
  },
  {
   "cell_type": "markdown",
   "id": "76061b35-2250-4851-83cb-45b1150c7254",
   "metadata": {},
   "source": [
    "Now, we can view the representation of the Ion by simplying return the class instance name directly"
   ]
  },
  {
   "cell_type": "code",
   "execution_count": 3,
   "id": "a67638ad-9a17-410b-82dc-6901bff4fa54",
   "metadata": {},
   "outputs": [
    {
     "data": {
      "text/plain": [
       "pyCELP Ion class\n",
       "    ---------------------\n",
       "    Ion Name: fe_13\n",
       "    Number of energy levels included: 50\n",
       "    Number of SEE equations: 142\n",
       "    Number of Radiative Transitions: 366\n",
       "    Ionization Equilbrium Filename: /usr/local/ssw/packages/chianti/dbase/ioneq/chianti.ioneq"
      ]
     },
     "execution_count": 3,
     "metadata": {},
     "output_type": "execute_result"
    }
   ],
   "source": [
    "fe13"
   ]
  },
  {
   "cell_type": "markdown",
   "id": "884f758a-ff4a-41aa-bd8d-9e652d96ecc8",
   "metadata": {},
   "source": [
    "We see that there at 50 energy levels included.  The number of statistical equilbrium equations is 142; thus, the rate matrix will be 142 x 142 in size.  The number of radiative transitions included is 366. \n",
    "\n",
    "We can look at the first 10 radiative transitions using the show_lines method. "
   ]
  },
  {
   "cell_type": "code",
   "execution_count": 4,
   "id": "d9fa40fe-e2e3-4489-8f27-40076e663245",
   "metadata": {},
   "outputs": [
    {
     "name": "stdout",
     "output_type": "stream",
     "text": [
      " Index -- WV_VAC [A] -- WV_AIR [A] -- TRANSITION\n",
      "0 10749.105 10746.153 3s2 3p2 3P1  -->  3s2 3p2 3P0\n",
      "1 10800.77 10797.804 3s2 3p2 3P2  -->  3s2 3p2 3P1\n",
      "2 5387.438 5385.939 3s2 3p2 3P2  -->  3s2 3p2 3P0\n",
      "3 2579.54 2578.768 3s2 3p2 1D2  -->  3s2 3p2 3P1\n",
      "4 3388.911 3387.939 3s2 3p2 1D2  -->  3s2 3p2 3P2\n",
      "5 2080.313 2079.65 3s2 3p2 1D2  -->  3s2 3p2 3P0\n",
      "6 1370.815 1370.815 3s2 3p2 1S0  -->  3s2 3p2 3P2\n",
      "7 2301.957 2301.248 3s2 3p2 1S0  -->  3s2 3p2 1D2\n",
      "8 1216.428 1216.428 3s2 3p2 1S0  -->  3s2 3p2 3P1\n",
      "9 600.405 600.405 3s 3p3 5S2  -->  3s2 3p2 1D2\n"
     ]
    }
   ],
   "source": [
    "fe13.show_lines(10)"
   ]
  },
  {
   "cell_type": "markdown",
   "id": "e52a2d29-0c14-4f0a-99ce-8cb3fe18c39e",
   "metadata": {},
   "source": [
    "### Access to raw Chianti Database Information\n",
    "\n",
    "- Most variables in the Ion class are currently in public scope.  For example, the level information read from Chianti is in the dictionary elvl_data.  We can look at the available the keys here.  pycelp uses much of this information for its calculations but it does not typically use this dictionary directly.  Reading the Ion class source code can helpful if interested\n",
    "\n",
    "- Similar dictionaries are available for the radiation transitions (wgfa_data), electron collisional data (scups_data), and proton collisional data (splups_data). "
   ]
  },
  {
   "cell_type": "code",
   "execution_count": 5,
   "id": "be424a4e-a805-46ba-9961-df7062d19cc6",
   "metadata": {},
   "outputs": [
    {
     "name": "stdout",
     "output_type": "stream",
     "text": [
      " elvl_data keys:\n",
      "dict_keys(['ion_name', 'ion_z', 'ion_n', 'filename', 'version', 'reference', 'index', 'conf', 'conf_latex', 'conf_index', 'term', 'term_latex', 'level', 'level_latex', 'full_level', 'full_level_latex', 'label', 'mult', 's', 'l', 'l_sym', 'j', 'j_str', 'parity', 'parity_str', 'weight', 'obs_energy', 'theory_energy', 'energy', 'energy_units'])\n",
      " \n",
      " Chianti level index  ---   energy [cm^-1] --- level configuration\n",
      " ... printing for first 5 levels\n",
      "1   0.0    3s2 3p2 3P0\n",
      "2   9303.1    3s2 3p2 3P1\n",
      "3   18561.699    3s2 3p2 3P2\n",
      "4   48069.699    3s2 3p2 1D2\n",
      "5   91511.0    3s2 3p2 1S0\n"
     ]
    }
   ],
   "source": [
    "print(' elvl_data keys:')\n",
    "print(fe13.elvl_data.keys())\n",
    "print(' ')\n",
    "print(' Chianti level index  ---   energy [' + fe13.elvl_data['energy_units'] + '] --- level configuration') \n",
    "print(' ... printing for first 5 levels')\n",
    "for lev in range(5):\n",
    "    print(fe13.elvl_data['index'][lev],' ',fe13.elvl_data['energy'][lev],'  ',fe13.elvl_data['full_level'][lev])"
   ]
  },
  {
   "cell_type": "markdown",
   "id": "5a9e3f5c-32a8-49fb-aef5-b80e1a7b40ae",
   "metadata": {},
   "source": [
    "#### Converting to pandas dataframe\n",
    "\n",
    "- If you have pandas installed, you can also view the level information and the radiative transition information as a dataframe as follows:"
   ]
  },
  {
   "cell_type": "code",
   "execution_count": 6,
   "id": "1ca47b54-4506-4a1e-8978-01b1d5e84dcb",
   "metadata": {},
   "outputs": [
    {
     "data": {
      "text/html": [
       "<div>\n",
       "<style scoped>\n",
       "    .dataframe tbody tr th:only-of-type {\n",
       "        vertical-align: middle;\n",
       "    }\n",
       "\n",
       "    .dataframe tbody tr th {\n",
       "        vertical-align: top;\n",
       "    }\n",
       "\n",
       "    .dataframe thead th {\n",
       "        text-align: right;\n",
       "    }\n",
       "</style>\n",
       "<table border=\"1\" class=\"dataframe\">\n",
       "  <thead>\n",
       "    <tr style=\"text-align: right;\">\n",
       "      <th></th>\n",
       "      <th>Index</th>\n",
       "      <th>Ion_name</th>\n",
       "      <th>Ion_z</th>\n",
       "      <th>Config</th>\n",
       "      <th>Conf Idx</th>\n",
       "      <th>Term</th>\n",
       "      <th>Level</th>\n",
       "      <th>Full Level</th>\n",
       "      <th>Spin Mult</th>\n",
       "      <th>S</th>\n",
       "      <th>L</th>\n",
       "      <th>Orbital</th>\n",
       "      <th>J</th>\n",
       "      <th>Lande g</th>\n",
       "      <th>Parity</th>\n",
       "      <th>Parity Str</th>\n",
       "      <th>Stat. Weight</th>\n",
       "      <th>Obs Energy [cm^-1]</th>\n",
       "      <th>Theory Energy [cm^-1]</th>\n",
       "      <th>Energy [cm^-1]</th>\n",
       "    </tr>\n",
       "  </thead>\n",
       "  <tbody>\n",
       "    <tr>\n",
       "      <th>0</th>\n",
       "      <td>1</td>\n",
       "      <td>fe_13</td>\n",
       "      <td>26</td>\n",
       "      <td>3s2 3p2</td>\n",
       "      <td>1</td>\n",
       "      <td>3P</td>\n",
       "      <td>3P0</td>\n",
       "      <td>3s2 3p2 3P0</td>\n",
       "      <td>3</td>\n",
       "      <td>1.0</td>\n",
       "      <td>1</td>\n",
       "      <td>P</td>\n",
       "      <td>0.0</td>\n",
       "      <td>0.000000</td>\n",
       "      <td>0</td>\n",
       "      <td>e</td>\n",
       "      <td>1.0</td>\n",
       "      <td>0.000</td>\n",
       "      <td>0.0</td>\n",
       "      <td>0.000</td>\n",
       "    </tr>\n",
       "    <tr>\n",
       "      <th>1</th>\n",
       "      <td>2</td>\n",
       "      <td>fe_13</td>\n",
       "      <td>26</td>\n",
       "      <td>3s2 3p2</td>\n",
       "      <td>1</td>\n",
       "      <td>3P</td>\n",
       "      <td>3P1</td>\n",
       "      <td>3s2 3p2 3P1</td>\n",
       "      <td>3</td>\n",
       "      <td>1.0</td>\n",
       "      <td>1</td>\n",
       "      <td>P</td>\n",
       "      <td>1.0</td>\n",
       "      <td>1.500000</td>\n",
       "      <td>0</td>\n",
       "      <td>e</td>\n",
       "      <td>3.0</td>\n",
       "      <td>9303.100</td>\n",
       "      <td>9303.0</td>\n",
       "      <td>9303.100</td>\n",
       "    </tr>\n",
       "    <tr>\n",
       "      <th>2</th>\n",
       "      <td>3</td>\n",
       "      <td>fe_13</td>\n",
       "      <td>26</td>\n",
       "      <td>3s2 3p2</td>\n",
       "      <td>1</td>\n",
       "      <td>3P</td>\n",
       "      <td>3P2</td>\n",
       "      <td>3s2 3p2 3P2</td>\n",
       "      <td>3</td>\n",
       "      <td>1.0</td>\n",
       "      <td>1</td>\n",
       "      <td>P</td>\n",
       "      <td>2.0</td>\n",
       "      <td>1.500000</td>\n",
       "      <td>0</td>\n",
       "      <td>e</td>\n",
       "      <td>5.0</td>\n",
       "      <td>18561.699</td>\n",
       "      <td>18562.0</td>\n",
       "      <td>18561.699</td>\n",
       "    </tr>\n",
       "    <tr>\n",
       "      <th>3</th>\n",
       "      <td>4</td>\n",
       "      <td>fe_13</td>\n",
       "      <td>26</td>\n",
       "      <td>3s2 3p2</td>\n",
       "      <td>1</td>\n",
       "      <td>1D</td>\n",
       "      <td>1D2</td>\n",
       "      <td>3s2 3p2 1D2</td>\n",
       "      <td>1</td>\n",
       "      <td>0.0</td>\n",
       "      <td>2</td>\n",
       "      <td>D</td>\n",
       "      <td>2.0</td>\n",
       "      <td>1.000000</td>\n",
       "      <td>0</td>\n",
       "      <td>e</td>\n",
       "      <td>5.0</td>\n",
       "      <td>48069.699</td>\n",
       "      <td>48070.0</td>\n",
       "      <td>48069.699</td>\n",
       "    </tr>\n",
       "    <tr>\n",
       "      <th>4</th>\n",
       "      <td>5</td>\n",
       "      <td>fe_13</td>\n",
       "      <td>26</td>\n",
       "      <td>3s2 3p2</td>\n",
       "      <td>1</td>\n",
       "      <td>1S</td>\n",
       "      <td>1S0</td>\n",
       "      <td>3s2 3p2 1S0</td>\n",
       "      <td>1</td>\n",
       "      <td>0.0</td>\n",
       "      <td>0</td>\n",
       "      <td>S</td>\n",
       "      <td>0.0</td>\n",
       "      <td>0.000000</td>\n",
       "      <td>0</td>\n",
       "      <td>e</td>\n",
       "      <td>1.0</td>\n",
       "      <td>91511.000</td>\n",
       "      <td>91511.0</td>\n",
       "      <td>91511.000</td>\n",
       "    </tr>\n",
       "    <tr>\n",
       "      <th>5</th>\n",
       "      <td>6</td>\n",
       "      <td>fe_13</td>\n",
       "      <td>26</td>\n",
       "      <td>3s 3p3</td>\n",
       "      <td>2</td>\n",
       "      <td>5S</td>\n",
       "      <td>5S2</td>\n",
       "      <td>3s 3p3 5S2</td>\n",
       "      <td>5</td>\n",
       "      <td>2.0</td>\n",
       "      <td>0</td>\n",
       "      <td>S</td>\n",
       "      <td>2.0</td>\n",
       "      <td>2.000000</td>\n",
       "      <td>1</td>\n",
       "      <td>o</td>\n",
       "      <td>5.0</td>\n",
       "      <td>214624.000</td>\n",
       "      <td>214624.0</td>\n",
       "      <td>214624.000</td>\n",
       "    </tr>\n",
       "    <tr>\n",
       "      <th>6</th>\n",
       "      <td>7</td>\n",
       "      <td>fe_13</td>\n",
       "      <td>26</td>\n",
       "      <td>3s 3p3</td>\n",
       "      <td>2</td>\n",
       "      <td>3D</td>\n",
       "      <td>3D1</td>\n",
       "      <td>3s 3p3 3D1</td>\n",
       "      <td>3</td>\n",
       "      <td>1.0</td>\n",
       "      <td>2</td>\n",
       "      <td>D</td>\n",
       "      <td>1.0</td>\n",
       "      <td>0.500000</td>\n",
       "      <td>1</td>\n",
       "      <td>o</td>\n",
       "      <td>3.0</td>\n",
       "      <td>287205.000</td>\n",
       "      <td>282051.0</td>\n",
       "      <td>287205.000</td>\n",
       "    </tr>\n",
       "    <tr>\n",
       "      <th>7</th>\n",
       "      <td>8</td>\n",
       "      <td>fe_13</td>\n",
       "      <td>26</td>\n",
       "      <td>3s 3p3</td>\n",
       "      <td>2</td>\n",
       "      <td>3D</td>\n",
       "      <td>3D2</td>\n",
       "      <td>3s 3p3 3D2</td>\n",
       "      <td>3</td>\n",
       "      <td>1.0</td>\n",
       "      <td>2</td>\n",
       "      <td>D</td>\n",
       "      <td>2.0</td>\n",
       "      <td>1.166667</td>\n",
       "      <td>1</td>\n",
       "      <td>o</td>\n",
       "      <td>5.0</td>\n",
       "      <td>287356.000</td>\n",
       "      <td>282222.0</td>\n",
       "      <td>287356.000</td>\n",
       "    </tr>\n",
       "    <tr>\n",
       "      <th>8</th>\n",
       "      <td>9</td>\n",
       "      <td>fe_13</td>\n",
       "      <td>26</td>\n",
       "      <td>3s 3p3</td>\n",
       "      <td>2</td>\n",
       "      <td>3D</td>\n",
       "      <td>3D3</td>\n",
       "      <td>3s 3p3 3D3</td>\n",
       "      <td>3</td>\n",
       "      <td>1.0</td>\n",
       "      <td>2</td>\n",
       "      <td>D</td>\n",
       "      <td>3.0</td>\n",
       "      <td>1.333333</td>\n",
       "      <td>1</td>\n",
       "      <td>o</td>\n",
       "      <td>7.0</td>\n",
       "      <td>290180.000</td>\n",
       "      <td>290180.0</td>\n",
       "      <td>290180.000</td>\n",
       "    </tr>\n",
       "    <tr>\n",
       "      <th>9</th>\n",
       "      <td>10</td>\n",
       "      <td>fe_13</td>\n",
       "      <td>26</td>\n",
       "      <td>3s 3p3</td>\n",
       "      <td>2</td>\n",
       "      <td>3P</td>\n",
       "      <td>3P0</td>\n",
       "      <td>3s 3p3 3P0</td>\n",
       "      <td>3</td>\n",
       "      <td>1.0</td>\n",
       "      <td>1</td>\n",
       "      <td>P</td>\n",
       "      <td>0.0</td>\n",
       "      <td>0.000000</td>\n",
       "      <td>1</td>\n",
       "      <td>o</td>\n",
       "      <td>1.0</td>\n",
       "      <td>328927.000</td>\n",
       "      <td>324378.0</td>\n",
       "      <td>328927.000</td>\n",
       "    </tr>\n",
       "  </tbody>\n",
       "</table>\n",
       "</div>"
      ],
      "text/plain": [
       "   Index Ion_name  Ion_z   Config  Conf Idx Term Level   Full Level  \\\n",
       "0      1    fe_13     26  3s2 3p2         1   3P   3P0  3s2 3p2 3P0   \n",
       "1      2    fe_13     26  3s2 3p2         1   3P   3P1  3s2 3p2 3P1   \n",
       "2      3    fe_13     26  3s2 3p2         1   3P   3P2  3s2 3p2 3P2   \n",
       "3      4    fe_13     26  3s2 3p2         1   1D   1D2  3s2 3p2 1D2   \n",
       "4      5    fe_13     26  3s2 3p2         1   1S   1S0  3s2 3p2 1S0   \n",
       "5      6    fe_13     26   3s 3p3         2   5S   5S2   3s 3p3 5S2   \n",
       "6      7    fe_13     26   3s 3p3         2   3D   3D1   3s 3p3 3D1   \n",
       "7      8    fe_13     26   3s 3p3         2   3D   3D2   3s 3p3 3D2   \n",
       "8      9    fe_13     26   3s 3p3         2   3D   3D3   3s 3p3 3D3   \n",
       "9     10    fe_13     26   3s 3p3         2   3P   3P0   3s 3p3 3P0   \n",
       "\n",
       "   Spin Mult    S  L Orbital    J   Lande g  Parity Parity Str  Stat. Weight  \\\n",
       "0          3  1.0  1       P  0.0  0.000000       0          e           1.0   \n",
       "1          3  1.0  1       P  1.0  1.500000       0          e           3.0   \n",
       "2          3  1.0  1       P  2.0  1.500000       0          e           5.0   \n",
       "3          1  0.0  2       D  2.0  1.000000       0          e           5.0   \n",
       "4          1  0.0  0       S  0.0  0.000000       0          e           1.0   \n",
       "5          5  2.0  0       S  2.0  2.000000       1          o           5.0   \n",
       "6          3  1.0  2       D  1.0  0.500000       1          o           3.0   \n",
       "7          3  1.0  2       D  2.0  1.166667       1          o           5.0   \n",
       "8          3  1.0  2       D  3.0  1.333333       1          o           7.0   \n",
       "9          3  1.0  1       P  0.0  0.000000       1          o           1.0   \n",
       "\n",
       "   Obs Energy [cm^-1]  Theory Energy [cm^-1]  Energy [cm^-1]  \n",
       "0               0.000                    0.0           0.000  \n",
       "1            9303.100                 9303.0        9303.100  \n",
       "2           18561.699                18562.0       18561.699  \n",
       "3           48069.699                48070.0       48069.699  \n",
       "4           91511.000                91511.0       91511.000  \n",
       "5          214624.000               214624.0      214624.000  \n",
       "6          287205.000               282051.0      287205.000  \n",
       "7          287356.000               282222.0      287356.000  \n",
       "8          290180.000               290180.0      290180.000  \n",
       "9          328927.000               324378.0      328927.000  "
      ]
     },
     "execution_count": 6,
     "metadata": {},
     "output_type": "execute_result"
    }
   ],
   "source": [
    "energy_levels_df = fe13.energy_levels_to_dataframe()\n",
    "energy_levels_df[0:10]  ## show first ten levels only "
   ]
  },
  {
   "cell_type": "code",
   "execution_count": 7,
   "id": "9d73ac2f-ba38-4f38-98a3-fa0daabf4e5b",
   "metadata": {},
   "outputs": [
    {
     "data": {
      "text/html": [
       "<div>\n",
       "<style scoped>\n",
       "    .dataframe tbody tr th:only-of-type {\n",
       "        vertical-align: middle;\n",
       "    }\n",
       "\n",
       "    .dataframe tbody tr th {\n",
       "        vertical-align: top;\n",
       "    }\n",
       "\n",
       "    .dataframe thead th {\n",
       "        text-align: right;\n",
       "    }\n",
       "</style>\n",
       "<table border=\"1\" class=\"dataframe\">\n",
       "  <thead>\n",
       "    <tr style=\"text-align: right;\">\n",
       "      <th></th>\n",
       "      <th>Lambda Vac [A]</th>\n",
       "      <th>Lambda Air [A]</th>\n",
       "      <th>UppLev Idx</th>\n",
       "      <th>LowLev Idx</th>\n",
       "      <th>Upper Level</th>\n",
       "      <th>Lower Level</th>\n",
       "      <th>geff [LS]</th>\n",
       "      <th>D coeff</th>\n",
       "      <th>E coeff</th>\n",
       "      <th>Einstein A</th>\n",
       "    </tr>\n",
       "  </thead>\n",
       "  <tbody>\n",
       "    <tr>\n",
       "      <th>0</th>\n",
       "      <td>10749.105137</td>\n",
       "      <td>10746.153423</td>\n",
       "      <td>2</td>\n",
       "      <td>1</td>\n",
       "      <td>3s2 3p2 3P1</td>\n",
       "      <td>3s2 3p2 3P0</td>\n",
       "      <td>1.50</td>\n",
       "      <td>1.000000</td>\n",
       "      <td>1.060660e+00</td>\n",
       "      <td>14.00000</td>\n",
       "    </tr>\n",
       "    <tr>\n",
       "      <th>1</th>\n",
       "      <td>10800.770181</td>\n",
       "      <td>10797.804402</td>\n",
       "      <td>3</td>\n",
       "      <td>2</td>\n",
       "      <td>3s2 3p2 3P2</td>\n",
       "      <td>3s2 3p2 3P1</td>\n",
       "      <td>1.50</td>\n",
       "      <td>0.591608</td>\n",
       "      <td>6.274950e-01</td>\n",
       "      <td>9.88000</td>\n",
       "    </tr>\n",
       "    <tr>\n",
       "      <th>2</th>\n",
       "      <td>5387.437863</td>\n",
       "      <td>5385.938558</td>\n",
       "      <td>3</td>\n",
       "      <td>1</td>\n",
       "      <td>3s2 3p2 3P2</td>\n",
       "      <td>3s2 3p2 3P0</td>\n",
       "      <td>3.00</td>\n",
       "      <td>-0.000000</td>\n",
       "      <td>-0.000000e+00</td>\n",
       "      <td>0.00637</td>\n",
       "    </tr>\n",
       "    <tr>\n",
       "      <th>3</th>\n",
       "      <td>2579.540186</td>\n",
       "      <td>2578.767826</td>\n",
       "      <td>4</td>\n",
       "      <td>2</td>\n",
       "      <td>3s2 3p2 1D2</td>\n",
       "      <td>3s2 3p2 3P1</td>\n",
       "      <td>0.75</td>\n",
       "      <td>0.591608</td>\n",
       "      <td>1.861901e-16</td>\n",
       "      <td>60.30000</td>\n",
       "    </tr>\n",
       "    <tr>\n",
       "      <th>4</th>\n",
       "      <td>3388.911482</td>\n",
       "      <td>3387.938955</td>\n",
       "      <td>4</td>\n",
       "      <td>3</td>\n",
       "      <td>3s2 3p2 1D2</td>\n",
       "      <td>3s2 3p2 3P2</td>\n",
       "      <td>1.25</td>\n",
       "      <td>-0.591608</td>\n",
       "      <td>-8.366600e-01</td>\n",
       "      <td>73.70000</td>\n",
       "    </tr>\n",
       "    <tr>\n",
       "      <th>5</th>\n",
       "      <td>2080.312589</td>\n",
       "      <td>2079.649941</td>\n",
       "      <td>4</td>\n",
       "      <td>1</td>\n",
       "      <td>3s2 3p2 1D2</td>\n",
       "      <td>3s2 3p2 3P0</td>\n",
       "      <td>2.00</td>\n",
       "      <td>-0.000000</td>\n",
       "      <td>-0.000000e+00</td>\n",
       "      <td>0.00400</td>\n",
       "    </tr>\n",
       "    <tr>\n",
       "      <th>6</th>\n",
       "      <td>1370.815054</td>\n",
       "      <td>1370.815054</td>\n",
       "      <td>5</td>\n",
       "      <td>3</td>\n",
       "      <td>3s2 3p2 1S0</td>\n",
       "      <td>3s2 3p2 3P2</td>\n",
       "      <td>3.00</td>\n",
       "      <td>-0.000000</td>\n",
       "      <td>-0.000000e+00</td>\n",
       "      <td>3.76000</td>\n",
       "    </tr>\n",
       "    <tr>\n",
       "      <th>7</th>\n",
       "      <td>2301.956841</td>\n",
       "      <td>2301.247695</td>\n",
       "      <td>5</td>\n",
       "      <td>4</td>\n",
       "      <td>3s2 3p2 1S0</td>\n",
       "      <td>3s2 3p2 1D2</td>\n",
       "      <td>2.00</td>\n",
       "      <td>-0.000000</td>\n",
       "      <td>-0.000000e+00</td>\n",
       "      <td>7.84000</td>\n",
       "    </tr>\n",
       "    <tr>\n",
       "      <th>8</th>\n",
       "      <td>1216.428105</td>\n",
       "      <td>1216.428105</td>\n",
       "      <td>5</td>\n",
       "      <td>2</td>\n",
       "      <td>3s2 3p2 1S0</td>\n",
       "      <td>3s2 3p2 3P1</td>\n",
       "      <td>1.50</td>\n",
       "      <td>0.000000</td>\n",
       "      <td>-0.000000e+00</td>\n",
       "      <td>970.00000</td>\n",
       "    </tr>\n",
       "    <tr>\n",
       "      <th>9</th>\n",
       "      <td>600.404789</td>\n",
       "      <td>600.404789</td>\n",
       "      <td>6</td>\n",
       "      <td>4</td>\n",
       "      <td>3s 3p3 5S2</td>\n",
       "      <td>3s2 3p2 1D2</td>\n",
       "      <td>1.50</td>\n",
       "      <td>-0.591608</td>\n",
       "      <td>9.309503e-17</td>\n",
       "      <td>183000.00000</td>\n",
       "    </tr>\n",
       "  </tbody>\n",
       "</table>\n",
       "</div>"
      ],
      "text/plain": [
       "   Lambda Vac [A]  Lambda Air [A]  UppLev Idx  LowLev Idx  Upper Level  \\\n",
       "0    10749.105137    10746.153423           2           1  3s2 3p2 3P1   \n",
       "1    10800.770181    10797.804402           3           2  3s2 3p2 3P2   \n",
       "2     5387.437863     5385.938558           3           1  3s2 3p2 3P2   \n",
       "3     2579.540186     2578.767826           4           2  3s2 3p2 1D2   \n",
       "4     3388.911482     3387.938955           4           3  3s2 3p2 1D2   \n",
       "5     2080.312589     2079.649941           4           1  3s2 3p2 1D2   \n",
       "6     1370.815054     1370.815054           5           3  3s2 3p2 1S0   \n",
       "7     2301.956841     2301.247695           5           4  3s2 3p2 1S0   \n",
       "8     1216.428105     1216.428105           5           2  3s2 3p2 1S0   \n",
       "9      600.404789      600.404789           6           4   3s 3p3 5S2   \n",
       "\n",
       "   Lower Level  geff [LS]   D coeff       E coeff    Einstein A  \n",
       "0  3s2 3p2 3P0       1.50  1.000000  1.060660e+00      14.00000  \n",
       "1  3s2 3p2 3P1       1.50  0.591608  6.274950e-01       9.88000  \n",
       "2  3s2 3p2 3P0       3.00 -0.000000 -0.000000e+00       0.00637  \n",
       "3  3s2 3p2 3P1       0.75  0.591608  1.861901e-16      60.30000  \n",
       "4  3s2 3p2 3P2       1.25 -0.591608 -8.366600e-01      73.70000  \n",
       "5  3s2 3p2 3P0       2.00 -0.000000 -0.000000e+00       0.00400  \n",
       "6  3s2 3p2 3P2       3.00 -0.000000 -0.000000e+00       3.76000  \n",
       "7  3s2 3p2 1D2       2.00 -0.000000 -0.000000e+00       7.84000  \n",
       "8  3s2 3p2 3P1       1.50  0.000000 -0.000000e+00     970.00000  \n",
       "9  3s2 3p2 1D2       1.50 -0.591608  9.309503e-17  183000.00000  "
      ]
     },
     "execution_count": 7,
     "metadata": {},
     "output_type": "execute_result"
    }
   ],
   "source": [
    "rad_trans_df = fe13.rad_transitions_to_dataframe()\n",
    "rad_trans_df[0:10]  ## show first ten transitions only"
   ]
  },
  {
   "cell_type": "markdown",
   "id": "dcd9c218-69ca-497f-a28b-cf97e03e7842",
   "metadata": {},
   "source": [
    "## Example calculation of the statistical equilibrium\n",
    "\n",
    "Now, lets do a single calculation of the statistical equilbrium.  The default method for this (currently) is called calc_rho_sym, which excepts an electron density, a temperature, a height above the solar surface and a magnetic field inclination.  The code currently assumes the proton temperature equals the electron temperature.  The proton density is set to 0.85 times the electron density."
   ]
  },
  {
   "cell_type": "code",
   "execution_count": 8,
   "id": "ec26b858-839a-46b7-8957-0992d665fb3d",
   "metadata": {},
   "outputs": [
    {
     "name": "stdout",
     "output_type": "stream",
     "text": [
      " Max temp is :  1676832.9368110066  log T:  6.224489795918367\n"
     ]
    }
   ],
   "source": [
    "edens = 1e8                  ## cm^-3\n",
    "etemp = fe13.get_maxtemp()   ## Kelvin \n",
    "print(' Max temp is : ', etemp, ' log T: ', np.log10(etemp))\n",
    "ht    = 0.1                   ## solar radius units above the photosphere \n",
    "thetab = 0.     ## degrees \n",
    "fe13.calc_rho_sym(edens,etemp,ht, thetab, include_limbdark=True, include_protons=True)"
   ]
  },
  {
   "cell_type": "markdown",
   "id": "90d39e25-a69f-4f9e-b051-ca54d73f95a8",
   "metadata": {},
   "source": [
    "Having executed the calc_rho_sym method, the statistical equilibrium equations have now been solved and the elements of the atomic density matrix are now available.  The total rate matrix in the spherical tensor representation is given in the see_matrix variables.  Each row of this matrix corresponds to a particular energy level and moment order K, which is recorded in the see_lev and see_k variables. "
   ]
  },
  {
   "cell_type": "code",
   "execution_count": 9,
   "id": "a63b66d0-ce44-45fb-8612-5904fbb0df01",
   "metadata": {},
   "outputs": [
    {
     "name": "stdout",
     "output_type": "stream",
     "text": [
      "(142, 142) (142,) (142,)\n"
     ]
    }
   ],
   "source": [
    "print(fe13.see_matrix.shape,fe13.see_lev.shape,fe13.see_k.shape)"
   ]
  },
  {
   "cell_type": "markdown",
   "id": "fe358790-36c4-48fb-8e78-d5a164161829",
   "metadata": {},
   "source": [
    "One can view the spherical tensor matrix elements directly in the rho variable, which has a shape of (nlevels x the maximum order K). Q = 0 on account of the no coherence hypothesis.  Thus, rho has already been reshaped using the index variables above. Associated with the index variables is an array of weights used to normalize the total populations to unity.  You can check the solution by ensuring the total population is 1 as follows.  A method may be created to do this directly. "
   ]
  },
  {
   "cell_type": "code",
   "execution_count": 10,
   "id": "435fd23a-54ba-435f-bd94-9adb27c79416",
   "metadata": {},
   "outputs": [
    {
     "name": "stdout",
     "output_type": "stream",
     "text": [
      " Shape of rho:  (50, 11)\n",
      " sum of populations:  1.0000000000000002\n"
     ]
    }
   ],
   "source": [
    "print(' Shape of rho: ',fe13.rho.shape)\n",
    "## here is where you can calculate the trace of the equations \n",
    "print(' sum of populations: ',  np.sum(fe13.rho[:,0]*fe13.weight[fe13.weight != 0]))"
   ]
  },
  {
   "cell_type": "markdown",
   "id": "c72eb7ab-9529-46ba-b0ea-9a50b161d283",
   "metadata": {},
   "source": [
    "## Single Intensity Emission Coefficient Calculation using Ion class method \n",
    "\n",
    "At this point we have access to all the information we need to calculate the polarized emission coefficients.\n",
    "\n",
    "The emission coefficient for Stokes I is given in Equation 3 of Schad & Dima (2020):  https://rdcu.be/b5J2X\n",
    "\n",
    "\n",
    "$$\n",
    "\\epsilon_I(\\lambda,\\vec{\\Omega}_{0}) = \\frac{hv}{4\\pi} N_{\\alpha_{u} J_{u}}A_{\\alpha_{u} J_{u} \\rightarrow \\alpha_{\\ell} J_{\\ell}}\n",
    "     \\left[1 + \\frac{3}{2\\sqrt{2}}D\\sigma^2_0\\left(\\cos^2{\\Theta_B} - \\frac{1}{3}\\right)\\right]\\phi(\\lambda-\\lambda_0)\n",
    "$$\n",
    "\n",
    "Here we assume the line is not resolved and instead calculate the line-integrated emission coefficient\n"
   ]
  },
  {
   "cell_type": "code",
   "execution_count": 11,
   "id": "02b255b7-d56b-43a5-b940-1a55c6223c94",
   "metadata": {},
   "outputs": [
    {
     "name": "stdout",
     "output_type": "stream",
     "text": [
      "2.7604104319375896e-09   photons cm$^{-3}$ s$^{-1}$ arcsec$^{-2}$\n"
     ]
    }
   ],
   "source": [
    "## select the wavelength of the desired transition (Angstrom in Air) \n",
    "wvair = 10747  \n",
    "epsI = fe13.calc_Iemiss(wvair, thetaBLOS=54.735610317245346)   ## thetaBLOS = Van Vleck angle [default] \n",
    "units = r'photons cm$^{-3}$ s$^{-1}$ arcsec$^{-2}$'\n",
    "print(epsI,' ',units)"
   ]
  },
  {
   "cell_type": "markdown",
   "id": "d0e326ad-6978-41b7-90cd-79254f471809",
   "metadata": {},
   "source": [
    "## Polarized Emission Coefficient Calculation using Ion class method \n",
    "\n",
    "The polarized emission coefficients are given in Equations 6,7, and 8 of  Schad & Dima (2020):  https://rdcu.be/b5J2X\n",
    "\n",
    "These pertain to a particular geometry where the reference direction of the linear polarization is parallel to the LOS projected magnetic field orientation.   The line profile is given by a normal distribution $\\phi$ and its derivative $\\phi'$.  Here we only calculate the coefficients.\n",
    "\n",
    "$$\n",
    "\\epsilon_Q(\\lambda,\\vec{\\Omega}_{0}) =  \\frac{3}{2\\sqrt{2}}\\frac{hv}{4\\pi} N_{\\alpha_{u} J_{u}}A_{\\alpha_{u} J_{u} \\rightarrow \\alpha_{\\ell} J_{\\ell}} D\\sigma^2_0 \\sin^2{\\Theta_{B}}{\\ }\\phi(\\lambda-\\lambda_0)\n",
    "$$\n",
    "\n",
    "$$\n",
    "\\epsilon_U(\\lambda,\\vec{\\Omega}_{0}) = 0\n",
    "$$\n",
    "\n",
    "$$\n",
    "\\epsilon_V(\\lambda,\\vec{\\Omega}_{0}) = -\\frac{\\lambda^{2}}{c}\\frac{hv}{4\\pi} N_{\\alpha_{u} J_{u}}A_{\\alpha_{u} J_{u} \\rightarrow \\alpha_{\\ell} J_{\\ell}}\\cos{\\Theta_{B}}\\nu_{L}[\\bar{g} + E\\sigma^2_0]\\phi'(\\lambda-\\lambda_0)\n",
    "$$\n",
    "\n",
    "- Or you can get all of the polarized emission coefficients as follows"
   ]
  },
  {
   "cell_type": "code",
   "execution_count": 12,
   "id": "877b85d5-d9aa-431c-a62a-389e946b5b4a",
   "metadata": {},
   "outputs": [
    {
     "name": "stdout",
     "output_type": "stream",
     "text": [
      " epsI :  2.7604104319375896e-09      photons cm$^{-3}$ s$^{-1}$ arcsec$^{-2}$\n",
      " epsQ :  1.9093023837349878e-10      photons cm$^{-3}$ s$^{-1}$ arcsec$^{-2}$\n",
      " epsU :  0.0      photons cm$^{-3}$ s$^{-1}$ arcsec$^{-2}$\n",
      " epsV :  -8.919427596503175e-13      photons cm$^{-3}$ s$^{-1}$ arcsec$^{-2}$ Angstrom^{-1}\n"
     ]
    }
   ],
   "source": [
    "epsI,epsQ,epsU,epsV = fe13.calc_PolEmissCoeff(10747.,100.,54.735610317245346,0.)\n",
    "iqu_units = 'photons cm$^{-3}$ s$^{-1}$ arcsec$^{-2}$'\n",
    "v_units   =  'photons cm$^{-3}$ s$^{-1}$ arcsec$^{-2}$ Angstrom^{-1}'\n",
    "print(' epsI : ',epsI,'    ',iqu_units)\n",
    "print(' epsQ : ',epsQ,'    ',iqu_units)\n",
    "print(' epsU : ',epsU,'    ',iqu_units)\n",
    "print(' epsV : ',epsV,'    ',v_units)"
   ]
  },
  {
   "cell_type": "markdown",
   "id": "9c361a73-2b57-4c8c-abe6-01821e4d6cad",
   "metadata": {},
   "source": [
    "## Calculate temperature dependent contribution function \n",
    "\n",
    "We can now calculate the temperature dependent contribution function for both 10746 and 10798 with units: \n",
    "\n",
    "photons cm$^{+3}$ s$^{-1}$ arcsec$^{-2}$"
   ]
  },
  {
   "cell_type": "code",
   "execution_count": 13,
   "id": "24cee7f2-c996-4e39-9b81-3a64b95d9f8c",
   "metadata": {},
   "outputs": [],
   "source": [
    "edens = 1e8                ## cm^-3\n",
    "ht    = 0.1                ## solar radius units above the photosphere \n",
    "thetab = 0.                ## degrees \n",
    "temps = 10.**np.linspace(5.,7,100)\n",
    "intensities = np.zeros((2,len(temps)))\n",
    "\n",
    "for t,etemp in enumerate(temps):\n",
    "    fe13.calc_rho_sym(edens,etemp,ht, thetab, include_limbdark=True, include_protons=True)\n",
    "    intensities[0,t] = fe13.calc_Iemiss(10746.)\n",
    "    intensities[1,t] = fe13.calc_Iemiss(10798.)"
   ]
  },
  {
   "cell_type": "code",
   "execution_count": 14,
   "id": "a28f4c3d-b6ce-42d4-ab70-e3ebcbfbcebf",
   "metadata": {},
   "outputs": [
    {
     "data": {
      "text/plain": [
       "<matplotlib.legend.Legend at 0x7fe5a2d3cbe0>"
      ]
     },
     "execution_count": 14,
     "metadata": {},
     "output_type": "execute_result"
    },
    {
     "data": {
      "image/png": "[encoded data removed]",
      "text/plain": [
       "<Figure size 432x288 with 1 Axes>"
      ]
     },
     "metadata": {
      "needs_background": "light"
     },
     "output_type": "display_data"
    }
   ],
   "source": [
    "plt.figure()\n",
    "plt.plot(temps,intensities[0,:] / (edens * 0.85*edens) ,label = r'G(T) 10746 $\\AA$')\n",
    "plt.plot(temps,intensities[1,:] / (edens * 0.85*edens) ,label = r'G(T) 10798 $\\AA$')\n",
    "plt.xlabel('Temperature [K]')\n",
    "plt.legend()"
   ]
  },
  {
   "cell_type": "markdown",
   "id": "cd81cbf9-256f-4e6e-a087-fa8f0566005d",
   "metadata": {},
   "source": [
    "## Calculate density dependent contribution function \n",
    "\n",
    "And now the density dependent contribution function for both 10746 and 10798 with units: \n",
    "\n",
    "photons cm$^{+3}$ s$^{-1}$ arcsec$^{-2}$"
   ]
  },
  {
   "cell_type": "code",
   "execution_count": 15,
   "id": "d96ab857-990a-4c6f-9e3e-338895045805",
   "metadata": {},
   "outputs": [],
   "source": [
    "etemp = fe13.get_maxtemp() \n",
    "ht    = 0.1                ## solar radius units above the photosphere \n",
    "thetab = 0.                ## degrees \n",
    "densities = 10.**np.linspace(6.,12,50)\n",
    "intensities = np.zeros((2,len(densities)))\n",
    "alignments = np.zeros((2,len(densities)))\n",
    "\n",
    "for d,edens in enumerate(densities):\n",
    "    fe13.calc_rho_sym(edens,etemp,ht, thetab, include_limbdark=True, include_protons=True)\n",
    "    intensities[0,d] = fe13.calc_Iemiss(10746.)\n",
    "    intensities[1,d] = fe13.calc_Iemiss(10798.)\n",
    "    alignments[0,d] = fe13.get_upper_level_alignment(10746.)\n",
    "    alignments[1,d] = fe13.get_upper_level_alignment(10798.)"
   ]
  },
  {
   "cell_type": "code",
   "execution_count": 16,
   "id": "962e0c6d-4dbc-4999-9864-9f44eb4cc45c",
   "metadata": {},
   "outputs": [
    {
     "data": {
      "text/plain": [
       "<matplotlib.legend.Legend at 0x7fe5a251e6a0>"
      ]
     },
     "execution_count": 16,
     "metadata": {},
     "output_type": "execute_result"
    },
    {
     "data": {
      "image/png": "[encoded data removed]",
      "text/plain": [
       "<Figure size 432x288 with 1 Axes>"
      ]
     },
     "metadata": {
      "needs_background": "light"
     },
     "output_type": "display_data"
    }
   ],
   "source": [
    "plt.figure()\n",
    "plt.plot(densities,intensities[0,:] / (densities * 0.85*densities) ,label = r'G(T) 10746 $\\AA$')\n",
    "plt.plot(densities,intensities[1,:] / (densities * 0.85*densities) ,label = r'G(T) 10798 $\\AA$')\n",
    "plt.xscale('log')\n",
    "plt.yscale('log')\n",
    "plt.xlabel('Electron Density [cm$^{-3}$]')\n",
    "plt.legend()"
   ]
  },
  {
   "cell_type": "markdown",
   "id": "c2299b2b-4f1d-4048-b2fe-cc1dd522860f",
   "metadata": {},
   "source": [
    "## Line ratio density dependence for Fe 13 10747 and 10798"
   ]
  },
  {
   "cell_type": "code",
   "execution_count": 17,
   "id": "8c3681b0-1843-48e1-88b7-a2aed335ed41",
   "metadata": {},
   "outputs": [
    {
     "data": {
      "text/plain": [
       "<matplotlib.legend.Legend at 0x7fe5a2986cd0>"
      ]
     },
     "execution_count": 17,
     "metadata": {},
     "output_type": "execute_result"
    },
    {
     "data": {
      "image/png": "[encoded data removed]",
      "text/plain": [
       "<Figure size 432x288 with 1 Axes>"
      ]
     },
     "metadata": {
      "needs_background": "light"
     },
     "output_type": "display_data"
    }
   ],
   "source": [
    "plt.figure()\n",
    "plt.plot(densities,intensities[1,:] / intensities[0,:] ,label = r'Intensity Ratio')\n",
    "plt.xscale('log')\n",
    "plt.xlabel('Electron Density [cm$^{-3}$]')\n",
    "plt.legend()"
   ]
  },
  {
   "cell_type": "markdown",
   "id": "5ef7c0d1-fe29-460c-811a-f98ac79e935b",
   "metadata": {},
   "source": [
    "## Atomic alignments versus density "
   ]
  },
  {
   "cell_type": "code",
   "execution_count": 18,
   "id": "15af540f-3f96-4212-ab2e-a1f2a2bb4e90",
   "metadata": {},
   "outputs": [
    {
     "data": {
      "text/plain": [
       "<matplotlib.legend.Legend at 0x7fe5a27e8a30>"
      ]
     },
     "execution_count": 18,
     "metadata": {},
     "output_type": "execute_result"
    },
    {
     "data": {
      "image/png": "[encoded data removed]",
      "text/plain": [
       "<Figure size 432x288 with 1 Axes>"
      ]
     },
     "metadata": {
      "needs_background": "light"
     },
     "output_type": "display_data"
    }
   ],
   "source": [
    "plt.figure()\n",
    "plt.plot(densities,alignments[0,:] ,label = r'$\\sigma_0^2$ $10746 \\AA$')\n",
    "plt.plot(densities,alignments[1,:] ,label = r'$\\sigma_0^2$ $10798 \\AA$')\n",
    "plt.xscale('log')\n",
    "plt.xlabel('Electron Density [cm$^{-3}$]')\n",
    "plt.ylabel('Upper level alignment')\n",
    "plt.legend()"
   ]
  },
  {
   "cell_type": "code",
   "execution_count": null,
   "id": "fec8e14a-14ce-464a-bd37-91e1cb346c92",
   "metadata": {},
   "outputs": [],
   "source": []
  },
  {
   "cell_type": "code",
   "execution_count": null,
   "id": "5b241019-04e0-445c-92cb-e7a9832b1f8d",
   "metadata": {},
   "outputs": [],
   "source": []
  },
  {
   "cell_type": "code",
   "execution_count": null,
   "id": "5040fc48-5478-46bd-bf30-dd26a399dff8",
   "metadata": {},
   "outputs": [],
   "source": []
  }
 ],
 "metadata": {
  "kernelspec": {
   "display_name": "Python 3 (ipykernel)",
   "language": "python",
   "name": "python3"
  },
  "language_info": {
   "codemirror_mode": {
    "name": "ipython",
    "version": 3
   },
   "file_extension": ".py",
   "mimetype": "text/x-python",
   "name": "python",
   "nbconvert_exporter": "python",
   "pygments_lexer": "ipython3",
   "version": "3.9.7"
  },
  "toc-autonumbering": true
 },
 "nbformat": 4,
 "nbformat_minor": 5
}
