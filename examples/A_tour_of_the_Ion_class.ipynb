{
 "cells": [
  {
   "cell_type": "markdown",
   "id": "511d37b0-ea9a-4b46-9edd-19468f3ca3de",
   "metadata": {},
   "source": [
    "# **A Tour of the pyclep package's Ion class**\n",
    "\n",
    "The primary class used for calculations with pyCELP is the Ion class.  It is automatically imported into the main package from the pyclep.ion sub-module.  With it, one can load the data for a single ion and perform calculations relevant to synthesizing the polarized emission.\n",
    "\n",
    "Let's start by initializing a class for the Fe XIII ion.  We aim to explore the 1074.6 and 1079.8 nm coronal emission lines.  When you initialize the Ion class, pycelp will read the chianti database for the given atom.  The default to is read all level and collisional information available.  For the Fe XIII ion, there are 749 energy levels.  Once the data is read, pyclep will then pre-calculate as many terms (or factors) in the statistical equilbrium equations as possible.  This includes all calculates of the relevant wigner coefficients.  As such, the initialization can take some time.  \n",
    "\n",
    "Here we will restrict the number of levels we use in our calculations to make it faster.  It is up to the user to decide how many levels are appropriate for a given atom.  See Schad & Dima (2020) for more details.  "
   ]
  },
  {
   "cell_type": "code",
   "execution_count": 68,
   "id": "d01bd99b-4270-4e5d-b6fe-e39958916f6f",
   "metadata": {},
   "outputs": [],
   "source": [
    "import pycelp \n",
    "import numpy as np"
   ]
  },
  {
   "cell_type": "code",
   "execution_count": 69,
   "id": "70ea4631-f319-4e9e-8395-7662f4ebb0f5",
   "metadata": {},
   "outputs": [
    {
     "name": "stdout",
     "output_type": "stream",
     "text": [
      " reading:  /usr/local/ssw/packages/chianti/dbase/fe/fe_13/fe_13.elvlc\n",
      " reading:  /usr/local/ssw/packages/chianti/dbase/fe/fe_13/fe_13.wgfa\n",
      " reading:  /usr/local/ssw/packages/chianti/dbase/fe/fe_13/fe_13.scups\n",
      " reading:  /usr/local/ssw/packages/chianti/dbase/fe/fe_13/fe_13.psplups\n",
      " using default abundances: /usr/local/ssw/packages/chianti/dbase/abundance/sun_photospheric_2009_asplund.abund\n",
      " reading:  /usr/local/ssw/packages/chianti/dbase/abundance/sun_photospheric_2009_asplund.abund\n",
      " testing default file: /usr/local/ssw/packages/chianti/dbase/ioneq/chianti.ioneq\n",
      " reading:  /usr/local/ssw/packages/chianti/dbase/ioneq/chianti.ioneq\n",
      " setting up electron collision rate factors\n",
      " setting up proton  collision rate factors\n",
      " setting up non-dipole radiative rate factors\n",
      " getting non-dipole rate factors\n",
      " setting up dipole radiative rate factors\n"
     ]
    }
   ],
   "source": [
    "fe13 = pycelp.Ion('fe_13',nlevels = 50)"
   ]
  },
  {
   "cell_type": "markdown",
   "id": "76061b35-2250-4851-83cb-45b1150c7254",
   "metadata": {},
   "source": [
    "**NOTE**:  If this is your first time running pycelp, initization may take longer.  pycelp using numba @njit compilation with caching enabled.  Once the various functions are run one, the compiled functions will be in the memory for this session and available in the cache for later.  Thus, subsequent executions will be much faster. \n",
    "\n",
    "Now, we can view the representation of the Ion by simplying return the class instance name directly"
   ]
  },
  {
   "cell_type": "code",
   "execution_count": 70,
   "id": "a67638ad-9a17-410b-82dc-6901bff4fa54",
   "metadata": {},
   "outputs": [
    {
     "data": {
      "text/plain": [
       "pyCELP Ion class\n",
       "    ---------------------\n",
       "    Ion Name: fe_13\n",
       "    Number of energy levels included: 50\n",
       "    Number of SEE equations: 142\n",
       "    Number of Radiative Transitions: 366\n",
       "    Ionization Equilbrium Filename: /usr/local/ssw/packages/chianti/dbase/ioneq/chianti.ioneq"
      ]
     },
     "execution_count": 70,
     "metadata": {},
     "output_type": "execute_result"
    }
   ],
   "source": [
    "fe13"
   ]
  },
  {
   "cell_type": "markdown",
   "id": "884f758a-ff4a-41aa-bd8d-9e652d96ecc8",
   "metadata": {},
   "source": [
    "We see that there at 50 energy levels included.  The number of statistical equilbrium equations is 142; thus, the rate matrix will be 142 x 142 in size.  The number of radiative transitions included is 366. \n",
    "\n",
    "We can look at the first 10 radiative transitions using the show_lines method. "
   ]
  },
  {
   "cell_type": "code",
   "execution_count": 71,
   "id": "d9fa40fe-e2e3-4489-8f27-40076e663245",
   "metadata": {},
   "outputs": [
    {
     "name": "stdout",
     "output_type": "stream",
     "text": [
      " Index -- WV_VAC [A] -- WV_AIR [A] -- TRANSITION\n",
      "0 10749.105 10746.153 3s2 3p2 3P1  -->  3s2 3p2 3P0\n",
      "1 10800.77 10797.804 3s2 3p2 3P2  -->  3s2 3p2 3P1\n",
      "2 5387.438 5385.939 3s2 3p2 3P2  -->  3s2 3p2 3P0\n",
      "3 2579.54 2578.768 3s2 3p2 1D2  -->  3s2 3p2 3P1\n",
      "4 3388.911 3387.939 3s2 3p2 1D2  -->  3s2 3p2 3P2\n",
      "5 2080.313 2079.65 3s2 3p2 1D2  -->  3s2 3p2 3P0\n",
      "6 1370.815 1370.815 3s2 3p2 1S0  -->  3s2 3p2 3P2\n",
      "7 2301.957 2301.248 3s2 3p2 1S0  -->  3s2 3p2 1D2\n",
      "8 1216.428 1216.428 3s2 3p2 1S0  -->  3s2 3p2 3P1\n",
      "9 600.405 600.405 3s 3p3 5S2  -->  3s2 3p2 1D2\n"
     ]
    }
   ],
   "source": [
    "fe13.show_lines(10)"
   ]
  },
  {
   "cell_type": "markdown",
   "id": "e9cca996-188b-4879-84ee-bf4bae3cbc23",
   "metadata": {},
   "source": [
    "Most variables in the class are currently in public scope.  For example, the level information read from Chianti is in the dictionary elvl_data.  We can look at the available the keys here.  pycelp uses much of this information for its calculations but it does not typically use this dictionary directly.  Reading the Ion class source code can helpful if interested"
   ]
  },
  {
   "cell_type": "code",
   "execution_count": 72,
   "id": "be424a4e-a805-46ba-9961-df7062d19cc6",
   "metadata": {},
   "outputs": [
    {
     "name": "stdout",
     "output_type": "stream",
     "text": [
      " elvl_data keys:\n",
      "dict_keys(['ion_name', 'ion_z', 'ion_n', 'filename', 'version', 'reference', 'index', 'conf', 'conf_latex', 'conf_index', 'term', 'term_latex', 'level', 'level_latex', 'full_level', 'full_level_latex', 'label', 'mult', 's', 'l', 'l_sym', 'j', 'j_str', 'parity', 'parity_str', 'weight', 'obs_energy', 'theory_energy', 'energy', 'energy_units'])\n",
      " \n",
      " Chianti level index  ---   energy [cm^-1] --- level configuration\n",
      " ... printing for first 5 levels\n",
      "1   0.0    3s2 3p2 3P0\n",
      "2   9303.1    3s2 3p2 3P1\n",
      "3   18561.699    3s2 3p2 3P2\n",
      "4   48069.699    3s2 3p2 1D2\n",
      "5   91511.0    3s2 3p2 1S0\n"
     ]
    }
   ],
   "source": [
    "print(' elvl_data keys:')\n",
    "print(fe13.elvl_data.keys())\n",
    "print(' ')\n",
    "print(' Chianti level index  ---   energy [' + fe13.elvl_data['energy_units'] + '] --- level configuration') \n",
    "print(' ... printing for first 5 levels')\n",
    "for lev in range(5):\n",
    "    print(fe13.elvl_data['index'][lev],' ',fe13.elvl_data['energy'][lev],'  ',fe13.elvl_data['full_level'][lev])"
   ]
  },
  {
   "cell_type": "markdown",
   "id": "26bad086-cf2f-499b-89a8-ccb062f69e53",
   "metadata": {},
   "source": [
    "Similar dictionaries are available for the radiation transitions (wgfa_data), electron collisional data (scups_data), and proton collisional data (splups_data). \n",
    "\n",
    "Now, lets do a single calculation of the statistical equilbrium.  The default method for this (currently) is called calc, which excepts an electron density, a temperature, a height above the solar surface and a magnetic field inclination.  The code currently assumes the proton temperature equals the electron temperature.  The proton density is set to 0.85 times the electron density."
   ]
  },
  {
   "cell_type": "code",
   "execution_count": 73,
   "id": "ec26b858-839a-46b7-8957-0992d665fb3d",
   "metadata": {},
   "outputs": [],
   "source": [
    "edens = 1e8                  ## cm^-3\n",
    "etemp = fe13.get_maxtemp()   ## Kelvin \n",
    "ht = 0.1                     ## solar radius units above the photosphere \n",
    "thetab = np.rad2deg(0.)      ## radians \n",
    "fe13.calc(edens,etemp,ht, thetab, include_limbdark=True, include_protons=True)"
   ]
  },
  {
   "cell_type": "markdown",
   "id": "90d39e25-a69f-4f9e-b051-ca54d73f95a8",
   "metadata": {},
   "source": [
    "Having executed the calc method, the statistical equilibrium equations have now been solved and the elements of the atomic density matrix are now available.  The total rate matrix in the spherical tensor representation is given in the see_matrix variables.  Each row of this matrix corresponds to a particular energy level and moment order K, which is recorded in the see_lev and see_k variables. "
   ]
  },
  {
   "cell_type": "code",
   "execution_count": 74,
   "id": "a63b66d0-ce44-45fb-8612-5904fbb0df01",
   "metadata": {},
   "outputs": [
    {
     "name": "stdout",
     "output_type": "stream",
     "text": [
      "(142, 142) (142,) (142,)\n"
     ]
    }
   ],
   "source": [
    "print(fe13.see_matrix.shape,fe13.see_lev.shape,fe13.see_k.shape)"
   ]
  },
  {
   "cell_type": "markdown",
   "id": "fe358790-36c4-48fb-8e78-d5a164161829",
   "metadata": {},
   "source": [
    "One can view the spherical tensor matrix elements directly in the rho variable, which has a shape of (nlevels x the maximum order K). Q = 0 on account of the no coherence hypothesis.  Thus, rho has already been reshaped using the index variables above. Associated with the index variables is an array of weights used to normalize the total populations to unity.  You can check the solution by ensuring the total population is 1 as follows.  A method may be created to do this directly. "
   ]
  },
  {
   "cell_type": "code",
   "execution_count": 78,
   "id": "435fd23a-54ba-435f-bd94-9adb27c79416",
   "metadata": {},
   "outputs": [
    {
     "name": "stdout",
     "output_type": "stream",
     "text": [
      " Shape of rho:  (50, 11)\n",
      " sum of populations:  1.0000000000000002\n"
     ]
    }
   ],
   "source": [
    "print(' Shape of rho: ',fe13.rho.shape)\n",
    "## here is where you can calculate the trace of the equations \n",
    "print(' sum of populations: ',  np.sum(fe13.rho[:,0]*fe13.weight[fe13.weight != 0]))"
   ]
  },
  {
   "cell_type": "code",
   "execution_count": null,
   "id": "e40a376a-a75c-4b37-88ca-a9e30f87d7c7",
   "metadata": {},
   "outputs": [],
   "source": []
  },
  {
   "cell_type": "code",
   "execution_count": null,
   "id": "fdb593e2-976e-4cf5-b4ef-84afc3d7c5d8",
   "metadata": {},
   "outputs": [],
   "source": []
  },
  {
   "cell_type": "code",
   "execution_count": null,
   "id": "53f977bf-57fe-48d9-9ad5-a30951645213",
   "metadata": {},
   "outputs": [],
   "source": []
  }
 ],
 "metadata": {
  "kernelspec": {
   "display_name": "Python 3",
   "language": "python",
   "name": "python3"
  },
  "language_info": {
   "codemirror_mode": {
    "name": "ipython",
    "version": 3
   },
   "file_extension": ".py",
   "mimetype": "text/x-python",
   "name": "python",
   "nbconvert_exporter": "python",
   "pygments_lexer": "ipython3",
   "version": "3.9.4"
  }
 },
 "nbformat": 4,
 "nbformat_minor": 5
}
