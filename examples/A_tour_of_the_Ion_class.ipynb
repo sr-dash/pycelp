{
 "cells": [
  {
   "cell_type": "markdown",
   "id": "511d37b0-ea9a-4b46-9edd-19468f3ca3de",
   "metadata": {},
   "source": [
    "# **A Tour of the pyclep package's Ion class**\n",
    "\n",
    "by Tom Schad \n"
   ]
  },
  {
   "cell_type": "code",
   "execution_count": 1,
   "id": "d01bd99b-4270-4e5d-b6fe-e39958916f6f",
   "metadata": {},
   "outputs": [],
   "source": [
    "import pycelp \n",
    "import numpy as np\n",
    "import matplotlib.pyplot as plt\n",
    "plt.rcParams['figure.dpi'] = 150\n",
    "import os\n",
    "## If you havent already set the environment variable XUVTOP for the location of the database, set it here\n",
    "os.environ[\"XUVTOP\"] = '/usr/local/ssw/packages/chianti/dbase/'"
   ]
  },
  {
   "cell_type": "markdown",
   "id": "17837cc9-d015-470c-adcc-b2ec97813b1c",
   "metadata": {},
   "source": [
    "## **Initializing an Ion Object for a particular Ion**\n",
    "\n",
    "- The primary class used for calculations with pyCELP is the Ion class.  It is automatically imported into the main package from the pyclep.ion sub-module.  With it, one can load the data for a single ion and perform calculations relevant to synthesizing the polarized emission as well as generate Stokes vectors.\n",
    "\n",
    "- Let's start by initializing a class for the Fe XIII ion.  We aim to explore the 1074.6 and 1079.8 nm coronal emission lines.  When you initialize the Ion class, pycelp will read the [Chianti](https://www.chiantidatabase.org/) database for the given atom.  The default to is read all level and collisional information available.  For the Fe XIII ion, there are 749 energy levels.  Once the data is read, pyclep will then pre-calculate as many terms (or factors) in the statistical equilbrium equations as possible.  This includes all calculations of the relevant wigner coefficients.  As such, the initialization can take some time.  \n",
    "\n",
    "- Here we will restrict the number of levels we use in our calculations to make it faster.  It is up to the user to decide how many levels are appropriate for a given atom.  See Schad & Dima (2020) for more details.  \n",
    "\n",
    "<div class=\"alert alert-warning\" role=\"alert\">\n",
    "    <div class=\"row vertical-align\">\n",
    "        <div class=\"col-xs-1 text-center\">\n",
    "            <i class=\"fa fa-exclamation-triangle fa-2x\"></i>\n",
    "        </div>\n",
    "        <div class=\"col-xs-11\">\n",
    "                <strong>Note:</strong>  If this is your first time running pycelp, initization may take longer.  pycelp uses numba @njit compilation with caching enabled.  Once the various functions are run once, the compiled functions will be in the memory for this session and available in the cache for later.  Thus, subsequent executions will be much faster.                  \n",
    "        </div>   \n",
    "    </div> \n",
    "</div>"
   ]
  },
  {
   "cell_type": "code",
   "execution_count": 2,
   "id": "70ea4631-f319-4e9e-8395-7662f4ebb0f5",
   "metadata": {},
   "outputs": [
    {
     "name": "stdout",
     "output_type": "stream",
     "text": [
      " reading:  /usr/local/ssw/packages/chianti/dbase/fe/fe_13/fe_13.elvlc\n",
      " reading:  /usr/local/ssw/packages/chianti/dbase/fe/fe_13/fe_13.wgfa\n",
      " reading:  /usr/local/ssw/packages/chianti/dbase/fe/fe_13/fe_13.scups\n",
      " reading:  /usr/local/ssw/packages/chianti/dbase/fe/fe_13/fe_13.psplups\n",
      " using default abundances: /usr/local/ssw/packages/chianti/dbase/abundance/sun_photospheric_2009_asplund.abund\n",
      " reading:  /usr/local/ssw/packages/chianti/dbase/abundance/sun_photospheric_2009_asplund.abund\n",
      " testing default file: /usr/local/ssw/packages/chianti/dbase/ioneq/chianti.ioneq\n",
      " reading:  /usr/local/ssw/packages/chianti/dbase/ioneq/chianti.ioneq\n",
      " setting up electron collision rate factors\n",
      " setting up proton  collision rate factors\n",
      " setting up non-dipole radiative rate factors\n",
      " getting non-dipole rate factors\n",
      " setting up dipole radiative rate factors\n"
     ]
    }
   ],
   "source": [
    "fe13 = pycelp.Ion('fe_13',nlevels = 50)"
   ]
  },
  {
   "cell_type": "markdown",
   "id": "76061b35-2250-4851-83cb-45b1150c7254",
   "metadata": {},
   "source": [
    "Now, we can view the representation of the Ion by simplying return the class instance name directly"
   ]
  },
  {
   "cell_type": "code",
   "execution_count": 3,
   "id": "a67638ad-9a17-410b-82dc-6901bff4fa54",
   "metadata": {},
   "outputs": [
    {
     "data": {
      "text/plain": [
       "pyCELP Ion class\n",
       "    ---------------------\n",
       "    Ion Name: fe_13\n",
       "    Number of energy levels included: 50\n",
       "    Number of SEE equations: 142\n",
       "    Number of Radiative Transitions: 366\n",
       "    Ionization Equilbrium Filename: /usr/local/ssw/packages/chianti/dbase/ioneq/chianti.ioneq"
      ]
     },
     "execution_count": 3,
     "metadata": {},
     "output_type": "execute_result"
    }
   ],
   "source": [
    "fe13"
   ]
  },
  {
   "cell_type": "markdown",
   "id": "884f758a-ff4a-41aa-bd8d-9e652d96ecc8",
   "metadata": {},
   "source": [
    "We see that there at 50 energy levels included.  The number of statistical equilbrium equations in the statistical spherical tensor representation is 142; thus, the rate matrix will be 142 x 142 in size.  The number of radiative transitions included is 366. \n",
    "\n",
    "We can look at the first 10 radiative transitions using the show_lines method. "
   ]
  },
  {
   "cell_type": "code",
   "execution_count": 4,
   "id": "d9fa40fe-e2e3-4489-8f27-40076e663245",
   "metadata": {},
   "outputs": [
    {
     "name": "stdout",
     "output_type": "stream",
     "text": [
      " Index -- WV_VAC [A] -- WV_AIR [A] -- TRANSITION\n",
      "0 10749.105 10746.153 3s2 3p2 3P1  -->  3s2 3p2 3P0\n",
      "1 10800.77 10797.804 3s2 3p2 3P2  -->  3s2 3p2 3P1\n",
      "2 5387.438 5385.939 3s2 3p2 3P2  -->  3s2 3p2 3P0\n",
      "3 2579.54 2578.768 3s2 3p2 1D2  -->  3s2 3p2 3P1\n",
      "4 3388.911 3387.939 3s2 3p2 1D2  -->  3s2 3p2 3P2\n",
      "5 2080.313 2079.65 3s2 3p2 1D2  -->  3s2 3p2 3P0\n",
      "6 1370.815 1370.815 3s2 3p2 1S0  -->  3s2 3p2 3P2\n",
      "7 2301.957 2301.248 3s2 3p2 1S0  -->  3s2 3p2 1D2\n",
      "8 1216.428 1216.428 3s2 3p2 1S0  -->  3s2 3p2 3P1\n",
      "9 600.405 600.405 3s 3p3 5S2  -->  3s2 3p2 1D2\n"
     ]
    }
   ],
   "source": [
    "fe13.show_lines(10)"
   ]
  },
  {
   "cell_type": "markdown",
   "id": "e52a2d29-0c14-4f0a-99ce-8cb3fe18c39e",
   "metadata": {},
   "source": [
    "### **Access to raw Chianti Database Information**\n",
    "\n",
    "- Most variables in the Ion class are currently in public scope.  For example, the level information read from Chianti is in the dictionary elvl_data.  We can look at the available keys here.  pycelp uses much of this information for its calculations but it does not typically use this dictionary directly, though it may in the future.  Reading the Ion class source code can helpful if interested.  \n",
    "\n",
    "- Similar dictionaries are available for the radiation transitions (wgfa_data), electron collisional data (scups_data), and proton collisional data (splups_data). "
   ]
  },
  {
   "cell_type": "code",
   "execution_count": 5,
   "id": "be424a4e-a805-46ba-9961-df7062d19cc6",
   "metadata": {},
   "outputs": [
    {
     "name": "stdout",
     "output_type": "stream",
     "text": [
      " \n",
      " elvl_data keys:\n",
      " \n",
      "dict_keys(['ion_name', 'ion_z', 'ion_n', 'filename', 'version', 'reference', 'index', 'conf', 'conf_latex', 'conf_index', 'term', 'term_latex', 'level', 'level_latex', 'full_level', 'full_level_latex', 'label', 'mult', 's', 'l', 'l_sym', 'j', 'j_str', 'parity', 'parity_str', 'weight', 'obs_energy', 'theory_energy', 'energy', 'energy_units'])\n",
      " \n",
      "Example...print energies and configurations for the first 5 levels\n",
      " \n",
      " Chianti level index  ---   energy [cm^-1] --- level configuration\n",
      "1   0.0    3s2 3p2 3P0\n",
      "2   9303.1    3s2 3p2 3P1\n",
      "3   18561.699    3s2 3p2 3P2\n",
      "4   48069.699    3s2 3p2 1D2\n",
      "5   91511.0    3s2 3p2 1S0\n"
     ]
    }
   ],
   "source": [
    "print(' ')\n",
    "print(' elvl_data keys:')\n",
    "print(' ')\n",
    "print(fe13.elvl_data.keys())\n",
    "print(' ')\n",
    "print('Example...print energies and configurations for the first 5 levels')\n",
    "print(' ')\n",
    "print(' Chianti level index  ---   energy [' + fe13.elvl_data['energy_units'] + '] --- level configuration') \n",
    "for lev in range(5):\n",
    "    print(fe13.elvl_data['index'][lev],' ',fe13.elvl_data['energy'][lev],'  ',fe13.elvl_data['full_level'][lev])"
   ]
  },
  {
   "cell_type": "markdown",
   "id": "5a9e3f5c-32a8-49fb-aef5-b80e1a7b40ae",
   "metadata": {},
   "source": [
    "#### **Converting to pandas dataframe**\n",
    "\n",
    "- If you have pandas installed, you can also view the level information and the radiative transition information as a dataframe as follows:"
   ]
  },
  {
   "cell_type": "code",
   "execution_count": 6,
   "id": "1ca47b54-4506-4a1e-8978-01b1d5e84dcb",
   "metadata": {},
   "outputs": [
    {
     "data": {
      "text/html": [
       "<div>\n",
       "<style scoped>\n",
       "    .dataframe tbody tr th:only-of-type {\n",
       "        vertical-align: middle;\n",
       "    }\n",
       "\n",
       "    .dataframe tbody tr th {\n",
       "        vertical-align: top;\n",
       "    }\n",
       "\n",
       "    .dataframe thead th {\n",
       "        text-align: right;\n",
       "    }\n",
       "</style>\n",
       "<table border=\"1\" class=\"dataframe\">\n",
       "  <thead>\n",
       "    <tr style=\"text-align: right;\">\n",
       "      <th></th>\n",
       "      <th>Index</th>\n",
       "      <th>Ion_name</th>\n",
       "      <th>Ion_z</th>\n",
       "      <th>Config</th>\n",
       "      <th>Conf Idx</th>\n",
       "      <th>Term</th>\n",
       "      <th>Level</th>\n",
       "      <th>Full Level</th>\n",
       "      <th>Spin Mult</th>\n",
       "      <th>S</th>\n",
       "      <th>L</th>\n",
       "      <th>Orbital</th>\n",
       "      <th>J</th>\n",
       "      <th>Lande g</th>\n",
       "      <th>Parity</th>\n",
       "      <th>Parity Str</th>\n",
       "      <th>Stat. Weight</th>\n",
       "      <th>Obs Energy [cm^-1]</th>\n",
       "      <th>Theory Energy [cm^-1]</th>\n",
       "      <th>Energy [cm^-1]</th>\n",
       "    </tr>\n",
       "  </thead>\n",
       "  <tbody>\n",
       "    <tr>\n",
       "      <th>0</th>\n",
       "      <td>1</td>\n",
       "      <td>fe_13</td>\n",
       "      <td>26</td>\n",
       "      <td>3s2 3p2</td>\n",
       "      <td>1</td>\n",
       "      <td>3P</td>\n",
       "      <td>3P0</td>\n",
       "      <td>3s2 3p2 3P0</td>\n",
       "      <td>3</td>\n",
       "      <td>1.0</td>\n",
       "      <td>1</td>\n",
       "      <td>P</td>\n",
       "      <td>0.0</td>\n",
       "      <td>0.000000</td>\n",
       "      <td>0</td>\n",
       "      <td>e</td>\n",
       "      <td>1.0</td>\n",
       "      <td>0.000</td>\n",
       "      <td>0.0</td>\n",
       "      <td>0.000</td>\n",
       "    </tr>\n",
       "    <tr>\n",
       "      <th>1</th>\n",
       "      <td>2</td>\n",
       "      <td>fe_13</td>\n",
       "      <td>26</td>\n",
       "      <td>3s2 3p2</td>\n",
       "      <td>1</td>\n",
       "      <td>3P</td>\n",
       "      <td>3P1</td>\n",
       "      <td>3s2 3p2 3P1</td>\n",
       "      <td>3</td>\n",
       "      <td>1.0</td>\n",
       "      <td>1</td>\n",
       "      <td>P</td>\n",
       "      <td>1.0</td>\n",
       "      <td>1.500000</td>\n",
       "      <td>0</td>\n",
       "      <td>e</td>\n",
       "      <td>3.0</td>\n",
       "      <td>9303.100</td>\n",
       "      <td>9303.0</td>\n",
       "      <td>9303.100</td>\n",
       "    </tr>\n",
       "    <tr>\n",
       "      <th>2</th>\n",
       "      <td>3</td>\n",
       "      <td>fe_13</td>\n",
       "      <td>26</td>\n",
       "      <td>3s2 3p2</td>\n",
       "      <td>1</td>\n",
       "      <td>3P</td>\n",
       "      <td>3P2</td>\n",
       "      <td>3s2 3p2 3P2</td>\n",
       "      <td>3</td>\n",
       "      <td>1.0</td>\n",
       "      <td>1</td>\n",
       "      <td>P</td>\n",
       "      <td>2.0</td>\n",
       "      <td>1.500000</td>\n",
       "      <td>0</td>\n",
       "      <td>e</td>\n",
       "      <td>5.0</td>\n",
       "      <td>18561.699</td>\n",
       "      <td>18562.0</td>\n",
       "      <td>18561.699</td>\n",
       "    </tr>\n",
       "    <tr>\n",
       "      <th>3</th>\n",
       "      <td>4</td>\n",
       "      <td>fe_13</td>\n",
       "      <td>26</td>\n",
       "      <td>3s2 3p2</td>\n",
       "      <td>1</td>\n",
       "      <td>1D</td>\n",
       "      <td>1D2</td>\n",
       "      <td>3s2 3p2 1D2</td>\n",
       "      <td>1</td>\n",
       "      <td>0.0</td>\n",
       "      <td>2</td>\n",
       "      <td>D</td>\n",
       "      <td>2.0</td>\n",
       "      <td>1.000000</td>\n",
       "      <td>0</td>\n",
       "      <td>e</td>\n",
       "      <td>5.0</td>\n",
       "      <td>48069.699</td>\n",
       "      <td>48070.0</td>\n",
       "      <td>48069.699</td>\n",
       "    </tr>\n",
       "    <tr>\n",
       "      <th>4</th>\n",
       "      <td>5</td>\n",
       "      <td>fe_13</td>\n",
       "      <td>26</td>\n",
       "      <td>3s2 3p2</td>\n",
       "      <td>1</td>\n",
       "      <td>1S</td>\n",
       "      <td>1S0</td>\n",
       "      <td>3s2 3p2 1S0</td>\n",
       "      <td>1</td>\n",
       "      <td>0.0</td>\n",
       "      <td>0</td>\n",
       "      <td>S</td>\n",
       "      <td>0.0</td>\n",
       "      <td>0.000000</td>\n",
       "      <td>0</td>\n",
       "      <td>e</td>\n",
       "      <td>1.0</td>\n",
       "      <td>91511.000</td>\n",
       "      <td>91511.0</td>\n",
       "      <td>91511.000</td>\n",
       "    </tr>\n",
       "    <tr>\n",
       "      <th>5</th>\n",
       "      <td>6</td>\n",
       "      <td>fe_13</td>\n",
       "      <td>26</td>\n",
       "      <td>3s 3p3</td>\n",
       "      <td>2</td>\n",
       "      <td>5S</td>\n",
       "      <td>5S2</td>\n",
       "      <td>3s 3p3 5S2</td>\n",
       "      <td>5</td>\n",
       "      <td>2.0</td>\n",
       "      <td>0</td>\n",
       "      <td>S</td>\n",
       "      <td>2.0</td>\n",
       "      <td>2.000000</td>\n",
       "      <td>1</td>\n",
       "      <td>o</td>\n",
       "      <td>5.0</td>\n",
       "      <td>214624.000</td>\n",
       "      <td>214624.0</td>\n",
       "      <td>214624.000</td>\n",
       "    </tr>\n",
       "    <tr>\n",
       "      <th>6</th>\n",
       "      <td>7</td>\n",
       "      <td>fe_13</td>\n",
       "      <td>26</td>\n",
       "      <td>3s 3p3</td>\n",
       "      <td>2</td>\n",
       "      <td>3D</td>\n",
       "      <td>3D1</td>\n",
       "      <td>3s 3p3 3D1</td>\n",
       "      <td>3</td>\n",
       "      <td>1.0</td>\n",
       "      <td>2</td>\n",
       "      <td>D</td>\n",
       "      <td>1.0</td>\n",
       "      <td>0.500000</td>\n",
       "      <td>1</td>\n",
       "      <td>o</td>\n",
       "      <td>3.0</td>\n",
       "      <td>287205.000</td>\n",
       "      <td>282051.0</td>\n",
       "      <td>287205.000</td>\n",
       "    </tr>\n",
       "    <tr>\n",
       "      <th>7</th>\n",
       "      <td>8</td>\n",
       "      <td>fe_13</td>\n",
       "      <td>26</td>\n",
       "      <td>3s 3p3</td>\n",
       "      <td>2</td>\n",
       "      <td>3D</td>\n",
       "      <td>3D2</td>\n",
       "      <td>3s 3p3 3D2</td>\n",
       "      <td>3</td>\n",
       "      <td>1.0</td>\n",
       "      <td>2</td>\n",
       "      <td>D</td>\n",
       "      <td>2.0</td>\n",
       "      <td>1.166667</td>\n",
       "      <td>1</td>\n",
       "      <td>o</td>\n",
       "      <td>5.0</td>\n",
       "      <td>287356.000</td>\n",
       "      <td>282222.0</td>\n",
       "      <td>287356.000</td>\n",
       "    </tr>\n",
       "    <tr>\n",
       "      <th>8</th>\n",
       "      <td>9</td>\n",
       "      <td>fe_13</td>\n",
       "      <td>26</td>\n",
       "      <td>3s 3p3</td>\n",
       "      <td>2</td>\n",
       "      <td>3D</td>\n",
       "      <td>3D3</td>\n",
       "      <td>3s 3p3 3D3</td>\n",
       "      <td>3</td>\n",
       "      <td>1.0</td>\n",
       "      <td>2</td>\n",
       "      <td>D</td>\n",
       "      <td>3.0</td>\n",
       "      <td>1.333333</td>\n",
       "      <td>1</td>\n",
       "      <td>o</td>\n",
       "      <td>7.0</td>\n",
       "      <td>290180.000</td>\n",
       "      <td>290180.0</td>\n",
       "      <td>290180.000</td>\n",
       "    </tr>\n",
       "    <tr>\n",
       "      <th>9</th>\n",
       "      <td>10</td>\n",
       "      <td>fe_13</td>\n",
       "      <td>26</td>\n",
       "      <td>3s 3p3</td>\n",
       "      <td>2</td>\n",
       "      <td>3P</td>\n",
       "      <td>3P0</td>\n",
       "      <td>3s 3p3 3P0</td>\n",
       "      <td>3</td>\n",
       "      <td>1.0</td>\n",
       "      <td>1</td>\n",
       "      <td>P</td>\n",
       "      <td>0.0</td>\n",
       "      <td>0.000000</td>\n",
       "      <td>1</td>\n",
       "      <td>o</td>\n",
       "      <td>1.0</td>\n",
       "      <td>328927.000</td>\n",
       "      <td>324378.0</td>\n",
       "      <td>328927.000</td>\n",
       "    </tr>\n",
       "  </tbody>\n",
       "</table>\n",
       "</div>"
      ],
      "text/plain": [
       "   Index Ion_name  Ion_z   Config  Conf Idx Term Level   Full Level  \\\n",
       "0      1    fe_13     26  3s2 3p2         1   3P   3P0  3s2 3p2 3P0   \n",
       "1      2    fe_13     26  3s2 3p2         1   3P   3P1  3s2 3p2 3P1   \n",
       "2      3    fe_13     26  3s2 3p2         1   3P   3P2  3s2 3p2 3P2   \n",
       "3      4    fe_13     26  3s2 3p2         1   1D   1D2  3s2 3p2 1D2   \n",
       "4      5    fe_13     26  3s2 3p2         1   1S   1S0  3s2 3p2 1S0   \n",
       "5      6    fe_13     26   3s 3p3         2   5S   5S2   3s 3p3 5S2   \n",
       "6      7    fe_13     26   3s 3p3         2   3D   3D1   3s 3p3 3D1   \n",
       "7      8    fe_13     26   3s 3p3         2   3D   3D2   3s 3p3 3D2   \n",
       "8      9    fe_13     26   3s 3p3         2   3D   3D3   3s 3p3 3D3   \n",
       "9     10    fe_13     26   3s 3p3         2   3P   3P0   3s 3p3 3P0   \n",
       "\n",
       "   Spin Mult    S  L Orbital    J   Lande g  Parity Parity Str  Stat. Weight  \\\n",
       "0          3  1.0  1       P  0.0  0.000000       0          e           1.0   \n",
       "1          3  1.0  1       P  1.0  1.500000       0          e           3.0   \n",
       "2          3  1.0  1       P  2.0  1.500000       0          e           5.0   \n",
       "3          1  0.0  2       D  2.0  1.000000       0          e           5.0   \n",
       "4          1  0.0  0       S  0.0  0.000000       0          e           1.0   \n",
       "5          5  2.0  0       S  2.0  2.000000       1          o           5.0   \n",
       "6          3  1.0  2       D  1.0  0.500000       1          o           3.0   \n",
       "7          3  1.0  2       D  2.0  1.166667       1          o           5.0   \n",
       "8          3  1.0  2       D  3.0  1.333333       1          o           7.0   \n",
       "9          3  1.0  1       P  0.0  0.000000       1          o           1.0   \n",
       "\n",
       "   Obs Energy [cm^-1]  Theory Energy [cm^-1]  Energy [cm^-1]  \n",
       "0               0.000                    0.0           0.000  \n",
       "1            9303.100                 9303.0        9303.100  \n",
       "2           18561.699                18562.0       18561.699  \n",
       "3           48069.699                48070.0       48069.699  \n",
       "4           91511.000                91511.0       91511.000  \n",
       "5          214624.000               214624.0      214624.000  \n",
       "6          287205.000               282051.0      287205.000  \n",
       "7          287356.000               282222.0      287356.000  \n",
       "8          290180.000               290180.0      290180.000  \n",
       "9          328927.000               324378.0      328927.000  "
      ]
     },
     "execution_count": 6,
     "metadata": {},
     "output_type": "execute_result"
    }
   ],
   "source": [
    "energy_levels_df = fe13.energy_levels_to_dataframe()\n",
    "energy_levels_df[0:10]  ## show first ten levels only "
   ]
  },
  {
   "cell_type": "code",
   "execution_count": 7,
   "id": "9d73ac2f-ba38-4f38-98a3-fa0daabf4e5b",
   "metadata": {},
   "outputs": [
    {
     "data": {
      "text/html": [
       "<div>\n",
       "<style scoped>\n",
       "    .dataframe tbody tr th:only-of-type {\n",
       "        vertical-align: middle;\n",
       "    }\n",
       "\n",
       "    .dataframe tbody tr th {\n",
       "        vertical-align: top;\n",
       "    }\n",
       "\n",
       "    .dataframe thead th {\n",
       "        text-align: right;\n",
       "    }\n",
       "</style>\n",
       "<table border=\"1\" class=\"dataframe\">\n",
       "  <thead>\n",
       "    <tr style=\"text-align: right;\">\n",
       "      <th></th>\n",
       "      <th>Lambda Vac [A]</th>\n",
       "      <th>Lambda Air [A]</th>\n",
       "      <th>UppLev Idx</th>\n",
       "      <th>LowLev Idx</th>\n",
       "      <th>Upper Level</th>\n",
       "      <th>Lower Level</th>\n",
       "      <th>geff [LS]</th>\n",
       "      <th>D coeff</th>\n",
       "      <th>E coeff</th>\n",
       "      <th>Einstein A</th>\n",
       "    </tr>\n",
       "  </thead>\n",
       "  <tbody>\n",
       "    <tr>\n",
       "      <th>0</th>\n",
       "      <td>10749.105137</td>\n",
       "      <td>10746.153423</td>\n",
       "      <td>2</td>\n",
       "      <td>1</td>\n",
       "      <td>3s2 3p2 3P1</td>\n",
       "      <td>3s2 3p2 3P0</td>\n",
       "      <td>1.50</td>\n",
       "      <td>1.000000</td>\n",
       "      <td>1.060660e+00</td>\n",
       "      <td>14.00000</td>\n",
       "    </tr>\n",
       "    <tr>\n",
       "      <th>1</th>\n",
       "      <td>10800.770181</td>\n",
       "      <td>10797.804402</td>\n",
       "      <td>3</td>\n",
       "      <td>2</td>\n",
       "      <td>3s2 3p2 3P2</td>\n",
       "      <td>3s2 3p2 3P1</td>\n",
       "      <td>1.50</td>\n",
       "      <td>0.591608</td>\n",
       "      <td>6.274950e-01</td>\n",
       "      <td>9.88000</td>\n",
       "    </tr>\n",
       "    <tr>\n",
       "      <th>2</th>\n",
       "      <td>5387.437863</td>\n",
       "      <td>5385.938558</td>\n",
       "      <td>3</td>\n",
       "      <td>1</td>\n",
       "      <td>3s2 3p2 3P2</td>\n",
       "      <td>3s2 3p2 3P0</td>\n",
       "      <td>3.00</td>\n",
       "      <td>-0.000000</td>\n",
       "      <td>-0.000000e+00</td>\n",
       "      <td>0.00637</td>\n",
       "    </tr>\n",
       "    <tr>\n",
       "      <th>3</th>\n",
       "      <td>2579.540186</td>\n",
       "      <td>2578.767826</td>\n",
       "      <td>4</td>\n",
       "      <td>2</td>\n",
       "      <td>3s2 3p2 1D2</td>\n",
       "      <td>3s2 3p2 3P1</td>\n",
       "      <td>0.75</td>\n",
       "      <td>0.591608</td>\n",
       "      <td>1.861901e-16</td>\n",
       "      <td>60.30000</td>\n",
       "    </tr>\n",
       "    <tr>\n",
       "      <th>4</th>\n",
       "      <td>3388.911482</td>\n",
       "      <td>3387.938955</td>\n",
       "      <td>4</td>\n",
       "      <td>3</td>\n",
       "      <td>3s2 3p2 1D2</td>\n",
       "      <td>3s2 3p2 3P2</td>\n",
       "      <td>1.25</td>\n",
       "      <td>-0.591608</td>\n",
       "      <td>-8.366600e-01</td>\n",
       "      <td>73.70000</td>\n",
       "    </tr>\n",
       "    <tr>\n",
       "      <th>5</th>\n",
       "      <td>2080.312589</td>\n",
       "      <td>2079.649941</td>\n",
       "      <td>4</td>\n",
       "      <td>1</td>\n",
       "      <td>3s2 3p2 1D2</td>\n",
       "      <td>3s2 3p2 3P0</td>\n",
       "      <td>2.00</td>\n",
       "      <td>-0.000000</td>\n",
       "      <td>-0.000000e+00</td>\n",
       "      <td>0.00400</td>\n",
       "    </tr>\n",
       "    <tr>\n",
       "      <th>6</th>\n",
       "      <td>1370.815054</td>\n",
       "      <td>1370.815054</td>\n",
       "      <td>5</td>\n",
       "      <td>3</td>\n",
       "      <td>3s2 3p2 1S0</td>\n",
       "      <td>3s2 3p2 3P2</td>\n",
       "      <td>3.00</td>\n",
       "      <td>-0.000000</td>\n",
       "      <td>-0.000000e+00</td>\n",
       "      <td>3.76000</td>\n",
       "    </tr>\n",
       "    <tr>\n",
       "      <th>7</th>\n",
       "      <td>2301.956841</td>\n",
       "      <td>2301.247695</td>\n",
       "      <td>5</td>\n",
       "      <td>4</td>\n",
       "      <td>3s2 3p2 1S0</td>\n",
       "      <td>3s2 3p2 1D2</td>\n",
       "      <td>2.00</td>\n",
       "      <td>-0.000000</td>\n",
       "      <td>-0.000000e+00</td>\n",
       "      <td>7.84000</td>\n",
       "    </tr>\n",
       "    <tr>\n",
       "      <th>8</th>\n",
       "      <td>1216.428105</td>\n",
       "      <td>1216.428105</td>\n",
       "      <td>5</td>\n",
       "      <td>2</td>\n",
       "      <td>3s2 3p2 1S0</td>\n",
       "      <td>3s2 3p2 3P1</td>\n",
       "      <td>1.50</td>\n",
       "      <td>0.000000</td>\n",
       "      <td>-0.000000e+00</td>\n",
       "      <td>970.00000</td>\n",
       "    </tr>\n",
       "    <tr>\n",
       "      <th>9</th>\n",
       "      <td>600.404789</td>\n",
       "      <td>600.404789</td>\n",
       "      <td>6</td>\n",
       "      <td>4</td>\n",
       "      <td>3s 3p3 5S2</td>\n",
       "      <td>3s2 3p2 1D2</td>\n",
       "      <td>1.50</td>\n",
       "      <td>-0.591608</td>\n",
       "      <td>9.309503e-17</td>\n",
       "      <td>183000.00000</td>\n",
       "    </tr>\n",
       "  </tbody>\n",
       "</table>\n",
       "</div>"
      ],
      "text/plain": [
       "   Lambda Vac [A]  Lambda Air [A]  UppLev Idx  LowLev Idx  Upper Level  \\\n",
       "0    10749.105137    10746.153423           2           1  3s2 3p2 3P1   \n",
       "1    10800.770181    10797.804402           3           2  3s2 3p2 3P2   \n",
       "2     5387.437863     5385.938558           3           1  3s2 3p2 3P2   \n",
       "3     2579.540186     2578.767826           4           2  3s2 3p2 1D2   \n",
       "4     3388.911482     3387.938955           4           3  3s2 3p2 1D2   \n",
       "5     2080.312589     2079.649941           4           1  3s2 3p2 1D2   \n",
       "6     1370.815054     1370.815054           5           3  3s2 3p2 1S0   \n",
       "7     2301.956841     2301.247695           5           4  3s2 3p2 1S0   \n",
       "8     1216.428105     1216.428105           5           2  3s2 3p2 1S0   \n",
       "9      600.404789      600.404789           6           4   3s 3p3 5S2   \n",
       "\n",
       "   Lower Level  geff [LS]   D coeff       E coeff    Einstein A  \n",
       "0  3s2 3p2 3P0       1.50  1.000000  1.060660e+00      14.00000  \n",
       "1  3s2 3p2 3P1       1.50  0.591608  6.274950e-01       9.88000  \n",
       "2  3s2 3p2 3P0       3.00 -0.000000 -0.000000e+00       0.00637  \n",
       "3  3s2 3p2 3P1       0.75  0.591608  1.861901e-16      60.30000  \n",
       "4  3s2 3p2 3P2       1.25 -0.591608 -8.366600e-01      73.70000  \n",
       "5  3s2 3p2 3P0       2.00 -0.000000 -0.000000e+00       0.00400  \n",
       "6  3s2 3p2 3P2       3.00 -0.000000 -0.000000e+00       3.76000  \n",
       "7  3s2 3p2 1D2       2.00 -0.000000 -0.000000e+00       7.84000  \n",
       "8  3s2 3p2 3P1       1.50  0.000000 -0.000000e+00     970.00000  \n",
       "9  3s2 3p2 1D2       1.50 -0.591608  9.309503e-17  183000.00000  "
      ]
     },
     "execution_count": 7,
     "metadata": {},
     "output_type": "execute_result"
    }
   ],
   "source": [
    "rad_trans_df = fe13.rad_transitions_to_dataframe()\n",
    "rad_trans_df[0:10]  ## show first ten transitions only"
   ]
  },
  {
   "cell_type": "markdown",
   "id": "dcd9c218-69ca-497f-a28b-cf97e03e7842",
   "metadata": {},
   "source": [
    "## **Example calculation of the statistical equilibrium**\n",
    "\n",
    "Now, lets do a single calculation of the statistical equilbrium.  The default method for this (currently) is called calc_rho_sym, which excepts an electron density, a temperature, a height above the solar surface and a magnetic field inclination.  The code currently assumes the proton temperature equals the electron temperature.  The proton density is set to 0.85 times the electron density.  The '_sym' part of the method name refers to the use of the cylindrically symmetric quiet sun radiation field for the photo excitation.\n",
    "\n",
    "The relevant geometry of pyCELP is shown in the figure below, which is from [Dima & Schad (2020)](https://ui.adsabs.harvard.edu/abs/2020ApJ...889..109D/abstract).  It shows the angular coordinates between three vectors passing through a point of emission in the corona: the outward radial direction (R), magnetic field (B), and line of sight (k). \n",
    "\n",
    "Local \"Solar\" Frame Angles: \n",
    "\n",
    "$\\theta_{B}$ :: the inclination of the magnetic field in the local solar frame relative to the radial direction. \\\n",
    "$\\phi_{B}$ :: the azimuth of the magnetic field in the local solar frame measured from the plane containing the radial direction and line-of-sight. \\\n",
    "\n",
    "Line-of-Sight Frame Angles: \n",
    "\n",
    "$\\Theta_{B}$ :: the inclination of the magnetic field relative to the line-of-sight direction. \\\n",
    "$\\gamma_{B}$ :: the azimuth angle of the projected magnetic field in a plane perpendicular to the line of sight measured clockwise toward the reference direction for linear polarization (r.d.l.p.). \n",
    "\n",
    "\n",
    "<center>\n",
    "<img src=\"pycelp_coordinate_system.png\" alt=\"Drawing\" class=\"center\" style=\"width: 600px;\"/>\n",
    "</center> "
   ]
  },
  {
   "cell_type": "code",
   "execution_count": 8,
   "id": "ec26b858-839a-46b7-8957-0992d665fb3d",
   "metadata": {},
   "outputs": [
    {
     "name": "stdout",
     "output_type": "stream",
     "text": [
      " Max temp is :  1676832.9368110066  log T:  6.224489795918367\n"
     ]
    }
   ],
   "source": [
    "electron_density      = 1e8                  ## cm^-3\n",
    "electron_temperature  = fe13.get_maxtemp()   ## Kelvin \n",
    "print(' Max temp is : ', electron_temperature, ' log T: ', np.log10(electron_temperature))\n",
    "height = 0.1                ## solar radius units above the photosphere \n",
    "thetaBlocal = 10.   ## degrees \n",
    "\n",
    "## EXECUTE THE STATISTICAL EQUILIBRIUM CALCULATION \n",
    "fe13.calc_rho_sym(electron_density, electron_temperature, height, thetaBlocal, include_limbdark=True, include_protons=True)"
   ]
  },
  {
   "cell_type": "markdown",
   "id": "90d39e25-a69f-4f9e-b051-ca54d73f95a8",
   "metadata": {},
   "source": [
    "Having executed the calc_rho_sym method, the statistical equilibrium equations have now been solved and the elements of the atomic density matrix are now available.  The total rate matrix in the spherical tensor representation is given in the see_matrix variables.  \"SEE\" refers to \"Statistical Equilibrium Equations\".  Each row of this matrix corresponds to a particular energy level and moment order K, which is recorded in the see_lev and see_k variables. "
   ]
  },
  {
   "cell_type": "code",
   "execution_count": 9,
   "id": "a63b66d0-ce44-45fb-8612-5904fbb0df01",
   "metadata": {},
   "outputs": [
    {
     "name": "stdout",
     "output_type": "stream",
     "text": [
      "(142, 142) (142,) (142,)\n",
      "0.09336483969242176\n"
     ]
    }
   ],
   "source": [
    "print(fe13.see_matrix.shape,fe13.see_lev.shape,fe13.see_k.shape)\n",
    "print(fe13.get_upper_level_alignment(10747.))"
   ]
  },
  {
   "cell_type": "markdown",
   "id": "fe358790-36c4-48fb-8e78-d5a164161829",
   "metadata": {},
   "source": [
    "One can view the spherical tensor matrix elements directly in the rho variable, which has a shape of (nlevels x the maximum order K). Q = 0 on account of the no coherence hypothesis.  Thus, rho has already been reshaped using the index variables above. Associated with the index variables is an array of weights used to normalize the total populations to unity.  You can check the solution by ensuring the total population is 1 as follows.  A method may be created to do this directly. "
   ]
  },
  {
   "cell_type": "code",
   "execution_count": 10,
   "id": "435fd23a-54ba-435f-bd94-9adb27c79416",
   "metadata": {},
   "outputs": [
    {
     "name": "stdout",
     "output_type": "stream",
     "text": [
      " Shape of rho:  (50, 11)\n",
      " sum of populations:  0.9999999999999999\n"
     ]
    }
   ],
   "source": [
    "print(' Shape of rho: ',fe13.rho.shape)\n",
    "## here is where you can calculate the trace of the equations \n",
    "print(' sum of populations: ',  np.sum(fe13.rho[:,0]*fe13.weight[fe13.weight != 0]))"
   ]
  },
  {
   "cell_type": "markdown",
   "id": "c72eb7ab-9529-46ba-b0ea-9a50b161d283",
   "metadata": {},
   "source": [
    "## **Single Intensity Emission Coefficient Calculation using Ion class method**\n",
    "\n",
    "At this point we have access to all the information we need to calculate the polarized emission coefficients.\n",
    "\n",
    "The emission coefficient for Stokes I is given in Equation 3 of Schad & Dima (2020):  https://rdcu.be/b5J2X\n",
    "\n",
    "\n",
    "$$\n",
    "\\epsilon_I(\\lambda,\\vec{\\Omega}_{0}) = \\frac{hv}{4\\pi} N_{\\alpha_{u} J_{u}}A_{\\alpha_{u} J_{u} \\rightarrow \\alpha_{\\ell} J_{\\ell}}\n",
    "     \\left[1 + \\frac{3}{2\\sqrt{2}}D\\sigma^2_0\\left(\\cos^2{\\Theta_B} - \\frac{1}{3}\\right)\\right]\\phi(\\lambda-\\lambda_0)\n",
    "$$\n",
    "\n",
    "Here we assume the line is not resolved and instead calculate the line-integrated emission coefficient"
   ]
  },
  {
   "cell_type": "code",
   "execution_count": 11,
   "id": "69949d13-14a8-469a-b9a0-f0acbbd051bf",
   "metadata": {},
   "outputs": [
    {
     "name": "stdout",
     "output_type": "stream",
     "text": [
      "10746.15342348271\n"
     ]
    }
   ],
   "source": [
    "## select the wavelength of the desired transition (Angstrom in Air) \n",
    "## For convenience, this wavelength need not be exact.  But for the comparisons below, we need \n",
    "## the precision wavelength, so there's a method to grab that\n",
    "wvair = 10747  \n",
    "wvair = fe13.get_wvAirTrue(wvair)\n",
    "print(wvair)"
   ]
  },
  {
   "cell_type": "markdown",
   "id": "4c2cc3ca-8227-456f-8315-55fa0e9ada77",
   "metadata": {},
   "source": [
    "Use the calc_Iemiss method to get the line integrated intensity emission coefficent for this line.  Note the dependence on thetaBLOS in above equation.  This requires one to define the **LINE-OF-SIGHT** inclination angle $\\Theta_{B}$.  The default is to use the Van Vleck angle (~54.74 deg) where the term in the brackets goes to 1 and the emission coefficent reduces to the scalar case.  "
   ]
  },
  {
   "cell_type": "code",
   "execution_count": 12,
   "id": "02b255b7-d56b-43a5-b940-1a55c6223c94",
   "metadata": {},
   "outputs": [
    {
     "name": "stdout",
     "output_type": "stream",
     "text": [
      " upper_lev aligment:  0.09336483969242176\n",
      "2.760552215946346e-09   photons cm$^{-3}$ s$^{-1}$ arcsec$^{-2}$\n"
     ]
    }
   ],
   "source": [
    "epsI = fe13.calc_Iemiss(wvair, thetaBLOS=54.735610317245346)   ## thetaBLOS = Van Vleck angle [default] \n",
    "\n",
    "units = r'photons cm$^{-3}$ s$^{-1}$ arcsec$^{-2}$'\n",
    "print(epsI,' ',units)"
   ]
  },
  {
   "cell_type": "markdown",
   "id": "d0e326ad-6978-41b7-90cd-79254f471809",
   "metadata": {},
   "source": [
    "## **Polarized Emission Coefficients Calculation using Ion class method**\n",
    "\n",
    "The polarized emission coefficients are given in Equations 6,7, and 8 of [Schad & Dima (2020)](https://rdcu.be/b5J2X)\n",
    "\n",
    "These pertain to a particular geometry where the reference direction of the linear polarization is parallel to the LOS projected magnetic field orientation.   The line profile is given by a normal distribution $\\phi$ and its derivative $\\phi'$.  Here we only calculate the line-integrated coefficients.\n",
    "\n",
    "$$\n",
    "\\epsilon_Q(\\lambda,\\vec{\\Omega}_{0}) =  \\frac{3}{2\\sqrt{2}}\\frac{hv}{4\\pi} N_{\\alpha_{u} J_{u}}A_{\\alpha_{u} J_{u} \\rightarrow \\alpha_{\\ell} J_{\\ell}} D\\sigma^2_0 \\sin^2{\\Theta_{B}}{\\ }\\phi(\\lambda-\\lambda_0)\n",
    "$$\n",
    "\n",
    "$$\n",
    "\\epsilon_U(\\lambda,\\vec{\\Omega}_{0}) = 0\n",
    "$$\n",
    "\n",
    "$$\n",
    "\\epsilon_V(\\lambda,\\vec{\\Omega}_{0}) = -\\frac{\\lambda^{2}}{c}\\frac{hv}{4\\pi} N_{\\alpha_{u} J_{u}}A_{\\alpha_{u} J_{u} \\rightarrow \\alpha_{\\ell} J_{\\ell}}\\cos{\\Theta_{B}}\\nu_{L}[\\bar{g} + E\\sigma^2_0]\\phi'(\\lambda-\\lambda_0)\n",
    "$$"
   ]
  },
  {
   "cell_type": "code",
   "execution_count": 13,
   "id": "877b85d5-d9aa-431c-a62a-389e946b5b4a",
   "metadata": {},
   "outputs": [
    {
     "name": "stdout",
     "output_type": "stream",
     "text": [
      " upper_lev aligment:  0.09336483969242176\n",
      " epsI :  2.8061143788971623e-09      photons cm$^{-3}$ s$^{-1}$ arcsec$^{-2}$\n",
      " epsQ :  1.3668648885244928e-10      photons cm$^{-3}$ s$^{-1}$ arcsec$^{-2}$\n",
      " epsU :  0.0      photons cm$^{-3}$ s$^{-1}$ arcsec$^{-2}$\n",
      " epsV :  -1.6837157508192478e-11      photons cm$^{-3}$ s$^{-1}$ arcsec$^{-2}$ Angstrom^{-1}\n"
     ]
    }
   ],
   "source": [
    "magnetic_field_amplitude  = 100.   ## Gauss \n",
    "thetaBLOS    = 45.  ## [degrees] inclination angle of the magnetic field IN THE LINE-OF-SIGHT FRAME \n",
    "azimuthBLOS  = 0.   ## [degrees] azimuthal angle of the magnetic field IN THE LINE-OF-SIGHT FRAME (default == 0)\n",
    "\n",
    "## Calculate line-integrated emission coefficents \n",
    "epsI,epsQ,epsU,epsV = fe13.calc_PolEmissCoeff(wvair, magnetic_field_amplitude,  thetaBLOS, azimuthBLOS)\n",
    "\n",
    "iqu_units = 'photons cm$^{-3}$ s$^{-1}$ arcsec$^{-2}$'\n",
    "v_units   =  'photons cm$^{-3}$ s$^{-1}$ arcsec$^{-2}$ Angstrom^{-1}'\n",
    "print(' epsI : ',epsI,'    ',iqu_units)\n",
    "print(' epsQ : ',epsQ,'    ',iqu_units)\n",
    "print(' epsU : ',epsU,'    ',iqu_units)\n",
    "print(' epsV : ',epsV,'    ',v_units)"
   ]
  },
  {
   "cell_type": "markdown",
   "id": "dc583e85-0523-422d-a329-30b899c32ff6",
   "metadata": {},
   "source": [
    "## **Calculate Stokes spectra**\n",
    "\n",
    "- The calc_stokesSpec method can generate Stokes spectra with the current statistical equilibrium solution and for a specified magnetic field vector.  See method documentation for more details. \n",
    "- Note that the units here indicate that one must multiply by the path length in cm to get true Stokes vectors in spectral radiances units (i.e. photons cm$^{-2}$ s$^{-1}$ arcsec$^{-2}$ Angstrom$^{-1}$)"
   ]
  },
  {
   "cell_type": "code",
   "execution_count": 14,
   "id": "aa523b6e-49e1-4b51-8a08-8c5406624cbc",
   "metadata": {},
   "outputs": [
    {
     "name": "stdout",
     "output_type": "stream",
     "text": [
      " upper_lev aligment:  0.09336483969242176\n"
     ]
    }
   ],
   "source": [
    "wvvec,stokes = fe13.calc_stokesSpec(wvair, magnetic_field_amplitude,  thetaBLOS, azimuthBLOS)"
   ]
  },
  {
   "cell_type": "code",
   "execution_count": 15,
   "id": "97c86ab9-3b45-499e-ab4a-327c9ea8a43b",
   "metadata": {},
   "outputs": [
    {
     "data": {
      "image/png": "[encoded data removed]",
      "text/plain": [
       "<Figure size 1350x450 with 4 Axes>"
      ]
     },
     "metadata": {
      "needs_background": "light"
     },
     "output_type": "display_data"
    }
   ],
   "source": [
    "fig,ax = plt.subplots(1,4,figsize = (9,3),sharex=True)\n",
    "ax = ax.flatten()\n",
    "labels = 'I','Q','U','V'\n",
    "for n in range(4): \n",
    "    ax[n].plot(wvvec - wvair,stokes[:,n],'.-',lw = 0.5,markersize = 2)\n",
    "    ax[n].set_title(labels[n])\n",
    "    ax[n].set_xlabel(r'$\\lambda$ - $\\lambda_0$ [$\\AA$]')\n",
    "fig.suptitle('Fe XIII Stokes Spectra  [' + r'$\\lambda_0$ = ' + str(np.round(wvair,2)) + r' $\\AA$' + ']\\n' + \n",
    "             r'Units:  photons cm$^{-3}$ s$^{-1}$ arcsec$^{-2}$ $\\AA^{-1}$')\n",
    "fig.tight_layout()"
   ]
  },
  {
   "cell_type": "markdown",
   "id": "5c1fc630-9dd7-40d6-8fa8-0ff86e85ea43",
   "metadata": {},
   "source": [
    "### **Compare the above Stokes V to the Weak-Field-Approximation**\n",
    "\n",
    "Using Equations 9.80 and 3.14 from Landi Degl'Innocenti & Landolfi (2004) \n",
    "\n",
    "$$\n",
    "V(\\lambda)=-\\Delta \\lambda_{B} \\bar{g} \\cos \\theta \\frac{\\partial I}{\\partial \\lambda}\n",
    "$$\n",
    "where\n",
    "$$\n",
    "\\Delta \\lambda_{B}=4.6686 \\times 10^{-10} \\lambda_{0}^{2} B\n",
    "$$\n",
    "where $\\Delta \\lambda_{B}$ is in mÅ, $\\lambda_{0}$ in Å, and $B$ in $\\mathrm{G}$."
   ]
  },
  {
   "cell_type": "code",
   "execution_count": 16,
   "id": "e3f1b9b3-99a0-426c-b044-43860506c423",
   "metadata": {},
   "outputs": [
    {
     "data": {
      "text/plain": [
       "Text(0.5, 0, 'Wavelength [$\\\\AA$]')"
      ]
     },
     "execution_count": 16,
     "metadata": {},
     "output_type": "execute_result"
    },
    {
     "data": {
      "image/png": "[encoded data removed]",
      "text/plain": [
       "<Figure size 750x450 with 1 Axes>"
      ]
     },
     "metadata": {
      "needs_background": "light"
     },
     "output_type": "display_data"
    }
   ],
   "source": [
    "wvvac = fe13.get_wvVacTrue(wvair)\n",
    "dlambdaB = 4.6686e-10 * (wvvac**2) * magnetic_field_amplitude  / 1000. \n",
    "geff = fe13.get_geff(wvair)\n",
    "V_WFA = - dlambdaB * fe13.get_geff(wvair) * np.cos(np.deg2rad(thetaBLOS)) * np.gradient(stokes[:,0],wvvec) \n",
    "\n",
    "plt.figure(figsize = (5,3))\n",
    "plt.plot(wvvec,stokes[:,3],'.-',label = 'pyCELP',lw = 0.5,markersize = 2)\n",
    "plt.plot(wvvec,V_WFA,'.-',label = 'Weak Field Approximation',lw = 0.5,markersize = 2)\n",
    "plt.legend(fontsize = 8)\n",
    "plt.xlabel(r'Wavelength [$\\AA$]')"
   ]
  },
  {
   "cell_type": "markdown",
   "id": "6a0beb80-e0cf-489f-b51a-90efd4a17e18",
   "metadata": {},
   "source": [
    "<div class=\"alert alert-info\" role=\"alert\">\n",
    "    <div class=\"row vertical-align\">\n",
    "        <div class=\"col-xs-1 text-center\">\n",
    "            <i class=\"fa fa-exclamation-triangle fa-2x\"></i>\n",
    "        </div>\n",
    "        <div class=\"col-xs-11\">\n",
    "                <strong>Note:</strong>  In the case above, the pyCELP calculation does not match the Weak Field Approximation.  Why?  Well, this is due to the role of atomic alignment on both Stokes I and V in the case where the scattering polarization is taken into account.  We can ensure the pyCELP calculation agrees with the weak field approximation by doing calculations that enforce the atomic alignment to be zero.  We do this in the next section.\n",
    "        </div>   \n",
    "    </div> \n",
    "</div>"
   ]
  },
  {
   "cell_type": "markdown",
   "id": "843974c9-69cb-46d9-bd1d-c6d434641df4",
   "metadata": {},
   "source": [
    "## **The case of zero atomic alignment**\n",
    "\n",
    "- Let's redo the above Stokes V comparison for the case of zero atomic alignment, which is only guaranteed when $\\theta_{B}$ equals the Van Vleck angle."
   ]
  },
  {
   "cell_type": "code",
   "execution_count": 17,
   "id": "505ad372-96bb-4786-a964-70839379fc2a",
   "metadata": {},
   "outputs": [
    {
     "name": "stdout",
     "output_type": "stream",
     "text": [
      " \n",
      "Upper Level Alignment for 10747A transition:  -5.397711973811265e-18\n",
      " \n",
      " upper_lev aligment:  -5.397711973811265e-18\n",
      " epsI :  2.762009968899411e-09      photons cm$^{-3}$ s$^{-1}$ arcsec$^{-2}$\n",
      " epsQ :  -7.906444265690025e-27      photons cm$^{-3}$ s$^{-1}$ arcsec$^{-2}$\n",
      " epsU :  0.0      photons cm$^{-3}$ s$^{-1}$ arcsec$^{-2}$\n",
      " epsV :  -1.5802767151254632e-11      photons cm$^{-3}$ s$^{-1}$ arcsec$^{-2}$ Angstrom^{-1}\n",
      " upper_lev aligment:  -5.397711973811265e-18\n"
     ]
    },
    {
     "data": {
      "text/plain": [
       "Text(0.5, 0, 'Wavelength [$\\\\AA$]')"
      ]
     },
     "execution_count": 17,
     "metadata": {},
     "output_type": "execute_result"
    },
    {
     "data": {
      "image/png": "[encoded data removed]",
      "text/plain": [
       "<Figure size 750x450 with 1 Axes>"
      ]
     },
     "metadata": {
      "needs_background": "light"
     },
     "output_type": "display_data"
    }
   ],
   "source": [
    "vanVleckDeg =  np.rad2deg(np.arccos(1./np.sqrt(3.))) \n",
    "thetaBlocal = vanVleckDeg\n",
    "\n",
    "fe13.calc_rho_sym(electron_density, electron_temperature, height, thetaBlocal, include_limbdark=True, include_protons=True)\n",
    "\n",
    "print(' ')\n",
    "print('Upper Level Alignment for 10747A transition: ',fe13.get_upper_level_alignment(10747.))\n",
    "print(' ') \n",
    "\n",
    "magnetic_field_amplitude  = 100.   ## Gauss \n",
    "thetaBLOS    = 45.  ## [degrees] inclination angle of the magnetic field IN THE LINE-OF-SIGHT FRAME \n",
    "azimuthBLOS  = 0.   ## [degrees] azimuthal angle of the magnetic field IN THE LINE-OF-SIGHT FRAME (default == 0)\n",
    "\n",
    "## Calculate line-integrated emission coefficents \n",
    "epsI,epsQ,epsU,epsV = fe13.calc_PolEmissCoeff(wvair, magnetic_field_amplitude,  thetaBLOS, azimuthBLOS)\n",
    "print(' epsI : ',epsI,'    ',iqu_units)\n",
    "print(' epsQ : ',epsQ,'    ',iqu_units)\n",
    "print(' epsU : ',epsU,'    ',iqu_units)\n",
    "print(' epsV : ',epsV,'    ',v_units)\n",
    "\n",
    "wvvec,stokes = fe13.calc_stokesSpec(wvair, magnetic_field_amplitude,  thetaBLOS, azimuthBLOS)\n",
    "\n",
    "wvvac = fe13.get_wvVacTrue(wvair)\n",
    "dlambdaB = 4.6686e-10 * (wvvac**2) * magnetic_field_amplitude  / 1000. \n",
    "geff = fe13.get_geff(wvair)\n",
    "V_WFA = - dlambdaB * fe13.get_geff(wvair) * np.cos(np.deg2rad(thetaBLOS)) * np.gradient(stokes[:,0],wvvec) \n",
    "\n",
    "plt.figure(figsize = (5,3))\n",
    "plt.plot(wvvec,stokes[:,3],'.-',label = 'pyCELP',lw = 0.5,markersize = 2)\n",
    "plt.plot(wvvec,V_WFA,'.-',label = 'Weak Field Approximation',lw = 0.5,markersize = 2)\n",
    "plt.legend(fontsize = 8)\n",
    "plt.xlabel(r'Wavelength [$\\AA$]')"
   ]
  },
  {
   "cell_type": "code",
   "execution_count": null,
   "id": "db6863cf-3c33-402b-b17a-a1fc54811387",
   "metadata": {},
   "outputs": [],
   "source": []
  },
  {
   "cell_type": "code",
   "execution_count": null,
   "id": "185c9fab-98f8-4569-b574-27a7ed639eb9",
   "metadata": {},
   "outputs": [],
   "source": []
  },
  {
   "cell_type": "code",
   "execution_count": 22,
   "id": "8a70e4c8-c2ab-4c7a-ae29-8c2b7f93a415",
   "metadata": {},
   "outputs": [
    {
     "ename": "RuntimeError",
     "evalue": "No active exception to reraise",
     "output_type": "error",
     "traceback": [
      "\u001b[0;31m---------------------------------------------------------------------------\u001b[0m",
      "\u001b[0;31mRuntimeError\u001b[0m                              Traceback (most recent call last)",
      "\u001b[0;32m/tmp/ipykernel_87218/2235509928.py\u001b[0m in \u001b[0;36m<module>\u001b[0;34m\u001b[0m\n\u001b[0;32m----> 1\u001b[0;31m \u001b[0;32mraise\u001b[0m\u001b[0;34m\u001b[0m\u001b[0;34m\u001b[0m\u001b[0m\n\u001b[0m",
      "\u001b[0;31mRuntimeError\u001b[0m: No active exception to reraise"
     ]
    }
   ],
   "source": [
    "raise"
   ]
  },
  {
   "cell_type": "code",
   "execution_count": 26,
   "id": "323c327e-bc6d-4157-bcc4-93efea67694f",
   "metadata": {},
   "outputs": [
    {
     "name": "stdout",
     "output_type": "stream",
     "text": [
      " upper_lev aligment:  -5.397711973811265e-18\n"
     ]
    }
   ],
   "source": [
    "self = fe13 \n",
    "wv_air = wvair \n",
    "\n",
    "magnetic_field_amplitude  = 100.   ## Gauss \n",
    "thetaBLOS    = 45.  ## [degrees] inclination angle of the magnetic field IN THE LINE-OF-SIGHT FRAME \n",
    "azimuthBLOS  = 0.   ## [degrees] azimuthal angle of the magnetic field IN THE LINE-OF-SIGHT FRAME (default == 0)\n",
    "\n",
    "ww = np.argmin(np.abs(self.wv_air - wv_air))\n",
    "\n",
    "if ((self.wv_air[ww] - wv_air)/wv_air > 0.05):\n",
    "    print(' warning: requested wavelength for calculation does have a good match')\n",
    "    print(' requested: ', wv_air)\n",
    "    print(' closest:   ', self.wv_air[ww])\n",
    "    raise\n",
    "\n",
    "## convert to radians \n",
    "thetaBLOS = np.deg2rad(thetaBLOS) \n",
    "azimuthBLOS = np.deg2rad(azimuthBLOS)\n",
    "\n",
    "## get transition and level population information \n",
    "EinsteinA = self.a_up2low[ww]  ## Transition probability \n",
    "Dcoeff = self.Dcoeff[ww]     ## Atomic parameters D and E for the line\n",
    "Ecoeff = self.Ecoeff[ww]   ## Atomic parameters D and E for the line \n",
    "geff = self.geff[ww]    ## get Lande geff in LS coupline \n",
    "upplev = self.rupplev[ww]   ## index of radiative transition upper level \n",
    "Jupp = self.qnj[upplev]     ## Upper level angular momentum \n",
    "upper_lev_rho00 = self.rho[upplev,0] ## Get the Q=0,K=0 atomic density matrix element (stat. tensor)\n",
    "upper_lev_pop_frac =  np.sqrt(2.*Jupp+1)*upper_lev_rho00  ## Calculate population in standard representation \n",
    "upper_lev_alignment = self.rho[upplev,2] / self.rho[upplev,0]  ## Calculate the alignment value \n",
    "print(' upper_lev aligment: ',upper_lev_alignment)\n",
    "total_ion_population = self.totn        \n",
    "ALARMOR = 1399612.2*magnetic_field_amplitude    ## Get Larmor frequency in units of s^-1 \n",
    "\n",
    "## scaling coefficent for the Stokes V emission coefficient \n",
    "wv_vac_cm = self.alamb[ww] * 1.e-8 \n",
    "hh = 6.626176e-27  ## ergs sec (planck's constant);\n",
    "cc = 2.99792458e10 ## cm s^-1 (speed of light)\n",
    "Vscl = - (wv_vac_cm)**2   / cc  * 1.e8  ## units of Angstrom * s \n",
    "hnu = hh*cc / (self.alamb[ww]/1.e8)\n",
    "\n",
    "## Common coefficent related to populations        \n",
    "C_coeff = hnu/4./np.pi * EinsteinA * upper_lev_pop_frac * total_ion_population\n",
    "epsI = C_coeff * (1. + 3./(2.*np.sqrt(2.)) * (np.cos(thetaBLOS)**2 - (1./3.)  )   )\n",
    "epsQ = C_coeff*(3./(2.*np.sqrt(2.)))*(np.sin(thetaBLOS)**2)*Dcoeff*upper_lev_alignment\n",
    "epsU = 0\n",
    "epsV = Vscl * C_coeff*np.cos(thetaBLOS)*ALARMOR*(geff + Ecoeff*upper_lev_alignment)\n",
    "\n",
    "## rotate for the azimuthal direction \n",
    "epsQr =  np.cos(2.*azimuthBLOS)*epsQ+ np.sin(2.*azimuthBLOS)*epsU\n",
    "epsUr = -np.sin(2.*azimuthBLOS)*epsQ + np.cos(2.*azimuthBLOS)*epsU\n",
    "epsQ = epsQr\n",
    "epsU = epsUr \n",
    "\n",
    "## convert to returned units \n",
    "sr2arcsec = (180./np.pi)**2.*3600.**2.\n",
    "phergs = hh*(3.e8)/(self.alamb[ww] * 1.e-10)\n",
    "epsI = epsI/sr2arcsec/phergs        \n",
    "epsQ = epsQ/sr2arcsec/phergs        \n",
    "epsU = epsU/sr2arcsec/phergs        \n",
    "epsV = epsV/sr2arcsec/phergs        \n",
    "\n"
   ]
  },
  {
   "cell_type": "code",
   "execution_count": 27,
   "id": "80c4c3d7-bc67-43cd-99e0-d9feab4c00c8",
   "metadata": {},
   "outputs": [
    {
     "name": "stdout",
     "output_type": "stream",
     "text": [
      "0.7853981633974483\n"
     ]
    }
   ],
   "source": [
    "print(thetaBLOS)"
   ]
  },
  {
   "cell_type": "code",
   "execution_count": 41,
   "id": "cc7f8047-d5f0-47dd-afa1-ad28675620be",
   "metadata": {},
   "outputs": [
    {
     "name": "stdout",
     "output_type": "stream",
     "text": [
      "2.1731385662606744e-10 3.250268963577816e-09 0.9391497759698513\n"
     ]
    }
   ],
   "source": [
    "print(C_coeff,epsI,(1. + 3./(2.*np.sqrt(2.)) * (np.cos(thetaBLOS)**2 - (1./3.)  )   ))"
   ]
  },
  {
   "cell_type": "code",
   "execution_count": 32,
   "id": "1b20a358-3721-4686-8cfd-0af3fa0e58eb",
   "metadata": {},
   "outputs": [
    {
     "name": "stdout",
     "output_type": "stream",
     "text": [
      "-0.0003825392636709935\n"
     ]
    }
   ],
   "source": [
    "print(Vscl * C_coeff*np.cos(thetaBLOS)*ALARMOR*geff / epsI)"
   ]
  },
  {
   "cell_type": "code",
   "execution_count": 34,
   "id": "cfdd0c43-d249-4d96-8150-5a6be0c51f03",
   "metadata": {},
   "outputs": [
    {
     "data": {
      "text/plain": [
       "-0.005721468989615784"
      ]
     },
     "execution_count": 34,
     "metadata": {},
     "output_type": "execute_result"
    }
   ],
   "source": [
    "thetaBLOS    = 45.  ## [degrees] inclination angle of the magnetic field IN THE LINE-OF-SIGHT FRAME \n",
    "- dlambdaB * fe13.get_geff(wvair) * np.cos(np.deg2rad(thetaBLOS))"
   ]
  },
  {
   "cell_type": "code",
   "execution_count": 36,
   "id": "fe488806-1918-42d6-b6a4-940ac414ac92",
   "metadata": {},
   "outputs": [
    {
     "data": {
      "text/plain": [
       "-0.004861987524213791"
      ]
     },
     "execution_count": 36,
     "metadata": {},
     "output_type": "execute_result"
    }
   ],
   "source": [
    "epsV/epsI"
   ]
  },
  {
   "cell_type": "code",
   "execution_count": null,
   "id": "1f7b4ec8-b61f-4c97-987d-0675c8e1bd8e",
   "metadata": {},
   "outputs": [],
   "source": []
  },
  {
   "cell_type": "code",
   "execution_count": null,
   "id": "027c2eb3-df59-48fe-b573-7c98e88519cb",
   "metadata": {},
   "outputs": [],
   "source": []
  },
  {
   "cell_type": "markdown",
   "id": "9c361a73-2b57-4c8c-abe6-01821e4d6cad",
   "metadata": {},
   "source": [
    "## Calculate temperature dependent contribution function \n",
    "\n",
    "We can now calculate the temperature dependent contribution function for both 10746 and 10798 with units: \n",
    "\n",
    "photons cm$^{+3}$ s$^{-1}$ arcsec$^{-2}$"
   ]
  },
  {
   "cell_type": "code",
   "execution_count": 13,
   "id": "24cee7f2-c996-4e39-9b81-3a64b95d9f8c",
   "metadata": {},
   "outputs": [],
   "source": [
    "edens = 1e8                ## cm^-3\n",
    "ht    = 0.1                ## solar radius units above the photosphere \n",
    "thetab = 0.                ## degrees \n",
    "temps = 10.**np.linspace(5.,7,100)\n",
    "intensities = np.zeros((2,len(temps)))\n",
    "\n",
    "for t,etemp in enumerate(temps):\n",
    "    fe13.calc_rho_sym(edens,etemp,ht, thetab, include_limbdark=True, include_protons=True)\n",
    "    intensities[0,t] = fe13.calc_Iemiss(10746.)\n",
    "    intensities[1,t] = fe13.calc_Iemiss(10798.)"
   ]
  },
  {
   "cell_type": "code",
   "execution_count": 14,
   "id": "a28f4c3d-b6ce-42d4-ab70-e3ebcbfbcebf",
   "metadata": {},
   "outputs": [
    {
     "data": {
      "text/plain": [
       "<matplotlib.legend.Legend at 0x7fe5a2d3cbe0>"
      ]
     },
     "execution_count": 14,
     "metadata": {},
     "output_type": "execute_result"
    },
    {
     "data": {
      "image/png": "[encoded data removed]",
      "text/plain": [
       "<Figure size 432x288 with 1 Axes>"
      ]
     },
     "metadata": {
      "needs_background": "light"
     },
     "output_type": "display_data"
    }
   ],
   "source": [
    "plt.figure()\n",
    "plt.plot(temps,intensities[0,:] / (edens * 0.85*edens) ,label = r'G(T) 10746 $\\AA$')\n",
    "plt.plot(temps,intensities[1,:] / (edens * 0.85*edens) ,label = r'G(T) 10798 $\\AA$')\n",
    "plt.xlabel('Temperature [K]')\n",
    "plt.legend()"
   ]
  },
  {
   "cell_type": "markdown",
   "id": "cd81cbf9-256f-4e6e-a087-fa8f0566005d",
   "metadata": {},
   "source": [
    "## Calculate density dependent contribution function \n",
    "\n",
    "And now the density dependent contribution function for both 10746 and 10798 with units: \n",
    "\n",
    "photons cm$^{+3}$ s$^{-1}$ arcsec$^{-2}$"
   ]
  },
  {
   "cell_type": "code",
   "execution_count": 15,
   "id": "d96ab857-990a-4c6f-9e3e-338895045805",
   "metadata": {},
   "outputs": [],
   "source": [
    "etemp = fe13.get_maxtemp() \n",
    "ht    = 0.1                ## solar radius units above the photosphere \n",
    "thetab = 0.                ## degrees \n",
    "densities = 10.**np.linspace(6.,12,50)\n",
    "intensities = np.zeros((2,len(densities)))\n",
    "alignments = np.zeros((2,len(densities)))\n",
    "\n",
    "for d,edens in enumerate(densities):\n",
    "    fe13.calc_rho_sym(edens,etemp,ht, thetab, include_limbdark=True, include_protons=True)\n",
    "    intensities[0,d] = fe13.calc_Iemiss(10746.)\n",
    "    intensities[1,d] = fe13.calc_Iemiss(10798.)\n",
    "    alignments[0,d] = fe13.get_upper_level_alignment(10746.)\n",
    "    alignments[1,d] = fe13.get_upper_level_alignment(10798.)"
   ]
  },
  {
   "cell_type": "code",
   "execution_count": 16,
   "id": "962e0c6d-4dbc-4999-9864-9f44eb4cc45c",
   "metadata": {},
   "outputs": [
    {
     "data": {
      "text/plain": [
       "<matplotlib.legend.Legend at 0x7fe5a251e6a0>"
      ]
     },
     "execution_count": 16,
     "metadata": {},
     "output_type": "execute_result"
    },
    {
     "data": {
      "image/png": "[encoded data removed]",
      "text/plain": [
       "<Figure size 432x288 with 1 Axes>"
      ]
     },
     "metadata": {
      "needs_background": "light"
     },
     "output_type": "display_data"
    }
   ],
   "source": [
    "plt.figure()\n",
    "plt.plot(densities,intensities[0,:] / (densities * 0.85*densities) ,label = r'G(T) 10746 $\\AA$')\n",
    "plt.plot(densities,intensities[1,:] / (densities * 0.85*densities) ,label = r'G(T) 10798 $\\AA$')\n",
    "plt.xscale('log')\n",
    "plt.yscale('log')\n",
    "plt.xlabel('Electron Density [cm$^{-3}$]')\n",
    "plt.legend()"
   ]
  },
  {
   "cell_type": "markdown",
   "id": "c2299b2b-4f1d-4048-b2fe-cc1dd522860f",
   "metadata": {},
   "source": [
    "## Line ratio density dependence for Fe 13 10747 and 10798"
   ]
  },
  {
   "cell_type": "code",
   "execution_count": 17,
   "id": "8c3681b0-1843-48e1-88b7-a2aed335ed41",
   "metadata": {},
   "outputs": [
    {
     "data": {
      "text/plain": [
       "<matplotlib.legend.Legend at 0x7fe5a2986cd0>"
      ]
     },
     "execution_count": 17,
     "metadata": {},
     "output_type": "execute_result"
    },
    {
     "data": {
      "image/png": "[encoded data removed]",
      "text/plain": [
       "<Figure size 432x288 with 1 Axes>"
      ]
     },
     "metadata": {
      "needs_background": "light"
     },
     "output_type": "display_data"
    }
   ],
   "source": [
    "plt.figure()\n",
    "plt.plot(densities,intensities[1,:] / intensities[0,:] ,label = r'Intensity Ratio')\n",
    "plt.xscale('log')\n",
    "plt.xlabel('Electron Density [cm$^{-3}$]')\n",
    "plt.legend()"
   ]
  },
  {
   "cell_type": "markdown",
   "id": "5ef7c0d1-fe29-460c-811a-f98ac79e935b",
   "metadata": {},
   "source": [
    "## Atomic alignments versus density "
   ]
  },
  {
   "cell_type": "code",
   "execution_count": 18,
   "id": "15af540f-3f96-4212-ab2e-a1f2a2bb4e90",
   "metadata": {},
   "outputs": [
    {
     "data": {
      "text/plain": [
       "<matplotlib.legend.Legend at 0x7fe5a27e8a30>"
      ]
     },
     "execution_count": 18,
     "metadata": {},
     "output_type": "execute_result"
    },
    {
     "data": {
      "image/png": "[encoded data removed]",
      "text/plain": [
       "<Figure size 432x288 with 1 Axes>"
      ]
     },
     "metadata": {
      "needs_background": "light"
     },
     "output_type": "display_data"
    }
   ],
   "source": [
    "plt.figure()\n",
    "plt.plot(densities,alignments[0,:] ,label = r'$\\sigma_0^2$ $10746 \\AA$')\n",
    "plt.plot(densities,alignments[1,:] ,label = r'$\\sigma_0^2$ $10798 \\AA$')\n",
    "plt.xscale('log')\n",
    "plt.xlabel('Electron Density [cm$^{-3}$]')\n",
    "plt.ylabel('Upper level alignment')\n",
    "plt.legend()"
   ]
  },
  {
   "cell_type": "code",
   "execution_count": null,
   "id": "fec8e14a-14ce-464a-bd37-91e1cb346c92",
   "metadata": {},
   "outputs": [],
   "source": []
  },
  {
   "cell_type": "code",
   "execution_count": null,
   "id": "5b241019-04e0-445c-92cb-e7a9832b1f8d",
   "metadata": {},
   "outputs": [],
   "source": []
  },
  {
   "cell_type": "code",
   "execution_count": null,
   "id": "5040fc48-5478-46bd-bf30-dd26a399dff8",
   "metadata": {},
   "outputs": [],
   "source": []
  }
 ],
 "metadata": {
  "kernelspec": {
   "display_name": "Python 3 (ipykernel)",
   "language": "python",
   "name": "python3"
  },
  "language_info": {
   "codemirror_mode": {
    "name": "ipython",
    "version": 3
   },
   "file_extension": ".py",
   "mimetype": "text/x-python",
   "name": "python",
   "nbconvert_exporter": "python",
   "pygments_lexer": "ipython3",
   "version": "3.9.7"
  },
  "toc-autonumbering": true
 },
 "nbformat": 4,
 "nbformat_minor": 5
}
